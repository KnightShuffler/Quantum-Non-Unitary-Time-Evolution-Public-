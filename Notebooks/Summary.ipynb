{
 "cells": [
  {
   "cell_type": "markdown",
   "id": "8ff3e79a",
   "metadata": {},
   "source": [
    "# Rewriting Motta's Code for Qiskit and Mixed Qubit Hamiltonians"
   ]
  },
  {
   "cell_type": "code",
   "execution_count": 1,
   "id": "0a3ab50d",
   "metadata": {},
   "outputs": [],
   "source": [
    "import numpy as np\n",
    "from qiskit import execute, Aer\n",
    "from qiskit import QuantumCircuit\n",
    "from qiskit.visualization import plot_histogram, plot_state_qsphere\n",
    "\n",
    "aer_sim = Aer.get_backend('aer_simulator')\n",
    "\n",
    "import matplotlib.pyplot as plt\n",
    "%matplotlib inline\n",
    "\n",
    "import time"
   ]
  },
  {
   "cell_type": "markdown",
   "id": "58fb26a9",
   "metadata": {},
   "source": [
    "# Pauli Poducts"
   ]
  },
  {
   "cell_type": "code",
   "execution_count": 2,
   "id": "33295bd5",
   "metadata": {},
   "outputs": [],
   "source": [
    "pauli_prod = [ np.zeros([4,4],dtype=int), np.zeros([4,4],dtype=complex) ]\n",
    "\n",
    "pauli_prod[0][0,:]=[0,1,2,3]\n",
    "pauli_prod[0][1,:]=[1,0,3,2]\n",
    "pauli_prod[0][2,:]=[2,3,0,1]\n",
    "pauli_prod[0][3,:]=[3,2,1,0]\n",
    "\n",
    "pauli_prod[1][0,:]=[1,  1,  1,  1]\n",
    "pauli_prod[1][1,:]=[1,  1, 1j,-1j]\n",
    "pauli_prod[1][2,:]=[1,-1j,  1, 1j]\n",
    "pauli_prod[1][3,:]=[1, 1j,-1j,  1]"
   ]
  },
  {
   "cell_type": "markdown",
   "id": "67ee4ab2",
   "metadata": {},
   "source": [
    "## Helper Functions"
   ]
  },
  {
   "cell_type": "code",
   "execution_count": 3,
   "id": "69c384ae",
   "metadata": {},
   "outputs": [],
   "source": [
    "def int_to_base(x, b, num_digits):\n",
    "    '''\n",
    "    convert a non-negative integer x to base b and return the digits in a list\n",
    "    '''\n",
    "    if x < 0:\n",
    "        raise ValueError('x must be non-negative')\n",
    "    digits = [0] * num_digits\n",
    "    for i in range(num_digits):\n",
    "        digits[i] = x % b\n",
    "        x = x//b\n",
    "    return digits\n",
    "\n",
    "def base_to_int(digits, b):\n",
    "    '''\n",
    "    convert a list of base b digits to an integer\n",
    "    '''\n",
    "    x = 0\n",
    "    for i in range(len(digits)):\n",
    "        x += digits[i] * (b**i)\n",
    "    return x\n",
    "\n",
    "def pauli_string_prod(p1,p2,nbits):\n",
    "    '''\n",
    "    returns the product of two nbit long pauli strings\n",
    "    p1 and p2 are both nbit digit base 4 number representing the pauli string\n",
    "    \n",
    "    an nbit digit base 4 number representing the product, and the coefficient are returned\n",
    "    '''\n",
    "    pstring1 = int_to_base(p1,4,nbits)\n",
    "    pstring2 = int_to_base(p2,4,nbits)\n",
    "    \n",
    "    c = 1+0.j\n",
    "    prod = [0]*nbits\n",
    "    \n",
    "    for i in range(nbits):\n",
    "        prod[i] = pauli_prod[0][pstring1[i], pstring2[i]]\n",
    "        c      *= pauli_prod[1][pstring1[i], pstring2[i]]\n",
    "    \n",
    "    return base_to_int(prod,4), c\n",
    "\n",
    "def odd_y_pauli_strings(nbits):\n",
    "    '''\n",
    "    returns a list of all the nbit long pauli strings with an odd number of Ys\n",
    "    '''\n",
    "    \n",
    "    nops = 4**nbits\n",
    "    odd_y = []\n",
    "    for i in range(nops):\n",
    "        p = int_to_base(i,4,nbits)\n",
    "        num_y = 0\n",
    "        # count the number of Y gates in the string\n",
    "        for x in p:\n",
    "            if x == 2:\n",
    "                num_y += 1\n",
    "        # append if odd number of Ys\n",
    "        if num_y %2 == 1:\n",
    "            odd_y.append(i)\n",
    "    return odd_y"
   ]
  },
  {
   "cell_type": "markdown",
   "id": "b15bc449",
   "metadata": {},
   "source": [
    "## Quantum Circuit Functions"
   ]
  },
  {
   "cell_type": "code",
   "execution_count": 4,
   "id": "f0b9fbef",
   "metadata": {},
   "outputs": [],
   "source": [
    "def run_circuit(qc, backend, num_shots=1024):\n",
    "    '''\n",
    "    Run the circuit and return a dictionary of the measured counts\n",
    "\n",
    "    qc:         The circuit you are running\n",
    "    backend:    What backend you're running the circuit on\n",
    "    num_shots:  The number of times you run the circuit for measurement statistics\n",
    "    '''\n",
    "    result = execute(qc, backend, shots=num_shots).result()\n",
    "    return dict(result.get_counts())\n",
    "\n",
    "def measure(qc, p, qbits, backend, num_shots=1024):\n",
    "    '''\n",
    "    Measures in the pauli string P basis and returns the expected value from the statistics\n",
    "    assumes the quantum circuit has the same number of quantum and classial bits\n",
    "    '''\n",
    "    \n",
    "    # <psi|I|psi> = 1 for all states\n",
    "    if p == 0:\n",
    "        return 1\n",
    "    \n",
    "    nbits = len(qbits)\n",
    "    pstring = int_to_base(p, 4, nbits)\n",
    "\n",
    "    # Stores the qubit indices that aren't acted on by I\n",
    "    active = []\n",
    "\n",
    "    for i in range(nbits):\n",
    "        if pstring[i] == 0:\n",
    "            # I only has +1 eigenvalues, so the measurement is +1\n",
    "            continue\n",
    "        elif pstring[i] == 1:\n",
    "            # Apply H to rotate from X to Z basis\n",
    "            qc.h(qbits[i])\n",
    "        elif pstring[i] == 2:\n",
    "            # Apply Rx(-pi/2) to rotate from Y to Z basis\n",
    "            qc.rx(-np.pi/2, qbits[i])\n",
    "        elif pstring[i] == 3:\n",
    "            # Already in Z-basis\n",
    "            None\n",
    "        active.append( qbits[i] )\n",
    "\n",
    "    # Add measurements to the circuit\n",
    "    for bit in active:\n",
    "        qc.measure(bit,bit)\n",
    "\n",
    "    # Get the measurement statistics\n",
    "    counts = run_circuit(qc, backend, num_shots=num_shots)\n",
    "\n",
    "    expectation = 0\n",
    "    for key in counts.keys():\n",
    "        # Remove any spaces in the key\n",
    "        k = key.replace(' ','') \n",
    "        # reverse the key to match ordering of bits\n",
    "        k = k[::-1]\n",
    "        sign = 1\n",
    "        # Every 1 measured is a -1 eigenvalue\n",
    "        for a in active:\n",
    "            if k[ a ] == '1':\n",
    "                sign *= -1\n",
    "        expectation += sign*counts[key]\n",
    "\n",
    "    expectation /= num_shots\n",
    "    return expectation, counts\n",
    "\n",
    "def pauli_string_exp(qc, qbits, p, theta):\n",
    "    '''\n",
    "    add gates to perform exp(-i theta/2 P) where P is the pauli string\n",
    "    '''\n",
    "    \n",
    "    nbits = len(qbits)\n",
    "    \n",
    "    pstring = int_to_base(p,4,nbits)\n",
    "    \n",
    "    # stores the qubit indices that aren't I\n",
    "    active = []\n",
    "    # stores the corresponding gate on the active qubit\n",
    "    gates  = []\n",
    "    for i in range(nbits):\n",
    "        if pstring[i] != 0:\n",
    "            active.append(qbits[i])\n",
    "            gates.append(pstring[i])\n",
    "    \n",
    "    nactive = len(active)\n",
    "    \n",
    "    # If the string is identity, the effect is to multiply by a global phase, so we can ignore it\n",
    "    if nactive == 0:\n",
    "        return\n",
    "    # If there is only one active qubit, we can rotate it directly\n",
    "    elif nactive == 1:\n",
    "        if gates[0] == 1:\n",
    "            qc.rx(theta, active[0])\n",
    "        elif gates[0] == 2:\n",
    "            qc.ry(theta, active[0])\n",
    "        elif gates[0] == 3:\n",
    "            qc.rz(theta, active[0])\n",
    "    # Apply the rotation about the Pauli string for multiple active qubits\n",
    "    else:\n",
    "        # Rotate to Z basis\n",
    "        for i in range(nactive):\n",
    "            # Apply H to go from X to Z basis\n",
    "            if gates[i] == 1:\n",
    "                qc.h(active[i])\n",
    "            # Apply Rx(pi/2) to go from Y to Z basis\n",
    "            elif gates[i] == 2:\n",
    "                qc.rx(np.pi/2, active[i])\n",
    "        \n",
    "        # Cascading CNOTs\n",
    "        for i in range(nactive-1):\n",
    "            qc.cx(active[i],active[i+1])\n",
    "            \n",
    "        # Rotate\n",
    "        qc.rz(theta, active[-1])\n",
    "        \n",
    "        # Undo cascading CNOTs\n",
    "        for i in range(nactive-2,-1,-1):\n",
    "            qc.cx(active[i],active[i+1])\n",
    "            \n",
    "        # Rotate back to original basis\n",
    "        for i in range(nactive):\n",
    "            # Apply H to go from Z to X basis\n",
    "            if gates[i] == 1:\n",
    "                qc.h(active[i])\n",
    "            # Apply Rx(-pi/2) to go from Z to Y basis\n",
    "            elif gates[i] == 2:\n",
    "                qc.rx(-np.pi/2,active[i])"
   ]
  },
  {
   "cell_type": "markdown",
   "id": "52937595",
   "metadata": {},
   "source": [
    "## Verify these work"
   ]
  },
  {
   "cell_type": "code",
   "execution_count": 5,
   "id": "3cc08dd7",
   "metadata": {},
   "outputs": [
    {
     "data": {
      "text/html": [
       "<pre style=\"word-wrap: normal;white-space: pre;background: #fff0;line-height: 1.1;font-family: &quot;Courier New&quot;,Courier,monospace\">        ┌───┐    ░    ┌───┐                           ┌───┐     ░    ┌───┐    »\n",
       "q_0: ───┤ H ├────░────┤ H ├─────■───────────────■─────┤ H ├─────░────┤ H ├────»\n",
       "     ┌──┴───┴──┐ ░    └───┘     │               │     └───┘     ░ ┌──┴───┴───┐»\n",
       "q_1: ┤ Rx(π/2) ├─░──────────────┼───────────────┼───────────────░─┤ Rx(-π/2) ├»\n",
       "     └─────────┘ ░ ┌─────────┐┌─┴─┐┌─────────┐┌─┴─┐┌──────────┐ ░ └───┬─┬────┘»\n",
       "q_2: ────────────░─┤ Rx(π/2) ├┤ X ├┤ Rz(π/2) ├┤ X ├┤ Rx(-π/2) ├─░─────┤M├─────»\n",
       "                 ░ └─────────┘└───┘└─────────┘└───┘└──────────┘ ░     └╥┘     »\n",
       "c: 3/══════════════════════════════════════════════════════════════════╩══════»\n",
       "                                                                       2      »\n",
       "«     ┌─┐   \n",
       "«q_0: ┤M├───\n",
       "«     └╥┘┌─┐\n",
       "«q_1: ─╫─┤M├\n",
       "«      ║ └╥┘\n",
       "«q_2: ─╫──╫─\n",
       "«      ║  ║ \n",
       "«c: 3/═╩══╩═\n",
       "«      0  1 </pre>"
      ],
      "text/plain": [
       "        ┌───┐    ░    ┌───┐                           ┌───┐     ░    ┌───┐    »\n",
       "q_0: ───┤ H ├────░────┤ H ├─────■───────────────■─────┤ H ├─────░────┤ H ├────»\n",
       "     ┌──┴───┴──┐ ░    └───┘     │               │     └───┘     ░ ┌──┴───┴───┐»\n",
       "q_1: ┤ Rx(π/2) ├─░──────────────┼───────────────┼───────────────░─┤ Rx(-π/2) ├»\n",
       "     └─────────┘ ░ ┌─────────┐┌─┴─┐┌─────────┐┌─┴─┐┌──────────┐ ░ └───┬─┬────┘»\n",
       "q_2: ────────────░─┤ Rx(π/2) ├┤ X ├┤ Rz(π/2) ├┤ X ├┤ Rx(-π/2) ├─░─────┤M├─────»\n",
       "                 ░ └─────────┘└───┘└─────────┘└───┘└──────────┘ ░     └╥┘     »\n",
       "c: 3/══════════════════════════════════════════════════════════════════╩══════»\n",
       "                                                                       2      »\n",
       "«     ┌─┐   \n",
       "«q_0: ┤M├───\n",
       "«     └╥┘┌─┐\n",
       "«q_1: ─╫─┤M├\n",
       "«      ║ └╥┘\n",
       "«q_2: ─╫──╫─\n",
       "«      ║  ║ \n",
       "«c: 3/═╩══╩═\n",
       "«      0  1 "
      ]
     },
     "execution_count": 5,
     "metadata": {},
     "output_type": "execute_result"
    }
   ],
   "source": [
    "qc = QuantumCircuit(3,3)\n",
    "\n",
    "qc.h(0)\n",
    "qc.rx(np.pi/2,1)\n",
    "\n",
    "qc.barrier()\n",
    "\n",
    "p = 1+2*4+3*16\n",
    "\n",
    "pauli_string_exp(qc,[0,2],1+2*4,np.pi/2)\n",
    "qc.barrier()\n",
    "expectation, counts = measure(qc, p, [0,1,2], aer_sim)\n",
    "qc.draw()"
   ]
  },
  {
   "cell_type": "code",
   "execution_count": 6,
   "id": "3768a485",
   "metadata": {},
   "outputs": [
    {
     "name": "stdout",
     "output_type": "stream",
     "text": [
      "0.04296875\n"
     ]
    },
    {
     "data": {
      "image/png": "[encoded data removed]",
      "text/plain": [
       "<Figure size 504x360 with 1 Axes>"
      ]
     },
     "execution_count": 6,
     "metadata": {},
     "output_type": "execute_result"
    }
   ],
   "source": [
    "print(expectation)\n",
    "plot_histogram(counts)"
   ]
  },
  {
   "cell_type": "markdown",
   "id": "44ea107f",
   "metadata": {},
   "source": [
    "# Data Structure for Hamiltonian H and Unitary Approximations via A:\n",
    "\n",
    "$H$ will be converted into a sum of pauli strings acting on different qubits, $ H = \\sum_m \\alpha_m h_m $.\n",
    "\n",
    "We will store the superposition of these $h_m$ terms in a list. Each term hm is a list of the format:\n",
    "\n",
    "`hm = [ [pauli string indices], [corresponding amplitude of the pauli strings], [qubit indices that the string acts on] ]`\n",
    "So:\n",
    "* `hm_list[i]` gives a term of the form above,\n",
    "* `hm_list[i][0]` is the list of Pauli strings in the term, \n",
    "* `hm_list[i][1]` is the list the Pauli string amplitudes,\n",
    "* `hm_list[i][2]` is the list of qubits that the $h_m$ term acts on.\n",
    "\n",
    "Corresponding to each $h_m$, for each imaginary time step, we need to approximate the imaginary time evolution of $h_m$ via a Hermitian $A_m^{(\\beta)} = \\sum_I a_I \\sigma_I $. The unitary is \n",
    "$$\\exp\\left(-i A_m^{(\\beta)} d\\beta\\right) = \\prod_I \\exp\\left(-i a_I \\sigma_I d\\beta\\right)$$\n",
    "\n",
    "We will store the vectors $[a_I]$ in a list of terms of the form:\n",
    "`alist_term = [ [coefficients a_I], [indices of the qubits] ] ` in the order that they need to be applied. So: \n",
    "* `alist[t]` gives a term of the form above,\n",
    "* `alist[t][0]` gives the list of coefficients, \n",
    "* `alist[t][1]` gives the list of qubits that the term acts on."
   ]
  },
  {
   "cell_type": "code",
   "execution_count": 7,
   "id": "451fd9d6",
   "metadata": {},
   "outputs": [],
   "source": [
    "def propogate(qc, alist):\n",
    "    '''\n",
    "    Applies the unitaries described by each time step's A\n",
    "    '''\n",
    "    for t in range(len(alist)):\n",
    "        active = alist[t][1]\n",
    "        nbits = len(active)\n",
    "        for pstring in range(1,4**nbits):\n",
    "            angle = np.real(alist[t][0][pstring])\n",
    "            if np.abs(angle) > 1e-5:\n",
    "                pauli_string_exp(qc, active, pstring, angle)"
   ]
  },
  {
   "cell_type": "markdown",
   "id": "0f6e981c",
   "metadata": {},
   "source": [
    "$\\newcommand{\\ket}[1]{|#1\\rangle}$\n",
    "$\\newcommand{\\bra}[1]{\\langle#1|}$\n",
    "\n",
    "# Calculating the coefficients $a_I$:\n",
    "\n",
    "## Step 1: Calculate S\n",
    "\n",
    "$ S_{I,J} = \\bra{\\psi} \\sigma_I^\\dagger \\sigma_J \\ket{\\psi} = \\bra{\\psi} \\sigma_I \\sigma_J \\ket{\\psi} $. These terms can be found by performing tomography on the state prepared so far. All the expectation values from the measurements are stored in the list `sigma_expectation`.\n",
    "We then extract the real part of this: $S \\mapsto S+S^T = 2\\mathrm{Re}[S]$\n",
    "\n",
    "## Step 2: Calculate b\n",
    "$$\\ket{\\bar\\psi^\\prime} = \\frac{1}{\\sqrt{c}} \\exp\\left( -d\\beta\\ \\hat{h}[l] \\right)\\ket{\\psi} = \\exp\\left(-i\\ d\\beta\\ \\hat{A}[l]\\right)\\ket{\\psi}$$\n",
    "\n",
    "$$ c = \\bra\\psi e^{-2\\ d\\beta\\ \\hat{h}[l]}\\ket\\psi = \\bra\\psi (\\mathbb{1} - 2\\ d\\beta\\ \\hat{h}[l] + O(d\\beta^2) \\ket\\psi $$\n",
    "$$ c \\approx 1 - 2\\ d\\beta\\ \\sum_{I\\in h_m} \\alpha_I \\bra{\\psi}\\sigma_I\\ket{\\psi} $$\n",
    "\n",
    "$$\\ket{\\Delta_0} = \\frac{\\ket{\\bar\\psi^\\prime} - \\ket\\psi}{d\\beta}, \\quad \\ket\\Delta = -i\\hat{A}[l]\\ket\\psi$$\n",
    "\n",
    "$$b_I = -2 \\mathrm{Im}[\\bra\\psi \\sigma_I^\\dagger \\ket{\\Delta_0}] \\approx -2 \\mathrm{Im}\\left[\\frac{1}{d\\beta}\\left(\\frac{1}{\\sqrt{c}} - 1\\right) \\bra\\psi\\sigma_I\\ket\\psi \n",
    "- \\frac{1}{\\sqrt{c}} \\sum_{J \\in h_m} \\alpha_J  \\bra\\psi\\sigma_I^\\dagger\\sigma_J\\ket\\psi\n",
    "\\right]$$"
   ]
  },
  {
   "cell_type": "code",
   "execution_count": 8,
   "id": "d005ffd5",
   "metadata": {},
   "outputs": [],
   "source": [
    "def update_alist(sigma_expectation, alist, db, delta, hm):\n",
    "    '''\n",
    "    updates the a term for hm given the tomography of the state prepared so far from sigma_expectation,\n",
    "    returns the norm of the imaginary time evolved state\n",
    "    '''\n",
    "    # number of qubits that the term acts on\n",
    "    nbits = len(hm[2])\n",
    "    # number of pauli terms present in hm\n",
    "    nterms = len(hm[0])\n",
    "    \n",
    "    nops = 4**nbits\n",
    "    \n",
    "    # Step 1: Obtain S matrix:\n",
    "    # S[I,J] = <psi| sigma_I sigma_J |psi>\n",
    "    \n",
    "    S = np.zeros([nops,nops],dtype=complex)\n",
    "    for i in range(nops):\n",
    "        for j in range(nops):\n",
    "            p,c_ = pauli_string_prod(i,j,nbits)\n",
    "            S[i,j] = sigma_expectation[p]*c_\n",
    "    \n",
    "    # Step 2: Obtain b vector\n",
    "    b = np.zeros(nops,dtype=complex)\n",
    "    c = 1\n",
    "    \n",
    "    for i in range(nterms):\n",
    "        c -= 2* db* hm[1][i] * sigma_expectation[hm[0][i]]\n",
    "    c = np.sqrt(c)\n",
    "    \n",
    "    for i in range(nops):\n",
    "        b[i] += ( 1/c - 1 ) * sigma_expectation[i] / db\n",
    "        for j in range(nterms):\n",
    "            p,c_ = pauli_string_prod(i,hm[0][j],nbits)\n",
    "            b[i] -= hm[1][j] * c_ * sigma_expectation[p] / c\n",
    "    b = -2*np.imag(b)\n",
    "    \n",
    "    # Step 3: Add regularizer to make sure the system can be solved\n",
    "    dalpha = np.eye(nops)*delta\n",
    "    \n",
    "    # Step 4: Solve the system\n",
    "    x = np.linalg.lstsq(2*np.real(S) + dalpha, -b, rcond=-1)[0]\n",
    "    \n",
    "    # Multiply by -2 db because the rotation gate is of the form exp(-i theta/2 P), but we want exp(i theta P)\n",
    "    a_coefficients = -2*db*x\n",
    "    # Append to the a coefficients\n",
    "    alist.append([a_coefficients, hm[2]])\n",
    "    \n",
    "    return c"
   ]
  },
  {
   "cell_type": "markdown",
   "id": "454316f8",
   "metadata": {},
   "source": [
    "# Implementation of the QITE Algorithm\n",
    "\n",
    "1. Loop for `N` imaginary time steps of size `db`:\n",
    "    1. For each term $h_m$ of $H$:\n",
    "        1. `propogate` using the coefficients in `alist` calculated so far\n",
    "        2. Perform tomography on the active qubits in $h_m$ and store the expectations in `sigma_expectations`\n",
    "        3. Add a new `alist` term from these measurement statistics\n",
    "    2. Measure $\\bra\\psi H \\ket\\psi$ and store in `E[i]`"
   ]
  },
  {
   "cell_type": "code",
   "execution_count": 48,
   "id": "5b2818a7",
   "metadata": {},
   "outputs": [],
   "source": [
    "def measure_energy(alist, nbits, hm_list, backend, shots=1024):\n",
    "    '''\n",
    "    Measure the expected energy of the state evolved by alist, given the hm_list of the Hamiltonian\n",
    "    '''\n",
    "    Energy = 0\n",
    "    \n",
    "    # For each hm term\n",
    "    for hm in hm_list:\n",
    "        # For each pauli term in hm\n",
    "        for j in range(len(hm[0])):\n",
    "            qc = QuantumCircuit(nbits, nbits)\n",
    "            # Get the state evolved from alist\n",
    "            propogate(qc, alist)\n",
    "            \n",
    "            # Measure the expected value of the pauli term in this state\n",
    "            expectation, counts = measure(qc, hm[0][j], hm[2], backend, num_shots=shots)\n",
    "            \n",
    "            # Add this with the relevant weight to the energy total\n",
    "            Energy += hm[1][j] * expectation\n",
    "    return Energy\n",
    "\n",
    "def tomography(alist, qbits, nbits, backend, shots=1024):\n",
    "    '''\n",
    "    Perform tomography on the state evolved by alist\n",
    "    '''\n",
    "    nactive = len(qbits)\n",
    "    nops = 4**nactive\n",
    "    \n",
    "    sigma_expectation = np.zeros(nops,dtype=float)\n",
    "    \n",
    "    # <psi|I|psi> = 1 for all states\n",
    "    sigma_expectation[0] = 1\n",
    "    \n",
    "    for i in range(1,nops):\n",
    "        qc = QuantumCircuit(nbits,nbits)\n",
    "        # Get the state evolved from alist\n",
    "        propogate(qc,alist)\n",
    "        \n",
    "        # measure the expectation of the pauli string indexed by i\n",
    "        sigma_expectation[i],counts = measure(qc, i, qbits, backend, num_shots=shots)\n",
    "    return sigma_expectation\n",
    "\n",
    "def qite_step(alist, db, delta, nbits, hm_list, backend, shots=1024):\n",
    "    '''\n",
    "    performs one imaginary time step of size db in the QITE\n",
    "    '''\n",
    "    for hm in hm_list:\n",
    "        # peform tomography on the active qubits in hm\n",
    "        sigma_expectation = tomography(alist, hm[2], nbits, backend, shots)\n",
    "        # obtain the next alist term corresponding to hm\n",
    "        norm = update_alist(sigma_expectation, alist, db, delta, hm)\n",
    "    return alist\n",
    "\n",
    "import time\n",
    "\n",
    "def log_alist(db, delta, N, nbits, hm_list, alist, file_name='hm-alist'):\n",
    "    logging = []\n",
    "    logging.append(db)\n",
    "    logging.append(delta)\n",
    "    logging.append(N)\n",
    "    logging.append(nbits)\n",
    "    logging.append(hm_list)\n",
    "    logging.append(alist)\n",
    "    \n",
    "    np.save(file_name+'.npy',np.asarray(logging,dtype=object))\n",
    "    \n",
    "        \n",
    "\n",
    "def qite(db, delta, N, nbits, hm_list, backend, shots=1024, details=False, log=False, log_file = 'hm-alist'):\n",
    "    '''\n",
    "    Performs the QITE algorithm with: \n",
    "        db: a time step,\n",
    "        delta: a regularization,\n",
    "        N: number of total iterations (time steps)\n",
    "        nbits: number of qubits in the whole system\n",
    "        hm_list: list of local terms in the Hamiltonian\n",
    "        backend: the backend that the quantum circuit will run on\n",
    "        shots: the number of shots for each circuit run\n",
    "        details: flag to show details while the algorithm runs\n",
    "    '''\n",
    "    # stores the mean energy for each time step\n",
    "    E = np.zeros(N+1,dtype=float)\n",
    "    # stores the iteration times\n",
    "    times = np.zeros(N+1,dtype=float)\n",
    "    \n",
    "    alist = []\n",
    "    \n",
    "    E[0] = measure_energy(alist, nbits, hm_list, backend, shots)\n",
    "    \n",
    "    start = 0\n",
    "    end = 0\n",
    "    if details:\n",
    "        print('Starting QITE Loop')\n",
    "    \n",
    "    for i in range(1,N+1):\n",
    "        if details:\n",
    "            print('i={}:'.format(i), end='  ', flush=True)\n",
    "            start = time.time()\n",
    "\n",
    "        # correction_matrix = estimate_assignment_probs()\n",
    "        alist = qite_step(alist, db, delta, nbits, hm_list, backend, shots)\n",
    "        # Record the energy of the system after the QITE step\n",
    "        E[i] = measure_energy(alist, nbits, hm_list, backend, shots)\n",
    "\n",
    "        if details:\n",
    "            end = time.time()\n",
    "            duration = end-start\n",
    "            times[i] = duration\n",
    "            print('Execution time: {:.2f} seconds'.format(duration))\n",
    "\n",
    "    if log:\n",
    "        log_alist(db, delta, N, nbits, hm_list, alist, log_file)\n",
    "    return E,times"
   ]
  },
  {
   "cell_type": "markdown",
   "id": "7e5a1de1",
   "metadata": {},
   "source": [
    "Helper functions that convert the `hm_list` description into a Hamiltonian matrix and returns the minimum eigenvalue of the matrix with numpy"
   ]
  },
  {
   "cell_type": "code",
   "execution_count": 49,
   "id": "6a712972",
   "metadata": {},
   "outputs": [],
   "source": [
    "sigma_matrices = np.zeros([4,2,2], dtype=complex)\n",
    "# sigma_matrices is a list of 4x4 matrices, sigma_matrix[0] is I, etc up to Z\n",
    "sigma_matrices[0] = np.array([[1,0],[0,1]])\n",
    "sigma_matrices[1] = np.array([[0,1],[1,0]])\n",
    "sigma_matrices[2] = np.array([[0,-1j],[1j,0]])\n",
    "sigma_matrices[3] = np.array([[1,0],[0,-1]])\n",
    "# print(sigma_matrices)\n",
    "\n",
    "def get_h_matrix(hm_list, nbits):\n",
    "    num_basis = 2**nbits\n",
    "    h_mat = np.zeros([num_basis,num_basis],dtype=complex)\n",
    "    \n",
    "    for hm in hm_list:\n",
    "        active = hm[2]\n",
    "        nactive = len(active)\n",
    "        nterms = len(hm[0])\n",
    "        # Loop through the Pauli terms in hm\n",
    "        for i in range(nterms):\n",
    "            full_pauli_str = [0] * nbits\n",
    "            partial_pauli_str = int_to_base(hm[0][i],4,nactive)\n",
    "            for j in range(len(active)):\n",
    "                full_pauli_str[active[j]] = partial_pauli_str[j]\n",
    "            \n",
    "            # The matrix for the term is a tensor product of the corresponding Pauli matrices\n",
    "            term_matrix = sigma_matrices[full_pauli_str[0]]\n",
    "            for j in range(1,nbits):\n",
    "                term_matrix = np.kron(term_matrix, sigma_matrices[full_pauli_str[j]])\n",
    "            # Scale by the coefficient of the term\n",
    "            term_matrix *= hm[1][i]\n",
    "            \n",
    "            # Add the term to the final matrix\n",
    "            h_mat += term_matrix\n",
    "    return h_mat\n",
    "\n",
    "def get_spectrum(hm_list, nbits):\n",
    "    '''\n",
    "    returns the spectrum of the Hamiltonian\n",
    "    '''\n",
    "    h_mat = get_h_matrix(hm_list, nbits)\n",
    "    return np.linalg.eig(h_mat)\n",
    "\n",
    "def get_gs(hm_list, nbits):\n",
    "    '''\n",
    "    returns the ground state energy and the ground state vector of the Hamiltonian\n",
    "    '''\n",
    "    w,v = get_spectrum(hm_list,nbits)\n",
    "    i = np.argmin(w)\n",
    "    return w[i],v[:,i]\n",
    "\n",
    "# hm_list = []\n",
    "# hm = [ [3+1*4], [np.sqrt(0.5)], [0,1] ]\n",
    "# hm_list.append(hm)\n",
    "# hm = [ [1,3], [0.5, 0.5], [1]]\n",
    "# hm_list.append(hm)\n",
    "\n",
    "# nbits = 2\n",
    "\n",
    "# print(get_gs(hm_list,nbits))"
   ]
  },
  {
   "cell_type": "code",
   "execution_count": 73,
   "id": "eea0a0d2",
   "metadata": {},
   "outputs": [
    {
     "name": "stdout",
     "output_type": "stream",
     "text": [
      "Starting QITE Loop\n",
      "i=1:  Execution time: 0.48 seconds\n",
      "i=2:  Execution time: 2.76 seconds\n",
      "i=3:  Execution time: 4.52 seconds\n",
      "i=4:  Execution time: 7.00 seconds\n",
      "i=5:  Execution time: 9.22 seconds\n",
      "i=6:  Execution time: 10.94 seconds\n",
      "i=7:  Execution time: 13.75 seconds\n",
      "i=8:  Execution time: 14.52 seconds\n",
      "i=9:  Execution time: 16.59 seconds\n",
      "i=10:  Execution time: 19.33 seconds\n",
      "i=11:  Execution time: 20.66 seconds\n",
      "i=12:  Execution time: 23.28 seconds\n",
      "i=13:  Execution time: 25.18 seconds\n",
      "i=14:  Execution time: 27.91 seconds\n",
      "i=15:  Execution time: 30.24 seconds\n",
      "i=16:  Execution time: 31.09 seconds\n",
      "i=17:  Execution time: 34.56 seconds\n",
      "i=18:  Execution time: 33.37 seconds\n",
      "i=19:  Execution time: 36.56 seconds\n",
      "i=20:  Execution time: 38.73 seconds\n",
      "i=21:  Execution time: 40.47 seconds\n",
      "i=22:  Execution time: 42.80 seconds\n",
      "i=23:  Execution time: 46.03 seconds\n",
      "i=24:  Execution time: 47.16 seconds\n",
      "i=25:  Execution time: 49.06 seconds\n",
      "i=26:  Execution time: 50.48 seconds\n",
      "i=27:  Execution time: 52.62 seconds\n",
      "i=28:  Execution time: 52.41 seconds\n",
      "i=29:  Execution time: 58.62 seconds\n",
      "i=30:  Execution time: 59.16 seconds\n"
     ]
    }
   ],
   "source": [
    "N = 30\n",
    "shots = 1000\n",
    "db = 0.05\n",
    "delta = 0.1\n",
    "\n",
    "nbits = 2\n",
    "\n",
    "hm_list = []\n",
    "hm = [ [3+1*4], [np.sqrt(0.5)], [0,1] ]\n",
    "hm_list.append(hm)\n",
    "hm = [ [1,3], [0.5, 0.5], [1]]\n",
    "hm_list.append(hm)\n",
    "\n",
    "backend = aer_sim\n",
    "\n",
    "E,times = qite(db, delta, N, nbits, hm_list, backend, shots, details=True, log=True, log_file='./qite_logs/test/run4')"
   ]
  },
  {
   "cell_type": "code",
   "execution_count": 74,
   "id": "5d81c08b",
   "metadata": {},
   "outputs": [
    {
     "name": "stdout",
     "output_type": "stream",
     "text": [
      "-0.5491585130146568\n"
     ]
    },
    {
     "name": "stderr",
     "output_type": "stream",
     "text": [
      "C:\\Users\\CMP3KUMARS\\Anaconda3\\envs\\qiskit\\lib\\site-packages\\matplotlib\\cbook\\__init__.py:1298: ComplexWarning: Casting complex values to real discards the imaginary part\n",
      "  return np.asarray(x, float)\n"
     ]
    },
    {
     "data": {
      "image/png": "[encoded data removed]",
      "text/plain": [
       "<Figure size 432x288 with 1 Axes>"
      ]
     },
     "metadata": {
      "needs_background": "light"
     },
     "output_type": "display_data"
    }
   ],
   "source": [
    "p1, = plt.plot(np.arange(0,N+1)*db, E, 'ro-')\n",
    "plt.grid()\n",
    "plt.xlabel('Imaginary Time')\n",
    "plt.ylabel('Energy')\n",
    "\n",
    "w,v = get_spectrum(hm_list,nbits)\n",
    "spectrum_lines = []\n",
    "for energy_level in w:\n",
    "    p2 = plt.axhline(y=energy_level, color='k', linestyle='--')\n",
    "    spectrum_lines.append(p)\n",
    "\n",
    "# gs_energy, gs = get_gs(hm_list, nbits)\n",
    "\n",
    "# plt.axhline(y=gs_energy, color='k', linestyle='-')\n",
    "\n",
    "print(np.min(E))\n",
    "\n",
    "# l = ax.legend([p1, tuple(spectrum_lines)], ['Mean Energy of State', 'Energy Levels of Hamiltonian'],\n",
    "#              handler_map = {tuple: HandlerTuple(ndivide=None)})\n",
    "\n",
    "plt.legend((p1,p2), ('Mean Energy of State', 'Hamiltonian Energy Levels'), loc='upper center')\n",
    "plt.savefig('./figs/test/run4.png')\n",
    "plt.show()"
   ]
  },
  {
   "cell_type": "code",
   "execution_count": 75,
   "id": "c2e5944c",
   "metadata": {},
   "outputs": [
    {
     "name": "stdout",
     "output_type": "stream",
     "text": [
      "total time = 14.99 minutes\n",
      "y=1.99x+(-0.86)\n"
     ]
    },
    {
     "data": {
      "image/png": "[encoded data removed]",
      "text/plain": [
       "<Figure size 432x288 with 1 Axes>"
      ]
     },
     "metadata": {
      "needs_background": "light"
     },
     "output_type": "display_data"
    }
   ],
   "source": [
    "x = np.arange(0,N+1)\n",
    "\n",
    "cumulative_time = np.zeros(N+1,dtype=float)\n",
    "for i in range(1,N+1):\n",
    "    cumulative_time[i] = cumulative_time[i-1] + times[i]\n",
    "\n",
    "print('total time = {:.2f} minutes'.format(np.sum(times)/60))\n",
    "plt.plot(x,cumulative_time,'rx-', label='Cumulative Time')\n",
    "plt.plot(x,times,'bo', label='Iteration Time')\n",
    "plt.grid()\n",
    "plt.xlabel('Iteration')\n",
    "plt.ylabel('Execution Time (s)')\n",
    "\n",
    "m,b = np.polyfit(x,times,1)\n",
    "plt.plot(x, m*x+b, 'k-')\n",
    "\n",
    "print('y={:.2f}x+({:.2f})'.format(m,b))\n",
    "\n",
    "plt.legend(loc='best')\n",
    "\n",
    "plt.show()\n"
   ]
  },
  {
   "cell_type": "markdown",
   "id": "83b6a3f3",
   "metadata": {},
   "source": [
    "# Using the log files to determine the state evolution\n",
    "\n",
    "In some runs of the program, I found that after reaching a mean energy close to the first excited state of the Hamiltonian, the energy of time evolved state jumps up and does not converge to ground state energy afterwards. The only difference between runs that properly converge and those that do not are the measurement statistics obtained in the run. This leads me to believe that these runs happen to have measurements that evolve the state into one that has very small component of the ground state in the superposition. Such a state will not converge to the ground state in the short term.\n",
    "\n",
    "I've added logging functionality to the qite program so that at the end of the execution, it stores `[db, delta, N, nbits, hm_list, alist]` in `hm-alist.npy` (or other file name that's passed into `qite()`)\n",
    "\n",
    "$\\newcommand{\\braket}[2]{\\langle{#1}|{#2}\\rangle}$\n",
    "\n",
    "From the logged data, I will generate the circuit at each time step and evolve using a state vector simulator and plot the fidelity\n",
    "$$ |\\braket{\\phi_{gs}}{\\psi(\\beta)}|^2 $$\n",
    "for each time step in the run. For runs that did not converge to the gound state, we should expect the fidelity to converge towards zero when the energy reaches the first excited state.\n",
    "\n",
    "If this is indeed the case, we can use this to identify signatures of bad runs and cull or correct them before wasting more computing resources.\n",
    "\n",
    "Next I will calculate the theoretical measurement statistics for each time step and make a circuit based on that, and compare the evolution of the theoretical statistics with that of the simulation."
   ]
  },
  {
   "cell_type": "code",
   "execution_count": 113,
   "id": "9f7ce066",
   "metadata": {},
   "outputs": [],
   "source": [
    "x = np.load('./qite_logs/test/run3.npy',allow_pickle=True)\n",
    "db = x[0]\n",
    "delta = x[1]\n",
    "N = x[2]\n",
    "nbits = x[3]\n",
    "hm_list = x[4]\n",
    "alist = x[5]"
   ]
  },
  {
   "cell_type": "code",
   "execution_count": 114,
   "id": "c2eaa256",
   "metadata": {},
   "outputs": [],
   "source": [
    "sv_sim = Aer.get_backend('statevector_simulator')"
   ]
  },
  {
   "cell_type": "code",
   "execution_count": 115,
   "id": "89d73835",
   "metadata": {},
   "outputs": [],
   "source": [
    "nterms = len(hm_list)\n",
    "from qiskit.quantum_info import Statevector\n",
    "\n",
    "psi0 = Statevector.from_label('00')\n",
    "\n",
    "statevectors = np.zeros([N+1, 2**nbits],dtype=complex)\n",
    "\n",
    "statevectors[0] = psi0.data\n",
    "\n",
    "# print(statevectors)\n",
    "\n",
    "for i in range(1,N+1):\n",
    "    qc = QuantumCircuit(nbits)\n",
    "    propogate(qc, alist[0:nterms*i])\n",
    "    psi_b = psi0.evolve(qc)\n",
    "    statevectors[i] = psi_b.data"
   ]
  },
  {
   "cell_type": "code",
   "execution_count": 118,
   "id": "788e1ddf",
   "metadata": {},
   "outputs": [
    {
     "name": "stdout",
     "output_type": "stream",
     "text": [
      "[0.30865828 0.31126532 0.30645949 0.29960856 0.29344326 0.2842114\n",
      " 0.27409634 0.26163928 0.24745183 0.23274256 0.21594201 0.20397081\n",
      " 0.1909249  0.18198864 0.17380692 0.16637088 0.19813932 0.18577942\n",
      " 0.15651302 0.14896158 0.14193444 0.13633552 0.12891225 0.11049281\n",
      " 0.10574018 0.10135582 0.09745801 0.09715699 0.17418107 0.15502523\n",
      " 0.15083596]\n"
     ]
    }
   ],
   "source": [
    "e_gs,phi_gs = get_gs(hm_list,nbits)\n",
    "\n",
    "fidelities = np.abs(np.matmul(np.conj(statevectors), phi_gs.T))**2\n",
    "print(fidelities)"
   ]
  },
  {
   "cell_type": "code",
   "execution_count": 119,
   "id": "5ee9d2b7",
   "metadata": {},
   "outputs": [
    {
     "name": "stdout",
     "output_type": "stream",
     "text": [
      "[-0.55557023+0.j  0.83146961+0.j  0.        +0.j  0.        +0.j]\n"
     ]
    }
   ],
   "source": [
    "print(phi_gs)"
   ]
  },
  {
   "cell_type": "code",
   "execution_count": 121,
   "id": "67ecf3bb",
   "metadata": {},
   "outputs": [
    {
     "name": "stdout",
     "output_type": "stream",
     "text": [
      "[ 0.57872062-0.10210464j -0.07180789+0.02099146j -0.74479326+0.06139382j\n",
      "  0.20323992+0.22196263j]\n"
     ]
    }
   ],
   "source": [
    "print(statevectors[N])"
   ]
  },
  {
   "cell_type": "code",
   "execution_count": 125,
   "id": "a4906890",
   "metadata": {},
   "outputs": [
    {
     "name": "stdout",
     "output_type": "stream",
     "text": [
      "(-0.3877462136190626-0.06839670157027818j) 0.39373244082957326\n"
     ]
    }
   ],
   "source": [
    "dot = np.vdot(statevectors[-2],phi_gs)\n",
    "print(dot, np.abs(dot))"
   ]
  },
  {
   "cell_type": "code",
   "execution_count": 120,
   "id": "6fc9c679",
   "metadata": {},
   "outputs": [
    {
     "data": {
      "image/png": "[encoded data removed]",
      "text/plain": [
       "<Figure size 432x288 with 1 Axes>"
      ]
     },
     "metadata": {
      "needs_background": "light"
     },
     "output_type": "display_data"
    }
   ],
   "source": [
    "plt.plot(np.arange(0,N+1)*db, fidelities, 'bo-', label='Fidelity to ground state')\n",
    "plt.xlabel('Imaginary Time')\n",
    "plt.ylabel('Fidelity')\n",
    "\n",
    "plt.show()"
   ]
  },
  {
   "cell_type": "code",
   "execution_count": null,
   "id": "0198a62f",
   "metadata": {},
   "outputs": [],
   "source": []
  }
 ],
 "metadata": {
  "kernelspec": {
   "display_name": "Python 3 (ipykernel)",
   "language": "python",
   "name": "python3"
  },
  "language_info": {
   "codemirror_mode": {
    "name": "ipython",
    "version": 3
   },
   "file_extension": ".py",
   "mimetype": "text/x-python",
   "name": "python",
   "nbconvert_exporter": "python",
   "pygments_lexer": "ipython3",
   "version": "3.10.0"
  }
 },
 "nbformat": 4,
 "nbformat_minor": 5
}
