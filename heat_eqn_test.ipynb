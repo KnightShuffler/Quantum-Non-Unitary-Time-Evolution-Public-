{
 "cells": [
  {
   "cell_type": "code",
   "execution_count": 75,
   "metadata": {},
   "outputs": [
    {
     "name": "stdout",
     "output_type": "stream",
     "text": [
      "Nt = 500, Ntau = 5\n",
      "Hamiltonian Pauli Terms and Amplitudes:\n",
      "\n",
      "\tI_4 I_3 I_2 I_1 X_0  : (1.00000+0.00000j)\n",
      "\n",
      "\tI_4 I_3 I_2 X_1 X_0  : (0.50000+0.00000j)\n",
      "\tI_4 I_3 I_2 Y_1 Y_0  : (0.50000+0.00000j)\n",
      "\n",
      "\tI_4 I_3 X_2 X_1 X_0  : (0.25000+0.00000j)\n",
      "\tI_4 I_3 X_2 Y_1 Y_0  : (-0.25000+0.00000j)\n",
      "\tI_4 I_3 Y_2 X_1 Y_0  : (0.25000+0.00000j)\n",
      "\tI_4 I_3 Y_2 Y_1 X_0  : (0.25000+0.00000j)\n",
      "\n",
      "\tI_4 X_3 X_2 X_1 X_0  : (0.12500+0.00000j)\n",
      "\tI_4 X_3 X_2 Y_1 Y_0  : (-0.12500+0.00000j)\n",
      "\tI_4 X_3 Y_2 X_1 Y_0  : (-0.12500+0.00000j)\n",
      "\tI_4 X_3 Y_2 Y_1 X_0  : (-0.12500+0.00000j)\n",
      "\tI_4 Y_3 X_2 X_1 Y_0  : (0.12500+0.00000j)\n",
      "\tI_4 Y_3 X_2 Y_1 X_0  : (0.12500+0.00000j)\n",
      "\tI_4 Y_3 Y_2 X_1 X_0  : (0.12500+0.00000j)\n",
      "\tI_4 Y_3 Y_2 Y_1 Y_0  : (-0.12500+0.00000j)\n",
      "\n",
      "\tX_4 X_3 X_2 X_1 X_0  : (0.06250+0.00000j)\n",
      "\tX_4 X_3 X_2 Y_1 Y_0  : (-0.06250+0.00000j)\n",
      "\tX_4 X_3 Y_2 X_1 Y_0  : (-0.06250+0.00000j)\n",
      "\tX_4 X_3 Y_2 Y_1 X_0  : (-0.06250+0.00000j)\n",
      "\tX_4 Y_3 X_2 X_1 Y_0  : (-0.06250+0.00000j)\n",
      "\tX_4 Y_3 X_2 Y_1 X_0  : (-0.06250+0.00000j)\n",
      "\tX_4 Y_3 Y_2 X_1 X_0  : (-0.06250+0.00000j)\n",
      "\tX_4 Y_3 Y_2 Y_1 Y_0  : (0.06250+0.00000j)\n",
      "\tY_4 X_3 X_2 X_1 Y_0  : (0.06250+0.00000j)\n",
      "\tY_4 X_3 X_2 Y_1 X_0  : (0.06250+0.00000j)\n",
      "\tY_4 X_3 Y_2 X_1 X_0  : (0.06250+0.00000j)\n",
      "\tY_4 X_3 Y_2 Y_1 Y_0  : (-0.06250+0.00000j)\n",
      "\tY_4 Y_3 X_2 X_1 X_0  : (0.06250+0.00000j)\n",
      "\tY_4 Y_3 X_2 Y_1 Y_0  : (-0.06250+0.00000j)\n",
      "\tY_4 Y_3 Y_2 X_1 Y_0  : (-0.06250+0.00000j)\n",
      "\tY_4 Y_3 Y_2 Y_1 X_0  : (-0.06250+0.00000j)\n",
      "\tI_4 I_3 I_2 I_1 I_0  : (-2.00000+0.00000j)\n",
      "\n",
      "[(  1,  1.    +0.j) (  5,  0.5   +0.j) ( 10,  0.5   +0.j)\n",
      " ( 21,  0.25  +0.j) ( 26, -0.25  +0.j) ( 38,  0.25  +0.j)\n",
      " ( 41,  0.25  +0.j) ( 85,  0.125 +0.j) ( 90, -0.125 +0.j)\n",
      " (102, -0.125 +0.j) (105, -0.125 +0.j) (150,  0.125 +0.j)\n",
      " (153,  0.125 +0.j) (165,  0.125 +0.j) (170, -0.125 +0.j)\n",
      " (341,  0.0625+0.j) (346, -0.0625+0.j) (358, -0.0625+0.j)\n",
      " (361, -0.0625+0.j) (406, -0.0625+0.j) (409, -0.0625+0.j)\n",
      " (421, -0.0625+0.j) (426,  0.0625+0.j) (598,  0.0625+0.j)\n",
      " (601,  0.0625+0.j) (613,  0.0625+0.j) (618, -0.0625+0.j)\n",
      " (661,  0.0625+0.j) (666, -0.0625+0.j) (678, -0.0625+0.j)\n",
      " (681, -0.0625+0.j) (  0, -2.    +0.j)]\n",
      "[[-2.  1.  0. ...  0.  0.  0.]\n",
      " [ 1. -2.  1. ...  0.  0.  0.]\n",
      " [ 0.  1. -2. ...  0.  0.  0.]\n",
      " ...\n",
      " [ 0.  0.  0. ... -2.  1.  0.]\n",
      " [ 0.  0.  0. ...  1. -2.  1.]\n",
      " [ 0.  0.  0. ...  0.  1. -2.]]\n",
      "\n",
      "[0.09505604 0.18925124 0.28173256 0.37166246 0.45822652 0.54064082\n",
      " 0.61815899 0.69007901 0.75574957 0.81457595 0.8660254  0.909632\n",
      " 0.94500082 0.97181157 0.98982144 0.99886734 0.99886734 0.98982144\n",
      " 0.97181157 0.94500082 0.909632   0.8660254  0.81457595 0.75574957\n",
      " 0.69007901 0.61815899 0.54064082 0.45822652 0.37166246 0.28173256\n",
      " 0.18925124 0.09505604]\n",
      "c0=4.06201920231798\n",
      "c1=4.924428900898052\n",
      "[0.02340118 0.04659044 0.06935776 0.09149697 0.11280757 0.13309657\n",
      " 0.15218022 0.16988571 0.18605268 0.20053474 0.21320072 0.22393592\n",
      " 0.23264312 0.23924347 0.24367719 0.24590414 0.24590414 0.24367719\n",
      " 0.23924347 0.23264312 0.22393592 0.21320072 0.20053474 0.18605268\n",
      " 0.16988571 0.15218022 0.13309657 0.11280757 0.09149697 0.06935776\n",
      " 0.04659044 0.02340118]\n",
      "[ 1.          1.99094385  2.96385739  3.90992979  4.82059326  5.68760069\n",
      "  6.50310033  7.25970688  7.9505684   8.56942835  9.11068222  9.56942835\n",
      "  9.94151225 10.22356427 10.41303012 10.50819395 10.50819395 10.41303012\n",
      " 10.22356427  9.94151225  9.56942835  9.11068222  8.56942835  7.9505684\n",
      "  7.25970688  6.50310033  5.68760069  4.82059326  3.90992979  2.96385739\n",
      "  1.99094385  1.        ]\n"
     ]
    }
   ],
   "source": [
    "import numpy as np\n",
    "from numba import njit\n",
    "from qnute.hamiltonian import Hamiltonian\n",
    "from qnute.hamiltonian.laplacian import generateLaplaceHamiltonian1D\n",
    "from qnute.simulation.numerical_sim import qnute\n",
    "from qnute.simulation.numerical_sim import get_theoretical_evolution as get_qnute_th_evolution\n",
    "from qnute.simulation.parameters import QNUTE_params as Params\n",
    "from qnute.simulation.output import QNUTE_output as Output\n",
    "import matplotlib.pyplot as plt\n",
    "\n",
    "import logging\n",
    "\n",
    "@njit\n",
    "def get_theoretical_evolution(L:float,Nx:int,dx:float,Nt:int,dt:float, \n",
    "                              sv_sample_indices:np.ndarray,\n",
    "                              homogeneous_flag:bool=False):\n",
    "    if not homogeneous_flag:\n",
    "        theoretical_solution = np.zeros((Nt+1,Nx), dtype=np.float64)\n",
    "        x = np.arange(Nx)*dx + dx\n",
    "        for i,t in enumerate(np.arange(Nt+1)*dt):\n",
    "            theoretical_solution[i,:] = np.sin(np.pi*x/L) * np.exp(-np.power(np.pi/L,2)*t)\n",
    "        return theoretical_solution\n",
    "    else:\n",
    "        theoretical_solution = np.ones(((Nt+1),Nx), dtype=np.float64)\n",
    "        x = np.arange(Nx//2)*dx + dx\n",
    "        for i,t in enumerate(np.arange(Nt+1)*dt):\n",
    "            theoretical_solution[i,sv_sample_indices] = np.sin(np.pi*x/L) * np.exp(-np.power(np.pi/L,2)*t)\n",
    "        return theoretical_solution\n",
    "\n",
    "logging.getLogger().setLevel(logging.INFO)\n",
    "n = 5\n",
    "# qubit_map = {(i,):(i) for i in range(n)}\n",
    "qubit_map = {(i,):(i+1)%n for i in range(n)}\n",
    "# D = 2\n",
    "# u_domains = [[i,i+1] for i in range(n-1)]\n",
    "\n",
    "D = 6\n",
    "u_domains = [list(range(i,np.min([i+D, n]))) for i in range(np.max([n-D+1, 1]))]\n",
    "\n",
    "\n",
    "# qubit_map = {(0,):1, (1,):2, (2,):3, (3,):4, (4,):0}\n",
    "# sv_sample_indices = np.array([0,1,2,3])\n",
    "sv_sample_indices = np.arange(2**(n-1))\n",
    "sv_extra_indices = np.array([i for i in range(2**n) if i not in sv_sample_indices])\n",
    "homogeneous_flag = False\n",
    "\n",
    "Nx = 2**n\n",
    "# L = 1.0\n",
    "# dx = L / (Nx+1)\n",
    "dx = 0.1\n",
    "L = dx * (Nx+1)\n",
    "if homogeneous_flag:\n",
    "    L = dx * (Nx//2 + 1)\n",
    "T = 0.5\n",
    "\n",
    "dtau = 0.1\n",
    "Ntau = np.int32(np.ceil(T / dtau))\n",
    "dt = dtau*dx*dx\n",
    "Nt = np.int32(np.ceil(T/dt))\n",
    "\n",
    "print(f'Nt = {Nt}, Ntau = {Ntau}')\n",
    "\n",
    "delta = 0.1\n",
    "num_shots=0\n",
    "backend=None\n",
    "trotter_flag = True\n",
    "\n",
    "H = generateLaplaceHamiltonian1D(n, 0, 1.0, False, homogeneous_flag)\n",
    "print(H)\n",
    "print(H.pterm_list)\n",
    "# print(H.hm_indices)\n",
    "print(np.real(H.get_matrix()))\n",
    "\n",
    "# print(H.get_hm_pterms(0))\n",
    "# norm = np.linalg.norm(H.pterm_list['amplitude'])\n",
    "# print(f\"norm = {norm:0.5f}\\n\")\n",
    "# print(np.real(H.get_matrix())/norm)\n",
    "\n",
    "times = np.arange(Nt+1)*dt\n",
    "x = np.arange((Nx if not homogeneous_flag else Nx//2)+2)*dx\n",
    "f = np.zeros(x.shape,dtype=np.complex128)\n",
    "theoretical_solution = get_theoretical_evolution(L,Nx,dx,Nt,dt,\n",
    "                                                    sv_sample_indices,\n",
    "                                                    homogeneous_flag)\n",
    "\n",
    "psi0 = theoretical_solution[0,:].copy()\n",
    "print()\n",
    "print(psi0)\n",
    "c0 = np.linalg.norm(psi0)\n",
    "c_prime = np.sqrt(np.sum(np.power(psi0[sv_sample_indices],2)) + np.power(2,n-1))\n",
    "print(f'c0={c0}\\nc1={c_prime}')\n",
    "psi0 /= c0\n",
    "print(psi0)\n",
    "print(psi0/psi0[-1])\n",
    "\n",
    "params = Params(H, 1, n, qubit_map)\n",
    "params.load_hamiltonian_params(D, u_domains, False, True)\n",
    "params.set_run_params(dtau, delta, Nt, num_shots, backend, init_sv=psi0,trotter_flag=trotter_flag)\n"
   ]
  },
  {
   "cell_type": "code",
   "execution_count": 76,
   "metadata": {},
   "outputs": [
    {
     "name": "stderr",
     "output_type": "stream",
     "text": [
      "INFO:root:Performing initial measurements...\n",
      "INFO:root:Starting QNUTE Iterations:\n",
      "INFO:root:    Iteration 001\n",
      "INFO:root:      Finished in 3.22 seconds.\n",
      "INFO:root:    Iteration 002\n",
      "INFO:root:      Finished in 2.64 seconds.\n",
      "INFO:root:    Iteration 003\n",
      "INFO:root:      Finished in 2.64 seconds.\n",
      "INFO:root:    Iteration 004\n",
      "INFO:root:      Finished in 2.95 seconds.\n",
      "INFO:root:    Iteration 005\n",
      "INFO:root:      Finished in 2.77 seconds.\n",
      "INFO:root:    Iteration 006\n",
      "INFO:root:      Finished in 2.64 seconds.\n",
      "INFO:root:    Iteration 007\n",
      "INFO:root:      Finished in 2.62 seconds.\n",
      "INFO:root:    Iteration 008\n",
      "INFO:root:      Finished in 2.67 seconds.\n",
      "INFO:root:    Iteration 009\n",
      "INFO:root:      Finished in 2.72 seconds.\n",
      "INFO:root:    Iteration 010\n",
      "INFO:root:      Finished in 2.64 seconds.\n",
      "INFO:root:    Iteration 011\n",
      "INFO:root:      Finished in 2.81 seconds.\n",
      "INFO:root:    Iteration 012\n",
      "INFO:root:      Finished in 2.70 seconds.\n",
      "INFO:root:    Iteration 013\n",
      "INFO:root:      Finished in 2.66 seconds.\n",
      "INFO:root:    Iteration 014\n",
      "INFO:root:      Finished in 2.66 seconds.\n",
      "INFO:root:    Iteration 015\n",
      "INFO:root:      Finished in 2.64 seconds.\n",
      "INFO:root:    Iteration 016\n",
      "INFO:root:      Finished in 2.62 seconds.\n",
      "INFO:root:    Iteration 017\n",
      "INFO:root:      Finished in 2.66 seconds.\n",
      "INFO:root:    Iteration 018\n",
      "INFO:root:      Finished in 2.62 seconds.\n",
      "INFO:root:    Iteration 019\n",
      "INFO:root:      Finished in 2.83 seconds.\n",
      "INFO:root:    Iteration 020\n"
     ]
    },
    {
     "ename": "KeyboardInterrupt",
     "evalue": "",
     "output_type": "error",
     "traceback": [
      "\u001b[1;31m---------------------------------------------------------------------------\u001b[0m",
      "\u001b[1;31mKeyboardInterrupt\u001b[0m                         Traceback (most recent call last)",
      "Cell \u001b[1;32mIn[76], line 1\u001b[0m\n\u001b[1;32m----> 1\u001b[0m out \u001b[38;5;241m=\u001b[39m \u001b[43mqnute\u001b[49m\u001b[43m(\u001b[49m\u001b[43mparams\u001b[49m\u001b[43m,\u001b[49m\u001b[43mlog_frequency\u001b[49m\u001b[38;5;241;43m=\u001b[39;49m\u001b[38;5;241;43m1\u001b[39;49m\u001b[43m,\u001b[49m\u001b[43mc0\u001b[49m\u001b[38;5;241;43m=\u001b[39;49m\u001b[43mc0\u001b[49m\u001b[43m)\u001b[49m\n\u001b[0;32m      2\u001b[0m \u001b[38;5;66;03m# print(len(out.c_list))\u001b[39;00m\n\u001b[0;32m      4\u001b[0m \u001b[38;5;28mprint\u001b[39m(\u001b[38;5;124m'\u001b[39m\u001b[38;5;124mFinal State:\u001b[39m\u001b[38;5;124m'\u001b[39m)\n",
      "File \u001b[1;32md:\\dev\\qnute\\qnute\\simulation\\numerical_sim.py:136\u001b[0m, in \u001b[0;36mqnute\u001b[1;34m(params, log_frequency, c0)\u001b[0m\n\u001b[0;32m    132\u001b[0m     logging\u001b[38;5;241m.\u001b[39minfo(\u001b[38;5;124mf\u001b[39m\u001b[38;5;124m'\u001b[39m\u001b[38;5;124m    Iteration \u001b[39m\u001b[38;5;132;01m{\u001b[39;00mi\u001b[38;5;132;01m:\u001b[39;00m\u001b[38;5;124m03d\u001b[39m\u001b[38;5;132;01m}\u001b[39;00m\u001b[38;5;124m'\u001b[39m)\n\u001b[0;32m    134\u001b[0m t0 \u001b[38;5;241m=\u001b[39m time\u001b[38;5;241m.\u001b[39mmonotonic()\n\u001b[1;32m--> 136\u001b[0m \u001b[43mqnute_step\u001b[49m\u001b[43m(\u001b[49m\u001b[43mparams\u001b[49m\u001b[43m,\u001b[49m\u001b[43m \u001b[49m\u001b[43moutput\u001b[49m\u001b[43m,\u001b[49m\u001b[43m \u001b[49m\u001b[43mi\u001b[49m\u001b[43m)\u001b[49m\n\u001b[0;32m    138\u001b[0m t1 \u001b[38;5;241m=\u001b[39m time\u001b[38;5;241m.\u001b[39mmonotonic()\n\u001b[0;32m    139\u001b[0m output\u001b[38;5;241m.\u001b[39mtimes[i\u001b[38;5;241m-\u001b[39m\u001b[38;5;241m1\u001b[39m] \u001b[38;5;241m=\u001b[39m t1 \u001b[38;5;241m-\u001b[39m t0\n",
      "File \u001b[1;32md:\\dev\\qnute\\qnute\\simulation\\numerical_sim.py:158\u001b[0m, in \u001b[0;36mqnute_step\u001b[1;34m(params, output, step)\u001b[0m\n\u001b[0;32m    156\u001b[0m \u001b[38;5;28;01mwhile\u001b[39;00m np\u001b[38;5;241m.\u001b[39mlinalg\u001b[38;5;241m.\u001b[39mnorm(a[\u001b[38;5;124m'\u001b[39m\u001b[38;5;124mvalue\u001b[39m\u001b[38;5;124m'\u001b[39m]) \u001b[38;5;241m>\u001b[39m \u001b[38;5;241m5.0\u001b[39m:\n\u001b[0;32m    157\u001b[0m     sigma_expectation \u001b[38;5;241m=\u001b[39m tomography(params, psi0, a_list, term)\n\u001b[1;32m--> 158\u001b[0m     (a, c) \u001b[38;5;241m=\u001b[39m \u001b[43mupdate_alist\u001b[49m\u001b[43m(\u001b[49m\u001b[43mparams\u001b[49m\u001b[43m,\u001b[49m\u001b[43m \u001b[49m\u001b[43msigma_expectation\u001b[49m\u001b[43m,\u001b[49m\u001b[43m \u001b[49m\u001b[43mterm\u001b[49m\u001b[43m,\u001b[49m\u001b[43m \u001b[49m\u001b[43mpropagate\u001b[49m\u001b[43m(\u001b[49m\u001b[43mparams\u001b[49m\u001b[43m,\u001b[49m\u001b[43m \u001b[49m\u001b[43mpsi0\u001b[49m\u001b[43m,\u001b[49m\u001b[43m \u001b[49m\u001b[43ma_list\u001b[49m\u001b[43m)\u001b[49m\u001b[43m,\u001b[49m\u001b[43m \u001b[49m\u001b[38;5;241;43m1.0\u001b[39;49m\u001b[43m)\u001b[49m\n\u001b[0;32m    160\u001b[0m a_list\u001b[38;5;241m.\u001b[39mappend(a)\n\u001b[0;32m    161\u001b[0m c_list\u001b[38;5;241m.\u001b[39mappend(c)\n",
      "File \u001b[1;32md:\\dev\\qnute\\qnute\\simulation\\numerical_sim.py:116\u001b[0m, in \u001b[0;36mupdate_alist\u001b[1;34m(params, sigma_expectation, term, psi0, scale)\u001b[0m\n\u001b[0;32m    113\u001b[0m \u001b[38;5;66;03m# Load b\u001b[39;00m\n\u001b[0;32m    114\u001b[0m b \u001b[38;5;241m=\u001b[39m construct_b(pterms, params\u001b[38;5;241m.\u001b[39mu_measurements[term], sigma_expectation[\u001b[38;5;124m'\u001b[39m\u001b[38;5;124mb\u001b[39m\u001b[38;5;124m'\u001b[39m], c, params\u001b[38;5;241m.\u001b[39mnbits, scale)\n\u001b[1;32m--> 116\u001b[0m a_list_term \u001b[38;5;241m=\u001b[39m \u001b[43msolve_for_a_list\u001b[49m\u001b[43m(\u001b[49m\u001b[43mS\u001b[49m\u001b[43m,\u001b[49m\u001b[43mb\u001b[49m\u001b[43m,\u001b[49m\u001b[43mparams\u001b[49m\u001b[38;5;241;43m.\u001b[39;49m\u001b[43mdelta\u001b[49m\u001b[43m,\u001b[49m\u001b[43mparams\u001b[49m\u001b[38;5;241;43m.\u001b[39;49m\u001b[43mu_measurements\u001b[49m\u001b[43m[\u001b[49m\u001b[43mterm\u001b[49m\u001b[43m]\u001b[49m\u001b[43m)\u001b[49m\n\u001b[0;32m    118\u001b[0m \u001b[38;5;28;01mreturn\u001b[39;00m a_list_term, c\n",
      "\u001b[1;31mKeyboardInterrupt\u001b[0m: "
     ]
    }
   ],
   "source": [
    "\n",
    "out = qnute(params,log_frequency=100,c0=c0)\n",
    "# print(len(out.c_list))\n",
    "\n",
    "print('Final State:')\n",
    "print(out.svs[-1,:])\n",
    "\n",
    "# qnute_svs = get_qnute_th_evolution(np.real(H.get_matrix()), psi0, dtau, Ntau)\n",
    "\n",
    "fig,axs = plt.subplots(1,2,sharex=True,sharey=True,figsize=(8,4))\n",
    "\n",
    "for i,t in enumerate(times):\n",
    "    f[1:(Nx if not homogeneous_flag else Nx//2)+1] = theoretical_solution[i, np.arange(Nx) if not homogeneous_flag else sv_sample_indices]\n",
    "    l, =axs[0].plot(x, f,label=f't={t:0.3f}')\n",
    "# taus = np.arange(Ntau+1)*dtau\n",
    "# for i,t in enumerate(times):\n",
    "    f[1:(Nx if not homogeneous_flag else Nx//2)+1] = np.real(out.svs[i, np.arange(Nx) if not homogeneous_flag else sv_sample_indices]) * (np.prod(out.c_list[0:i+1]) if not homogeneous_flag else (1.0 / np.mean(out.svs[sv_extra_indices]) ))\n",
    "    axs[1].plot(x,\n",
    "                f,\n",
    "                label=f'tau={t:0.3f}', color=l.get_color())\n",
    "    # axs[1].plot(x,qnute_svs[i,:], label=f'tau={t:0.3f}')\n",
    "\n",
    "axs[0].set_title('Theoretical Evolution')\n",
    "axs[1].set_title('QNUTE Evolution')\n",
    "for ax in axs:\n",
    "    ax.grid(True)\n",
    "plt.xlim(-0.01,L + 0.01)\n",
    "plt.xticks(np.arange(0.0,L+0.01,dx))\n",
    "plt.ylim(-0.01, 1.01)\n",
    "plt.show()"
   ]
  },
  {
   "cell_type": "code",
   "execution_count": 61,
   "metadata": {},
   "outputs": [
    {
     "data": {
      "text/plain": [
       "[[0, 1, 2, 3]]"
      ]
     },
     "execution_count": 61,
     "metadata": {},
     "output_type": "execute_result"
    }
   ],
   "source": [
    "u_domains"
   ]
  },
  {
   "cell_type": "code",
   "execution_count": 58,
   "metadata": {},
   "outputs": [
    {
     "data": {
      "image/png": "[encoded data removed]",
      "text/plain": [
       "<Figure size 640x480 with 1 Axes>"
      ]
     },
     "metadata": {},
     "output_type": "display_data"
    },
    {
     "name": "stdout",
     "output_type": "stream",
     "text": [
      "Rate of ratio growth = 0.029920076543156256\n"
     ]
    }
   ],
   "source": [
    "from qnute.helpers import exp_mat_psi\n",
    "\n",
    "theory_norms = np.zeros(len(out.c_list),dtype=np.float64)\n",
    "expt_norms =  np.zeros(len(out.c_list),dtype=np.float64)\n",
    "for i,f in enumerate(theoretical_solution):\n",
    "    theory_norms[i] = np.linalg.norm(f)\n",
    "    expt_norms[i] = np.prod(out.c_list[0:i+1])\n",
    "# for i,psi in enumerate(out.svs):\n",
    "#     # if i == 0:\n",
    "#         # continue\n",
    "#     theory_norms[i] = np.sqrt(np.vdot(psi, exp_mat_psi(2.0*dtau*H.get_matrix(), psi)))\n",
    "plt.plot(np.arange(len(out.c_list)), theory_norms, label='Theoretical Norm')\n",
    "plt.plot(np.arange(len(out.c_list)), expt_norms, label='Experimental Norm')\n",
    "# plt.plot(np.arange(len(out.c_list)), theory_norms/expt_norms, label='Ratio of Theory to Experiment')\n",
    "beta = np.log(theory_norms[-1]/expt_norms[-1])/1600\n",
    "# plt.plot(np.arange(len(out.c_list)), np.exp(beta*np.arange(len(out.c_list))), label='Exponential approximation of ratio')\n",
    "# plt.plot(np.arange(len(out.c_list)-1), theory_norms, label='thry')\n",
    "# plt.ylim([0,1])\n",
    "plt.legend()\n",
    "plt.show()\n",
    "print(f'Rate of ratio growth = {beta}')\n"
   ]
  },
  {
   "cell_type": "code",
   "execution_count": 48,
   "metadata": {},
   "outputs": [
    {
     "data": {
      "image/png": "[encoded data removed]",
      "text/plain": [
       "<Figure size 640x480 with 1 Axes>"
      ]
     },
     "metadata": {},
     "output_type": "display_data"
    }
   ],
   "source": [
    "plt.plot(np.arange(len(out.c_list)), np.log(theory_norms/expt_norms), label='Log of Ratio of Theory to Experiment')\n",
    "plt.legend()\n",
    "plt.show()"
   ]
  },
  {
   "cell_type": "code",
   "execution_count": 53,
   "metadata": {},
   "outputs": [
    {
     "data": {
      "text/plain": [
       "24.532530197109352"
      ]
     },
     "execution_count": 53,
     "metadata": {},
     "output_type": "execute_result"
    }
   ],
   "source": [
    "epsilon_min = np.power(2*params.H.pterm_list.shape[0]*np.max(np.abs(params.H.pterm_list['amplitude']))*dtau, 2)/2.0\n",
    "np.sqrt(np.exp(np.sqrt(2*epsilon_min)))"
   ]
  },
  {
   "cell_type": "code",
   "execution_count": null,
   "metadata": {},
   "outputs": [],
   "source": [
    "theory_norms"
   ]
  },
  {
   "cell_type": "code",
   "execution_count": null,
   "metadata": {},
   "outputs": [],
   "source": [
    "epsilons = np.array(out.c_list[1:])/theory_norms[1:] - 1.0\n",
    "A = np.zeros(Nt, dtype=np.float64)\n",
    "B = np.zeros(Nt, dtype=np.float64)\n",
    "\n",
    "E = np.zeros((Nt,Nt),dtype=np.float64)\n",
    "E[0,:] = 1.0\n",
    "E[1,:] = [np.sum(epsilons[0:i+1]) for i in range(Nt)]\n",
    "\n",
    "for i,e in enumerate(epsilons):\n",
    "    A[i] = np.prod(1.0+epsilons[0:i+1]) - 1.0\n",
    "    # B[i] = np.sum(epsilons[0:i+1])\n",
    "\n",
    "\n",
    "# plt.plot(np.arange(epsilons.shape[0]), epsilons)\n",
    "plt.plot(np.arange(epsilons.shape[0]), np.abs(A), label='True Relative Error')\n",
    "plt.plot(np.arange(epsilons.shape[0]), np.abs(E[1]), label='Our Error Bound')\n",
    "plt.legend()"
   ]
  },
  {
   "cell_type": "code",
   "execution_count": null,
   "metadata": {},
   "outputs": [],
   "source": [
    "theory_norms = np.linalg.norm(theoretical_solution,axis=1)\n",
    "expt_norms = np.zeros(theory_norms.shape,dtype=np.float64)\n",
    "for i,c in enumerate(out.c_list):\n",
    "    expt_norms[i] = np.prod(out.c_list[0:i+1])"
   ]
  },
  {
   "cell_type": "code",
   "execution_count": null,
   "metadata": {},
   "outputs": [],
   "source": [
    "# plt.plot(np.arange(Nt+1), theory_norms)\n",
    "# plt.plot(np.arange(Nt+1), expt_norms)\n",
    "# plt.plot(np.arange(Nt+1), theory_norms[0]*np.exp(-(np.pi/L)**2 * np.arange(Nt+1)*dt))\n",
    "plt.plot(np.arange(Nt+1), theory_norms / expt_norms)\n",
    "plt.show()"
   ]
  },
  {
   "cell_type": "code",
   "execution_count": null,
   "metadata": {},
   "outputs": [],
   "source": [
    "for i,c in enumerate(expt_norms):\n",
    "    if i%100 == 0:\n",
    "        print(f'{i:5d} - Theory: {theory_norms[i]:0.4e} | Expt: {c:0.4e} | Ratio: {theory_norms[i]/c:0.4e} | |Difference|: {np.abs(theory_norms[i]-c):0.4e}')"
   ]
  },
  {
   "cell_type": "code",
   "execution_count": null,
   "metadata": {},
   "outputs": [],
   "source": [
    "factor = 2\n",
    "dt2 = factor*dtau*dx*dx\n",
    "Nt2 = np.int32(np.ceil(T/dt2))\n",
    "params.set_run_params(dtau*factor, delta, Nt2, num_shots, backend, init_sv=psi0, trotter_flag=trotter_flag)\n",
    "out2 = qnute(params, log_frequency=10, c0=c0)"
   ]
  },
  {
   "cell_type": "code",
   "execution_count": null,
   "metadata": {},
   "outputs": [],
   "source": [
    "c_corrected = np.zeros(len(out2.c_list), dtype=np.float64)\n",
    "c_corrected[0] = c0\n",
    "for i in range(1,len(out2.c_list)):\n",
    "    c_corrected[i] = ((out.c_list[2*i - 1]*out.c_list[2*i])*factor*factor - out2.c_list[i])/(factor*factor - 1.0)\n",
    "    print(i)\n",
    "# c_corrected = (np.array(out.c_list[::factor])*factor*factor - np.array(out2.c_list))/(factor*factor - 1.0)\n",
    "k=1\n",
    "c_corrected[k],theory_norms[k]\n",
    "\n",
    "corrected_norms = np.zeros(c_corrected.shape,dtype=np.float64)\n",
    "for i,c in enumerate(c_corrected):\n",
    "    corrected_norms[i] = np.prod(c_corrected[0:i+1])"
   ]
  },
  {
   "cell_type": "code",
   "execution_count": null,
   "metadata": {},
   "outputs": [],
   "source": [
    "plt.plot(np.arange(Nt2+1), theory_norms[::factor])\n",
    "plt.plot(np.arange(Nt2+1), corrected_norms)\n",
    "plt.plot(np.arange(Nt2+1), expt_norms[::factor])"
   ]
  },
  {
   "cell_type": "code",
   "execution_count": null,
   "metadata": {},
   "outputs": [],
   "source": [
    "plt.plot(np.arange(Nt2+1), corrected_norms/theory_norms[::factor])"
   ]
  }
 ],
 "metadata": {
  "kernelspec": {
   "display_name": "Python 3",
   "language": "python",
   "name": "python3"
  },
  "language_info": {
   "codemirror_mode": {
    "name": "ipython",
    "version": 3
   },
   "file_extension": ".py",
   "mimetype": "text/x-python",
   "name": "python",
   "nbconvert_exporter": "python",
   "pygments_lexer": "ipython3",
   "version": "3.11.7"
  }
 },
 "nbformat": 4,
 "nbformat_minor": 2
}
