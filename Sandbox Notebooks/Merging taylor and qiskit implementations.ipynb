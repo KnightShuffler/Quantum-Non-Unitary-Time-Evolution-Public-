{
 "cells": [
  {
   "cell_type": "code",
   "execution_count": 8,
   "id": "84410f82",
   "metadata": {},
   "outputs": [],
   "source": [
    "import sys\n",
    "sys.path.append('../')"
   ]
  },
  {
   "cell_type": "code",
   "execution_count": 9,
   "id": "daea4451",
   "metadata": {},
   "outputs": [],
   "source": [
    "from hamiltonians import Hamiltonian\n",
    "from qnute_params import QNUTE_params as Params"
   ]
  },
  {
   "cell_type": "code",
   "execution_count": 10,
   "id": "5efd4917",
   "metadata": {},
   "outputs": [],
   "source": [
    "import numpy as np"
   ]
  },
  {
   "cell_type": "markdown",
   "id": "48648703",
   "metadata": {},
   "source": [
    "# Merging the two QNUTE protocols\n",
    "\n",
    "* Input arguments: Taylor QNUTE takes extra input arguments `truncate` and `trotter_update` which should be taken in the QNUTE_params object itself.\n",
    "* Circuit/Matrix representation: Since Taylor uses numerical calculations with matrices and SV uses Qiskit QuantumCircuit objects, a flag should be set in the params object to switch between these functionalities.\n",
    "    * The SV sim and other qiskit based sims will all use QuantumCircuit objects for computation so the qnute implementation should keep this in mind.\n",
    "* Measurement statistics: `params.num_shots` should be set to 0 to take the theoretical expectation values, otherwise the expectation values should be generated using measurement samples\n",
    "* Initial state: Add precalculation of `init_sv` from `init_circ` for numerical simulations\n",
    "* Drifting: Remove references to drifting protocol for now"
   ]
  },
  {
   "cell_type": "code",
   "execution_count": 11,
   "id": "20f60d5d",
   "metadata": {},
   "outputs": [],
   "source": [
    "from qiskit import QuantumCircuit\n",
    "from qiskit import Aer\n",
    "from qiskit.quantum_info import Statevector\n",
    "sv_sim = Aer.get_backend('statevector_simulator')\n",
    "from helpers import *\n",
    "import time"
   ]
  },
  {
   "cell_type": "code",
   "execution_count": 65,
   "id": "ddfa7f39",
   "metadata": {},
   "outputs": [
    {
     "name": "stdout",
     "output_type": "stream",
     "text": [
      "Performing Hamiltonian precalculations...\n",
      "\tCalculating Unitary Domains... Done\n",
      "\tCalculating Required Pauli Measurements... Done\n"
     ]
    }
   ],
   "source": [
    "H = Hamiltonian(\n",
    "    hm_list=[ [ [3], [1.0], [0] ] ],\n",
    "    lattice_dim=1,\n",
    "    lattice_bound=3,\n",
    "#     qubit_map={(0,0):0}\n",
    ")\n",
    "\n",
    "params = Params(H)\n",
    "\n",
    "params.load_hamiltonian_params(\n",
    "    D=1,\n",
    "    reduce_dim=False,\n",
    "    load_measurements=True\n",
    ")\n",
    "\n",
    "init_circ = QuantumCircuit(1)\n",
    "init_circ.h(0)\n",
    "params.set_run_params(\n",
    "    dt=0.1,\n",
    "    delta=0.1,\n",
    "    N=10,\n",
    "    num_shots=0,\n",
    "    backend=None,\n",
    "#     init_circ=init_circ,\n",
    "#     init_sv=np.ones(2,dtype=complex)*np.sqrt(0.5),\n",
    "    init_sv = np.ones(2**params.nbits,dtype=complex)*np.sqrt(1/(2**params.nbits)),\n",
    "    taylor_norm_flag=True,\n",
    "    taylor_truncate_h=-1,\n",
    "    taylor_truncate_a=-1,\n",
    "    trotter_flag=False\n",
    ")"
   ]
  },
  {
   "cell_type": "code",
   "execution_count": 69,
   "id": "58dd4d7f",
   "metadata": {},
   "outputs": [
    {
     "data": {
      "text/plain": [
       "[[0]]"
      ]
     },
     "execution_count": 69,
     "metadata": {},
     "output_type": "execute_result"
    }
   ],
   "source": [
    "params.u_domains"
   ]
  },
  {
   "cell_type": "markdown",
   "id": "a1c82c1f",
   "metadata": {},
   "source": [
    "# All of these methods work under the assumption that we have access to the state vector. `params.store_state_vector = True`"
   ]
  },
  {
   "cell_type": "code",
   "execution_count": 73,
   "id": "6ba24458",
   "metadata": {},
   "outputs": [],
   "source": [
    "def evolve_statevector(params: Params, qc, psi):\n",
    "    '''\n",
    "    Evolves the statevector psi through the circuit qc and returns the statevector\n",
    "    '''\n",
    "    circ = QuantumCircuit(params.nbits)\n",
    "    circ.initialize(psi)\n",
    "#     circ = circ + qc\n",
    "    circ.compose(qc, inplace=True)\n",
    "    result = execute(circ, params.backend).result()\n",
    "    return result.get_statevector(circ)"
   ]
  },
  {
   "cell_type": "code",
   "execution_count": 74,
   "id": "d7f72bee",
   "metadata": {},
   "outputs": [],
   "source": [
    "def get_full_pauli_product_matrix(p, active, nbits):\n",
    "    nactive = len(active)\n",
    "    partial_pstring = int_to_base(p, 4, nactive)\n",
    "    full_pstring = [0] * nbits\n",
    "    for k in range(nactive):\n",
    "        full_pstring[active[k]] = partial_pstring[k]\n",
    "    p_mat = sigma_matrices[full_pstring[0]]\n",
    "    for k in range(1,nbits):\n",
    "        p_mat = np.kron(sigma_matrices[full_pstring[k]], p_mat)\n",
    "    return p_mat"
   ]
  },
  {
   "cell_type": "code",
   "execution_count": 75,
   "id": "dfbd19f7",
   "metadata": {},
   "outputs": [],
   "source": [
    "def propagate(params: Params, psi0, a_list):\n",
    "    if params.circuit_flag:\n",
    "        qc = QuantumCircuit(params.nbits)\n",
    "        qc.initialize(psi0, list(range(params.nbits)))\n",
    "        for t in range(len(a_list)):\n",
    "            domain = a_list[t][1]\n",
    "            ndomain = len(domain)\n",
    "            ops = params.odd_y_strings[ndomain] if a_list[t][2] else list(range(4**ndomain))\n",
    "            for i in range(len(ops)):\n",
    "                # Skip index 0 for the non-real hamiltonian term since that's just a global phase\n",
    "                if not a_list[t][2] and i == 0:\n",
    "                    continue\n",
    "\n",
    "                angle = a_list[t][0][i] * 2.0 * params.dt\n",
    "                if np.abs(angle) > TOLERANCE:\n",
    "                    p_dict = pauli_index_to_dict(ops[i], domain)\n",
    "                    pauli_string_exp(qc, p_dict, params.H.map, angle)\n",
    "        return evolve_statevector(params, qc, psi0)\n",
    "    else:\n",
    "        psi = np.array(psi0.data,dtype=complex) if params.circuit_flag else psi0.copy()\n",
    "        for t in range(len(a_list)):\n",
    "            active = [ params.H.map[k] for k in a_list[t][1]]\n",
    "            nactive = len(active)\n",
    "            ops = params.odd_y_strings[ndomain] if a_list[t][2] else list(range(4**nactive))\n",
    "            A = np.zeros((2**params.nbits, 2**params.nbits),dtype=complex)\n",
    "            for i in range(len(ops)):\n",
    "                p_mat = get_full_pauli_product_matrix(i, active, params.nbits)\n",
    "                A += a_list[t][0][i] * p_mat\n",
    "                if params.trotter_flag:\n",
    "                    psi = exp_mat_psi(-1j*a_list[t][0][i]*params.dt*p_mat, psi, truncate=params.taylor_truncate_a)\n",
    "            if not params.trotter_flag:\n",
    "                psi = exp_mat_psi(-1j*params.dt*A, psi, truncate=params.taylor_truncate_a)\n",
    "        return Statevector(psi) if params.circuit_flag else psi"
   ]
  },
  {
   "cell_type": "code",
   "execution_count": 76,
   "id": "6213c023",
   "metadata": {},
   "outputs": [],
   "source": [
    "def pauli_expectation(params: Params, psi, p, qbits):\n",
    "    '''\n",
    "    returns the theoretical expectation <psi|P|psi> where P is the pauli string acting on qbits, \n",
    "    described using a Pauli string dictionary\n",
    "    '''\n",
    "    p_dict = pauli_index_to_dict(p, qbits)\n",
    "    if params.num_shots > 0:\n",
    "        if params.circuit_flag:\n",
    "            qc = QuantumCircuit(params.nbits,params.nbits)\n",
    "            qc.initialize(psi)\n",
    "            return measure(qc, p_dict, params.H.map, params.backend, num_shots=params.num_shots)[0]\n",
    "        else:\n",
    "            raise ValueError('Set params.num_shots > 0 when not using QuantumCircuits')\n",
    "    else:\n",
    "        bases = get_qc_bases_from_pauli_dict(p_dict, params.H.map)\n",
    "        active = list(bases.keys())\n",
    "        p_mat = get_full_pauli_product_matrix(p, active, params.nbits)\n",
    "        return np.real(np.vdot(psi.data, p_mat @ psi.data))"
   ]
  },
  {
   "cell_type": "code",
   "execution_count": 77,
   "id": "ea146911",
   "metadata": {},
   "outputs": [],
   "source": [
    "def tomography(params: Params, psi0, a_list, term):\n",
    "    sigma_expectation = { \n",
    "        'c': {}, # acts on h_domains[m]\n",
    "        'S': {}, # acts on u_domains[m]\n",
    "        'b': {}  # acts on mix_domains[m]\n",
    "    }\n",
    "\n",
    "    psi = propagate(params, psi0, a_list)\n",
    "\n",
    "    # If the unitary domain radius >= the hamiltonian term domain radius, all the\n",
    "    # measurement operators of S cover all the measurement we need to take\n",
    "    for p in params.u_measurements[term]:\n",
    "        sigma_expectation['S'][p] = pauli_expectation(params, psi, p, params.u_domains[term])\n",
    "    # Otherwise, we need to account for all the different measurement domains\n",
    "    if params.small_u_domain_flags[term]:\n",
    "        for p in params.h_measurements[term]:\n",
    "            sigma_expectation['c'][p] = pauli_expectation(params, psi, p, params.h_domains[term])\n",
    "        for p in params.mix_measurements[term]:\n",
    "            sigma_expectation['b'][p] = pauli_expectation(params, psi, p, params.mix_domains[term])\n",
    "        \n",
    "    return sigma_expectation"
   ]
  },
  {
   "cell_type": "code",
   "execution_count": 87,
   "id": "f4c0eeb7",
   "metadata": {},
   "outputs": [],
   "source": [
    "def update_alist(params: Params, sigma_expectation, a_list, term, psi0, scale):\n",
    "    hm = params.H.hm_list[term]\n",
    "    num_terms = len(hm[0])\n",
    "    u_domain = params.u_domains[term]\n",
    "    ndomain = len(u_domain)\n",
    "\n",
    "    def full_pauli_index(p, d1, d2):\n",
    "        index = 0\n",
    "        for i in range(len(d1)):\n",
    "            gate = p % 4\n",
    "            \n",
    "            qbit = d1[i]\n",
    "            # find the index of qbit in d2\n",
    "            j=0\n",
    "            while d2[j] != qbit:\n",
    "                j += 1\n",
    "                if j == len(d2):\n",
    "                    raise ValueError('Element {} not found in domain {}'.format(d1[i],d2) )\n",
    "\n",
    "            index += gate * 4**j\n",
    "            p = p//4\n",
    "        return index\n",
    "    \n",
    "    # Load c\n",
    "    if params.taylor_norm_flag:\n",
    "        h_mat = params.H.get_term_submatrix(term)\n",
    "        psi_prime = exp_mat_psi(params.dt*h_mat, psi0, truncate=params.taylor_truncate_h)\n",
    "        c = np.linalg.norm(psi_prime)\n",
    "    else:\n",
    "        c = 1.0\n",
    "        for j in range(num_terms):\n",
    "            if params.small_u_domain_flags[term]:\n",
    "                key1 = 'c'\n",
    "                key2 = params.h_measurements[term][j]\n",
    "            else:\n",
    "                key1 = 'S'\n",
    "                key2 = full_pauli_index(params.h_measurements[term][j], \n",
    "                                        params.h_domains[term], \n",
    "                                        params.u_domains[term])\n",
    "            c += 2*scale * params.dt * np.real(hm[1][j]) * sigma_expectation[key1][key2]\n",
    "        c = np.sqrt(c)\n",
    "    \n",
    "    # Load S\n",
    "    if params.H.real_term_flags[term] and params.reduce_dimension_flag:\n",
    "        ops = params.odd_y_strings[ndomain]\n",
    "    else:\n",
    "        ops = list(range(4**ndomain))\n",
    "    nops = len(ops)\n",
    "    \n",
    "    S = np.zeros((nops,nops), dtype=complex)\n",
    "    for i in range(nops):\n",
    "        I = ops[i]\n",
    "        for j in range(0,i):\n",
    "            J = ops[j]\n",
    "            p_,c_ = pauli_string_prod(I, J, ndomain)\n",
    "            S[i,j] = sigma_expectation['S'][p_] * c_\n",
    "            # S is Hermitian, so we know the upper triangle\n",
    "            S[j,i] = S[i,j].conjugate()\n",
    "        # The diagonal is full of 1s: <psi|I|psi>\n",
    "        S[i,i] = 1.0\n",
    "    \n",
    "    # Load b\n",
    "    b = np.zeros(nops, dtype=complex)\n",
    "    for i in range(nops):\n",
    "        if params.small_u_domain_flags[term]:\n",
    "            key1 = 'b'\n",
    "            I = full_pauli_index(ops[i], \n",
    "                                u_domain, \n",
    "                                params.mix_domains[term])\n",
    "        else:\n",
    "            key1 = 'S'\n",
    "            I = ops[i]\n",
    "        for j in range(num_terms):\n",
    "            if params.small_u_domain_flags[term]:\n",
    "                J = full_pauli_index(params.h_measurements[term][j], \n",
    "                                    params.h_domains[term], \n",
    "                                    params.mix_domains[term])\n",
    "            else:\n",
    "                J = full_pauli_index(params.h_measurements[term][j],\n",
    "                                    params.h_domains[term],\n",
    "                                    u_domain)\n",
    "\n",
    "            if params.small_u_domain_flags[term]:\n",
    "                p_,c_ = pauli_string_prod(I, J, len(params.mix_domains[term]))\n",
    "            else:\n",
    "                p_,c_ = pauli_string_prod(I, J, ndomain)\n",
    "\n",
    "            b[i] += scale * np.imag(hm[1][j] * c_) * sigma_expectation[key1][p_]\n",
    "    b = -(2.0 / c) * b\n",
    "\n",
    "    #Regularizer\n",
    "    dalpha = np.eye(nops) * params.delta\n",
    "    \n",
    "    a = np.real(np.linalg.lstsq(2*np.real(S) + dalpha, b, rcond=-1)[0])\n",
    "    \n",
    "    a_list.append([a, u_domain, params.H.real_term_flags[term] and params.reduce_dimension_flag])\n",
    "    return S,b,c"
   ]
  },
  {
   "cell_type": "code",
   "execution_count": 82,
   "id": "104d1c90",
   "metadata": {},
   "outputs": [],
   "source": [
    "def qnute_step(params: Params, psi0):\n",
    "    a_list = []\n",
    "    S_list = []\n",
    "    b_list = []\n",
    "    c_list = []\n",
    "    \n",
    "    H = params.H\n",
    "    \n",
    "    for term in range(H.num_terms):\n",
    "        sigma_expectation = tomography(params, psi0, a_list, term)\n",
    "        S,b,c = update_alist(params, sigma_expectation, a_list, term, propagate(params, psi0, a_list), 1.0)\n",
    "        S_list.append(S)\n",
    "        b_list.append(b)\n",
    "        c_list.append(c)\n",
    "\n",
    "    return a_list, S_list, b_list, c_list, propagate(params, psi0, a_list)"
   ]
  },
  {
   "cell_type": "code",
   "execution_count": 83,
   "id": "4c5dea7f",
   "metadata": {},
   "outputs": [],
   "source": [
    "def qnute(params:Params, log_to_console:bool=True):\n",
    "    times = np.zeros(params.N + 1)\n",
    "    svs = np.zeros((params.N+1, 2**params.nbits), dtype=complex)\n",
    "    svs[0,:] = params.init_sv.data\n",
    "\n",
    "    a_list = []\n",
    "    S_list = []\n",
    "    b_list = []\n",
    "    c_list = []\n",
    "    \n",
    "    if log_to_console: print('Starting QNUTE Iterations:')\n",
    "    \n",
    "    for i in range(1, params.N+1):\n",
    "        if log_to_console: print('Iteration {}...'.format(i),end=' ',flush=True)\n",
    "        \n",
    "        t0 = time.time()\n",
    "        \n",
    "        next_alist, next_slist, next_blist, next_clist, phi = qnute_step(params, svs[i-1])\n",
    "        a_list += next_alist\n",
    "        S_list += next_slist\n",
    "        b_list += next_blist\n",
    "        c_list += next_clist\n",
    "        svs[i,:] = phi.data\n",
    "        \n",
    "        t1 = time.time()\n",
    "        duration = t1-t0\n",
    "        times[i] = duration\n",
    "        \n",
    "        if log_to_console: print('Done -- Iteration time = {:0.2f} {}'.format(duration if duration < 60 else duration/60, 'seconds' if duration < 60 else 'minutes'))\n",
    "    \n",
    "    return times, svs, a_list, S_list, b_list, c_list"
   ]
  },
  {
   "cell_type": "code",
   "execution_count": 84,
   "id": "f89cfb3f",
   "metadata": {},
   "outputs": [
    {
     "name": "stdout",
     "output_type": "stream",
     "text": [
      "Starting QNUTE Iterations:\n",
      "Iteration 1... Done -- Iteration time = 0.00 seconds\n",
      "Iteration 2... Done -- Iteration time = 0.00 seconds\n",
      "Iteration 3... Done -- Iteration time = 0.00 seconds\n",
      "Iteration 4... Done -- Iteration time = 0.00 seconds\n",
      "Iteration 5... Done -- Iteration time = 0.00 seconds\n",
      "Iteration 6... Done -- Iteration time = 0.00 seconds\n",
      "Iteration 7... Done -- Iteration time = 0.00 seconds\n",
      "Iteration 8... Done -- Iteration time = 0.00 seconds\n",
      "Iteration 9... Done -- Iteration time = 0.00 seconds\n",
      "Iteration 10... Done -- Iteration time = 0.00 seconds\n"
     ]
    }
   ],
   "source": [
    "times, svs, a_list, S_list, b_list, c_list = qnute(params, True)"
   ]
  },
  {
   "cell_type": "code",
   "execution_count": 85,
   "id": "f3276015",
   "metadata": {},
   "outputs": [
    {
     "data": {
      "text/plain": [
       "array([0.35355339+0.j, 0.35355339+0.j, 0.35355339+0.j, 0.35355339+0.j,\n",
       "       0.35355339+0.j, 0.35355339+0.j, 0.35355339+0.j, 0.35355339+0.j])"
      ]
     },
     "execution_count": 85,
     "metadata": {},
     "output_type": "execute_result"
    }
   ],
   "source": [
    "svs[0]"
   ]
  },
  {
   "cell_type": "code",
   "execution_count": 86,
   "id": "55902b20",
   "metadata": {},
   "outputs": [
    {
     "data": {
      "text/plain": [
       "array([0.49442775+0.j, 0.07443882+0.j, 0.49442775+0.j, 0.07443882+0.j,\n",
       "       0.49442775+0.j, 0.07443882+0.j, 0.49442775+0.j, 0.07443882+0.j])"
      ]
     },
     "execution_count": 86,
     "metadata": {},
     "output_type": "execute_result"
    }
   ],
   "source": [
    "svs[-1]"
   ]
  },
  {
   "cell_type": "code",
   "execution_count": 62,
   "id": "27bd8d31",
   "metadata": {},
   "outputs": [
    {
     "data": {
      "text/plain": [
       "array([0, 0, 0, 1])"
      ]
     },
     "execution_count": 62,
     "metadata": {},
     "output_type": "execute_result"
    }
   ],
   "source": [
    "np.kron([0,1], [0,1])"
   ]
  },
  {
   "cell_type": "code",
   "execution_count": 119,
   "id": "681363a4",
   "metadata": {},
   "outputs": [
    {
     "data": {
      "text/plain": [
       "array([1.72959257+0.j, 0.25556586+0.j])"
      ]
     },
     "execution_count": 119,
     "metadata": {},
     "output_type": "execute_result"
    }
   ],
   "source": [
    "np.sqrt(np.prod(c_list))*svs[-1]"
   ]
  },
  {
   "cell_type": "code",
   "execution_count": 120,
   "id": "5a4648e9",
   "metadata": {},
   "outputs": [
    {
     "data": {
      "text/plain": [
       "array([1.92211551+0.j, 0.26013005+0.j])"
      ]
     },
     "execution_count": 120,
     "metadata": {},
     "output_type": "execute_result"
    }
   ],
   "source": [
    "[ [np.exp(params.N*params.dt),0],\n",
    "  [0, np.exp(-params.N*params.dt)]\n",
    "] @ params.init_sv.data"
   ]
  },
  {
   "cell_type": "code",
   "execution_count": 106,
   "id": "34824f21",
   "metadata": {},
   "outputs": [],
   "source": [
    "import matplotlib.pyplot as plt\n",
    "%matplotlib inline"
   ]
  },
  {
   "cell_type": "code",
   "execution_count": 111,
   "id": "271feb77",
   "metadata": {},
   "outputs": [
    {
     "data": {
      "image/png": "[encoded data removed]",
      "text/plain": [
       "<Figure size 432x288 with 1 Axes>"
      ]
     },
     "metadata": {
      "needs_background": "light"
     },
     "output_type": "display_data"
    }
   ],
   "source": [
    "plt.plot(np.arange(0,len(c_list),1)*params.dt, c_list,'o-')\n",
    "plt.show()"
   ]
  },
  {
   "cell_type": "code",
   "execution_count": 131,
   "id": "bf1ba3a3",
   "metadata": {},
   "outputs": [],
   "source": [
    "psis = np.zeros((params.N+1,2),dtype=complex)\n",
    "psis[0] = params.init_sv.data\n",
    "b = np.zeros(params.N+1,dtype=float)\n",
    "b[0] = 1.0\n",
    "phis = np.zeros(psis.shape,dtype=complex)\n",
    "c = np.zeros(b.shape,dtype=float)\n",
    "c[0] = 1.0\n",
    "for i in range(1,params.N+1,1):\n",
    "    psis[i][0] = np.exp(params.dt)*psis[i-1][0]\n",
    "    psis[i][1] = np.exp(-params.dt)*psis[i-1][1]\n",
    "    b[i] = np.linalg.norm(psis[i])\n",
    "    \n",
    "    chi = psis[i-1]/b[i-1]\n",
    "    phis[i][0] = np.exp(params.dt)*chi[0]\n",
    "    phis[i][1] = np.exp(-params.dt)*chi[1]\n",
    "    c[i] = np.linalg.norm(phis[i])"
   ]
  },
  {
   "cell_type": "code",
   "execution_count": 139,
   "id": "3c7bc1f3",
   "metadata": {},
   "outputs": [
    {
     "data": {
      "text/plain": [
       "10"
      ]
     },
     "execution_count": 139,
     "metadata": {},
     "output_type": "execute_result"
    }
   ],
   "source": [
    "len(c_list)"
   ]
  },
  {
   "cell_type": "code",
   "execution_count": 141,
   "id": "3fbb96d1",
   "metadata": {},
   "outputs": [
    {
     "data": {
      "image/png": "[encoded data removed]",
      "text/plain": [
       "<Figure size 432x288 with 1 Axes>"
      ]
     },
     "metadata": {
      "needs_background": "light"
     },
     "output_type": "display_data"
    }
   ],
   "source": [
    "a0 = np.exp(np.arange(0,params.N+1,1)*params.dt)*np.sqrt(0.5)\n",
    "a1 = np.exp(-np.arange(0,params.N+1,1)*params.dt)*np.sqrt(0.5)\n",
    "a = np.sqrt(a0**2 + a1**2)\n",
    "\n",
    "# plt.plot(np.arange(0,params.N+1,1)*params.dt, b, 'r-')\n",
    "plt.plot(np.arange(0,params.N+1,1)*params.dt, c, 'bo-')\n",
    "plt.plot(np.arange(0,params.N,1)*params.dt, np.sqrt(c_list),'rx-')\n",
    "plt.show()"
   ]
  },
  {
   "cell_type": "code",
   "execution_count": 144,
   "id": "928bcac9",
   "metadata": {},
   "outputs": [
    {
     "data": {
      "text/plain": [
       "0.9013908244313341"
      ]
     },
     "execution_count": 144,
     "metadata": {},
     "output_type": "execute_result"
    }
   ],
   "source": [
    "np.sqrt(np.prod(c_list))/np.prod(c[1:])"
   ]
  }
 ],
 "metadata": {
  "kernelspec": {
   "display_name": "Python 3 (ipykernel)",
   "language": "python",
   "name": "python3"
  },
  "language_info": {
   "codemirror_mode": {
    "name": "ipython",
    "version": 3
   },
   "file_extension": ".py",
   "mimetype": "text/x-python",
   "name": "python",
   "nbconvert_exporter": "python",
   "pygments_lexer": "ipython3",
   "version": "3.10.0"
  }
 },
 "nbformat": 4,
 "nbformat_minor": 5
}
