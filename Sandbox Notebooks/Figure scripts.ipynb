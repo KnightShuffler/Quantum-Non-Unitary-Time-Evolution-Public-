{
 "cells": [
  {
   "cell_type": "code",
   "execution_count": 2,
   "id": "0f49d328",
   "metadata": {},
   "outputs": [
    {
     "name": "stdout",
     "output_type": "stream",
     "text": [
      "Collecting SciencePlots\n",
      "  Downloading SciencePlots-2.0.1-py3-none-any.whl (15 kB)\n",
      "Requirement already satisfied: matplotlib in c:\\users\\cmp3kumars\\anaconda3\\envs\\qiskit\\lib\\site-packages (from SciencePlots) (3.5.1)\n",
      "Requirement already satisfied: pyparsing>=2.2.1 in c:\\users\\cmp3kumars\\anaconda3\\envs\\qiskit\\lib\\site-packages (from matplotlib->SciencePlots) (3.0.4)\n",
      "Requirement already satisfied: cycler>=0.10 in c:\\users\\cmp3kumars\\anaconda3\\envs\\qiskit\\lib\\site-packages (from matplotlib->SciencePlots) (0.11.0)\n",
      "Requirement already satisfied: python-dateutil>=2.7 in c:\\users\\cmp3kumars\\anaconda3\\envs\\qiskit\\lib\\site-packages (from matplotlib->SciencePlots) (2.8.2)\n",
      "Requirement already satisfied: kiwisolver>=1.0.1 in c:\\users\\cmp3kumars\\anaconda3\\envs\\qiskit\\lib\\site-packages (from matplotlib->SciencePlots) (1.3.1)\n",
      "Requirement already satisfied: packaging>=20.0 in c:\\users\\cmp3kumars\\anaconda3\\envs\\qiskit\\lib\\site-packages (from matplotlib->SciencePlots) (21.3)\n",
      "Requirement already satisfied: numpy>=1.17 in c:\\users\\cmp3kumars\\anaconda3\\envs\\qiskit\\lib\\site-packages (from matplotlib->SciencePlots) (1.21.5)\n",
      "Requirement already satisfied: fonttools>=4.22.0 in c:\\users\\cmp3kumars\\anaconda3\\envs\\qiskit\\lib\\site-packages (from matplotlib->SciencePlots) (4.25.0)\n",
      "Requirement already satisfied: pillow>=6.2.0 in c:\\users\\cmp3kumars\\anaconda3\\envs\\qiskit\\lib\\site-packages (from matplotlib->SciencePlots) (9.0.1)\n",
      "Requirement already satisfied: six>=1.5 in c:\\users\\cmp3kumars\\anaconda3\\envs\\qiskit\\lib\\site-packages (from python-dateutil>=2.7->matplotlib->SciencePlots) (1.16.0)\n",
      "Installing collected packages: SciencePlots\n",
      "Successfully installed SciencePlots-2.0.1\n",
      "Note: you may need to restart the kernel to use updated packages.\n"
     ]
    }
   ],
   "source": [
    "%pip install SciencePlots"
   ]
  },
  {
   "cell_type": "code",
   "execution_count": 5,
   "id": "5be3cf6a",
   "metadata": {},
   "outputs": [],
   "source": [
    "import sys\n",
    "sys.path.append('../')\n",
    "import numpy as np\n",
    "import matplotlib.pyplot as plt\n",
    "%matplotlib inline\n",
    "import scienceplots\n",
    "plt.style.use(['science', 'nature','no-latex'])\n",
    "\n",
    "from hamiltonians import Hamiltonian\n",
    "from qnute_params import QNUTE_params as Params\n",
    "from qnute_output import QNUTE_output as Output\n",
    "from qnute import qnute"
   ]
  },
  {
   "cell_type": "markdown",
   "id": "715c8f52",
   "metadata": {},
   "source": [
    "# Figures for the paper\n",
    "## 1. Fidelity to Normalized Time Evolution\n",
    "This series of figures should explore the fidelity of the simulated time evolution compared to the normalized time evolution (with Taylor series). Each graph should cover a large number of randomized $k$-local Hamiltonians. The lines on the graph show the mean fidelity of the state at time t in the evolution, showing standard deviations at fixed intervals. Different lines correspond to choosing different parameters `D`, `dt`, `trotter_flag`, `taylor_truncate_a`, `taylor_truncate_h`.\n",
    "For a given qubit lattice and locality $k$, a uniformly random unit-length Hamiltonian is chosen by taking randomly generated $X_I \\sim \\mathcal{N}(0,1)$ sampled from the standard normal distribution for each $\\hat{\\sigma}_I$ that can contribute to a $k$-local Hamiltonian, and normalizing the random vector $Y_I = \\frac{X_I}{\\sum_I X_I^2}$, and lastly generating uniform random phases $\\Phi_I \\sim U(0,2\\pi)$ giving the coefficients $e^{i\\Phi_I}Y_I$.\n",
    "\n",
    "The graphs will be Fidelity (y-axis) vs Simulation time (x-axis) line graphs with different colors corresponding to different parameters chosen.\n",
    "\n",
    "## 2. Fidelity variation due to measurement samples\n",
    "This series of figures shows how changing the number of measurement samples in the QNUTE simulation to generate the system of linear equations in each Trotter step affects the fidelity of the simulation when compared to taking the theoretical expected values with knowledge of the state vector.\n",
    "\n",
    "As before, each plot corresponds to a different Hamiltonian structure. We will also separate plots by the different run parameters to see if they affect the fidelity.\n",
    "\n",
    "These should be mulit-bar graphs with error bars. Each set of bars corresponds to a number of measurement samples and the different bars in the set indicate the different run parameters, along with an aggregate over all the experiments.\n",
    "\n",
    "Fidelity (y-axis) vs Number of Samples (x-axis, log scale)"
   ]
  },
  {
   "cell_type": "markdown",
   "id": "ff0cba2d",
   "metadata": {},
   "source": [
    "### Generating Random k-local Hamiltonians\n",
    "Ideas for how to find all possible connected paths of length $k$ in the lattice of $N$ points.\n",
    "1. Loop through all possibilities of $k$ points and see if they form a connected path. $O(N^k)$ Very inneficient.\n",
    "2. Loop through every point and recursively build all possible paths of length k starting from that point. $O(Nd^k)$?"
   ]
  },
  {
   "cell_type": "code",
   "execution_count": null,
   "id": "2f0e3e9d",
   "metadata": {},
   "outputs": [],
   "source": [
    "def get_random_hamiltonian(k, lattice_dim, lattice_bound, qubit_map):\n",
    "    "
   ]
  }
 ],
 "metadata": {
  "kernelspec": {
   "display_name": "Python 3 (ipykernel)",
   "language": "python",
   "name": "python3"
  },
  "language_info": {
   "codemirror_mode": {
    "name": "ipython",
    "version": 3
   },
   "file_extension": ".py",
   "mimetype": "text/x-python",
   "name": "python",
   "nbconvert_exporter": "python",
   "pygments_lexer": "ipython3",
   "version": "3.10.0"
  }
 },
 "nbformat": 4,
 "nbformat_minor": 5
}
