{
 "cells": [
  {
   "cell_type": "code",
   "execution_count": 2,
   "id": "0f49d328",
   "metadata": {},
   "outputs": [
    {
     "name": "stdout",
     "output_type": "stream",
     "text": [
      "Collecting SciencePlots\n",
      "  Downloading SciencePlots-2.0.1-py3-none-any.whl (15 kB)\n",
      "Requirement already satisfied: matplotlib in c:\\users\\cmp3kumars\\anaconda3\\envs\\qiskit\\lib\\site-packages (from SciencePlots) (3.5.1)\n",
      "Requirement already satisfied: pyparsing>=2.2.1 in c:\\users\\cmp3kumars\\anaconda3\\envs\\qiskit\\lib\\site-packages (from matplotlib->SciencePlots) (3.0.4)\n",
      "Requirement already satisfied: cycler>=0.10 in c:\\users\\cmp3kumars\\anaconda3\\envs\\qiskit\\lib\\site-packages (from matplotlib->SciencePlots) (0.11.0)\n",
      "Requirement already satisfied: python-dateutil>=2.7 in c:\\users\\cmp3kumars\\anaconda3\\envs\\qiskit\\lib\\site-packages (from matplotlib->SciencePlots) (2.8.2)\n",
      "Requirement already satisfied: kiwisolver>=1.0.1 in c:\\users\\cmp3kumars\\anaconda3\\envs\\qiskit\\lib\\site-packages (from matplotlib->SciencePlots) (1.3.1)\n",
      "Requirement already satisfied: packaging>=20.0 in c:\\users\\cmp3kumars\\anaconda3\\envs\\qiskit\\lib\\site-packages (from matplotlib->SciencePlots) (21.3)\n",
      "Requirement already satisfied: numpy>=1.17 in c:\\users\\cmp3kumars\\anaconda3\\envs\\qiskit\\lib\\site-packages (from matplotlib->SciencePlots) (1.21.5)\n",
      "Requirement already satisfied: fonttools>=4.22.0 in c:\\users\\cmp3kumars\\anaconda3\\envs\\qiskit\\lib\\site-packages (from matplotlib->SciencePlots) (4.25.0)\n",
      "Requirement already satisfied: pillow>=6.2.0 in c:\\users\\cmp3kumars\\anaconda3\\envs\\qiskit\\lib\\site-packages (from matplotlib->SciencePlots) (9.0.1)\n",
      "Requirement already satisfied: six>=1.5 in c:\\users\\cmp3kumars\\anaconda3\\envs\\qiskit\\lib\\site-packages (from python-dateutil>=2.7->matplotlib->SciencePlots) (1.16.0)\n",
      "Installing collected packages: SciencePlots\n",
      "Successfully installed SciencePlots-2.0.1\n",
      "Note: you may need to restart the kernel to use updated packages.\n"
     ]
    }
   ],
   "source": [
    "%pip install SciencePlots"
   ]
  },
  {
   "cell_type": "code",
   "execution_count": 1,
   "id": "5be3cf6a",
   "metadata": {},
   "outputs": [],
   "source": [
    "import sys\n",
    "sys.path.append('../')\n",
    "import numpy as np\n",
    "import matplotlib.pyplot as plt\n",
    "%matplotlib inline\n",
    "import scienceplots\n",
    "plt.style.use(['science', 'nature','no-latex'])\n",
    "\n",
    "from hamiltonians import Hamiltonian\n",
    "from qnute_params import QNUTE_params as Params\n",
    "from qnute_output import QNUTE_output as Output\n",
    "from qnute import qnute"
   ]
  },
  {
   "cell_type": "markdown",
   "id": "715c8f52",
   "metadata": {},
   "source": [
    "# Figures for the paper\n",
    "## 1. Fidelity to Normalized Time Evolution\n",
    "This series of figures should explore the fidelity of the simulated time evolution compared to the normalized time evolution (with Taylor series). Each graph should cover a large number of randomized $k$-local Hamiltonians. The lines on the graph show the mean fidelity of the state at time t in the evolution, showing standard deviations at fixed intervals. Different lines correspond to choosing different parameters `D`, `dt`, `trotter_flag`, `taylor_truncate_a`, `taylor_truncate_h`.\n",
    "For a given qubit lattice and locality $k$, a uniformly random unit-length Hamiltonian is chosen by taking randomly generated $X_I \\sim \\mathcal{N}(0,1)$ sampled from the standard normal distribution for each $\\hat{\\sigma}_I$ that can contribute to a $k$-local Hamiltonian, and normalizing the random vector $Y_I = \\frac{X_I}{\\sum_I X_I^2}$, and lastly generating uniform random phases $\\Phi_I \\sim U(0,2\\pi)$ giving the coefficients $e^{i\\Phi_I}Y_I$.\n",
    "\n",
    "The graphs will be Fidelity (y-axis) vs Simulation time (x-axis) line graphs with different colors corresponding to different parameters chosen.\n",
    "\n",
    "## 2. Fidelity variation due to measurement samples\n",
    "This series of figures shows how changing the number of measurement samples in the QNUTE simulation to generate the system of linear equations in each Trotter step affects the fidelity of the simulation when compared to taking the theoretical expected values with knowledge of the state vector.\n",
    "\n",
    "As before, each plot corresponds to a different Hamiltonian structure. We will also separate plots by the different run parameters to see if they affect the fidelity.\n",
    "\n",
    "These should be mulit-bar graphs with error bars. Each set of bars corresponds to a number of measurement samples and the different bars in the set indicate the different run parameters, along with an aggregate over all the experiments.\n",
    "\n",
    "Fidelity (y-axis) vs Number of Samples (x-axis, log scale)"
   ]
  },
  {
   "cell_type": "markdown",
   "id": "ff0cba2d",
   "metadata": {},
   "source": [
    "### Generating Random k-local Hamiltonians\n",
    "Ideas for how to find all possible connected paths of length $k$ in the lattice of $N$ points.\n",
    "1. Loop through all possibilities of $k$ points and see if they form a connected path. $O(N^k)$ Very inneficient.\n",
    "2. Loop through every point and recursively build all possible paths of length k starting from that point. $O(N2^{d(k-1)})$\n",
    "\n",
    "Coordinate ordering by index i.e. $(0,0)\\prec(0,1)\\prec(1,0)\\prec(1,1)$"
   ]
  },
  {
   "cell_type": "code",
   "execution_count": 11,
   "id": "0139e768",
   "metadata": {},
   "outputs": [
    {
     "data": {
      "text/plain": [
       "True"
      ]
     },
     "execution_count": 11,
     "metadata": {},
     "output_type": "execute_result"
    }
   ],
   "source": [
    "a = [ (1,1), (0,1), (0,0), (1,0) ]\n",
    "b = sorted(a)\n",
    "tb = tuple(b)\n",
    "c = ((0, 0), (0, 1), (1, 0), (1, 1))\n",
    "\n",
    "tb == c"
   ]
  },
  {
   "cell_type": "code",
   "execution_count": 27,
   "id": "42919cc3",
   "metadata": {},
   "outputs": [
    {
     "data": {
      "text/plain": [
       "(0, 1, 1, 2)"
      ]
     },
     "execution_count": 27,
     "metadata": {},
     "output_type": "execute_result"
    }
   ],
   "source": [
    "(0,1) + (1,2)"
   ]
  },
  {
   "cell_type": "code",
   "execution_count": 5,
   "id": "050d08f7",
   "metadata": {},
   "outputs": [],
   "source": [
    "from helpers import *"
   ]
  },
  {
   "cell_type": "markdown",
   "id": "47291575",
   "metadata": {},
   "source": [
    "In an unbounded grid, there will be a total of $1\\cdot2^d\\cdot(2^d-1)^{k-1} = O(2^{dk})$ paths of length $k>0$ originating from a fixed starting point that don't self intersect. A path of length $k$ has $k+1$ vertices in it."
   ]
  },
  {
   "cell_type": "code",
   "execution_count": 241,
   "id": "ad5c6e66",
   "metadata": {},
   "outputs": [],
   "source": [
    "def get_paths(start, depth,d,l, illegal_dir=None):\n",
    "    '''\n",
    "    returns all paths of depth=depth originating from the point start in the l^d lattice using depth first search\n",
    "    the paths are sorted coordinate wise\n",
    "    '''\n",
    "    if type(start) is not tuple:\n",
    "        start = (start, )\n",
    "    assert len(start) == d, 'start must be a d-dimensional tuple'\n",
    "    \n",
    "    if depth == 0:\n",
    "        return [[start]]  if d > 1 else [[start[0]]]\n",
    "    \n",
    "    paths = []\n",
    "    for i in range(d):\n",
    "        for j in range(2):\n",
    "            if illegal_dir == (i,(-1)**j):\n",
    "                continue\n",
    "            n_node = list(start)\n",
    "            n_node[i] += (-1)**j\n",
    "            n_node = tuple(n_node)\n",
    "            if in_lattice(n_node,d,l):\n",
    "                n_paths = get_paths(n_node, depth-1, d,l, illegal_dir=(i,(-1)**(j+1)))\n",
    "                for path in n_paths:\n",
    "#                     paths.append( [start]+path )\n",
    "                    paths.append( [start if d > 1 else start[0]]+path )\n",
    "                    \n",
    "    return paths"
   ]
  },
  {
   "cell_type": "code",
   "execution_count": 233,
   "id": "c0635a1f",
   "metadata": {},
   "outputs": [
    {
     "data": {
      "text/plain": [
       "[[2, 3], [2, 1]]"
      ]
     },
     "execution_count": 233,
     "metadata": {},
     "output_type": "execute_result"
    }
   ],
   "source": [
    "start = 2\n",
    "k=1\n",
    "d=1\n",
    "l=5\n",
    "a = get_paths(start,k,d,l)\n",
    "a"
   ]
  },
  {
   "cell_type": "code",
   "execution_count": 237,
   "id": "3d616e34",
   "metadata": {},
   "outputs": [
    {
     "ename": "TypeError",
     "evalue": "'int' object is not iterable",
     "output_type": "error",
     "traceback": [
      "\u001b[1;31m---------------------------------------------------------------------------\u001b[0m",
      "\u001b[1;31mTypeError\u001b[0m                                 Traceback (most recent call last)",
      "Input \u001b[1;32mIn [237]\u001b[0m, in \u001b[0;36m<cell line: 1>\u001b[1;34m()\u001b[0m\n\u001b[1;32m----> 1\u001b[0m \u001b[38;5;28;43mtuple\u001b[39;49m\u001b[43m(\u001b[49m\u001b[38;5;241;43m3\u001b[39;49m\u001b[43m)\u001b[49m\n",
      "\u001b[1;31mTypeError\u001b[0m: 'int' object is not iterable"
     ]
    }
   ],
   "source": [
    "tuple(3)"
   ]
  },
  {
   "cell_type": "code",
   "execution_count": 242,
   "id": "2925c57c",
   "metadata": {},
   "outputs": [],
   "source": [
    "def get_k_local_domains(k,d,l):\n",
    "    domains = set()\n",
    "    for i in range(l**d):\n",
    "        point = tuple(int_to_base(i,l,d))\n",
    "        for k_ in range(k):\n",
    "            n_paths = get_paths(point,k_,d,l)\n",
    "#             print('point:{}, k={}, paths={}'.format(point, k_, n_paths))\n",
    "            for path in n_paths:\n",
    "                s_path = sorted(path)\n",
    "                domains.add(tuple(s_path))\n",
    "    return sorted(list(domains))"
   ]
  },
  {
   "cell_type": "code",
   "execution_count": 249,
   "id": "2c03e3d2",
   "metadata": {},
   "outputs": [
    {
     "data": {
      "text/plain": [
       "[((0, 0),),\n",
       " ((0, 0), (0, 1)),\n",
       " ((0, 0), (1, 0)),\n",
       " ((0, 1),),\n",
       " ((0, 1), (1, 1)),\n",
       " ((1, 0),),\n",
       " ((1, 0), (1, 1)),\n",
       " ((1, 1),)]"
      ]
     },
     "execution_count": 249,
     "metadata": {},
     "output_type": "execute_result"
    }
   ],
   "source": [
    "a=get_k_local_domains(2,2,2)\n",
    "a"
   ]
  },
  {
   "cell_type": "code",
   "execution_count": 217,
   "id": "bea9ab29",
   "metadata": {},
   "outputs": [
    {
     "data": {
      "text/plain": [
       "20"
      ]
     },
     "execution_count": 217,
     "metadata": {},
     "output_type": "execute_result"
    }
   ],
   "source": [
    "len(a)"
   ]
  },
  {
   "cell_type": "code",
   "execution_count": 214,
   "id": "57391051",
   "metadata": {},
   "outputs": [
    {
     "data": {
      "text/plain": [
       "[((0,),), ((0,), (1,)), ((1,),), ((1,), (2,)), ((2,),)]"
      ]
     },
     "execution_count": 214,
     "metadata": {},
     "output_type": "execute_result"
    }
   ],
   "source": [
    "get_k_local_domains(2,1,3)"
   ]
  },
  {
   "cell_type": "code",
   "execution_count": 278,
   "id": "a8d4b45e",
   "metadata": {},
   "outputs": [],
   "source": [
    "def get_random_k_local_hamiltonian(k, d, l, qubit_map):\n",
    "    domains = get_k_local_domains(k, d, l)\n",
    "#     if qubit_map is None:\n",
    "#         assert d==1, 'Default qubit map only valid for d=1'\n",
    "    \n",
    "    hm_list = [ [ [], np.zeros(3**len(domain),dtype=complex), list(domain) ] for domain in domains ]\n",
    "    num_coefficients = 0\n",
    "    for hm in hm_list:\n",
    "        ndomain = len(hm[2])\n",
    "        num_coefficients += 3**ndomain\n",
    "        for p in range(3**ndomain):\n",
    "            pstring = int_to_base(p, 3, ndomain)\n",
    "            for i in range(ndomain):\n",
    "                pstring[i] += 1\n",
    "            hm[0].append(base_to_int(pstring, 4))\n",
    "    \n",
    "    \n",
    "    return hm_list"
   ]
  },
  {
   "cell_type": "code",
   "execution_count": 275,
   "id": "f4647307",
   "metadata": {},
   "outputs": [
    {
     "data": {
      "text/plain": [
       "[[1, 2, 3], array([0.+0.j, 0.+0.j, 0.+0.j]), [1]]"
      ]
     },
     "execution_count": 275,
     "metadata": {},
     "output_type": "execute_result"
    }
   ],
   "source": [
    "hm = [ [1,2,3], [], [1] ]\n",
    "hm[1] = np.zeros(3,dtype=complex)\n",
    "hm"
   ]
  },
  {
   "cell_type": "code",
   "execution_count": 280,
   "id": "e0ca2904",
   "metadata": {},
   "outputs": [
    {
     "data": {
      "text/plain": [
       "[[[1, 2, 3], array([0.+0.j, 0.+0.j, 0.+0.j]), [0]],\n",
       " [[5, 6, 7, 9, 10, 11, 13, 14, 15],\n",
       "  array([0.+0.j, 0.+0.j, 0.+0.j, 0.+0.j, 0.+0.j, 0.+0.j, 0.+0.j, 0.+0.j,\n",
       "         0.+0.j]),\n",
       "  [0, 1]],\n",
       " [[1, 2, 3], array([0.+0.j, 0.+0.j, 0.+0.j]), [1]]]"
      ]
     },
     "execution_count": 280,
     "metadata": {},
     "output_type": "execute_result"
    }
   ],
   "source": [
    "map2 = {(0,0):0,(0,1):1,(1,0):2,(1,1):1}\n",
    "\n",
    "get_random_k_local_hamiltonian(2,1,2,None)"
   ]
  }
 ],
 "metadata": {
  "kernelspec": {
   "display_name": "Python 3 (ipykernel)",
   "language": "python",
   "name": "python3"
  },
  "language_info": {
   "codemirror_mode": {
    "name": "ipython",
    "version": 3
   },
   "file_extension": ".py",
   "mimetype": "text/x-python",
   "name": "python",
   "nbconvert_exporter": "python",
   "pygments_lexer": "ipython3",
   "version": "3.10.0"
  }
 },
 "nbformat": 4,
 "nbformat_minor": 5
}
