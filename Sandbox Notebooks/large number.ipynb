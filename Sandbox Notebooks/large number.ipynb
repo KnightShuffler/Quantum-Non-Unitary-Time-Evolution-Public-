{
 "cells": [
  {
   "cell_type": "code",
   "execution_count": 1,
   "id": "5ade88c4",
   "metadata": {},
   "outputs": [],
   "source": [
    "import sys\n",
    "sys.path.append('../')"
   ]
  },
  {
   "cell_type": "code",
   "execution_count": 2,
   "id": "d21ce2a7",
   "metadata": {},
   "outputs": [],
   "source": [
    "import pandas as pd\n",
    "import numpy as np"
   ]
  },
  {
   "cell_type": "code",
   "execution_count": 3,
   "id": "5c462aa9",
   "metadata": {},
   "outputs": [],
   "source": [
    "base_dir = '../logs/d=1/l=1/k=1/2023-02-24/'"
   ]
  },
  {
   "cell_type": "code",
   "execution_count": 4,
   "id": "23e14bb2",
   "metadata": {},
   "outputs": [
    {
     "name": "stdout",
     "output_type": "stream",
     "text": [
      "[40]\n"
     ]
    }
   ],
   "source": [
    "big_index = []\n",
    "for i in range(1,51):\n",
    "    file = base_dir + 'expt_{:03d}/dt=0.01/D=1/trotter=False/shots=1000/fidelity_to_0_shots.csv'.format(i)\n",
    "    df = pd.read_csv(file)\n",
    "    f = df['Fidelity'].to_numpy()\n",
    "    if any(np.where(f > 1.0)[0]):\n",
    "        big_index.append(i)\n",
    "print(big_index)"
   ]
  },
  {
   "cell_type": "code",
   "execution_count": 5,
   "id": "36f9a18f",
   "metadata": {},
   "outputs": [],
   "source": [
    "import matplotlib.pyplot as plt\n",
    "%matplotlib inline"
   ]
  },
  {
   "cell_type": "code",
   "execution_count": 6,
   "id": "d7f9d9a0",
   "metadata": {},
   "outputs": [
    {
     "data": {
      "image/png": "[encoded data removed]",
      "text/plain": [
       "<Figure size 432x288 with 1 Axes>"
      ]
     },
     "metadata": {
      "needs_background": "light"
     },
     "output_type": "display_data"
    }
   ],
   "source": [
    "for i in big_index:\n",
    "    file = base_dir + 'expt_{:03d}/dt=0.01/D=1/trotter=False/shots=1000/fidelity_to_0_shots.csv'.format(i)\n",
    "    df = pd.read_csv(file)\n",
    "    plt.plot(df['t'],df['Fidelity'])\n",
    "    plt.show()"
   ]
  },
  {
   "cell_type": "code",
   "execution_count": 7,
   "id": "c4c05658",
   "metadata": {},
   "outputs": [],
   "source": [
    "from random_hamiltonians import get_statevectors_from_csv"
   ]
  },
  {
   "cell_type": "code",
   "execution_count": 8,
   "id": "d4ba5f08",
   "metadata": {},
   "outputs": [],
   "source": [
    "from hamiltonians import Hamiltonian, hm_list_from_csv"
   ]
  },
  {
   "cell_type": "code",
   "execution_count": 9,
   "id": "06537481",
   "metadata": {},
   "outputs": [
    {
     "name": "stdout",
     "output_type": "stream",
     "text": [
      "New Term 0\n",
      "Term 1 acting on the qubit locations [0]:\n",
      "\t(-0.07 + 0.18i) X_0 +\n",
      "\t(-0.59 + 0.51i) Y_0 +\n",
      "\t(-0.54 + 0.25i) Z_0 \n"
     ]
    }
   ],
   "source": [
    "hm_list = hm_list_from_csv(base_dir + 'expt_040/ham.csv')\n",
    "H = Hamiltonian(hm_list,1,1,None)\n",
    "H.print()"
   ]
  },
  {
   "cell_type": "code",
   "execution_count": 10,
   "id": "b6d859a3",
   "metadata": {},
   "outputs": [],
   "source": [
    "from qnute_params import QNUTE_params as Params\n",
    "from qnute_output import QNUTE_output as Output"
   ]
  },
  {
   "cell_type": "code",
   "execution_count": 11,
   "id": "6bf6df96",
   "metadata": {},
   "outputs": [
    {
     "data": {
      "image/png": "[encoded data removed]",
      "text/plain": [
       "<Figure size 432x288 with 1 Axes>"
      ]
     },
     "metadata": {
      "needs_background": "light"
     },
     "output_type": "display_data"
    }
   ],
   "source": [
    "svs = get_statevectors_from_csv(base_dir + 'expt_{:03d}/dt=0.01/D=1/trotter=False/shots=1000/run_statevectors'.format(i))\n",
    "\n",
    "norms = np.linalg.norm(svs,axis=1)\n",
    "plt.plot(df['t'],norms)\n",
    "plt.show()"
   ]
  },
  {
   "cell_type": "code",
   "execution_count": 417,
   "id": "cfa31c15",
   "metadata": {},
   "outputs": [],
   "source": [
    "from helpers import TOLERANCE\n",
    "from helpers import exp_mat_psi, sigma_matrices, int_to_base\n",
    "\n",
    "N=500\n",
    "nnorms = 20\n",
    "norms = np.linspace(20,30,nnorms)\n",
    "nbits = [1,2,3,4]\n",
    "nnbits = len(nbits)\n",
    "\n",
    "vec_norms = np.zeros((N,nnorms, nnbits, 2))\n",
    "for J in range(nnbits):\n",
    "    bits = nbits[J]\n",
    "    for I in range(N):\n",
    "        psi = np.random.normal(0,1,2**bits).astype(complex)\n",
    "        psi /= np.linalg.norm(psi)\n",
    "\n",
    "    #     print('|psi>:\\t\\t', psi)\n",
    "    #     print()\n",
    "        a = np.random.normal(0,10,4**bits)\n",
    "        c = np.linalg.norm(a)\n",
    "    #     print('a_list:\\t\\t', a)\n",
    "    #     print('c=||a_list||\\t', c)\n",
    "\n",
    "        A = np.zeros((2**bits,2**bits),dtype=complex)\n",
    "        for i in range(4**bits):\n",
    "            sigma_matrix = 1.0\n",
    "            p_string = int_to_base(i,4,bits)\n",
    "            for p in p_string:\n",
    "                sigma_matrix = np.kron(sigma_matrices[p], sigma_matrix)\n",
    "                \n",
    "            A += a[i] * sigma_matrix\n",
    "        A *= 1j\n",
    "    #     print()\n",
    "    #     print('Matrix iA:\\n',A)\n",
    "    #     print()\n",
    "\n",
    "        for k in range(nnorms):\n",
    "            norm = norms[k]\n",
    "    #         print('\\nRenormalize A to norm=', norm)\n",
    "            a_mat = (norm/c)*A\n",
    "        #     print(a_mat)\n",
    "        #     print()\n",
    "            phi0 = exp_mat_psi(a_mat,psi)\n",
    "    #         print('\\texp(iA)|psi> from Taylor series centered at 0:\\n\\t\\t',phi0)\n",
    "    #         print('\\tlog l2-norm:\\t', np.log10(np.linalg.norm(phi0)))\n",
    "            vec_norms[I,k,J,0] = np.linalg.norm(phi0)\n",
    "\n",
    "\n",
    "        #     chi = psi.copy()\n",
    "        #     phi = psi.copy()\n",
    "        #     i = 1\n",
    "        #     mat = a_mat - 1j*norm*np.eye(2)\n",
    "        #     while(np.linalg.norm(chi) > TOLERANCE):\n",
    "        #         chi = (1/i) * (mat@chi)\n",
    "        #         phi += chi\n",
    "        #         i += 1\n",
    "        #     phi = (np.exp(1j*norm)*np.eye(2)) @ phi\n",
    "        #     print()\n",
    "        #     print('\\texp(iA)|psi> from Taylor series centered at icI:\\n\\t\\t',phi)\n",
    "        #     print('\\tlog l2-norm:\\t', np.log10(np.linalg.norm(phi)))\n",
    "\n",
    "            mat = a_mat / norm\n",
    "            chi = psi.copy()\n",
    "            phi = psi.copy()\n",
    "            i = 1\n",
    "            while np.linalg.norm(chi) > TOLERANCE:\n",
    "                chi = (norm/i) * (mat @ chi)\n",
    "                phi += chi\n",
    "                i += 1\n",
    "    #         print()\n",
    "    #         print('\\texp(iA)|psi> from Taylor series with normaliziation:\\n\\t\\t',phi)\n",
    "    #         print('\\tlog l2-norm:\\t', np.log10(np.linalg.norm(phi)))\n",
    "            vec_norms[I,k,J,1] = np.linalg.norm(phi)\n",
    "\n",
    "        #     mat = a_mat / norm - 1j*np.eye(2)\n",
    "        #     chi = psi.copy()\n",
    "        #     phi = psi.copy()\n",
    "        #     i = 1\n",
    "        #     while np.linalg.norm(chi) > TOLERANCE:\n",
    "        #         chi = (norm/i) * (mat @ chi)\n",
    "        #         phi += chi\n",
    "        #         i += 1\n",
    "        #     print()\n",
    "        #     print('\\texp(iA)|psi> from Taylor series with normaliziation centered at icI:\\n\\t\\t',phi)\n",
    "        #     print('\\tlog l2-norm:\\t', np.log10(np.linalg.norm(phi)))"
   ]
  },
  {
   "cell_type": "code",
   "execution_count": 418,
   "id": "8cb48929",
   "metadata": {},
   "outputs": [],
   "source": [
    "means = np.zeros((nnbits,2,nnorms))\n",
    "stds = np.zeros((nnbits,2,nnorms))\n",
    "for i in range(nnbits):\n",
    "    for j in range(2):\n",
    "        for k in range(nnorms):\n",
    "            means[i,j,k] = np.mean(vec_norms[:,k,i,j])\n",
    "            stds[i,j,k]  = np.std(vec_norms[:,k,i,j])"
   ]
  },
  {
   "cell_type": "code",
   "execution_count": 420,
   "id": "ef4c5325",
   "metadata": {},
   "outputs": [
    {
     "data": {
      "image/png": "[encoded data removed]",
      "text/plain": [
       "<Figure size 1440x576 with 2 Axes>"
      ]
     },
     "metadata": {},
     "output_type": "display_data"
    }
   ],
   "source": [
    "fig,axs = plt.subplots(2,1,figsize=(20,8),sharex=True,sharey=True)\n",
    "width = 1/8\n",
    "ax = axs[0]\n",
    "for i in range(nnbits):\n",
    "    offset = width*i\n",
    "    xpoints = np.arange(nnorms)\n",
    "    ax.bar(xpoints + offset, means[i,0,:], width, yerr=stds[i,0,:], alpha=0.5, capsize=2, label=nbits[i])\n",
    "ax.set_xticks(xpoints+width*2)\n",
    "ax.set_xticklabels([format(norm,'0.2f') for norm in norms])\n",
    "ax.set_yscale('log')\n",
    "ax.legend(title='Number of Qubits')\n",
    "ax.yaxis.grid(True)\n",
    "ax.set_title('Without Normalization')\n",
    "ax.axhline(y=1.0,color='k',label='1.0', linestyle='--')\n",
    "\n",
    "ax = axs[1]\n",
    "for i in range(nnbits):\n",
    "    offset = width*i\n",
    "    xpoints = np.arange(nnorms)\n",
    "    ax.bar(xpoints + offset, means[i,1,:], width, yerr=stds[i,1,:], alpha=0.5, capsize=2, label=nbits[i])\n",
    "ax.set_xticks(xpoints+width*2)\n",
    "ax.set_xticklabels([format(norm,'0.2f') for norm in norms])\n",
    "ax.set_yscale('log')\n",
    "ax.yaxis.grid(True)\n",
    "ax.set_title('With Normalization')\n",
    "\n",
    "fig.supxlabel('$\\mathcal{l}^2$ norm of A',fontsize=14)\n",
    "fig.supylabel('Mean length of vector', fontsize=14)\n",
    "fig.suptitle('Mean vector norm using Taylor series of matrix exponential $e^{-iA}$',fontsize=20)\n",
    "fig.tight_layout()\n",
    "fig.set_facecolor('white')\n",
    "plt.savefig('exp_iA_plots.png',dpi=300)\n",
    "plt.show()"
   ]
  },
  {
   "cell_type": "code",
   "execution_count": 268,
   "id": "55149ae1",
   "metadata": {},
   "outputs": [
    {
     "data": {
      "text/plain": [
       "0.9694430276443219"
      ]
     },
     "execution_count": 268,
     "metadata": {},
     "output_type": "execute_result"
    }
   ],
   "source": [
    "np.abs(-0.63095793+0.75586713j)**2"
   ]
  },
  {
   "cell_type": "code",
   "execution_count": 269,
   "id": "7c155543",
   "metadata": {},
   "outputs": [
    {
     "data": {
      "text/plain": [
       "0.9694430178112101"
      ]
     },
     "execution_count": 269,
     "metadata": {},
     "output_type": "execute_result"
    }
   ],
   "source": [
    "np.abs(0.9840164 -0.0339815j)**2"
   ]
  },
  {
   "cell_type": "code",
   "execution_count": 265,
   "id": "98572234",
   "metadata": {},
   "outputs": [
    {
     "data": {
      "text/plain": [
       "0.9999996236032781"
      ]
     },
     "execution_count": 265,
     "metadata": {},
     "output_type": "execute_result"
    }
   ],
   "source": [
    "np.linalg.norm([-0.04280212-0.7873854j,  -0.0661611 -0.61140344j])"
   ]
  },
  {
   "cell_type": "code",
   "execution_count": 12,
   "id": "69c1f236",
   "metadata": {},
   "outputs": [],
   "source": [
    "from qnute import *"
   ]
  },
  {
   "cell_type": "code",
   "execution_count": 13,
   "id": "95ea2648",
   "metadata": {},
   "outputs": [
    {
     "name": "stdout",
     "output_type": "stream",
     "text": [
      "[ 0.7844741 -0.27774059j -0.46381422-0.30386969j]\n",
      "[ 0.78447415-0.27774061j -0.46381425-0.30386971j]\n"
     ]
    }
   ],
   "source": [
    "psi0 = svs[np.where(norms>1.0)[0][0]-1]\n",
    "print(psi0)\n",
    "psi0/=np.linalg.norm(psi0)\n",
    "print(psi0)"
   ]
  },
  {
   "cell_type": "code",
   "execution_count": 14,
   "id": "8b819187",
   "metadata": {},
   "outputs": [
    {
     "data": {
      "text/plain": [
       "1.0"
      ]
     },
     "execution_count": 14,
     "metadata": {},
     "output_type": "execute_result"
    }
   ],
   "source": [
    "np.linalg.norm(psi0)"
   ]
  },
  {
   "cell_type": "code",
   "execution_count": 15,
   "id": "4b431b50",
   "metadata": {},
   "outputs": [
    {
     "name": "stdout",
     "output_type": "stream",
     "text": [
      "Statevector([-1.40354810e+13-3.13849572e+13j,\n",
      "              3.49909469e+12-1.01601197e+13j],\n",
      "            dims=(2,))\n"
     ]
    }
   ],
   "source": [
    "from qiskit.quantum_info import Statevector\n",
    "Statevector(svs[71])"
   ]
  },
  {
   "cell_type": "code",
   "execution_count": 16,
   "id": "d9ea69dd",
   "metadata": {},
   "outputs": [
    {
     "name": "stdout",
     "output_type": "stream",
     "text": [
      "Performing Hamiltonian precalculations...\n",
      "\tCalculating Unitary Domains... Done\n",
      "\tCalculating Required Pauli Measurements... Done\n"
     ]
    }
   ],
   "source": [
    "params = Params(H)\n",
    "params.load_hamiltonian_params(1)\n",
    "params.set_run_params(\n",
    "    0.01,0.1,30,1000,None,init_sv=psi0\n",
    ")"
   ]
  },
  {
   "cell_type": "code",
   "execution_count": 39,
   "id": "5810eaab",
   "metadata": {},
   "outputs": [
    {
     "name": "stdout",
     "output_type": "stream",
     "text": [
      "1. Time for 1019 iterations: 29.873518466949463 seconds\n",
      "\tHit\n"
     ]
    },
    {
     "name": "stderr",
     "output_type": "stream",
     "text": [
      "C:\\Users\\CMP3KUMARS\\AppData\\Local\\Temp\\ipykernel_7804\\1845779655.py:27: ComplexWarning: Casting complex values to real discards the imaginary part\n",
      "  exps[k][1][i] = psi.conj().T @ sigma_matrices[i] @ psi\n"
     ]
    },
    {
     "name": "stdout",
     "output_type": "stream",
     "text": [
      "2. Time for 1082 iterations: 30.360316276550293 seconds\n",
      "\tHit\n",
      "3. Time for 1908 iterations: 53.03301286697388 seconds\n",
      "\tHit\n",
      "4. Time for 7321 iterations: 220.1260006427765 seconds\n",
      "\tHit\n",
      "5. Time for 419 iterations: 11.28191590309143 seconds\n",
      "\tHit\n",
      "6. Time for 9938 iterations: 286.47360920906067 seconds\n",
      "\tHit\n",
      "7. Time for 3852 iterations: 113.454350233078 seconds\n",
      "\tHit\n",
      "8. Time for 81 iterations: 2.3701422214508057 seconds\n",
      "\tHit\n",
      "9. Time for 1128 iterations: 32.93516564369202 seconds\n",
      "\tHit\n",
      "10. Time for 3611 iterations: 107.32757210731506 seconds\n",
      "\tHit\n"
     ]
    }
   ],
   "source": [
    "import time\n",
    "N=10\n",
    "\n",
    "As = np.zeros((N,4))\n",
    "exps = np.zeros((N,2,4))\n",
    "_max = 1000\n",
    "for k in range(N):\n",
    "    t1 = time.time()\n",
    "    out = qnute(params,log_to_console=False)\n",
    "    total = 1\n",
    "    while not any(np.where(np.linalg.norm(out.svs,axis=1)>1.1)[0]):\n",
    "        out = qnute(params,log_to_console=False)\n",
    "        total += 1\n",
    "    t2 = time.time()\n",
    "    print('{}. Time for {} iterations: {} seconds'.format(k+1, total, t2-t1))\n",
    "#     if total > _max:\n",
    "#         print('\\tMiss')\n",
    "#         continue\n",
    "#     else:\n",
    "    print('\\tHit')\n",
    "    norms = np.linalg.norm(out.svs,axis=1)\n",
    "    I = np.where(norms > 1.0)[0][0] - 1\n",
    "    As[k] = out.a_list[I][0]\n",
    "    psi = out.svs[I]\n",
    "    for i in range(4):\n",
    "        exps[k][0][i] = out.exp[I]['S'][i]\n",
    "        exps[k][1][i] = psi.conj().T @ sigma_matrices[i] @ psi"
   ]
  },
  {
   "cell_type": "code",
   "execution_count": 40,
   "id": "c8503f74",
   "metadata": {},
   "outputs": [
    {
     "data": {
      "text/plain": [
       "array([[-3569.24352242, -1760.48128195, -3094.09943119,   265.60244977],\n",
       "       [ 2391.57977154,  1152.86676474,  2085.61921211,  -195.43022926],\n",
       "       [ 2422.60930974,  1486.29444435,  1692.67525219,  -890.05464179],\n",
       "       [-3729.19710536, -1938.75607991, -3033.86471011,   973.62171569],\n",
       "       [ 2485.7171389 ,  1340.35544492,  1954.63281126,  -747.59031587],\n",
       "       [ 7295.97082421,  3446.85646221,  6364.11827635,  -916.76167703],\n",
       "       [ 7333.70054692,  4330.82307885,  5139.74070162, -2932.95098321],\n",
       "       [-7417.1385467 , -4181.39580096, -5383.54250496,  2924.9834352 ],\n",
       "       [-7437.09695116, -4065.18176393, -5822.98632654,  2210.37715885],\n",
       "       [-3711.10105014, -1971.76749998, -3005.01437389,   926.49387794]])"
      ]
     },
     "execution_count": 40,
     "metadata": {},
     "output_type": "execute_result"
    }
   ],
   "source": [
    "As"
   ]
  },
  {
   "cell_type": "code",
   "execution_count": 45,
   "id": "8fddeea9",
   "metadata": {},
   "outputs": [
    {
     "name": "stdout",
     "output_type": "stream",
     "text": [
      "Theoretical Expectations: -0.45509, -0.88926, +0.04596\n",
      "Statistical Expectations: -0.51800, -0.91000, +0.07800\n",
      "Differences             : +0.06291, +0.02074, +0.03204\n",
      "\n",
      "Theoretical Expectations: -0.46792, -0.88028, +0.07848\n",
      "Statistical Expectations: -0.50600, -0.91600, +0.08600\n",
      "Differences             : +0.03808, +0.03572, +0.00752\n",
      "\n",
      "Theoretical Expectations: -0.55748, -0.74292, +0.37051\n",
      "Statistical Expectations: -0.64400, -0.73400, +0.38600\n",
      "Differences             : +0.08652, +0.00892, +0.01549\n",
      "\n",
      "Theoretical Expectations: -0.51382, -0.82610, +0.23139\n",
      "Statistical Expectations: -0.54600, -0.85400, +0.27400\n",
      "Differences             : +0.03218, +0.02790, +0.04261\n",
      "\n",
      "Theoretical Expectations: -0.55251, -0.76771, +0.32458\n",
      "Statistical Expectations: -0.56600, -0.82600, +0.31600\n",
      "Differences             : +0.01349, +0.05829, +0.00858\n",
      "\n",
      "Theoretical Expectations: -0.48795, -0.86647, +0.10553\n",
      "Statistical Expectations: -0.49600, -0.91600, +0.13200\n",
      "Differences             : +0.00805, +0.04953, +0.02647\n",
      "\n",
      "Theoretical Expectations: -0.55561, -0.75204, +0.35458\n",
      "Statistical Expectations: -0.62000, -0.73600, +0.42000\n",
      "Differences             : +0.06439, +0.01604, +0.06542\n",
      "\n",
      "Theoretical Expectations: -0.55891, -0.73440, +0.38508\n",
      "Statistical Expectations: -0.59200, -0.76200, +0.41400\n",
      "Differences             : +0.03309, +0.02760, +0.02892\n",
      "\n",
      "Theoretical Expectations: -0.54452, -0.79119, +0.27842\n",
      "Statistical Expectations: -0.57400, -0.82200, +0.31200\n",
      "Differences             : +0.02948, +0.03081, +0.03358\n",
      "\n",
      "Theoretical Expectations: -0.52913, -0.81970, +0.21934\n",
      "Statistical Expectations: -0.55800, -0.85000, +0.26200\n",
      "Differences             : +0.02887, +0.03030, +0.04266\n",
      "\n"
     ]
    }
   ],
   "source": [
    "for i in range(N):\n",
    "    print('Theoretical Expectations: {:+0.5f}, {:+0.5f}, {:+0.5f}'.format(exps[i][1][1], exps[i][1][2], exps[i][1][3]))\n",
    "    print('Statistical Expectations: {:+0.5f}, {:+0.5f}, {:+0.5f}'.format(exps[i][0][1], exps[i][0][2], exps[i][0][3]))\n",
    "    print('Differences             : {:+0.5f}, {:+0.5f}, {:+0.5f}'.format(np.abs(exps[i][1][1] - exps[i][0][1]), \n",
    "                                                                          np.abs(exps[i][1][2] - exps[i][0][2]), \n",
    "                                                                          np.abs(exps[i][1][3] - exps[i][0][3]) ))\n",
    "    print()"
   ]
  },
  {
   "cell_type": "code",
   "execution_count": 59,
   "id": "f6dc7cf0",
   "metadata": {},
   "outputs": [
    {
     "name": "stdout",
     "output_type": "stream",
     "text": [
      "1.0748180844055573\n",
      "1.0014958865593468\n",
      "0.963738951506626\n",
      "0.9251142134210296\n",
      "0.9260753390589276\n",
      "0.9600599800412879\n",
      "0.999533508259241\n",
      "0.8899122099821223\n",
      "0.9039258319253558\n",
      "0.9204073489944019\n",
      "1.1364700291831455\n",
      "5248.679869400315\n",
      "0.30661259088598436\n",
      "0.30661259088598436\n",
      "0.30661259088598436\n",
      "0.30661259088598436\n",
      "0.30661259088598436\n",
      "0.30661259088598436\n",
      "0.30661259088598436\n",
      "0.30661259088598436\n",
      "0.30661259088598436\n",
      "0.30661259088598436\n",
      "0.30661259088598436\n",
      "0.30661259088598436\n",
      "0.30661259088598436\n",
      "0.30661259088598436\n",
      "0.30661259088598436\n",
      "0.30661259088598436\n",
      "0.30661259088598436\n",
      "0.30661259088598436\n"
     ]
    }
   ],
   "source": [
    "for i in range(30):\n",
    "    print(np.linalg.norm(out.a_list[i][0]))"
   ]
  },
  {
   "cell_type": "code",
   "execution_count": 50,
   "id": "7b9ab0b2",
   "metadata": {},
   "outputs": [
    {
     "data": {
      "text/plain": [
       "10.0"
      ]
     },
     "execution_count": 50,
     "metadata": {},
     "output_type": "execute_result"
    }
   ],
   "source": [
    "np.linalg.norm(10)"
   ]
  },
  {
   "cell_type": "code",
   "execution_count": 49,
   "id": "60965ef9",
   "metadata": {},
   "outputs": [
    {
     "data": {
      "text/plain": [
       "array([ 5048.04809979,  3381.82732458,  3425.70486436,  5274.27345826,\n",
       "        3514.94283319, 10317.67721664, 10371.03313089, 10489.8080566 ,\n",
       "       10518.0345492 ,  5248.6798694 ])"
      ]
     },
     "execution_count": 49,
     "metadata": {},
     "output_type": "execute_result"
    }
   ],
   "source": [
    "np.linalg.norm(As,axis=1)"
   ]
  },
  {
   "cell_type": "code",
   "execution_count": 59,
   "id": "901a4166",
   "metadata": {},
   "outputs": [
    {
     "data": {
      "text/plain": [
       "array([ 0.71728738-0.32130185j, -0.51985817-0.33468103j])"
      ]
     },
     "execution_count": 59,
     "metadata": {},
     "output_type": "execute_result"
    }
   ],
   "source": [
    "norms = np.linalg.norm(out.svs,axis=1)\n",
    "norms\n",
    "I = np.where(norms > 1.0)[0][0] - 1\n",
    "out.svs[I]"
   ]
  },
  {
   "cell_type": "code",
   "execution_count": 51,
   "id": "aadf65e0",
   "metadata": {},
   "outputs": [
    {
     "name": "stdout",
     "output_type": "stream",
     "text": [
      "[ 0.99999999 -0.53070814 -0.81418776  0.23547215]\n"
     ]
    },
    {
     "name": "stderr",
     "output_type": "stream",
     "text": [
      "C:\\Users\\CMP3KUMARS\\AppData\\Local\\Temp\\ipykernel_9316\\675223602.py:4: ComplexWarning: Casting complex values to real discards the imaginary part\n",
      "  exps[i] = psi.conj().T @ sigma_matrices[i] @ psi\n"
     ]
    }
   ],
   "source": [
    "psi=out.svs[I]\n",
    "exps = np.zeros(4)\n",
    "for i in range(4):\n",
    "    exps[i] = psi.conj().T @ sigma_matrices[i] @ psi\n",
    "print(exps)"
   ]
  },
  {
   "cell_type": "code",
   "execution_count": 52,
   "id": "c2c5e6ac",
   "metadata": {},
   "outputs": [
    {
     "data": {
      "text/plain": [
       "{'c': {}, 'S': {0: 1.0, 1: -0.604, 2: -0.8140000000000001, 3: 0.274}, 'b': {}}"
      ]
     },
     "execution_count": 52,
     "metadata": {},
     "output_type": "execute_result"
    }
   ],
   "source": [
    "out.exp[I]"
   ]
  },
  {
   "cell_type": "code",
   "execution_count": 53,
   "id": "ca8cfb8e",
   "metadata": {},
   "outputs": [
    {
     "name": "stdout",
     "output_type": "stream",
     "text": [
      "[2444.745418756535, 1406.7165102053461, 1894.4452426729981, -637.4479966934215] [[ 1.   +0.j    -0.604-0.j    -0.814-0.j     0.274-0.j   ]\n",
      " [-0.604+0.j     1.   +0.j     0.   +0.274j -0.   +0.814j]\n",
      " [-0.814+0.j     0.   -0.274j  1.   +0.j     0.   -0.604j]\n",
      " [ 0.274+0.j    -0.   -0.814j  0.   +0.604j  1.   +0.j   ]] [ 1.1734778   0.85220557 -1.71053212  1.07969642] 1.003737710955814\n"
     ]
    }
   ],
   "source": [
    "print(out.a_list[I][0], out.S_list[I], out.b_list[I], out.c_list[I])"
   ]
  },
  {
   "cell_type": "code",
   "execution_count": 56,
   "id": "5882aa36",
   "metadata": {},
   "outputs": [
    {
     "data": {
      "text/plain": [
       "array([ 1.1734778 ,  0.85220557, -1.71053212,  1.07969642])"
      ]
     },
     "execution_count": 56,
     "metadata": {},
     "output_type": "execute_result"
    }
   ],
   "source": [
    "S = out.S_list[I]\n",
    "a = out.a_list[I][0]\n",
    "(2.0*np.real(S) + np.eye(4)*0.1) @ a"
   ]
  },
  {
   "cell_type": "code",
   "execution_count": 57,
   "id": "b3b461c9",
   "metadata": {},
   "outputs": [
    {
     "data": {
      "text/plain": [
       "array([ 1.1734778 ,  0.85220557, -1.71053212,  1.07969642])"
      ]
     },
     "execution_count": 57,
     "metadata": {},
     "output_type": "execute_result"
    }
   ],
   "source": [
    "out.b_list[I]"
   ]
  },
  {
   "cell_type": "code",
   "execution_count": 48,
   "id": "f7758e35",
   "metadata": {},
   "outputs": [
    {
     "name": "stdout",
     "output_type": "stream",
     "text": [
      "0 [0.24864953195751335, 0.5615248638821815, -0.5971888635947864, 0.3769260382742182]\n",
      "1 [0.6053517381871822, 0.7725596660393854, -0.362193082723782, 0.2631500710227042]\n",
      "2 [1.4821989992422706, 1.2866559688633707, 0.23432068164542671, -0.0839523586909061]\n",
      "3 [0.3625398055108395, 0.6170804872620118, -0.5377539513380941, 0.3761289765468184]\n",
      "4 [0.2386029929382459, 0.5315148191491288, -0.6258776106832623, 0.4194666106992319]\n",
      "5 [0.2880253013980695, 0.5583409937386185, -0.5760975736511635, 0.40172622658429225]\n",
      "6 [0.1446585871816726, 0.4377552374963583, -0.6751809397863724, 0.4453278072768745]\n",
      "7 [0.3350475025212491, 0.5947681115029998, -0.4950575827386246, 0.34160021714719246]\n",
      "8 [0.36405117759035993, 0.6039147013596572, -0.5164335727944728, 0.38020228834116765]\n",
      "9 [0.17748405502064574, 0.456181244575694, -0.6436968331812871, 0.43793686521703334]\n",
      "10 [0.7192737563562825, 0.7832912552113883, -0.18039463633642017, 0.2391380001451728]\n",
      "11 [0.272403254766318, 0.5335976914544389, -0.5613137312581281, 0.40018105814560395]\n",
      "12 [0.24432372638811609, 0.4752988597991495, -0.583340040534322, 0.4383236307214642]\n",
      "13 [-1.505696428249791, -0.4520042333618975, -2.044719858869816, 0.7261198335816873]\n",
      "14 [0.357471387001452, 0.5563874555224407, -0.48798012887836895, 0.4058778231611992]\n",
      "15 [0.2540926963230307, 0.47617983857162244, -0.5354725383904956, 0.4073855070130173]\n",
      "16 [0.2945463226251662, 0.5185081282510468, -0.5236809536479625, 0.4050355558245191]\n",
      "17 [0.17165167404204687, 0.41311146398076243, -0.5963583977987287, 0.4167193917526221]\n",
      "18 [0.5962103061531918, 0.6558455099268182, -0.2653235005092612, 0.3864314103168372]\n",
      "19 [0.25988840278432596, 0.4486494947996991, -0.5270442803391026, 0.42500257521435264]\n",
      "20 [0.2654732975781058, 0.471181535924834, -0.4963940497028639, 0.3879351664778067]\n",
      "21 [0.3152077033637951, 0.46962739421275984, -0.4789460635029026, 0.42792398702408035]\n",
      "22 [0.48095687875643295, 0.5681415309376814, -0.35810837855656524, 0.42798449487026824]\n",
      "23 [-3540.0811977897242, -1732.619870706761, -3082.3075693290953, 182.517384458945]\n",
      "24 [0.01170462067082555, -0.14019399427924398, -0.048139826901330174, -0.2681463849816167]\n",
      "25 [0.01170462067082555, -0.14019399427924398, -0.048139826901330174, -0.2681463849816167]\n",
      "26 [0.01170462067082555, -0.14019399427924398, -0.048139826901330174, -0.2681463849816167]\n",
      "27 [0.01170462067082555, -0.14019399427924398, -0.048139826901330174, -0.2681463849816167]\n",
      "28 [0.01170462067082555, -0.14019399427924398, -0.048139826901330174, -0.2681463849816167]\n",
      "29 [0.01170462067082555, -0.14019399427924398, -0.048139826901330174, -0.2681463849816167]\n"
     ]
    }
   ],
   "source": [
    "for i in range(30):\n",
    "    print(i,out.a_list[i][0])"
   ]
  },
  {
   "cell_type": "code",
   "execution_count": 49,
   "id": "e35aa2c1",
   "metadata": {},
   "outputs": [
    {
     "data": {
      "text/plain": [
       "array([[ 7.84474152e-01-2.77740611e-01j, -4.63814250e-01-3.03869706e-01j],\n",
       "       [ 7.78220902e-01-2.81832320e-01j, -4.69659580e-01-3.07185040e-01j],\n",
       "       [ 7.71656703e-01-2.86029631e-01j, -4.75716909e-01-3.10526011e-01j],\n",
       "       [ 7.64737573e-01-2.89875346e-01j, -4.82509493e-01-3.13581422e-01j],\n",
       "       [ 7.58024948e-01-2.94198857e-01j, -4.88363196e-01-3.16775294e-01j],\n",
       "       [ 7.51308279e-01-2.98546371e-01j, -4.94086124e-01-3.19819986e-01j],\n",
       "       [ 7.44577674e-01-3.02782143e-01j, -4.99708449e-01-3.22828925e-01j],\n",
       "       [ 7.37967222e-01-3.07145136e-01j, -5.05073719e-01-3.25525373e-01j],\n",
       "       [ 7.31418215e-01-3.10714890e-01j, -5.10526922e-01-3.28398992e-01j],\n",
       "       [ 7.24447788e-01-3.14735941e-01j, -5.16121604e-01-3.31262982e-01j],\n",
       "       [ 7.17641665e-01-3.18947792e-01j, -5.21342195e-01-3.33863811e-01j],\n",
       "       [ 7.10998393e-01-3.22293712e-01j, -5.26751297e-01-3.36364534e-01j],\n",
       "       [ 7.04044377e-01-3.26123097e-01j, -5.32021253e-01-3.38996468e-01j],\n",
       "       [ 6.97068505e-01-3.30349592e-01j, -5.37008000e-01-3.41448432e-01j],\n",
       "       [ 6.90175436e-01-3.34384142e-01j, -5.42044514e-01-3.43559064e-01j],\n",
       "       [ 6.83032261e-01-3.38277916e-01j, -5.47099470e-01-3.46001624e-01j],\n",
       "       [ 6.76187018e-01-3.42015785e-01j, -5.51826221e-01-3.48258684e-01j],\n",
       "       [ 6.69067062e-01-3.45677180e-01j, -5.56745505e-01-3.50558079e-01j],\n",
       "       [ 6.62236078e-01-3.49381040e-01j, -5.61289279e-01-3.52605417e-01j],\n",
       "       [ 6.54969186e-01-3.53094378e-01j, -5.66082367e-01-3.54810437e-01j],\n",
       "       [ 6.47946324e-01-3.56881767e-01j, -5.70521046e-01-3.56800601e-01j],\n",
       "       [ 6.41074757e-01-3.60170415e-01j, -5.74971562e-01-3.58759109e-01j],\n",
       "       [ 6.33930683e-01-3.63920350e-01j, -5.79319708e-01-3.60669529e-01j],\n",
       "       [ 6.26468478e-01-3.67639442e-01j, -5.83846290e-01-3.62631991e-01j],\n",
       "       [-3.10698353e+11+9.85354474e+11j,  6.92637341e+11+4.71581158e+11j],\n",
       "       [-3.13551401e+11+9.85751483e+11j,  6.92721647e+11+4.68730662e+11j],\n",
       "       [-3.16401417e+11+9.86139919e+11j,  6.92798792e+11+4.65875752e+11j],\n",
       "       [-3.19248377e+11+9.86519779e+11j,  6.92868775e+11+4.63016459e+11j],\n",
       "       [-3.22092257e+11+9.86891057e+11j,  6.92931592e+11+4.60152809e+11j],\n",
       "       [-3.24933031e+11+9.87253750e+11j,  6.92987244e+11+4.57284833e+11j],\n",
       "       [-3.27770676e+11+9.87607853e+11j,  6.93035728e+11+4.54412558e+11j]])"
      ]
     },
     "execution_count": 49,
     "metadata": {},
     "output_type": "execute_result"
    }
   ],
   "source": [
    "out.svs"
   ]
  },
  {
   "cell_type": "code",
   "execution_count": 50,
   "id": "a77904f3",
   "metadata": {},
   "outputs": [],
   "source": [
    "from helpers import sigma_matrices, exp_mat_psi"
   ]
  },
  {
   "cell_type": "code",
   "execution_count": 51,
   "id": "4f1a0ffd",
   "metadata": {},
   "outputs": [],
   "source": [
    "phis = np.zeros((30,2),dtype=complex)\n",
    "for i in range(30):\n",
    "    psi = out.svs[i]\n",
    "    A = np.zeros((2,2),dtype=complex)\n",
    "    for j in range(4):\n",
    "        A += out.a_list[i][0][j] * sigma_matrices[j]\n",
    "    phis[i] = exp_mat_psi(-1j*params.dt*A,psi)"
   ]
  },
  {
   "cell_type": "code",
   "execution_count": 53,
   "id": "484f8975",
   "metadata": {},
   "outputs": [
    {
     "name": "stdout",
     "output_type": "stream",
     "text": [
      "[ 0.62646848-0.36763944j -0.58384629-0.36263199j] 0.9999999822742248\n",
      "[-3540.0811977897242, -1732.619870706761, -3082.3075693290953, 182.517384458945]\n",
      "[[-3357.56381333   +0.j         -1732.61987071+3082.30756933j]\n",
      " [-1732.61987071-3082.30756933j -3722.59858225   +0.j        ]]\n",
      "[-3.10698353e+11+9.85354474e+11j  6.92637341e+11+4.71581158e+11j] 1330260192736.4465\n"
     ]
    }
   ],
   "source": [
    "i=I\n",
    "psi = out.svs[i]\n",
    "A = np.zeros((2,2),dtype=complex)\n",
    "for j in range(4):\n",
    "    A += out.a_list[i][0][j] * sigma_matrices[j]\n",
    "print(psi,np.linalg.norm(psi))\n",
    "print(out.a_list[i][0])\n",
    "print(A)\n",
    "phi = exp_mat_psi(-1j*params.dt*A,psi)\n",
    "print(phi,np.linalg.norm(phi))"
   ]
  },
  {
   "cell_type": "code",
   "execution_count": 55,
   "id": "d9c0932d",
   "metadata": {},
   "outputs": [
    {
     "data": {
      "text/plain": [
       "[-3540.0811977897242,\n",
       " -1732.619870706761,\n",
       " -3082.3075693290953,\n",
       " 182.517384458945]"
      ]
     },
     "execution_count": 55,
     "metadata": {},
     "output_type": "execute_result"
    }
   ],
   "source": [
    "out.a_list[I][0]"
   ]
  },
  {
   "cell_type": "code",
   "execution_count": 57,
   "id": "dae7235a",
   "metadata": {},
   "outputs": [
    {
     "data": {
      "text/plain": [
       "array([[ 1.   +0.j   , -0.514-0.j   , -0.914-0.j   ,  0.054-0.j   ],\n",
       "       [-0.514+0.j   ,  1.   +0.j   ,  0.   +0.054j, -0.   +0.914j],\n",
       "       [-0.914+0.j   ,  0.   -0.054j,  1.   +0.j   ,  0.   -0.514j],\n",
       "       [ 0.054+0.j   , -0.   -0.914j,  0.   +0.514j,  1.   +0.j   ]])"
      ]
     },
     "execution_count": 57,
     "metadata": {},
     "output_type": "execute_result"
    }
   ],
   "source": [
    "out.S_list[I]"
   ]
  },
  {
   "cell_type": "code",
   "execution_count": 58,
   "id": "0729c220",
   "metadata": {},
   "outputs": [
    {
     "data": {
      "text/plain": [
       "array([ 1.13282598,  0.70174284, -1.57746603,  0.957738  ])"
      ]
     },
     "execution_count": 58,
     "metadata": {},
     "output_type": "execute_result"
    }
   ],
   "source": [
    "out.b_list[I]"
   ]
  },
  {
   "cell_type": "code",
   "execution_count": 59,
   "id": "d8dadcd6",
   "metadata": {},
   "outputs": [
    {
     "data": {
      "text/plain": [
       "1.0054500191947127"
      ]
     },
     "execution_count": 59,
     "metadata": {},
     "output_type": "execute_result"
    }
   ],
   "source": [
    "out.c_list[I]"
   ]
  },
  {
   "cell_type": "code",
   "execution_count": 124,
   "id": "630c1dd4",
   "metadata": {},
   "outputs": [
    {
     "data": {
      "text/plain": [
       "([[0]], [[0]], [[0]])"
      ]
     },
     "execution_count": 124,
     "metadata": {},
     "output_type": "execute_result"
    }
   ],
   "source": [
    "params.h_domains,params.u_domains,params.mix_domains"
   ]
  },
  {
   "cell_type": "code",
   "execution_count": 130,
   "id": "3e10ad83",
   "metadata": {},
   "outputs": [
    {
     "name": "stdout",
     "output_type": "stream",
     "text": [
      "-0.541471731697525 -0.7980642988235821 0.26438933006793863\n",
      "[[ 1.        +0.j         -0.54147173+0.j         -0.7980643 +0.j\n",
      "   0.26438933+0.j        ]\n",
      " [-0.54147173+0.j          1.        +0.j          0.        +0.26438933j\n",
      "   0.        +0.7980643j ]\n",
      " [-0.7980643 +0.j          0.        -0.26438933j  1.        +0.j\n",
      "  -0.        -0.54147173j]\n",
      " [ 0.26438933+0.j         -0.        -0.7980643j   0.        +0.54147173j\n",
      "   1.        +0.j        ]]\n",
      "1.003650110463075\n",
      "[ 1.13061963-0.j  0.8237083 -0.j -1.64134927+0.j  1.00886112-0.j]\n"
     ]
    }
   ],
   "source": [
    "x =np.real(psi.conj().T @ sigma_matrices[1] @ psi)\n",
    "y = np.real(psi.conj().T @ sigma_matrices[2] @ psi)\n",
    "z = np.real(psi.conj().T @ sigma_matrices[3] @ psi)\n",
    "print(x,y,z)\n",
    "S = np.array([\n",
    "    [1.0,    x   ,    y  , z],\n",
    "    [x  ,  1.0   , 1.0j*z, -1.0j*y],\n",
    "    [y  , -1.0j*z, 1.0   , 1.0j*x],\n",
    "    [z  ,  1.0j*y, -1.0j*x, 1.0]\n",
    "], dtype=complex)\n",
    "print(S)\n",
    "c = 1.0\n",
    "i=0\n",
    "for ex in [x,y,z]:\n",
    "    c += 2*params.dt * np.real(H.hm_list[0][1][i]) * ex\n",
    "    i += 1\n",
    "c = np.sqrt(c)\n",
    "print(c)\n",
    "b = np.zeros(4,dtype=complex)\n",
    "h_mat = H.get_matrix()\n",
    "for k in range(4):\n",
    "    b[k] = np.imag(psi.conj().T @ (sigma_matrices[k] @ h_mat) @ psi)\n",
    "b = (-2.0/c) * b\n",
    "print(b)\n",
    "\n",
    "a = np.real(np.linalg.lstsq(2*np.real(S) + params.delta*np.eye(4), b, rcond=-1 )[0] )\n",
    "print(a)"
   ]
  },
  {
   "cell_type": "code",
   "execution_count": 110,
   "id": "9312d6f3",
   "metadata": {},
   "outputs": [
    {
     "name": "stdout",
     "output_type": "stream",
     "text": [
      "[[  0.        -18.07297422j -18.94445243-14.0671651j ]\n",
      " [ 18.94445243-14.0671651j    0.        -30.82193415j]]\n",
      "1 [-0.58888657+0.1717452j  -0.64323385-0.47608316j] 1.008309857284286\n",
      "2 [  4.29625964+14.35527167j -11.70698465+15.6816474j ] 24.647499396280352\n",
      "3 [233.94039725 -70.01410893j 255.55565551+190.78282594j] 401.66760468477884\n",
      "4 [-855.7379082 -2859.30463435j 2331.81709891-3123.49418373j] 4909.327576986931\n",
      "5 [-27957.96908434 +8367.31200104j -30541.18570463-22800.25345267j] 48002.869989136954\n",
      "6 [  68178.88734011+227808.31218223j -185781.99441855+248856.98765986j] 391139.02584058495\n",
      "7 [1591060.60579014 -476175.52122801j 1738068.93062125+1297540.0667032j ] 2731796.260815418\n",
      "8 [-2909995.21816722 -9723260.74789255j  7929503.34731446-10621655.35916127j] 16694503.81548175\n",
      "9 [-52818324.37359602+15807564.49343224j\n",
      " -57698549.14837301-43074344.1710897j ] 90687243.78017634\n",
      "10 [ 7.72823214e+07+2.58225910e+08j -2.10588121e+08+2.82085063e+08j] 443364992.92279375\n",
      "11 [1.14768400e+09-3.43480962e+08j 1.25372591e+09+9.35958045e+08j] 1970533899.663049\n",
      "12 [-1.39938309e+09-4.67580378e+09j  3.81320656e+09-5.10783137e+09j] 8028194044.173559\n",
      "13 [-1.75844230e+10+5.26269819e+09j -1.92091609e+10-1.43404301e+10j] 30191848609.896538\n",
      "14 [ 1.83778891e+10+6.14066326e+10j -5.00782723e+10+6.70803865e+10j] 105433073268.98615\n",
      "15 [2.00142454e+11-5.98989988e+10j 2.18634903e+11+1.63219963e+11j] 343637699822.05347\n",
      "16 [-1.83026838e+11-6.11553469e+11j  4.98733440e+11-6.68058828e+11j] 1050016242629.7195\n",
      "17 [-1.75873622e+12+5.26357786e+11j -1.92123718e+12-1.43428271e+12j] 3019689523847.6245\n",
      "18 [ 1.42963030e+12+4.77686976e+12j -3.89562778e+12+5.21823548e+12j] 8201720848260.855\n",
      "19 [1.22915031e+13-3.67862348e+12j 1.34271942e+13+1.00239537e+13j] 21104087516770.34\n",
      "20 [-8.99229487e+12-3.00462445e+13j  2.45032816e+13-3.28224103e+13j] 51588366910761.945\n",
      "21 [-6.99497390e+13+2.09346855e+13j -7.64128454e+13-5.70453374e+13j] 120101292650379.48\n",
      "22 [ 4.65220621e+13+1.55445665e+14j -1.26768884e+14+1.69808290e+14j] 266894852253408.88\n",
      "23 [3.30419732e+14-9.88886203e+13j 3.60949337e+14+2.69463551e+14j] 567319299337306.8\n",
      "24 [-2.01442115e+14-6.73085026e+14j  5.48913591e+14-7.35275682e+14j] 1155663807880515.5\n",
      "25 [-1.31627041e+15+3.93935809e+14j -1.43788910e+15-1.07344345e+15j] 2259990951953826.5\n",
      "26 [ 7.40742578e+14+2.47506703e+15j -2.01846406e+15+2.70375440e+15j] 4249604849215498.5\n",
      "27 [4.48165476e+15-1.34127781e+15j 4.89574367e+15+3.65487436e+15j] 7694846862770814.0\n",
      "28 [-2.34194076e+15-7.82520210e+15j  6.38160056e+15-8.54822287e+15j] 1.343560249587055e+16\n",
      "29 [-1.31920644e+16+3.94814509e+15j -1.44109641e+16-1.07583784e+16j] 2.2650320152216996e+16\n",
      "30 [ 6.43408874e+15+2.14984279e+16j -1.75323753e+16+2.34848060e+16j] 3.6912060305229304e+16\n",
      "31 [3.39047234e+16-1.01470675e+16j 3.70373989e+16+2.76499443e+16j] 5.821324236879563e+16\n",
      "32 [-1.55026438e+16-5.17994829e+16j  4.22434596e+16-5.65855703e+16j] 8.893792801987146e+16\n",
      "33 [-7.67408633e+16+2.29671456e+16j -8.38314454e+16-6.25836279e+16j] 1.3176141924182643e+17\n",
      "34 [ 3.30250363e+16+1.10347617e+17j -8.99905725e+16+1.20543344e+17j] 1.8946305836915846e+17\n",
      "35 [1.54138139e+17-4.61307436e+16j 1.68379954e+17+1.25702573e+17j] 2.6464987650016096e+17\n",
      "36 [-6.26474143e+16-2.09325823e+17j  1.70709175e+17-2.28666783e+17j] 3.594052289877997e+17\n",
      "37 [-2.76589876e+17+8.27783229e+16j -3.02145795e+17-2.25564284e+17j] 4.748952916383215e+17\n",
      "38 [ 1.06499660e+17+3.55850746e+17j -2.90203025e+17+3.88730085e+17j] 6.109834741670395e+17\n",
      "39 [4.46085873e+17-1.33505394e+17j 4.87302616e+17+3.63791480e+17j] 7.659140795426898e+17\n",
      "40 [-1.63175149e+17-5.45222381e+17j  4.44639181e+17-5.95598984e+17j] 9.361280492740663e+17\n",
      "41 [-6.50137197e+17+1.94574247e+17j -7.10207555e+17-5.30199201e+17j] 1.1162631754776123e+18\n",
      "42 [ 2.26491164e+17+7.56782221e+17j -6.17170238e+17+8.26706199e+17j] 1.299369008373389e+18\n",
      "43 [8.60434195e+17-2.57512316e+17j 9.39935246e+17+7.01700387e+17j] 1.4773358776768899e+18\n",
      "44 [-2.86128109e+17-9.56049066e+17j  7.79676126e+17-1.04438459e+18j] 1.641503318157616e+18\n",
      "45 [-1.03868262e+18+3.10858829e+17j -1.13465319e+18-8.47065354e+17j] 1.7833822822775805e+18\n",
      "46 [ 3.30385191e+17+1.10392668e+18j -9.00273120e+17+1.20592557e+18j] 1.89540408571024e+18\n",
      "47 [1.14830582e+18-3.43667062e+17j 1.25440519e+18+9.36465154e+17j] 1.971601550366713e+18\n",
      "48 [-3.50035321e+17-1.16958429e+18j  9.53818148e+17-1.27764971e+18j] 2.0081359456495488e+18\n",
      "49 [-1.16694569e+18+3.49245634e+17j -1.27476731e+18-9.51666315e+17j] 2.0036055523973732e+18\n",
      "50 [ 3.41488575e+17+1.14102677e+18j -9.30528951e+17+1.24645358e+18j] 1.959103672203377e+18\n",
      "51 [1.0938074e+18-3.27356673e+17j 1.1948713e+18+8.92020654e+17j] 1.8780296262426934e+18\n",
      "52 [-3.07774796e+17-1.02837784e+18j  8.38661609e+17-1.12339628e+18j] 1.76568932715231e+18\n",
      "53 [-9.48619473e+17+2.83904567e+17j -1.03626853e+18-7.73617152e+17j] 1.6287469624190715e+18\n",
      "54 [ 2.57035918e+17+8.58842390e+17j -7.00402240e+17+9.38196364e+17j] 1.4746028041091328e+18\n",
      "55 [7.63424299e+17-2.28479017e+17j 8.33961981e+17+6.22586979e+17j] 1.3107732276649257e+18\n",
      "56 [-1.99468119e+17-6.66489249e+17j  5.43534609e+17-7.28070479e+17j] 1.144339085832936e+18\n",
      "57 [-5.71654319e+17+1.71085748e+17j -6.24473139e+17-4.66194927e+17j] 9.815107773551456e+17\n",
      "58 [ 1.44211879e+17+4.81859796e+17j -3.92965792e+17+5.26381922e+17j] 8.273366730959149e+17\n",
      "59 [3.99285811e+17-1.19498986e+17j 4.36178395e+17+3.25625143e+17j] 6.85559984713537e+17\n",
      "60 [-9.73706717e+16-3.25347762e+17j  2.65327263e+17-3.55408734e+17j] 5.586109010499192e+17\n",
      "61 [-2.60755324e+17+7.80393292e+16j -2.84848186e+17-2.12650907e+17j] 4.477079105315423e+17\n",
      "62 [ 6.15371012e+16+2.05615898e+17j -1.67683661e+17+2.24614074e+17j] 3.5303541567019334e+17\n",
      "63 [1.59562686e+17-4.77542118e+16j 1.74305709e+17+1.30126393e+17j] 2.7396363632843946e+17\n",
      "64 [-3.64793343e+16-1.21889575e+17j  9.94032572e+16-1.33151736e+17j] 2.0928020134557824e+17\n",
      "65 [-9.16786904e+16+2.74377657e+16j -1.00149474e+17-7.47657089e+16j] 1.5740915382233542e+17\n",
      "66 [ 2.03245063e+16+6.79109275e+16j -5.53826479e+16+7.41856550e+16j] 1.1660072351051302e+17\n",
      "67 [4.95541528e+16-1.48306573e+16j 5.41327798e+16+4.04123504e+16j] 8.508277361089688e+16\n",
      "68 [-1.06626875e+16-3.56275813e+16j  2.90549675e+16-3.89194427e+16j] 6.117132995230404e+16\n",
      "69 [-2.52436671e+16+7.55497077e+15j -2.75760920e+16-2.05866888e+16j] 4.334250705233062e+16\n",
      "70 [ 5.27654862e+15+1.76307019e+16j -1.43781714e+16+1.92597158e+16j] 3.0271307866932124e+16\n",
      "71 [1.21402170e+16-3.63334629e+15j 1.32619297e+16+9.90057695e+15j] 2.0844334444249012e+16\n",
      "72 [-2.46711556e+15-8.24345268e+15j  6.72269183e+15-9.00511831e+15j] 1.415372433402409e+16\n",
      "73 [-5.52079328e+15+1.65227309e+15j -6.03089489e+15-4.50231151e+15j] 9479011914351852.0\n",
      "74 [ 1.09160447e+15+3.64741317e+15j -2.97453454e+15+3.98442114e+15j] 6262482797185535.0\n",
      "75 [2.37760057e+15-7.11572636e+14j 2.59728238e+15+1.93897831e+15j] 4082258283621615.0\n",
      "76 [-4.57742084e+14-1.52946837e+15j  1.24731043e+15-1.67078579e+15j] 2626044511801432.5\n",
      "77 [-9.71102274e+14+2.90633260e+14j -1.06082866e+15-7.91952302e+14j] 1667349157701424.0\n",
      "78 [ 1.82165407e+14+6.08675141e+14j -4.96386109e+14+6.64914553e+14j] 1045074252735048.2\n",
      "79 [3.76680961e+14-1.12733765e+14j 4.11484939e+14+3.07190460e+14j] 646748236867739.0\n",
      "80 [-6.88936545e+13-2.30196587e+14j  1.87729677e+14-2.51465930e+14j] 395239610761518.1\n",
      "81 [-1.38940564e+14+4.15823855e+13j -1.51778176e+14-1.13308662e+14j] 238556162813778.5\n",
      "82 [ 2.47919532e+13+8.28381519e+13j -6.75560822e+13+9.04921016e+13j] 142230253670297.62\n",
      "83 [4.87941217e+13-1.46031938e+13j 5.33025245e+13+3.97925307e+13j] 83777826444140.72\n",
      "84 [-8.49931174e+12-2.83990241e+13j  2.31599421e+13-3.10229926e+13j] 48760146201107.16\n",
      "85 [-1.63342684e+13+4.88854964e+12j -1.78434965e+13-1.33209053e+13j] 28045376192658.594\n",
      "86 [ 2.77905265e+12+9.28573813e+12j -7.57269536e+12+1.01437072e+13j] 15943292546367.146\n",
      "87 [5.21809973e+12-1.56168241e+12j 5.70023354e+12+4.25545919e+12j] 8959297522302.197\n",
      "88 [-8.67611386e+11-2.89897787e+12j  2.36417137e+12-3.16683308e+12j] 4977445154295.81\n",
      "89 [-1.59246571e+12+4.76596044e+11j -1.73960386e+12-1.29868596e+12j] 2734208777306.3423\n",
      "90 [ 2.58894676e+11+8.65053120e+11j -7.05467208e+11+9.44980943e+11j] 1485266412671.2942\n",
      "91 [4.64746985e+11-1.39090326e+11j 5.07687949e+11+3.79009971e+11j] 797954566298.2302\n",
      "92 [-7.39135894e+10-2.46969857e+11j  2.01408597e+11-2.69788991e+11j] 424038738133.37524\n",
      "93 [-1.29830341e+11+3.88558614e+10j -1.41826201e+11-1.05879103e+11j] 222914223992.52512\n",
      "94 [ 2.02089563e+10+6.75248364e+10j -5.50677834e+10+7.37638905e+10j] 115937818467.28688\n",
      "95 [3.47500259e+10-1.04000511e+10j 3.79608043e+10+2.83393044e+10j] 59664597532.745384\n",
      "96 [-5.29638368e+09-1.76969774e+10j  1.44322203e+10-1.93321150e+10j] 30385100621.860985\n",
      "97 [-8.91954206e+09+2.66945682e+09j -9.74367593e+09-7.27405553e+09j] 15314546508.451853\n",
      "98 [ 1.33171724e+09+4.44970970e+09j -3.62882256e+09+4.86084701e+09j] 7639998298.73491\n",
      "99 [2.19741295e+09-6.57645758e+08j 2.40044607e+09+1.79203189e+09j] 3772882358.3624635\n",
      "100 [-3.21519427e+08-1.07430322e+09j  8.76114627e+08-1.17356500e+09j] 1844541625.0257268\n",
      "101 [-5.20020781e+08+1.55632768e+08j -5.68068847e+08-4.24086799e+08j] 892857771.1029991\n",
      "102 [ 7.45960905e+07+2.4925032e+08j -2.03268358e+08+2.7228016e+08j] 427954214.4562878\n",
      "103 [1.18307887e+08-35407400.14217077j 1.29239113e+08+96482322.7867281j ] 203130566.3595046\n",
      "104 [-16644697.09626482-55615462.50189488j\n",
      "  45355463.30656634-60754132.86263261j] 95489833.60740443\n",
      "105 [-25895330.0436144  +7750001.62534084j\n",
      " -28287966.17375732-21118132.23821633j] 44461389.79765403\n",
      "106 [ 3574465.62424849+11943477.11706422j -9740131.85842633+13047011.80156885j] 20506538.85263379\n",
      "107 [5457103.62396769-1633211.92987969j 5961320.53391431+4450371.3903047j ] 9369658.968731657\n",
      "108 [-739322.60414722-2470322.42941687j 2014594.74150714-2698571.41051773j] 4241458.52843747\n",
      "109 [-1108006.58160142+331606.23146477j -1210382.4375998 -903600.35850722j] 1902409.1386352042\n",
      "110 [ 147382.2540957 +492453.07251301j -401604.81016963+537953.97988549j] 845524.9644308857\n",
      "111 [216898.7599762 -64913.85664978j 236939.4317432+176885.0479128j ] 372407.70044974994\n",
      "112 [-28335.74176245 -94679.12659142j  77212.62143363-103427.1401781j ] 162560.7994179877\n",
      "113 [-40962.92835867+12259.45994215j -44747.7568286 -33406.04412015j] 70331.93714622215\n",
      "114 [  5257.52908676+17567.15127265j -14326.34467295+19190.29339008j] 30162.193687125255\n",
      "115 [7468.24741444-2235.11071313j 8158.2868371 +6090.49725261j] 12822.723589145195\n",
      "116 [-942.01159277-3147.57367534j 2566.9059631 -3438.39825588j] 5404.275591786643\n",
      "117 [-1315.24069868 +393.62763615j -1436.76424792-1072.60370704j] 2258.2229801012345\n",
      "118 [ 163.08678498+544.92712737j -444.39839603+595.27645025j] 935.6211093149985\n",
      "119 [223.87554878 -67.00188273j 244.56085094+182.57475135j] 384.386606522988\n",
      "120 [-27.29737946-91.20961317j  74.38316751-99.63705609j] 156.6037643744985\n",
      "121 [-36.85279574+11.02937195j -40.25786261-30.0541531j ] 63.27498099569202\n",
      "122 [  4.41983594+14.76814017j -12.04369809+16.13266365j] 25.356388030792097\n",
      "123 [5.86997012-1.75677537j 6.41233443+4.78707184j] 10.078536529215048\n",
      "124 [-0.69264347-2.31435194j  1.88739785-2.5281898j ] 3.9736625702171793\n",
      "125 [-0.90517924+0.27090369j -0.98881457-0.73819082j] 1.5541615811744622\n",
      "126 [ 0.10511376+0.35122j    -0.28642656+0.38367147j] 0.603032641091002\n",
      "127 [0.13520436-0.04046421j 0.14769677+0.11026172j] 0.23214123784103355\n",
      "128 [-0.01545526-0.05164115j  0.04211434-0.05641261j] 0.08866608292813793\n",
      "129 [-0.01957138+0.00585736j -0.0213797 -0.01596083j] 0.033603383539417976\n",
      "130 [ 0.00220279+0.00736026j -0.00600243+0.00804032j] 0.01263731622604093\n",
      "131 [0.00274686-0.00082209j 0.00300066+0.00224012j] 0.004716271020619324\n",
      "132 [-0.00030448-0.00101737j  0.00082968-0.00111137j] 0.0017467872735551428\n",
      "133 [-0.00037397+0.00011192j -0.00040853-0.00030498j] 0.000642101337656742\n",
      "134 [ 4.08350162e-05+0.00013644j -1.11272141e-04+0.00014905j] 0.00023426854097597817\n",
      "135 [4.94121575e-05-1.47881607e-05j 5.39776646e-05+4.02965506e-05j] 8.483897263566438e-05\n",
      "136 [-5.31606703e-06-1.77627460e-05j  1.44858559e-05-1.94039604e-05j] 3.0498023087754942e-05\n",
      "137 [-6.33876622e-06+1.89707752e-06j -6.92444561e-06-5.16938394e-06j] 1.0883443278403791e-05\n",
      "138 [ 6.72080335e-07+2.24564367e-06j -1.83136496e-06+2.45313313e-06j] 3.855692833682532e-06\n"
     ]
    }
   ],
   "source": [
    "chi = psi.copy()\n",
    "phi = psi.copy()\n",
    "i = 1\n",
    "mat = -1j*params.dt*A\n",
    "print(mat)\n",
    "while np.linalg.norm(chi) > 1e-5:\n",
    "    chi = 1/i * (mat@chi)\n",
    "    print(i, chi, np.linalg.norm(chi))\n",
    "    phi += chi\n",
    "    i += 1"
   ]
  },
  {
   "cell_type": "code",
   "execution_count": 99,
   "id": "76d9b419",
   "metadata": {},
   "outputs": [
    {
     "data": {
      "text/plain": [
       "array([[   0.77799503-2.82431503e-01j,   -0.46971321-3.07124849e-01j],\n",
       "       [   0.77155794-2.86809511e-01j,   -0.47555834-3.10294882e-01j],\n",
       "       [   0.76510634-2.90803217e-01j,   -0.48140285-3.13523652e-01j],\n",
       "       [   0.75856649-2.95028805e-01j,   -0.48713948-3.16591219e-01j],\n",
       "       [   0.75179835-2.99053676e-01j,   -0.49311891-3.19687146e-01j],\n",
       "       [   0.74509978-3.03117086e-01j,   -0.49879304-3.22725658e-01j],\n",
       "       [   0.73833236-3.07068417e-01j,   -0.50446741-3.25709892e-01j],\n",
       "       [   0.73160726-3.11360686e-01j,   -0.50983545-3.28440472e-01j],\n",
       "       [ -28.27135534-2.34375819e+02j, -100.70516866+5.79463848e+02j],\n",
       "       [ -28.53103003-2.34309419e+02j,  -98.7408324 +5.79815919e+02j],\n",
       "       [ -28.79042146-2.34240762e+02j,  -96.77548885+5.80162096e+02j],\n",
       "       [ -29.04952669-2.34169849e+02j,  -94.80915781+5.80502374e+02j],\n",
       "       [ -29.30834275-2.34096681e+02j,  -92.84185908+5.80836750e+02j],\n",
       "       [ -29.56686669-2.34021257e+02j,  -90.8736125 +5.81165221e+02j],\n",
       "       [ -29.82509556-2.33943579e+02j,  -88.90443789+5.81487783e+02j],\n",
       "       [ -30.08302641-2.33863648e+02j,  -86.9343551 +5.81804434e+02j],\n",
       "       [ -30.34065629-2.33781465e+02j,  -84.96338398+5.82115169e+02j],\n",
       "       [ -30.59798227-2.33697029e+02j,  -82.99154438+5.82419987e+02j],\n",
       "       [ -30.8550014 -2.33610343e+02j,  -81.01885619+5.82718883e+02j],\n",
       "       [ -31.11171075-2.33521407e+02j,  -79.04533927+5.83011856e+02j],\n",
       "       [ -31.36810738-2.33430222e+02j,  -77.07101351+5.83298901e+02j],\n",
       "       [ -31.62418837-2.33336789e+02j,  -75.09589881+5.83580016e+02j],\n",
       "       [ -31.87995079-2.33241109e+02j,  -73.12001507+5.83855199e+02j],\n",
       "       [ -32.13539171-2.33143183e+02j,  -71.1433822 +5.84124446e+02j],\n",
       "       [ -32.39050822-2.33043011e+02j,  -69.16602011+5.84387754e+02j],\n",
       "       [ -32.64529739-2.32940595e+02j,  -67.18794874+5.84645122e+02j],\n",
       "       [ -32.89975633-2.32835936e+02j,  -65.20918802+5.84896547e+02j],\n",
       "       [ -33.1538821 -2.32729035e+02j,  -63.22975789+5.85142025e+02j],\n",
       "       [ -33.40767181-2.32619893e+02j,  -61.24967828+5.85381555e+02j],\n",
       "       [ -33.66112256-2.32508512e+02j,  -59.26896917+5.85615135e+02j]])"
      ]
     },
     "execution_count": 99,
     "metadata": {},
     "output_type": "execute_result"
    }
   ],
   "source": [
    "phis"
   ]
  }
 ],
 "metadata": {
  "kernelspec": {
   "display_name": "Python 3 (ipykernel)",
   "language": "python",
   "name": "python3"
  },
  "language_info": {
   "codemirror_mode": {
    "name": "ipython",
    "version": 3
   },
   "file_extension": ".py",
   "mimetype": "text/x-python",
   "name": "python",
   "nbconvert_exporter": "python",
   "pygments_lexer": "ipython3",
   "version": "3.10.0"
  }
 },
 "nbformat": 4,
 "nbformat_minor": 5
}
