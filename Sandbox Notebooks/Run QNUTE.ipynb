{
 "cells": [
  {
   "cell_type": "code",
   "execution_count": 2,
   "id": "5ce029d6",
   "metadata": {},
   "outputs": [],
   "source": [
    "import numpy as np\n",
    "from sv_qnute import qnute as s_qnute\n",
    "from taylor_qnute import qnute as t_qnute\n",
    "\n",
    "from hamiltonians import Hamiltonian\n",
    "from qnute_params import QNUTE_params as Params"
   ]
  },
  {
   "cell_type": "code",
   "execution_count": 33,
   "id": "02c6cac1",
   "metadata": {},
   "outputs": [
    {
     "name": "stdout",
     "output_type": "stream",
     "text": [
      "Term 1 acting on the qubit locations [(0, 0), (0, 1)]:\n",
      "\t(1.00 + 0.00i) I_(0, 0) I_(0, 1) +\n",
      "\t(-1.00 + 0.00i) Z_(0, 0) Z_(0, 1) \n",
      "Term 2 acting on the qubit locations [(1, 0), (0, 0)]:\n",
      "\t(1.00 + 0.00i) I_(1, 0) I_(0, 0) +\n",
      "\t(-1.00 + 0.00i) Z_(1, 0) Z_(0, 0) \n",
      "[[0.+0.j 0.+0.j 0.+0.j 0.+0.j 0.+0.j 0.+0.j 0.+0.j 0.+0.j 0.+0.j 0.+0.j\n",
      "  0.+0.j 0.+0.j 0.+0.j 0.+0.j 0.+0.j 0.+0.j]\n",
      " [0.+0.j 4.+0.j 0.+0.j 0.+0.j 0.+0.j 0.+0.j 0.+0.j 0.+0.j 0.+0.j 0.+0.j\n",
      "  0.+0.j 0.+0.j 0.+0.j 0.+0.j 0.+0.j 0.+0.j]\n",
      " [0.+0.j 0.+0.j 2.+0.j 0.+0.j 0.+0.j 0.+0.j 0.+0.j 0.+0.j 0.+0.j 0.+0.j\n",
      "  0.+0.j 0.+0.j 0.+0.j 0.+0.j 0.+0.j 0.+0.j]\n",
      " [0.+0.j 0.+0.j 0.+0.j 2.+0.j 0.+0.j 0.+0.j 0.+0.j 0.+0.j 0.+0.j 0.+0.j\n",
      "  0.+0.j 0.+0.j 0.+0.j 0.+0.j 0.+0.j 0.+0.j]\n",
      " [0.+0.j 0.+0.j 0.+0.j 0.+0.j 2.+0.j 0.+0.j 0.+0.j 0.+0.j 0.+0.j 0.+0.j\n",
      "  0.+0.j 0.+0.j 0.+0.j 0.+0.j 0.+0.j 0.+0.j]\n",
      " [0.+0.j 0.+0.j 0.+0.j 0.+0.j 0.+0.j 2.+0.j 0.+0.j 0.+0.j 0.+0.j 0.+0.j\n",
      "  0.+0.j 0.+0.j 0.+0.j 0.+0.j 0.+0.j 0.+0.j]\n",
      " [0.+0.j 0.+0.j 0.+0.j 0.+0.j 0.+0.j 0.+0.j 4.+0.j 0.+0.j 0.+0.j 0.+0.j\n",
      "  0.+0.j 0.+0.j 0.+0.j 0.+0.j 0.+0.j 0.+0.j]\n",
      " [0.+0.j 0.+0.j 0.+0.j 0.+0.j 0.+0.j 0.+0.j 0.+0.j 0.+0.j 0.+0.j 0.+0.j\n",
      "  0.+0.j 0.+0.j 0.+0.j 0.+0.j 0.+0.j 0.+0.j]\n",
      " [0.+0.j 0.+0.j 0.+0.j 0.+0.j 0.+0.j 0.+0.j 0.+0.j 0.+0.j 0.+0.j 0.+0.j\n",
      "  0.+0.j 0.+0.j 0.+0.j 0.+0.j 0.+0.j 0.+0.j]\n",
      " [0.+0.j 0.+0.j 0.+0.j 0.+0.j 0.+0.j 0.+0.j 0.+0.j 0.+0.j 0.+0.j 4.+0.j\n",
      "  0.+0.j 0.+0.j 0.+0.j 0.+0.j 0.+0.j 0.+0.j]\n",
      " [0.+0.j 0.+0.j 0.+0.j 0.+0.j 0.+0.j 0.+0.j 0.+0.j 0.+0.j 0.+0.j 0.+0.j\n",
      "  2.+0.j 0.+0.j 0.+0.j 0.+0.j 0.+0.j 0.+0.j]\n",
      " [0.+0.j 0.+0.j 0.+0.j 0.+0.j 0.+0.j 0.+0.j 0.+0.j 0.+0.j 0.+0.j 0.+0.j\n",
      "  0.+0.j 2.+0.j 0.+0.j 0.+0.j 0.+0.j 0.+0.j]\n",
      " [0.+0.j 0.+0.j 0.+0.j 0.+0.j 0.+0.j 0.+0.j 0.+0.j 0.+0.j 0.+0.j 0.+0.j\n",
      "  0.+0.j 0.+0.j 2.+0.j 0.+0.j 0.+0.j 0.+0.j]\n",
      " [0.+0.j 0.+0.j 0.+0.j 0.+0.j 0.+0.j 0.+0.j 0.+0.j 0.+0.j 0.+0.j 0.+0.j\n",
      "  0.+0.j 0.+0.j 0.+0.j 2.+0.j 0.+0.j 0.+0.j]\n",
      " [0.+0.j 0.+0.j 0.+0.j 0.+0.j 0.+0.j 0.+0.j 0.+0.j 0.+0.j 0.+0.j 0.+0.j\n",
      "  0.+0.j 0.+0.j 0.+0.j 0.+0.j 4.+0.j 0.+0.j]\n",
      " [0.+0.j 0.+0.j 0.+0.j 0.+0.j 0.+0.j 0.+0.j 0.+0.j 0.+0.j 0.+0.j 0.+0.j\n",
      "  0.+0.j 0.+0.j 0.+0.j 0.+0.j 0.+0.j 0.+0.j]]\n"
     ]
    }
   ],
   "source": [
    "###########################\n",
    "# Hamiltonian Description #\n",
    "###########################\n",
    "\n",
    "# Qubit lattice dimension\n",
    "d = 2\n",
    "# Qubit lattice bound\n",
    "l = 2\n",
    "# Map qubit lattice to physical qubits\n",
    "# Set to None for linear topologies\n",
    "qubit_map = {\n",
    "    (0,0): 0,\n",
    "    (0,1): 1,\n",
    "    (1,0): 2,\n",
    "    (1,1): 3\n",
    "}\n",
    "\n",
    "# Hamiltonian terms\n",
    "hm_list = [\n",
    "    [ [0, 3*4+3*1], [-1.0, 1.0], [(0,0),(0,1)] ],\n",
    "    [ [0, 3*4+3*1], [-1.0, 1.0], [(1,0),(0,0)] ]\n",
    "]\n",
    "\n",
    "H = Hamiltonian(hm_list, d, l, qubit_map)\n",
    "H.multiply_scalar(-1)\n",
    "\n",
    "H.print()\n",
    "print(H.get_matrix())"
   ]
  },
  {
   "cell_type": "code",
   "execution_count": 43,
   "id": "213f7c4f",
   "metadata": {},
   "outputs": [
    {
     "name": "stdout",
     "output_type": "stream",
     "text": [
      "dict_keys([(0, 0), (0, 1), (1, 0), (1, 1)])\n",
      "[0.5 0.5]\n",
      "[(0, 0), (0, 1), (1, 0), (1, 1)]\n"
     ]
    }
   ],
   "source": [
    "from helpers import get_m_sphere, get_center\n",
    "\n",
    "print(qubit_map.keys())\n",
    "c = get_center(list(qubit_map.keys()))\n",
    "print(c)\n",
    "print(get_m_sphere(c, 1, d, l))"
   ]
  },
  {
   "cell_type": "code",
   "execution_count": 53,
   "id": "f50b10df",
   "metadata": {},
   "outputs": [
    {
     "name": "stdout",
     "output_type": "stream",
     "text": [
      "Performing Hamiltonian precalculations...\n",
      "\tCalculating Unitary Domains... Done\n",
      "\tCalculating Required Pauli Measurements... Done\n"
     ]
    },
    {
     "name": "stderr",
     "output_type": "stream",
     "text": [
      "C:\\Users\\CMP3KUMARS\\Desktop\\QITE\\helpers.py:78: RuntimeWarning: invalid value encountered in double_scalars\n",
      "  return np.sum(points,axis=0)/n\n"
     ]
    }
   ],
   "source": [
    "####################\n",
    "# QNUTE Parameters #\n",
    "####################\n",
    "\n",
    "from qiskit import Aer\n",
    "\n",
    "# Size of time step\n",
    "dt = 0.1\n",
    "# Number of time steps, total simulation time t=N*dt\n",
    "N = 30\n",
    "\n",
    "# Regularizer for linear\n",
    "delta = 0.1\n",
    "\n",
    "# Maximum unitary domain diameter\n",
    "D = 1\n",
    "\n",
    "num_shots = 0\n",
    "backend = Aer.get_backend('statevector_simulator')\n",
    "\n",
    "init_state = np.ones(16, dtype=complex) * np.sqrt(1/16)\n",
    "\n",
    "params = Params(H)\n",
    "params.load_hamiltonian_params(D, reduce_dim=False, load_measurements=True)\n",
    "params.set_run_params(dt, delta, N, num_shots, backend, init_sv=init_state)"
   ]
  },
  {
   "cell_type": "code",
   "execution_count": 54,
   "id": "51663f7c",
   "metadata": {},
   "outputs": [
    {
     "name": "stdout",
     "output_type": "stream",
     "text": [
      "Starting Statevector QNUTE Simulation:\n",
      "Iteration 1... "
     ]
    },
    {
     "ename": "TypeError",
     "evalue": "unsupported operand type(s) for %: 'list' and 'int'",
     "output_type": "error",
     "traceback": [
      "\u001b[1;31m---------------------------------------------------------------------------\u001b[0m",
      "\u001b[1;31mTypeError\u001b[0m                                 Traceback (most recent call last)",
      "Input \u001b[1;32mIn [54]\u001b[0m, in \u001b[0;36m<cell line: 1>\u001b[1;34m()\u001b[0m\n\u001b[1;32m----> 1\u001b[0m times, svs, alist, S_list, b_list \u001b[38;5;241m=\u001b[39m \u001b[43ms_qnute\u001b[49m\u001b[43m(\u001b[49m\u001b[43mparams\u001b[49m\u001b[43m)\u001b[49m\n",
      "File \u001b[1;32m~\\Desktop\\QITE\\sv_qnute.py:261\u001b[0m, in \u001b[0;36mqnute\u001b[1;34m(params, logging)\u001b[0m\n\u001b[0;32m    257\u001b[0m \u001b[38;5;28;01mif\u001b[39;00m logging: \u001b[38;5;28mprint\u001b[39m(\u001b[38;5;124m'\u001b[39m\u001b[38;5;124mIteration \u001b[39m\u001b[38;5;132;01m{}\u001b[39;00m\u001b[38;5;124m...\u001b[39m\u001b[38;5;124m'\u001b[39m\u001b[38;5;241m.\u001b[39mformat(i),end\u001b[38;5;241m=\u001b[39m\u001b[38;5;124m'\u001b[39m\u001b[38;5;124m \u001b[39m\u001b[38;5;124m'\u001b[39m,flush\u001b[38;5;241m=\u001b[39m\u001b[38;5;28;01mTrue\u001b[39;00m)\n\u001b[0;32m    259\u001b[0m t0 \u001b[38;5;241m=\u001b[39m time\u001b[38;5;241m.\u001b[39mtime()\n\u001b[1;32m--> 261\u001b[0m psi, next_alist, next_slist, next_blist \u001b[38;5;241m=\u001b[39m \u001b[43mqnute_step\u001b[49m\u001b[43m(\u001b[49m\u001b[43mparams\u001b[49m\u001b[43m,\u001b[49m\u001b[43m \u001b[49m\u001b[43mStatevector\u001b[49m\u001b[43m(\u001b[49m\u001b[43msvs\u001b[49m\u001b[43m[\u001b[49m\u001b[43mi\u001b[49m\u001b[38;5;241;43m-\u001b[39;49m\u001b[38;5;241;43m1\u001b[39;49m\u001b[43m]\u001b[49m\u001b[43m)\u001b[49m\u001b[43m)\u001b[49m\n\u001b[0;32m    262\u001b[0m alist \u001b[38;5;241m+\u001b[39m\u001b[38;5;241m=\u001b[39m next_alist\n\u001b[0;32m    263\u001b[0m S_list \u001b[38;5;241m+\u001b[39m\u001b[38;5;241m=\u001b[39m next_slist\n",
      "File \u001b[1;32m~\\Desktop\\QITE\\sv_qnute.py:220\u001b[0m, in \u001b[0;36mqnute_step\u001b[1;34m(params, psi0)\u001b[0m\n\u001b[0;32m    218\u001b[0m \u001b[38;5;28;01mfor\u001b[39;00m term \u001b[38;5;129;01min\u001b[39;00m \u001b[38;5;28mrange\u001b[39m(H\u001b[38;5;241m.\u001b[39mnum_terms):\n\u001b[0;32m    219\u001b[0m     sigma_expectation \u001b[38;5;241m=\u001b[39m tomography(params, psi0, alist, term)\n\u001b[1;32m--> 220\u001b[0m     S,b \u001b[38;5;241m=\u001b[39m \u001b[43mupdate_alist\u001b[49m\u001b[43m(\u001b[49m\u001b[43mparams\u001b[49m\u001b[43m,\u001b[49m\u001b[43m \u001b[49m\u001b[43msigma_expectation\u001b[49m\u001b[43m,\u001b[49m\u001b[43m \u001b[49m\u001b[43malist\u001b[49m\u001b[43m,\u001b[49m\u001b[43m \u001b[49m\u001b[43mterm\u001b[49m\u001b[43m,\u001b[49m\u001b[43m \u001b[49m\u001b[38;5;241;43m1.0\u001b[39;49m\u001b[43m)\u001b[49m\n\u001b[0;32m    221\u001b[0m     S_list\u001b[38;5;241m.\u001b[39mappend(S)\n\u001b[0;32m    222\u001b[0m     b_list\u001b[38;5;241m.\u001b[39mappend(b)\n",
      "File \u001b[1;32m~\\Desktop\\QITE\\sv_qnute.py:163\u001b[0m, in \u001b[0;36mupdate_alist\u001b[1;34m(params, sigma_expectation, alist, term, scale)\u001b[0m\n\u001b[0;32m    159\u001b[0m     J \u001b[38;5;241m=\u001b[39m full_pauli_index(params\u001b[38;5;241m.\u001b[39mh_measurements[term][j], \n\u001b[0;32m    160\u001b[0m                         params\u001b[38;5;241m.\u001b[39mh_domains[term], \n\u001b[0;32m    161\u001b[0m                         params\u001b[38;5;241m.\u001b[39mmix_domains[term])\n\u001b[0;32m    162\u001b[0m \u001b[38;5;28;01melse\u001b[39;00m:\n\u001b[1;32m--> 163\u001b[0m     J \u001b[38;5;241m=\u001b[39m \u001b[43mfull_pauli_index\u001b[49m\u001b[43m(\u001b[49m\u001b[43mparams\u001b[49m\u001b[38;5;241;43m.\u001b[39;49m\u001b[43mh_measurements\u001b[49m\u001b[43m[\u001b[49m\u001b[43mj\u001b[49m\u001b[43m]\u001b[49m\u001b[43m,\u001b[49m\n\u001b[0;32m    164\u001b[0m \u001b[43m                        \u001b[49m\u001b[43mparams\u001b[49m\u001b[38;5;241;43m.\u001b[39;49m\u001b[43mh_domains\u001b[49m\u001b[43m[\u001b[49m\u001b[43mterm\u001b[49m\u001b[43m]\u001b[49m\u001b[43m,\u001b[49m\n\u001b[0;32m    165\u001b[0m \u001b[43m                        \u001b[49m\u001b[43mu_domain\u001b[49m\u001b[43m)\u001b[49m\n\u001b[0;32m    167\u001b[0m \u001b[38;5;28;01mif\u001b[39;00m \u001b[38;5;129;01mnot\u001b[39;00m params\u001b[38;5;241m.\u001b[39msmall_u_domain_flags[term]:\n\u001b[0;32m    168\u001b[0m     p_,c_ \u001b[38;5;241m=\u001b[39m pauli_string_prod(I, J, \u001b[38;5;28mlen\u001b[39m(params\u001b[38;5;241m.\u001b[39mmix_domains[term]))\n",
      "File \u001b[1;32m~\\Desktop\\QITE\\sv_qnute.py:100\u001b[0m, in \u001b[0;36mupdate_alist.<locals>.full_pauli_index\u001b[1;34m(p, d1, d2)\u001b[0m\n\u001b[0;32m     98\u001b[0m index \u001b[38;5;241m=\u001b[39m \u001b[38;5;241m0\u001b[39m\n\u001b[0;32m     99\u001b[0m \u001b[38;5;28;01mfor\u001b[39;00m i \u001b[38;5;129;01min\u001b[39;00m \u001b[38;5;28mrange\u001b[39m(\u001b[38;5;28mlen\u001b[39m(d1)):\n\u001b[1;32m--> 100\u001b[0m     gate \u001b[38;5;241m=\u001b[39m \u001b[43mp\u001b[49m\u001b[43m \u001b[49m\u001b[38;5;241;43m%\u001b[39;49m\u001b[43m \u001b[49m\u001b[38;5;241;43m4\u001b[39;49m\n\u001b[0;32m    102\u001b[0m     qbit \u001b[38;5;241m=\u001b[39m d1[i]\n\u001b[0;32m    103\u001b[0m     \u001b[38;5;66;03m# find the index of qbit in d2\u001b[39;00m\n",
      "\u001b[1;31mTypeError\u001b[0m: unsupported operand type(s) for %: 'list' and 'int'"
     ]
    }
   ],
   "source": [
    "times, svs, alist, S_list, b_list = s_qnute(params)"
   ]
  },
  {
   "cell_type": "code",
   "execution_count": 45,
   "id": "13981a8b",
   "metadata": {},
   "outputs": [
    {
     "name": "stdout",
     "output_type": "stream",
     "text": [
      "Iteration 1... Done -- Iteration time = 0.06 seconds\n",
      "Iteration 2... Done -- Iteration time = 0.04 seconds\n",
      "Iteration 3... Done -- Iteration time = 0.04 seconds\n",
      "Iteration 4... Done -- Iteration time = 0.04 seconds\n",
      "Iteration 5... Done -- Iteration time = 0.04 seconds\n",
      "Iteration 6... Done -- Iteration time = 0.03 seconds\n",
      "Iteration 7... Done -- Iteration time = 0.03 seconds\n",
      "Iteration 8... Done -- Iteration time = 0.03 seconds\n",
      "Iteration 9... Done -- Iteration time = 0.04 seconds\n",
      "Iteration 10... Done -- Iteration time = 0.04 seconds\n",
      "Iteration 11... Done -- Iteration time = 0.03 seconds\n",
      "Iteration 12... Done -- Iteration time = 0.03 seconds\n",
      "Iteration 13... Done -- Iteration time = 0.03 seconds\n",
      "Iteration 14... Done -- Iteration time = 0.03 seconds\n",
      "Iteration 15... Done -- Iteration time = 0.03 seconds\n",
      "Iteration 16... Done -- Iteration time = 0.04 seconds\n",
      "Iteration 17... Done -- Iteration time = 0.04 seconds\n",
      "Iteration 18... Done -- Iteration time = 0.03 seconds\n",
      "Iteration 19... Done -- Iteration time = 0.04 seconds\n",
      "Iteration 20... Done -- Iteration time = 0.03 seconds\n",
      "Iteration 21... Done -- Iteration time = 0.03 seconds\n",
      "Iteration 22... Done -- Iteration time = 0.04 seconds\n",
      "Iteration 23... Done -- Iteration time = 0.04 seconds\n",
      "Iteration 24... Done -- Iteration time = 0.04 seconds\n",
      "Iteration 25... Done -- Iteration time = 0.04 seconds\n",
      "Iteration 26... Done -- Iteration time = 0.04 seconds\n",
      "Iteration 27... Done -- Iteration time = 0.04 seconds\n",
      "Iteration 28... Done -- Iteration time = 0.05 seconds\n",
      "Iteration 29... Done -- Iteration time = 0.04 seconds\n",
      "Iteration 30... Done -- Iteration time = 0.03 seconds\n"
     ]
    }
   ],
   "source": [
    "times, svs, alist, S_list, b_list = t_qnute(params)"
   ]
  },
  {
   "cell_type": "code",
   "execution_count": 52,
   "id": "35a8ebfd",
   "metadata": {},
   "outputs": [
    {
     "data": {
      "image/png": "[encoded data removed]",
      "text/plain": [
       "<Figure size 432x288 with 1 Axes>"
      ]
     },
     "metadata": {
      "needs_background": "light"
     },
     "output_type": "display_data"
    }
   ],
   "source": [
    "probs = np.abs(svs[-1])**2\n",
    "import matplotlib.pyplot as plt\n",
    "%matplotlib inline\n",
    "plt.bar(np.arange(0,16,1), probs)\n",
    "plt.show()"
   ]
  },
  {
   "cell_type": "code",
   "execution_count": 55,
   "id": "686c5098",
   "metadata": {},
   "outputs": [
    {
     "name": "stderr",
     "output_type": "stream",
     "text": [
      "C:\\Users\\CMP3KUMARS\\AppData\\Local\\Temp\\ipykernel_688\\2171480017.py:3: ComplexWarning: Casting complex values to real discards the imaginary part\n",
      "  E[i] = np.conj(svs[i]).T @ H.get_matrix() @ svs[i]\n"
     ]
    }
   ],
   "source": [
    "E = np.zeros(len(svs),dtype=float)\n",
    "for i in range(len(svs)):\n",
    "    E[i] = np.conj(svs[i]).T @ H.get_matrix() @ svs[i]"
   ]
  },
  {
   "cell_type": "code",
   "execution_count": 59,
   "id": "8df96998",
   "metadata": {},
   "outputs": [
    {
     "data": {
      "image/png": "[encoded data removed]",
      "text/plain": [
       "<Figure size 432x288 with 1 Axes>"
      ]
     },
     "metadata": {
      "needs_background": "light"
     },
     "output_type": "display_data"
    }
   ],
   "source": [
    "plt.plot(np.arange(0,N+1, 1)*dt, -E)\n",
    "plt.show()"
   ]
  }
 ],
 "metadata": {
  "kernelspec": {
   "display_name": "Python 3 (ipykernel)",
   "language": "python",
   "name": "python3"
  },
  "language_info": {
   "codemirror_mode": {
    "name": "ipython",
    "version": 3
   },
   "file_extension": ".py",
   "mimetype": "text/x-python",
   "name": "python",
   "nbconvert_exporter": "python",
   "pygments_lexer": "ipython3",
   "version": "3.10.0"
  }
 },
 "nbformat": 4,
 "nbformat_minor": 5
}
