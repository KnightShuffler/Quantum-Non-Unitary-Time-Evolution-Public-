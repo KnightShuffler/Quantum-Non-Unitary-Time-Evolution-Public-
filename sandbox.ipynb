{
 "cells": [
  {
   "cell_type": "code",
   "execution_count": 1,
   "metadata": {},
   "outputs": [],
   "source": [
    "import logging\n",
    "\n",
    "import numpy as np\n",
    "from numba import njit\n",
    "import matplotlib.pyplot as plt\n",
    "%matplotlib inline\n",
    "logging.getLogger().setLevel(logging.INFO)\n"
   ]
  },
  {
   "cell_type": "code",
   "execution_count": 61,
   "metadata": {},
   "outputs": [
    {
     "data": {
      "image/png": "[encoded data removed]",
      "text/plain": [
       "<Figure size 640x480 with 2 Axes>"
      ]
     },
     "metadata": {},
     "output_type": "display_data"
    }
   ],
   "source": [
    "# from tests.black_scholes.hamiltonian import generateBlackScholesHamiltonian\n",
    "from qnute.hamiltonian import Hamiltonian\n",
    "from tests.black_scholes import BlackScholesInfo, Basis, BoundaryConditions\n",
    "from qnute.hamiltonian.examples.position_operator import generatePositionHamiltonian\n",
    "from qnute.hamiltonian.examples.finite_difference.first_derivative import generateFirstDerivativeHamiltonian1D\n",
    "from qnute.hamiltonian.examples.finite_difference.laplacian import generateLaplaceHamiltonian1D\n",
    "\n",
    "from qnute.hamiltonian import hm_list_tensor\n",
    "from qnute.hamiltonian.construction import get_lowerLeft_hm_list, get_lowerRight_hm_list\n",
    "\n",
    "def lowerRightHam(num_qbits:int) -> Hamiltonian:\n",
    "    return Hamiltonian(get_lowerRight_hm_list(num_qbits), num_qbits)\n",
    "def lowerRight1Ham(num_qbits:int) -> Hamiltonian:\n",
    "    assert num_qbits >= 2\n",
    "    return Hamiltonian(hm_list_tensor(get_lowerRight_hm_list(num_qbits-1), \n",
    "                                      get_lowerLeft_hm_list(1) ), num_qbits)\n",
    "def lowerRight2Ham(num_qbits:int) -> Hamiltonian:\n",
    "    assert num_qbits >=2\n",
    "    if num_qbits == 2:\n",
    "        return Hamiltonian(hm_list_tensor(get_lowerLeft_hm_list(1),\n",
    "                                          get_lowerRight_hm_list(1) ), num_qbits)\n",
    "    return Hamiltonian(hm_list_tensor(get_lowerRight_hm_list(num_qbits-2),\n",
    "                                      hm_list_tensor(get_lowerLeft_hm_list(1),\n",
    "                                                     get_lowerRight_hm_list(1)) ), num_qbits)\n",
    "\n",
    "\n",
    "def foo(bs_data:BlackScholesInfo,\n",
    "                                    num_qbits:int\n",
    "                                    )->Hamiltonian:\n",
    "    assert n >= 2, 'Black Scholes Hamiltonian requries at least two qubits!'\n",
    "    N = 2**num_qbits\n",
    "    dS = bs_data.Smax / (N-1)\n",
    "\n",
    "    if bs_data.basis == Basis.S:\n",
    "        BSHam = (\n",
    "            (SHam:=generatePositionHamiltonian(num_qbits, 0, dS)) * generateFirstDerivativeHamiltonian1D(num_qbits, dS) * (bs_data.r-bs_data.q) \n",
    "            + SHam*SHam*generateLaplaceHamiltonian1D(num_qbits, dS)*((bs_data.sigma**2)/2) \n",
    "            + Hamiltonian.Identity(num_qbits)*(-bs_data.r)\n",
    "            )\n",
    "        match bs_data.BC:\n",
    "            case BoundaryConditions.ZERO_AFTER:\n",
    "                pass\n",
    "            case BoundaryConditions.ZERO_AT:\n",
    "                BC_Ham = lowerRightHam(num_qbits) * (bs_data.r + (bs_data.sigma*bs_data.Smax/dS)**2)\n",
    "                BC_Ham += lowerRight1Ham(num_qbits) * -((bs_data.sigma*bs_data.Smax/dS)**2 / 2 - (bs_data.r-bs_data.q)*bs_data.Smax/(2*dS))\n",
    "                BSHam += BC_Ham\n",
    "            case BoundaryConditions.LINEAR:\n",
    "                BC_Ham = lowerRightHam(num_qbits) * ((bs_data.sigma*bs_data.Smax/dS)**2 + (bs_data.r-bs_data.q)*bs_data.Smax/dS)\n",
    "                BC_Ham += lowerRight1Ham(num_qbits) * -((bs_data.sigma*bs_data.Smax/dS)**2 / 2 + (bs_data.r-bs_data.q)*bs_data.Smax/(2*dS))\n",
    "                BSHam += BC_Ham\n",
    "            case BoundaryConditions.PDE:\n",
    "                BC_Ham = lowerRightHam(num_qbits) * ((sigma*Smax/dS)**2 + (r-q)*Smax/dS)\n",
    "                BC_Ham += lowerRight1Ham(num_qbits) * -((bs_data.sigma*bs_data.Smax/dS)**2 *3/2 + (bs_data.r-bs_data.q)*bs_data.Smax/2*dS)\n",
    "                BC_Ham += lowerRight2Ham(num_qbits) * (bs_data.sigma*bs_data.Smax/dS)**2\n",
    "                BSHam += BC_Ham\n",
    "            case _:\n",
    "                raise NotImplementedError('These boundary conditions are not yet implemented!')\n",
    "    else:\n",
    "        raise NotImplementedError('x-Basis hamiltonian not implemented yet!')\n",
    "    \n",
    "    return BSHam\n",
    "\n",
    "\n",
    "\n",
    "bs_data = BlackScholesInfo(r:=1.0, q:=0, sigma:=1.0, basis:=Basis.S, \n",
    "                           Smax:=3, BC:=BoundaryConditions.LINEAR)\n",
    "BSHam = foo(bs_data, n:=4)\n",
    "\n",
    "# print(BSHam)\n",
    "# print(BSHam.get_matrix().real)\n",
    "plt.imshow(BSHam.get_matrix().real)\n",
    "plt.colorbar()\n",
    "plt.show()"
   ]
  },
  {
   "cell_type": "code",
   "execution_count": 59,
   "metadata": {},
   "outputs": [
    {
     "data": {
      "text/plain": [
       "<matplotlib.colorbar.Colorbar at 0x25dbf5bf190>"
      ]
     },
     "execution_count": 59,
     "metadata": {},
     "output_type": "execute_result"
    },
    {
     "data": {
      "image/png": "[encoded data removed]",
      "text/plain": [
       "<Figure size 640x480 with 2 Axes>"
      ]
     },
     "metadata": {},
     "output_type": "display_data"
    }
   ],
   "source": [
    "plt.imshow((lowerRight2Ham(n).get_matrix().real))\n",
    "plt.colorbar()"
   ]
  },
  {
   "cell_type": "code",
   "execution_count": 57,
   "metadata": {},
   "outputs": [
    {
     "name": "stdout",
     "output_type": "stream",
     "text": [
      "[[0. 0. 0. 0. 0. 0. 0. 0.]\n",
      " [0. 0. 0. 0. 0. 0. 0. 0.]\n",
      " [0. 0. 0. 0. 0. 0. 0. 0.]\n",
      " [0. 0. 1. 0. 0. 0. 0. 0.]\n",
      " [0. 0. 0. 0. 0. 0. 0. 0.]\n",
      " [0. 0. 0. 0. 0. 0. 0. 0.]\n",
      " [0. 0. 0. 0. 0. 0. 0. 0.]\n",
      " [0. 0. 0. 0. 0. 0. 1. 0.]]\n"
     ]
    }
   ],
   "source": [
    "print((lowerRight2Ham(n).get_matrix().real))"
   ]
  },
  {
   "cell_type": "code",
   "execution_count": null,
   "metadata": {},
   "outputs": [],
   "source": []
  },
  {
   "cell_type": "code",
   "execution_count": 44,
   "metadata": {},
   "outputs": [
    {
     "name": "stdout",
     "output_type": "stream",
     "text": [
      "[ 0.  0.  1.  3.  6. 10. 15. 21.]\n",
      "[ 0.  1.  3.  6. 10. 15. 21. 28.]\n",
      "\n",
      "[[  1.  -0.   0.   0.   0.   0.   0.   0.]\n",
      " [  0.   2.  -1.   0.   0.   0.   0.   0.]\n",
      " [  0.  -1.   5.  -3.   0.   0.   0.   0.]\n",
      " [  0.   0.  -3.  10.  -6.   0.   0.   0.]\n",
      " [  0.   0.   0.  -6.  17. -10.   0.   0.]\n",
      " [  0.   0.   0.   0. -10.  26. -15.   0.]\n",
      " [  0.   0.   0.   0.   0. -15.  37. -21.]\n",
      " [  0.   0.   0.   0.   0.   0. -21.  50.]]\n",
      "\n",
      "[[  1.  -0.   0.   0.   0.   0.   0.   0.]\n",
      " [  0.   2.  -1.   0.   0.   0.   0.   0.]\n",
      " [  0.  -1.   5.  -3.   0.   0.   0.   0.]\n",
      " [  0.   0.  -3.  10.  -6.   0.   0.   0.]\n",
      " [  0.   0.   0.  -6.  17. -10.   0.   0.]\n",
      " [  0.   0.   0.   0. -10.  26. -15.   0.]\n",
      " [  0.   0.   0.   0.   0. -15.  37. -21.]\n",
      " [  0.   0.   0.   0.   0. -49.  56.  -6.]]\n"
     ]
    }
   ],
   "source": [
    "\n",
    "\n",
    "import numpy as np\n",
    "N = 2**n\n",
    "dS = Smax/(N-1)\n",
    "alpha = np.zeros(N)\n",
    "beta = np.zeros(N)\n",
    "\n",
    "for i in range(N):\n",
    "    alpha[i] = (sigma*i)**2 / (2) - (r-q)*(i)/(2)\n",
    "    beta[i] = (sigma*i)**2 / (2) + (r-q)*(i)/(2)\n",
    "\n",
    "print(alpha)\n",
    "print(beta)\n",
    "print()\n",
    "\n",
    "A = np.zeros((N,N))\n",
    "for i in range(N):\n",
    "    if i-1 > 0:\n",
    "        A[i][i-1] = -alpha[i]\n",
    "    A[i][i] = r + alpha[i] + beta[i]\n",
    "    if i+1 < N:\n",
    "        A[i][i+1] = -beta[i]\n",
    "\n",
    "print(A)\n",
    "print()\n",
    "\n",
    "gamma2 = -(sigma*Smax/dS)**2\n",
    "gamma1 = (sigma*Smax/dS)**2 + (r-q)*Smax/dS\n",
    "gamma0 = r - gamma1 - gamma2\n",
    "B = np.zeros(A.shape)\n",
    "B[:,:] = A[:,:]\n",
    "B[N-1][N-1] = gamma0\n",
    "B[N-1][N-2] = gamma1\n",
    "B[N-1][N-3] = gamma2\n",
    "\n",
    "print(B)"
   ]
  },
  {
   "cell_type": "code",
   "execution_count": 20,
   "metadata": {},
   "outputs": [
    {
     "data": {
      "text/plain": [
       "-20.0"
      ]
     },
     "execution_count": 20,
     "metadata": {},
     "output_type": "execute_result"
    }
   ],
   "source": [
    "r - (2*(sigma*Smax/dS)**2 + (r-q)*Smax/dS)"
   ]
  },
  {
   "cell_type": "code",
   "execution_count": 28,
   "metadata": {},
   "outputs": [
    {
     "data": {
      "text/plain": [
       "-12.0"
      ]
     },
     "execution_count": 28,
     "metadata": {},
     "output_type": "execute_result"
    }
   ],
   "source": [
    "-(sigma*Smax/dS)**2 - (r-q)*Smax/dS"
   ]
  },
  {
   "cell_type": "code",
   "execution_count": 26,
   "metadata": {},
   "outputs": [
    {
     "data": {
      "text/plain": [
       "10.0"
      ]
     },
     "execution_count": 26,
     "metadata": {},
     "output_type": "execute_result"
    }
   ],
   "source": [
    "r+alpha[3]+beta[3]"
   ]
  },
  {
   "cell_type": "code",
   "execution_count": 29,
   "metadata": {},
   "outputs": [
    {
     "data": {
      "text/plain": [
       "-2.0"
      ]
     },
     "execution_count": 29,
     "metadata": {},
     "output_type": "execute_result"
    }
   ],
   "source": [
    "A[N-1,N-1] + (-(sigma*Smax/dS)**2 - (r-q)*Smax/dS)"
   ]
  }
 ],
 "metadata": {
  "kernelspec": {
   "display_name": "Python 3",
   "language": "python",
   "name": "python3"
  },
  "language_info": {
   "codemirror_mode": {
    "name": "ipython",
    "version": 3
   },
   "file_extension": ".py",
   "mimetype": "text/x-python",
   "name": "python",
   "nbconvert_exporter": "python",
   "pygments_lexer": "ipython3",
   "version": "3.11.7"
  }
 },
 "nbformat": 4,
 "nbformat_minor": 2
}
