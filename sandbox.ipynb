{
 "cells": [
  {
   "cell_type": "code",
   "execution_count": 1,
   "metadata": {},
   "outputs": [],
   "source": [
    "from itertools import combinations"
   ]
  },
  {
   "cell_type": "code",
   "execution_count": 76,
   "metadata": {},
   "outputs": [
    {
     "name": "stdout",
     "output_type": "stream",
     "text": [
      "Support: {3}\n",
      "r=1\n",
      "\n",
      "Combination: [{0, 1}]\n",
      "    Union:   {0, 1}\n",
      "\n",
      "Combination: [{1, 2}]\n",
      "    Union:   {1, 2}\n",
      "\n",
      "Combination: [{2, 3}]\n",
      "    Union:   {2, 3}\n",
      "    Support is a subset of the union!\n",
      "        Distance of cover from support center:    0.5\n",
      "\n",
      "Combination: [{3, 4}]\n",
      "    Union:   {3, 4}\n",
      "    Support is a subset of the union!\n",
      "        Distance of cover from support center:    0.5\n",
      "\n",
      "Number of covering domains: 1\n",
      "Minimum Distance: 0.5\n",
      "U indices:        [2, 3]\n"
     ]
    }
   ],
   "source": [
    "from qnute.helpers.lattice import get_center, manhattan_dist\n",
    "import numpy as np\n",
    "from math import isclose\n",
    "\n",
    "S:set[int] = {3}\n",
    "u_domains:list[set[int]] = [\n",
    "    {0,1}, {1,2}, {2,3}, {3,4}\n",
    "]\n",
    "invert_map = {i:(i,0) for i in range(5)}\n",
    "S_center = get_center([invert_map[index] for index in S])\n",
    "u_domain_centers:list[np.ndarray[float]] = [get_center([invert_map[index] for index in domain]) for domain in u_domains]\n",
    "\n",
    "print('Support:',S)\n",
    "r = 1\n",
    "if len(S) > len(u_domains[0]):\n",
    "    r+=1\n",
    "found_flag = False\n",
    "min_dist = float('inf')\n",
    "u_index_list = []\n",
    "while r < len(u_domains) and not found_flag:\n",
    "    print(f'r={r}')\n",
    "    for u_indices in combinations(range(len(u_domains)), r):\n",
    "        u = [u_domains[i] for i in u_indices]\n",
    "        print('\\nCombination:', u)\n",
    "        x = set.union(*u)\n",
    "        print('    Union:  ', x)\n",
    "        if S.issubset(x):\n",
    "            found_flag = True\n",
    "            print('    Support is a subset of the union!')\n",
    "            dist = 0.0\n",
    "            for i in u_indices:\n",
    "                dist += manhattan_dist(S_center, u_domain_centers[i])\n",
    "            print(f'        Distance of cover from support center:    {dist}')\n",
    "            if isclose(dist,min_dist):\n",
    "                u_index_list += list(u_indices)\n",
    "            else:\n",
    "                if dist < min_dist:\n",
    "                    min_dist = dist\n",
    "                    u_index_list = list(u_indices)\n",
    "            \n",
    "    print()\n",
    "    r += 1\n",
    "if not found_flag:\n",
    "    u_index_list = list(range(len(u_domains)))\n",
    "else:\n",
    "    r -= 1\n",
    "print(f'Number of covering domains: {r}')\n",
    "print(f'Minimum Distance: {min_dist}')\n",
    "print(f'U indices:        {u_index_list}')"
   ]
  },
  {
   "cell_type": "code",
   "execution_count": 84,
   "metadata": {},
   "outputs": [
    {
     "data": {
      "text/plain": [
       "array([( 1,  1.  +0.j), ( 5,  0.5 +0.j), (10,  0.5 +0.j), (21,  0.25+0.j),\n",
       "       (26, -0.25+0.j), (38,  0.25+0.j), (41,  0.25+0.j), ( 0, -2.  +0.j)],\n",
       "      dtype=[('pauli_id', '<u4'), ('amplitude', '<c16')])"
      ]
     },
     "execution_count": 84,
     "metadata": {},
     "output_type": "execute_result"
    }
   ],
   "source": [
    "ham.pterm_list"
   ]
  },
  {
   "cell_type": "code",
   "execution_count": 94,
   "metadata": {},
   "outputs": [],
   "source": [
    "def get_minimum_cover(support:set[int], u_domains:list[set[int]], invert_map:dict[int,tuple[int]]) -> list[int]:\n",
    "    support_center = get_center([invert_map[index] for index in support])\n",
    "    u_domain_centers:list[np.ndarray[float]] = [get_center([invert_map[index] for index in domain]) for domain in u_domains]\n",
    "\n",
    "    r = 1\n",
    "    if len(support) > len(u_domains[0]):\n",
    "        r+=1\n",
    "    found_flag = False\n",
    "    min_dist = float('inf')\n",
    "    u_index_list = []\n",
    "    while r < len(u_domains) and not found_flag:\n",
    "        for u_indices in combinations(range(len(u_domains)), r):\n",
    "            u = [u_domains[i] for i in u_indices]\n",
    "            x = set.union(*u)\n",
    "            if support.issubset(x):\n",
    "                found_flag = True\n",
    "                dist = 0.0\n",
    "                for i in u_indices:\n",
    "                    dist += manhattan_dist(support_center, u_domain_centers[i])\n",
    "                if isclose(dist,min_dist):\n",
    "                    u_index_list += list(u_indices)\n",
    "                else:\n",
    "                    if dist < min_dist:\n",
    "                        min_dist = dist\n",
    "                        u_index_list = list(u_indices)\n",
    "                \n",
    "        # print()\n",
    "        r += 1\n",
    "    if not found_flag:\n",
    "        u_index_list = list(range(len(u_domains)))\n",
    "    else:\n",
    "        r -= 1\n",
    "    return u_index_list"
   ]
  },
  {
   "cell_type": "code",
   "execution_count": 95,
   "metadata": {},
   "outputs": [
    {
     "data": {
      "text/plain": [
       "{0, 1, 2}"
      ]
     },
     "execution_count": 95,
     "metadata": {},
     "output_type": "execute_result"
    }
   ],
   "source": [
    "def get_support(ham:Hamiltonian, term:int) -> set[int]:\n",
    "    p = ham.pterm_list[ham.hm_indices[term]]['pauli_id']\n",
    "    support = set()\n",
    "    for i in range(ham.nbits):\n",
    "        if p % 4 != 0:\n",
    "            support.add(i)\n",
    "        p //= 4\n",
    "    return support\n",
    "\n",
    "get_support(ham, 2)"
   ]
  },
  {
   "cell_type": "code",
   "execution_count": 98,
   "metadata": {},
   "outputs": [
    {
     "name": "stdout",
     "output_type": "stream",
     "text": [
      "Hamiltonian Pauli Terms and Amplitudes:\n",
      "\n",
      "\tI_2 I_1 X_0  : (1.00000+0.00000j)\n",
      "\n",
      "\tI_2 X_1 X_0  : (0.50000+0.00000j)\n",
      "\tI_2 Y_1 Y_0  : (0.50000+0.00000j)\n",
      "\n",
      "\tX_2 X_1 X_0  : (0.25000+0.00000j)\n",
      "\tX_2 Y_1 Y_0  : (-0.25000+0.00000j)\n",
      "\tY_2 X_1 Y_0  : (0.25000+0.00000j)\n",
      "\tY_2 Y_1 X_0  : (0.25000+0.00000j)\n",
      "\tI_2 I_1 I_0  : (-2.00000+0.00000j)\n",
      "\n",
      "Term 0\n",
      "Amplitude Splits: [[1. 0.]\n",
      " [0. 0.]\n",
      " [0. 0.]]\n",
      "Term 1\n",
      "Amplitude Splits: [[1. 0.]\n",
      " [1. 0.]\n",
      " [0. 0.]]\n",
      "Term 2\n",
      "Amplitude Splits: [[1.  0. ]\n",
      " [1.  0. ]\n",
      " [0.5 0.5]]\n",
      "[[1.  0. ]\n",
      " [1.  0. ]\n",
      " [0.5 0.5]]\n"
     ]
    }
   ],
   "source": [
    "from qnute.hamiltonian import Hamiltonian\n",
    "from qnute.hamiltonian.laplacian import generateLaplaceHamiltonian1D\n",
    "\n",
    "num_qbits = 3\n",
    "ham:Hamiltonian = generateLaplaceHamiltonian1D(num_qbits)\n",
    "print(ham)\n",
    "u_domains = [{i,i+1} for i in range(num_qbits-1)]\n",
    "invert_map = {i:(i,) for i in range(num_qbits)}\n",
    "\n",
    "amplitude_splits = np.zeros((ham.num_terms,len(u_domains)),dtype=np.float64)\n",
    "\n",
    "for term in range(ham.num_terms):\n",
    "    support = get_support(ham, term)\n",
    "    \n",
    "    u_index_list = get_minimum_cover(support, u_domains, invert_map)\n",
    "    frac = 1.0/len(u_index_list)\n",
    "    for ui in u_index_list:\n",
    "        amplitude_splits[term,ui] += frac\n",
    "\n",
    "print(amplitude_splits)"
   ]
  },
  {
   "cell_type": "code",
   "execution_count": 101,
   "metadata": {},
   "outputs": [
    {
     "data": {
      "text/plain": [
       "array([(21,  0.25+0.j), (26, -0.25+0.j), (38,  0.25+0.j), (41,  0.25+0.j),\n",
       "       ( 0, -2.  +0.j)],\n",
       "      dtype=[('pauli_id', '<u4'), ('amplitude', '<c16')])"
      ]
     },
     "execution_count": 101,
     "metadata": {},
     "output_type": "execute_result"
    }
   ],
   "source": [
    "ham.get_hm_pterms(2)"
   ]
  },
  {
   "cell_type": "code",
   "execution_count": 113,
   "metadata": {},
   "outputs": [
    {
     "name": "stdout",
     "output_type": "stream",
     "text": [
      "[( 1,  1.   +0.j) ( 5,  0.5  +0.j) (10,  0.5  +0.j) (21,  0.125+0.j)\n",
      " (26, -0.125+0.j) (38,  0.125+0.j) (41,  0.125+0.j) ( 0, -1.   +0.j)\n",
      " ( 1,  0.   +0.j) ( 5,  0.   +0.j) (10,  0.   +0.j) (21,  0.125+0.j)\n",
      " (26, -0.125+0.j) (38,  0.125+0.j) (41,  0.125+0.j) ( 0, -1.   +0.j)]\n",
      "[0, 8]\n"
     ]
    }
   ],
   "source": [
    "from qnute.hamiltonian import hm_dtype\n",
    "new_pterm_list = np.zeros(len(u_domains)*ham.pterm_list.shape[0], dtype=hm_dtype)\n",
    "new_hm_indices = []\n",
    "counter = 0\n",
    "for i,dom in enumerate(u_domains):\n",
    "    new_hm_indices.append(counter)\n",
    "    for term in range(ham.num_terms):\n",
    "        for pterm in ham.get_hm_pterms(term):\n",
    "            new_pterm_list[counter]=(pterm['pauli_id'], pterm['amplitude']*amplitude_splits[term,i])\n",
    "            counter += 1\n",
    "\n",
    "# new_pterm_list = np.array(new_pterm_list, dtype=hm_dtype)\n",
    "\n",
    "print(new_pterm_list)\n",
    "print(new_hm_indices)"
   ]
  },
  {
   "cell_type": "code",
   "execution_count": 118,
   "metadata": {},
   "outputs": [
    {
     "name": "stdout",
     "output_type": "stream",
     "text": [
      "Hamiltonian Pauli Terms and Amplitudes:\n",
      "\n",
      "\tI_2 I_1 X_0  : (1.00000+0.00000j)\n",
      "\tI_2 X_1 X_0  : (0.50000+0.00000j)\n",
      "\tI_2 Y_1 Y_0  : (0.50000+0.00000j)\n",
      "\tX_2 X_1 X_0  : (0.12500+0.00000j)\n",
      "\tX_2 Y_1 Y_0  : (-0.12500+0.00000j)\n",
      "\tY_2 X_1 Y_0  : (0.12500+0.00000j)\n",
      "\tY_2 Y_1 X_0  : (0.12500+0.00000j)\n",
      "\tI_2 I_1 I_0  : (-1.00000+0.00000j)\n",
      "\n",
      "\tI_2 I_1 X_0  : (0.00000+0.00000j)\n",
      "\tI_2 X_1 X_0  : (0.00000+0.00000j)\n",
      "\tI_2 Y_1 Y_0  : (0.00000+0.00000j)\n",
      "\tX_2 X_1 X_0  : (0.12500+0.00000j)\n",
      "\tX_2 Y_1 Y_0  : (-0.12500+0.00000j)\n",
      "\tY_2 X_1 Y_0  : (0.12500+0.00000j)\n",
      "\tY_2 Y_1 X_0  : (0.12500+0.00000j)\n",
      "\tI_2 I_1 I_0  : (-1.00000+0.00000j)\n",
      "\n",
      "[[-2.  1.  0.  0.  0.  0.  0.  0.]\n",
      " [ 1. -2.  1.  0.  0.  0.  0.  0.]\n",
      " [ 0.  1. -2.  1.  0.  0.  0.  0.]\n",
      " [ 0.  0.  1. -2.  1.  0.  0.  0.]\n",
      " [ 0.  0.  0.  1. -2.  1.  0.  0.]\n",
      " [ 0.  0.  0.  0.  1. -2.  1.  0.]\n",
      " [ 0.  0.  0.  0.  0.  1. -2.  1.]\n",
      " [ 0.  0.  0.  0.  0.  0.  1. -2.]]\n"
     ]
    }
   ],
   "source": [
    "from copy import deepcopy\n",
    "\n",
    "ham2 = deepcopy(ham)\n",
    "ham2.pterm_list = new_pterm_list\n",
    "ham2.hm_indices = new_hm_indices\n",
    "ham2.num_terms = len(u_domains)\n",
    "\n",
    "print(ham2)\n",
    "print(ham2.get_matrix().real)"
   ]
  },
  {
   "cell_type": "code",
   "execution_count": 111,
   "metadata": {},
   "outputs": [
    {
     "data": {
      "text/plain": [
       "array([( 1,  1.   +0.j), ( 5,  0.5  +0.j), (10,  0.5  +0.j),\n",
       "       (21,  0.125+0.j), (26, -0.125+0.j), (38,  0.125+0.j),\n",
       "       (41,  0.125+0.j), ( 0, -1.   +0.j), ( 1,  0.   +0.j),\n",
       "       ( 5,  0.   +0.j), (10,  0.   +0.j), (21,  0.125+0.j),\n",
       "       (26, -0.125+0.j), (38,  0.125+0.j), (41,  0.125+0.j),\n",
       "       ( 0, -1.   +0.j)],\n",
       "      dtype=[('pauli_id', '<u4'), ('amplitude', '<c16')])"
      ]
     },
     "execution_count": 111,
     "metadata": {},
     "output_type": "execute_result"
    }
   ],
   "source": [
    "new_pterm_list"
   ]
  }
 ],
 "metadata": {
  "kernelspec": {
   "display_name": "Python 3",
   "language": "python",
   "name": "python3"
  },
  "language_info": {
   "codemirror_mode": {
    "name": "ipython",
    "version": 3
   },
   "file_extension": ".py",
   "mimetype": "text/x-python",
   "name": "python",
   "nbconvert_exporter": "python",
   "pygments_lexer": "ipython3",
   "version": "3.11.7"
  }
 },
 "nbformat": 4,
 "nbformat_minor": 2
}
