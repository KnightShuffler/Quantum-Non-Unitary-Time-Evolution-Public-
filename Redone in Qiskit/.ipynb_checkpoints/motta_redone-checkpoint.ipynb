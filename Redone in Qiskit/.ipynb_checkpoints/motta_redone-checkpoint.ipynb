{
 "cells": [
  {
   "cell_type": "code",
   "execution_count": 48,
   "id": "1cf11e7e",
   "metadata": {},
   "outputs": [],
   "source": [
    "from qiskit import QuantumCircuit, QuantumRegister, ClassicalRegister\n",
    "from qiskit import execute, Aer\n",
    "# from qiskit.providers.aer import QasmSimulator, StatevectorSimulator\n",
    "from qiskit.visualization import plot_histogram\n",
    "%matplotlib inline\n",
    "\n",
    "sv_sim = Aer.get_backend('statevector_simulator')\n",
    "aer_sim = Aer.get_backend('aer_simulator')"
   ]
  },
  {
   "cell_type": "code",
   "execution_count": 46,
   "id": "ed645d22",
   "metadata": {},
   "outputs": [],
   "source": [
    "def run_circuit(qc, backend, num_shots=1024):\n",
    "    result = execute(qc, backend, shots=num_shots).result()\n",
    "    return dict(result.get_counts())"
   ]
  },
  {
   "cell_type": "code",
   "execution_count": 44,
   "id": "1d2f9a6f",
   "metadata": {},
   "outputs": [
    {
     "data": {
      "text/html": [
       "<pre style=\"word-wrap: normal;white-space: pre;background: #fff0;line-height: 1.1;font-family: &quot;Courier New&quot;,Courier,monospace\">     ┌───┐     ┌─┐                 \n",
       "q_0: ┤ H ├──■──┤M├─────────────────\n",
       "     └───┘┌─┴─┐└╥┘┌─┐              \n",
       "q_1: ─────┤ X ├─╫─┤M├──────────────\n",
       "          └───┘ ║ └╥┘   ┌───┐   ┌─┐\n",
       "q_2: ───────────╫──╫────┤ X ├───┤M├\n",
       "                ║  ║    └─╥─┘   └╥┘\n",
       "                ║  ║ ┌────╨────┐ ║ \n",
       "c: 3/═══════════╩══╩═╡ c_1=0x0 ╞═╩═\n",
       "                0  1 └─────────┘ 2 </pre>"
      ],
      "text/plain": [
       "     ┌───┐     ┌─┐                 \n",
       "q_0: ┤ H ├──■──┤M├─────────────────\n",
       "     └───┘┌─┴─┐└╥┘┌─┐              \n",
       "q_1: ─────┤ X ├─╫─┤M├──────────────\n",
       "          └───┘ ║ └╥┘   ┌───┐   ┌─┐\n",
       "q_2: ───────────╫──╫────┤ X ├───┤M├\n",
       "                ║  ║    └─╥─┘   └╥┘\n",
       "                ║  ║ ┌────╨────┐ ║ \n",
       "c: 3/═══════════╩══╩═╡ c_1=0x0 ╞═╩═\n",
       "                0  1 └─────────┘ 2 "
      ]
     },
     "execution_count": 44,
     "metadata": {},
     "output_type": "execute_result"
    }
   ],
   "source": [
    "qc = QuantumCircuit(3,3)\n",
    "qc.h(0)\n",
    "qc.cx(0,1)\n",
    "qc.measure([0,1],[0,1])\n",
    "qc.x(2).c_if(1,0)\n",
    "qc.measure(2,2)\n",
    "qc.draw()"
   ]
  },
  {
   "cell_type": "code",
   "execution_count": 49,
   "id": "6894d927",
   "metadata": {},
   "outputs": [
    {
     "data": {
      "image/png": "[encoded data removed]",
      "text/plain": [
       "<Figure size 504x360 with 1 Axes>"
      ]
     },
     "execution_count": 49,
     "metadata": {},
     "output_type": "execute_result"
    }
   ],
   "source": [
    "counts = run_circuit(qc, aer_sim)\n",
    "plot_histogram(counts)\n",
    "\n",
    "# Remember that from left to right order is MSB to LSB in qiskit"
   ]
  }
 ],
 "metadata": {
  "kernelspec": {
   "display_name": "Python 3 (ipykernel)",
   "language": "python",
   "name": "python3"
  },
  "language_info": {
   "codemirror_mode": {
    "name": "ipython",
    "version": 3
   },
   "file_extension": ".py",
   "mimetype": "text/x-python",
   "name": "python",
   "nbconvert_exporter": "python",
   "pygments_lexer": "ipython3",
   "version": "3.10.0"
  }
 },
 "nbformat": 4,
 "nbformat_minor": 5
}
