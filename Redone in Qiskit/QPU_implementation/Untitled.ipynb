{
 "cells": [
  {
   "cell_type": "code",
   "execution_count": 110,
   "id": "11f81f45",
   "metadata": {},
   "outputs": [],
   "source": [
    "from qite import *\n",
    "from helper import *\n",
    "%matplotlib inline\n",
    "import matplotlib.pyplot as plt"
   ]
  },
  {
   "cell_type": "code",
   "execution_count": 109,
   "id": "4e823fa7",
   "metadata": {},
   "outputs": [],
   "source": [
    "N=25\n",
    "shots = 1000\n",
    "db = 0.1\n",
    "hm_list = []\n",
    "hm_list.append([])\n",
    "hm_list[0].append([ [1,3], [1/np.sqrt(2),1/np.sqrt(2)] ])\n",
    "# hm_list.append([])\n",
    "# hm_list[1].append([ [3], [1/np.sqrt(2)] ])\n",
    "delta = 0.1"
   ]
  },
  {
   "cell_type": "code",
   "execution_count": 89,
   "id": "134380fe",
   "metadata": {},
   "outputs": [],
   "source": [
    "def qstep(alist, db, delta, hm_list, backend, shots=1024):\n",
    "    for j in range(len(hm_list)):\n",
    "        sigma_expeactation = get_expectation(alist, backend, shots)\n",
    "        norm = update_alist(sigma_expeactation, alist, db, delta, hm_list[j])\n",
    "        print('alist update: ', alist[-1])\n",
    "    return alist"
   ]
  },
  {
   "cell_type": "code",
   "execution_count": 113,
   "id": "36034de1",
   "metadata": {},
   "outputs": [
    {
     "data": {
      "image/png": "[encoded data removed]",
      "text/plain": [
       "<Figure size 432x288 with 1 Axes>"
      ]
     },
     "metadata": {
      "needs_background": "light"
     },
     "output_type": "display_data"
    }
   ],
   "source": [
    "E = np.real(qite(db, delta, N, hm_list, aer_sim, shots))\n",
    "plt.plot(np.arange(0,N+1)*db, E, 'ro', label='QITE')\n",
    "plt.grid()\n",
    "plt.show()"
   ]
  }
 ],
 "metadata": {
  "kernelspec": {
   "display_name": "Python 3 (ipykernel)",
   "language": "python",
   "name": "python3"
  },
  "language_info": {
   "codemirror_mode": {
    "name": "ipython",
    "version": 3
   },
   "file_extension": ".py",
   "mimetype": "text/x-python",
   "name": "python",
   "nbconvert_exporter": "python",
   "pygments_lexer": "ipython3",
   "version": "3.10.0"
  }
 },
 "nbformat": 4,
 "nbformat_minor": 5
}
