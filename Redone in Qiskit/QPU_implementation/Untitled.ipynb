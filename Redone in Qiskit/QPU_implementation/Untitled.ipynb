{
 "cells": [
  {
   "cell_type": "code",
   "execution_count": 1,
   "id": "2ae84838",
   "metadata": {},
   "outputs": [],
   "source": [
    "from qite import *\n",
    "from helper import *\n",
    "%matplotlib inline\n",
    "import matplotlib.pyplot as plt\n",
    "\n",
    "from qiskit.quantum_info import Statevector\n",
    "from qiskit.visualization import plot_state_qsphere\n",
    "\n",
    "unit_sim = Aer.get_backend('unitary_simulator')\n",
    "\n",
    "def get_matrix(qc):\n",
    "    job = execute(qc, unit_sim)\n",
    "    result = job.result()\n",
    "    return np.asarray(result.get_unitary(qc))\n",
    "\n",
    "def cull(a):\n",
    "    b = np.where(np.abs(a) < 1e-5, 0, a)\n",
    "    r = np.where( np.abs(np.real(b)) < 1e-5, 0, np.real(b) )\n",
    "    i = np.where( np.abs(np.imag(b)) < 1e-5, 0, np.imag(b) )\n",
    "    return r + 1j*i"
   ]
  },
  {
   "cell_type": "code",
   "execution_count": null,
   "id": "86c5d977",
   "metadata": {},
   "outputs": [],
   "source": [
    "def "
   ]
  }
 ],
 "metadata": {
  "kernelspec": {
   "display_name": "Python 3 (ipykernel)",
   "language": "python",
   "name": "python3"
  },
  "language_info": {
   "codemirror_mode": {
    "name": "ipython",
    "version": 3
   },
   "file_extension": ".py",
   "mimetype": "text/x-python",
   "name": "python",
   "nbconvert_exporter": "python",
   "pygments_lexer": "ipython3",
   "version": "3.10.0"
  }
 },
 "nbformat": 4,
 "nbformat_minor": 5
}
