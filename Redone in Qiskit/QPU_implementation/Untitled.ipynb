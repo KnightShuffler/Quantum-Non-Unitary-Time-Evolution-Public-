{
 "cells": [
  {
   "cell_type": "code",
   "execution_count": 1,
   "id": "2ae84838",
   "metadata": {},
   "outputs": [],
   "source": [
    "from qite import *\n",
    "from helper import *\n",
    "%matplotlib inline\n",
    "import matplotlib.pyplot as plt\n",
    "\n",
    "from qiskit.quantum_info import Statevector\n",
    "from qiskit.visualization import plot_state_qsphere\n",
    "\n",
    "unit_sim = Aer.get_backend('unitary_simulator')\n",
    "\n",
    "def get_matrix(qc):\n",
    "    job = execute(qc, unit_sim)\n",
    "    result = job.result()\n",
    "    return np.asarray(result.get_unitary(qc))\n",
    "\n",
    "def cull(a):\n",
    "    b = np.where(np.abs(a) < 1e-5, 0, a)\n",
    "    r = np.where( np.abs(np.real(b)) < 1e-5, 0, np.real(b) )\n",
    "    i = np.where( np.abs(np.imag(b)) < 1e-5, 0, np.imag(b) )\n",
    "    return r + 1j*i"
   ]
  },
  {
   "cell_type": "code",
   "execution_count": 2,
   "id": "71b45a47",
   "metadata": {},
   "outputs": [],
   "source": [
    "def m(qc, idx, qbits, cbits, backend, num_shots=1024):\n",
    "    if idx == 0:\n",
    "        return 1\n",
    "\n",
    "    nbits = len(qbits)\n",
    "    ids = int_to_base4(idx, nbits)\n",
    "\n",
    "    measures = []\n",
    "\n",
    "    for i in range(nbits):\n",
    "        if ids[i] == 0:\n",
    "            # I only has +1 eigenvalues, so the measurement is +1\n",
    "            continue\n",
    "        elif ids[i] == 1:\n",
    "            # Rotate to X-basis\n",
    "            qc.h(qbits[i])\n",
    "        elif ids[i] == 2:\n",
    "            # Rotate to Y-basis\n",
    "            qc.rx(-np.pi/2, qbits[i])\n",
    "        elif ids[i] == 3:\n",
    "            # Already in Z-basis\n",
    "            None\n",
    "        else:\n",
    "            raise ValueError('Only 0,1,2,3 are valid idx')\n",
    "        measures.append( [qbits[i],cbits[i]] )\n",
    "\n",
    "    # print(measures)\n",
    "    # Add measurements to the circuit\n",
    "    for m in measures:\n",
    "        qc.measure(m[0],m[1])\n",
    "\n",
    "    # Get the measurement statistics\n",
    "    counts = run_circuit(qc, backend, num_shots=num_shots)\n",
    "\n",
    "    expectation = 0\n",
    "    for key in counts.keys():\n",
    "        k = key.replace(' ','')\n",
    "        sign = 1\n",
    "        # print('key: ', k)\n",
    "        for m in measures:\n",
    "            if k[-(m[1] + 1)] == '1':\n",
    "                sign *= -1\n",
    "        expectation += sign*counts[key]\n",
    "\n",
    "    expectation /= num_shots\n",
    "    return expectation, counts\n",
    "\n"
   ]
  },
  {
   "cell_type": "code",
   "execution_count": 3,
   "id": "07ddb5f4",
   "metadata": {},
   "outputs": [
    {
     "name": "stdout",
     "output_type": "stream",
     "text": [
      "[0, 0, 0, 3]\n",
      "-1.0\n"
     ]
    },
    {
     "data": {
      "text/html": [
       "<pre style=\"word-wrap: normal;white-space: pre;background: #fff0;line-height: 1.1;font-family: &quot;Courier New&quot;,Courier,monospace\">           ░    \n",
       "q_0: ──────░────\n",
       "           ░    \n",
       "q_1: ──────░────\n",
       "           ░    \n",
       "q_2: ──────░────\n",
       "     ┌───┐ ░ ┌─┐\n",
       "q_3: ┤ X ├─░─┤M├\n",
       "     └───┘ ░ └╥┘\n",
       "c: 4/═════════╩═\n",
       "              3 </pre>"
      ],
      "text/plain": [
       "           ░    \n",
       "q_0: ──────░────\n",
       "           ░    \n",
       "q_1: ──────░────\n",
       "           ░    \n",
       "q_2: ──────░────\n",
       "     ┌───┐ ░ ┌─┐\n",
       "q_3: ┤ X ├─░─┤M├\n",
       "     └───┘ ░ └╥┘\n",
       "c: 4/═════════╩═\n",
       "              3 "
      ]
     },
     "execution_count": 3,
     "metadata": {},
     "output_type": "execute_result"
    }
   ],
   "source": [
    "x = 64*3\n",
    "nbits = 4\n",
    "p = int_to_base4(x,nbits)\n",
    "qc = QuantumCircuit(nbits,nbits)\n",
    "theta = 0\n",
    "qbits = list(range(nbits))\n",
    "# pauli_exp(qc,qbits,x,theta)\n",
    "\n",
    "qc.x(nbits-1)\n",
    "\n",
    "print(p)\n",
    "qc.barrier()\n",
    "ex,counts = m(qc,x,qbits,qbits,aer_sim)\n",
    "print(ex)\n",
    "qc.draw()"
   ]
  },
  {
   "cell_type": "code",
   "execution_count": 5,
   "id": "e8f87468",
   "metadata": {},
   "outputs": [
    {
     "name": "stdout",
     "output_type": "stream",
     "text": [
      "dict_keys(['1000'])\n"
     ]
    },
    {
     "data": {
      "image/png": "[encoded data removed]",
      "text/plain": [
       "<Figure size 504x360 with 1 Axes>"
      ]
     },
     "execution_count": 5,
     "metadata": {},
     "output_type": "execute_result"
    }
   ],
   "source": [
    "from qiskit.visualization import plot_histogram\n",
    "print(counts.keys())\n",
    "plot_histogram(counts)"
   ]
  },
  {
   "cell_type": "code",
   "execution_count": 21,
   "id": "75b8ef70",
   "metadata": {},
   "outputs": [],
   "source": [
    "def propogate_mult(qc, alist, qbits):\n",
    "    nbits = len(qbits)\n",
    "    for t in range(len(alist)):\n",
    "        for gate in range(1,4**nbits):\n",
    "            angle = np.real(alist[t][gate])\n",
    "            if np.abs(angle) > 1e-5:\n",
    "                pauli_exp(qc,qbits,gate,angle)\n"
   ]
  },
  {
   "cell_type": "code",
   "execution_count": 47,
   "id": "2cdec913",
   "metadata": {},
   "outputs": [
    {
     "data": {
      "text/plain": [
       "(7, (-1+0j))"
      ]
     },
     "execution_count": 47,
     "metadata": {},
     "output_type": "execute_result"
    }
   ],
   "source": [
    "hm_list = []\n",
    "hm_list.append([])\n",
    "hm_list[0].append([[1],[1/np.sqrt(2)]])\n",
    "hm_list.append([])\n",
    "hm_list[1].append([[3],[1/np.sqrt(2)]])\n",
    "\n",
    "def base4_to_int(pauli):\n",
    "    x = 0\n",
    "    for i in range(len(pauli)):\n",
    "        x += pauli[i] * 4**i\n",
    "    return x\n",
    "\n",
    "def pauli_prod(p1,p2,nbits):\n",
    "    pauli1 = int_to_base4(p1,nbits)\n",
    "    pauli2 = int_to_base4(p2,nbits)\n",
    "    \n",
    "    c = 1+0.j\n",
    "    prod = [0]*nbits\n",
    "    \n",
    "    for i in range(nbits):\n",
    "        prod[i] = idx[pauli1[i], pauli2[i]]\n",
    "        c  *= coeff[pauli1[i], pauli2[i]]\n",
    "    \n",
    "    return base4_to_int(prod), c\n",
    "\n",
    "def update_alist_mult(sigma_expectation, alist, db, delta, hm):\n",
    "    # number of pauli terms in hm\n",
    "    nterms = len(hm[0][0])\n",
    "    # number of qubits the hm term acts on\n",
    "    nbits = len(hm[0][2])\n",
    "    # number of pauli strings on that many qubits\n",
    "    nops = 4**nbits\n",
    "    \n",
    "    # Step 1: Obtain S matrix\n",
    "    S = np.zeros([nops,nops],dtype=complex)\n",
    "    for i in range(nops):\n",
    "        for j in range(nops):\n",
    "            p,c_ = pauli_prod(i,j)\n",
    "            S[i,j] =  sigma_expectation[p] * c_\n",
    "            \n",
    "    # Step 2: Obtain b vector\n",
    "    b = np.zeros(nops,dtype=complex)\n",
    "    c = 1\n",
    "    \n",
    "    for i in range(nterms):\n",
    "        c -= 2 * db * hm[0][1][i] * sigma_expectation[hm[0][0][i]]\n",
    "    c = np.sqrt(c)\n",
    "    \n",
    "    for i in range(nops):\n",
    "        b[i] += ( sigma_expectation[i]/c - sigma_expectation[i] ) / db\n",
    "        for j in range(nterms):\n",
    "            p,c_ = pauli_prod(i,hm[0][0][j])\n",
    "            b[i] -= hm[0][1][j] * c_ * sigma_expectation[p] / c\n",
    "    b = 1j * (b - np.conj(b))\n",
    "    \n",
    "    # Step 3: Add regularizer\n",
    "    dalpha = np.eye(nops)*delta\n",
    "    \n",
    "    # Step 4: Solve for linear equation, the solutions is multiplies by -2 because of the definition of unitary rotations is exp(-i theta/2)\n",
    "    x = np.linalg.lstsq(S + np.transpose(S) + dalpha, -b, rcond=-1)[0]\n",
    "    alist.append([])\n",
    "    for i in range(len(x)):\n",
    "        alist[-1].append(-x[i]*2*db)\n",
    "        \n",
    "    return c\n",
    "    \n",
    "alist = []\n",
    "db = 0.1\n",
    "delta = 0.01\n",
    "\n",
    "# print(hm_list)\n",
    "# hm = hm_list[0]\n",
    "# print(hm)\n",
    "# print(hm[0][0])\n",
    "\n",
    "p1 = base4_to_int([1,2,0,0])\n",
    "p2 = base4_to_int([2,3,0,0])\n",
    "\n",
    "pauli_prod(p1,p2,4)"
   ]
  },
  {
   "cell_type": "code",
   "execution_count": 7,
   "id": "8aa80d07",
   "metadata": {},
   "outputs": [
    {
     "ename": "NameError",
     "evalue": "name 'fd' is not defined",
     "output_type": "error",
     "traceback": [
      "\u001b[1;31m---------------------------------------------------------------------------\u001b[0m",
      "\u001b[1;31mNameError\u001b[0m                                 Traceback (most recent call last)",
      "Input \u001b[1;32mIn [7]\u001b[0m, in \u001b[0;36m<cell line: 1>\u001b[1;34m()\u001b[0m\n\u001b[1;32m----> 1\u001b[0m \u001b[38;5;28mprint\u001b[39m(\u001b[43mfd\u001b[49m \u001b[38;5;241m/\u001b[39m np\u001b[38;5;241m.\u001b[39mexp(\u001b[38;5;241m1\u001b[39mj\u001b[38;5;241m*\u001b[39mtheta\u001b[38;5;241m/\u001b[39m\u001b[38;5;241m2\u001b[39m))\n",
      "\u001b[1;31mNameError\u001b[0m: name 'fd' is not defined"
     ]
    }
   ],
   "source": [
    "print(fd / np.exp(1j*theta/2))"
   ]
  },
  {
   "cell_type": "code",
   "execution_count": 114,
   "id": "93337313",
   "metadata": {},
   "outputs": [
    {
     "data": {
      "image/png": "[encoded data removed]",
      "text/plain": [
       "<Figure size 504x504 with 2 Axes>"
      ]
     },
     "execution_count": 114,
     "metadata": {},
     "output_type": "execute_result"
    }
   ],
   "source": [
    "plot_state_qsphere(init_sv)"
   ]
  },
  {
   "cell_type": "code",
   "execution_count": 115,
   "id": "06a66a0e",
   "metadata": {},
   "outputs": [
    {
     "data": {
      "image/png": "[encoded data removed]",
      "text/plain": [
       "<Figure size 504x504 with 2 Axes>"
      ]
     },
     "execution_count": 115,
     "metadata": {},
     "output_type": "execute_result"
    }
   ],
   "source": [
    "plot_state_qsphere(evolved_sv)"
   ]
  },
  {
   "cell_type": "code",
   "execution_count": 94,
   "id": "92dbee19",
   "metadata": {},
   "outputs": [
    {
     "data": {
      "text/plain": [
       "<qiskit.circuit.instructionset.InstructionSet at 0x260e97a9740>"
      ]
     },
     "execution_count": 94,
     "metadata": {},
     "output_type": "execute_result"
    }
   ],
   "source": [
    "qc1 = QuantumCircuit(1)\n",
    "qc2 = QuantumCircuit(1)\n",
    "qc3 = QuantumCircuit(1)\n",
    "\n",
    "qc1.ry(theta, 0)\n",
    "\n",
    "qc2.rx(np.pi/2, 0)\n",
    "qc2.rz(theta, 0)\n",
    "qc2.rx(-np.pi/2, 0)\n",
    "\n",
    "\n",
    "qc3.rx(np.pi/2, 0)\n",
    "qc3.s(0)\n",
    "qc3.rz(theta, 0)\n",
    "qc3.sdg(0)\n",
    "qc3.rx(-np.pi/2, 0)"
   ]
  },
  {
   "cell_type": "code",
   "execution_count": 103,
   "id": "ee9b715c",
   "metadata": {},
   "outputs": [
    {
     "data": {
      "image/png": "[encoded data removed]",
      "text/plain": [
       "<Figure size 504x504 with 2 Axes>"
      ]
     },
     "execution_count": 103,
     "metadata": {},
     "output_type": "execute_result"
    }
   ],
   "source": [
    "init_sv = Statevector([np.sqrt(0.5), -1j*np.sqrt(0.5)])\n",
    "plot_state_qsphere(init_sv)"
   ]
  },
  {
   "cell_type": "code",
   "execution_count": 104,
   "id": "8de89cb8",
   "metadata": {},
   "outputs": [
    {
     "data": {
      "image/png": "[encoded data removed]",
      "text/plain": [
       "<Figure size 504x504 with 2 Axes>"
      ]
     },
     "execution_count": 104,
     "metadata": {},
     "output_type": "execute_result"
    }
   ],
   "source": [
    "sv1 = init_sv.evolve(qc1)\n",
    "plot_state_qsphere(sv1)"
   ]
  },
  {
   "cell_type": "code",
   "execution_count": 105,
   "id": "70352e21",
   "metadata": {},
   "outputs": [
    {
     "data": {
      "image/png": "[encoded data removed]",
      "text/plain": [
       "<Figure size 504x504 with 2 Axes>"
      ]
     },
     "execution_count": 105,
     "metadata": {},
     "output_type": "execute_result"
    }
   ],
   "source": [
    "sv2 = init_sv.evolve(qc2)\n",
    "plot_state_qsphere(sv2)"
   ]
  },
  {
   "cell_type": "code",
   "execution_count": 106,
   "id": "057779bc",
   "metadata": {},
   "outputs": [
    {
     "data": {
      "image/png": "[encoded data removed]",
      "text/plain": [
       "<Figure size 504x504 with 2 Axes>"
      ]
     },
     "execution_count": 106,
     "metadata": {},
     "output_type": "execute_result"
    }
   ],
   "source": [
    "sv3 = init_sv.evolve(qc3)\n",
    "plot_state_qsphere(sv3)"
   ]
  },
  {
   "cell_type": "code",
   "execution_count": 118,
   "id": "16d0407e",
   "metadata": {},
   "outputs": [],
   "source": [
    "from qiskit import Aer\n",
    "\n",
    "#Changing the simulator \n",
    "unit_sim = Aer.get_backend('unitary_simulator')"
   ]
  },
  {
   "cell_type": "code",
   "execution_count": 125,
   "id": "d5a991ba",
   "metadata": {},
   "outputs": [
    {
     "data": {
      "text/plain": [
       "(8, 8)"
      ]
     },
     "execution_count": 125,
     "metadata": {},
     "output_type": "execute_result"
    }
   ],
   "source": [
    "job = execute(qc, backend)\n",
    "result = job.result()\n",
    "\n",
    "#get the unitary matrix from the result object\n",
    "u = np.asarray(result.get_unitary(qc))\n",
    "u.shape"
   ]
  },
  {
   "cell_type": "code",
   "execution_count": 127,
   "id": "d423d1c5",
   "metadata": {},
   "outputs": [
    {
     "data": {
      "text/plain": [
       "array([[-2.29934717e-17-0.70710678j,  2.29934717e-17-0.70710678j,\n",
       "         0.00000000e+00+0.j        ,  0.00000000e+00+0.j        ,\n",
       "         0.00000000e+00+0.j        ,  0.00000000e+00+0.j        ,\n",
       "         0.00000000e+00+0.j        ,  0.00000000e+00+0.j        ],\n",
       "       [ 2.29934717e-17-0.70710678j, -3.25176795e-17+0.70710678j,\n",
       "         0.00000000e+00+0.j        ,  0.00000000e+00+0.j        ,\n",
       "         0.00000000e+00+0.j        ,  0.00000000e+00+0.j        ,\n",
       "         0.00000000e+00+0.j        ,  0.00000000e+00+0.j        ],\n",
       "       [ 0.00000000e+00+0.j        ,  0.00000000e+00+0.j        ,\n",
       "        -2.29934717e-17-0.70710678j,  2.29934717e-17-0.70710678j,\n",
       "         0.00000000e+00+0.j        ,  0.00000000e+00+0.j        ,\n",
       "         0.00000000e+00+0.j        ,  0.00000000e+00+0.j        ],\n",
       "       [ 0.00000000e+00+0.j        ,  0.00000000e+00+0.j        ,\n",
       "         2.29934717e-17-0.70710678j, -3.25176795e-17+0.70710678j,\n",
       "         0.00000000e+00+0.j        ,  0.00000000e+00+0.j        ,\n",
       "         0.00000000e+00+0.j        ,  0.00000000e+00+0.j        ],\n",
       "       [ 0.00000000e+00+0.j        ,  0.00000000e+00+0.j        ,\n",
       "         0.00000000e+00+0.j        ,  0.00000000e+00+0.j        ,\n",
       "        -2.29934717e-17+0.70710678j, -2.29934717e-17-0.70710678j,\n",
       "         0.00000000e+00+0.j        ,  0.00000000e+00+0.j        ],\n",
       "       [ 0.00000000e+00+0.j        ,  0.00000000e+00+0.j        ,\n",
       "         0.00000000e+00+0.j        ,  0.00000000e+00+0.j        ,\n",
       "         3.25176795e-17-0.70710678j,  2.29934717e-17-0.70710678j,\n",
       "         0.00000000e+00+0.j        ,  0.00000000e+00+0.j        ],\n",
       "       [ 0.00000000e+00+0.j        ,  0.00000000e+00+0.j        ,\n",
       "         0.00000000e+00+0.j        ,  0.00000000e+00+0.j        ,\n",
       "         0.00000000e+00+0.j        ,  0.00000000e+00+0.j        ,\n",
       "        -2.29934717e-17+0.70710678j, -2.29934717e-17-0.70710678j],\n",
       "       [ 0.00000000e+00+0.j        ,  0.00000000e+00+0.j        ,\n",
       "         0.00000000e+00+0.j        ,  0.00000000e+00+0.j        ,\n",
       "         0.00000000e+00+0.j        ,  0.00000000e+00+0.j        ,\n",
       "         3.25176795e-17-0.70710678j,  2.29934717e-17-0.70710678j]])"
      ]
     },
     "execution_count": 127,
     "metadata": {},
     "output_type": "execute_result"
    }
   ],
   "source": [
    "u"
   ]
  },
  {
   "cell_type": "code",
   "execution_count": 129,
   "id": "d457bf28",
   "metadata": {},
   "outputs": [
    {
     "data": {
      "text/plain": [
       "array([7.07106781e-01+2.29934717e-17j, 2.29934717e-17+7.07106781e-01j,\n",
       "       0.00000000e+00+0.00000000e+00j, 0.00000000e+00+0.00000000e+00j,\n",
       "       0.00000000e+00+0.00000000e+00j, 0.00000000e+00+0.00000000e+00j,\n",
       "       0.00000000e+00+0.00000000e+00j, 0.00000000e+00+0.00000000e+00j])"
      ]
     },
     "execution_count": 129,
     "metadata": {},
     "output_type": "execute_result"
    }
   ],
   "source": [
    "init_sv.data"
   ]
  },
  {
   "cell_type": "code",
   "execution_count": 46,
   "id": "29277b5f",
   "metadata": {},
   "outputs": [
    {
     "name": "stdout",
     "output_type": "stream",
     "text": [
      "[[ 0.92387953+0.j -0.38268343+0.j]\n",
      " [ 0.38268343+0.j  0.92387953+0.j]]\n"
     ]
    }
   ],
   "source": [
    "qc = QuantumCircuit(1)\n",
    "theta = np.pi/4\n",
    "qc.ry(theta,0)\n",
    "\n",
    "u_ry = get_matrix(qc)\n",
    "print(u_ry)"
   ]
  },
  {
   "cell_type": "code",
   "execution_count": 47,
   "id": "a89be671",
   "metadata": {},
   "outputs": [
    {
     "name": "stdout",
     "output_type": "stream",
     "text": [
      "[[ 0.92387953+0.j -0.38268343+0.j  0.        +0.j  0.        +0.j]\n",
      " [ 0.38268343+0.j  0.92387953+0.j  0.        +0.j  0.        +0.j]\n",
      " [ 0.        +0.j  0.        +0.j  0.92387953+0.j -0.38268343+0.j]\n",
      " [ 0.        +0.j  0.        +0.j  0.38268343+0.j  0.92387953+0.j]]\n"
     ]
    }
   ],
   "source": [
    "qc = QuantumCircuit(2)\n",
    "qc.ry(theta,0)\n",
    "u_ry2 = get_matrix(qc)\n",
    "print(u_ry2)"
   ]
  },
  {
   "cell_type": "code",
   "execution_count": 48,
   "id": "fae719f1",
   "metadata": {},
   "outputs": [
    {
     "name": "stdout",
     "output_type": "stream",
     "text": [
      "[[ 0.92387953+0.j -0.38268343+0.j  0.        +0.j  0.        +0.j]\n",
      " [ 0.38268343+0.j  0.92387953+0.j  0.        +0.j  0.        +0.j]\n",
      " [ 0.        +0.j  0.        +0.j  0.92387953+0.j -0.38268343+0.j]\n",
      " [ 0.        +0.j  0.        +0.j  0.38268343+0.j  0.92387953+0.j]]\n"
     ]
    }
   ],
   "source": [
    "qc = QuantumCircuit(2)\n",
    "qc.rx(np.pi/2, 0)\n",
    "# qc.s(0)\n",
    "qc.rz(theta,0)\n",
    "# qc.sdg(0)\n",
    "qc.rx(-np.pi/2,0)\n",
    "\n",
    "u = get_matrix(qc)\n",
    "print(u)"
   ]
  },
  {
   "cell_type": "code",
   "execution_count": 49,
   "id": "bbe43152",
   "metadata": {},
   "outputs": [
    {
     "name": "stdout",
     "output_type": "stream",
     "text": [
      "[[0.+0.j 0.+0.j 0.+0.j 0.+0.j]\n",
      " [0.+0.j 0.+0.j 0.+0.j 0.+0.j]\n",
      " [0.+0.j 0.+0.j 0.+0.j 0.+0.j]\n",
      " [0.+0.j 0.+0.j 0.+0.j 0.+0.j]]\n"
     ]
    }
   ],
   "source": [
    "print(cull(u-u_ry2))"
   ]
  },
  {
   "cell_type": "code",
   "execution_count": 120,
   "id": "21b341ef",
   "metadata": {},
   "outputs": [
    {
     "data": {
      "text/html": [
       "<pre style=\"word-wrap: normal;white-space: pre;background: #fff0;line-height: 1.1;font-family: &quot;Courier New&quot;,Courier,monospace\">        ┌───┐                                        ┌───┐             \n",
       "q_0: ───┤ H ├──────────■─────────────────────────■───┤ H ├─────────────\n",
       "     ┌──┴───┴──┐┌───┐┌─┴─┐                     ┌─┴─┐┌┴───┴┐┌──────────┐\n",
       "q_1: ┤ Rx(π/2) ├┤ S ├┤ X ├──■───────────────■──┤ X ├┤ Sdg ├┤ Rx(-π/2) ├\n",
       "     └─────────┘└───┘└───┘┌─┴─┐┌─────────┐┌─┴─┐└───┘└─────┘└──────────┘\n",
       "q_2: ─────────────────────┤ X ├┤ Rz(π/2) ├┤ X ├────────────────────────\n",
       "                          └───┘└─────────┘└───┘                        </pre>"
      ],
      "text/plain": [
       "        ┌───┐                                        ┌───┐             \n",
       "q_0: ───┤ H ├──────────■─────────────────────────■───┤ H ├─────────────\n",
       "     ┌──┴───┴──┐┌───┐┌─┴─┐                     ┌─┴─┐┌┴───┴┐┌──────────┐\n",
       "q_1: ┤ Rx(π/2) ├┤ S ├┤ X ├──■───────────────■──┤ X ├┤ Sdg ├┤ Rx(-π/2) ├\n",
       "     └─────────┘└───┘└───┘┌─┴─┐┌─────────┐┌─┴─┐└───┘└─────┘└──────────┘\n",
       "q_2: ─────────────────────┤ X ├┤ Rz(π/2) ├┤ X ├────────────────────────\n",
       "                          └───┘└─────────┘└───┘                        "
      ]
     },
     "execution_count": 120,
     "metadata": {},
     "output_type": "execute_result"
    }
   ],
   "source": [
    "theta = np.pi/2\n",
    "qc = QuantumCircuit(3)\n",
    "\n",
    "#change basis (XYZ)\n",
    "qc.h(0)\n",
    "qc.rx(np.pi/2,1)\n",
    "qc.s(1)\n",
    "\n",
    "# cascading CNOTs\n",
    "qc.cx(0,1)\n",
    "qc.cx(1,2)\n",
    "\n",
    "# rotate\n",
    "qc.rz(theta, 2)\n",
    "\n",
    "# undo CNOTs\n",
    "qc.cx(1,2)\n",
    "qc.cx(0,1)\n",
    "\n",
    "# undo basis change\n",
    "qc.h(0)\n",
    "qc.sdg(1)\n",
    "qc.rx(-np.pi/2,1)\n",
    "\n",
    "qc.draw()"
   ]
  },
  {
   "cell_type": "code",
   "execution_count": 121,
   "id": "b68e4f7e",
   "metadata": {},
   "outputs": [
    {
     "name": "stdout",
     "output_type": "stream",
     "text": [
      "[[ 0.70710678+0.j  0.        +0.j  0.        +0.j -0.70710678+0.j\n",
      "   0.        +0.j  0.        +0.j  0.        +0.j  0.        +0.j]\n",
      " [ 0.        +0.j  0.70710678+0.j -0.70710678+0.j  0.        +0.j\n",
      "   0.        +0.j  0.        +0.j  0.        +0.j  0.        +0.j]\n",
      " [ 0.        +0.j  0.70710678+0.j  0.70710678+0.j  0.        +0.j\n",
      "   0.        +0.j  0.        +0.j  0.        +0.j  0.        +0.j]\n",
      " [ 0.70710678+0.j  0.        +0.j  0.        +0.j  0.70710678+0.j\n",
      "   0.        +0.j  0.        +0.j  0.        +0.j  0.        +0.j]\n",
      " [ 0.        +0.j  0.        +0.j  0.        +0.j  0.        +0.j\n",
      "   0.70710678+0.j  0.        +0.j  0.        +0.j  0.70710678+0.j]\n",
      " [ 0.        +0.j  0.        +0.j  0.        +0.j  0.        +0.j\n",
      "   0.        +0.j  0.70710678+0.j  0.70710678+0.j  0.        +0.j]\n",
      " [ 0.        +0.j  0.        +0.j  0.        +0.j  0.        +0.j\n",
      "   0.        +0.j -0.70710678+0.j  0.70710678+0.j  0.        +0.j]\n",
      " [ 0.        +0.j  0.        +0.j  0.        +0.j  0.        +0.j\n",
      "  -0.70710678+0.j  0.        +0.j  0.        +0.j  0.70710678+0.j]]\n"
     ]
    }
   ],
   "source": [
    "u = get_matrix(qc)\n",
    "print(cull(u))"
   ]
  },
  {
   "cell_type": "code",
   "execution_count": 122,
   "id": "a471cd5b",
   "metadata": {},
   "outputs": [
    {
     "name": "stdout",
     "output_type": "stream",
     "text": [
      "[ 0. +0.j   0. +0.j   0. +0.j   0. +0.j   0.5+0.j  -0.5+0.j   0. -0.5j\n",
      "  0. +0.5j]\n"
     ]
    },
    {
     "data": {
      "text/html": [
       "<pre style=\"word-wrap: normal;white-space: pre;background: #fff0;line-height: 1.1;font-family: &quot;Courier New&quot;,Courier,monospace\">      ┌──────────────────────────────┐\n",
       "q_0: ─┤ Initialize(0.70711,-0.70711) ├\n",
       "     ┌┴──────────────────────────────┤\n",
       "q_1: ┤ Initialize(0.70711,-0.70711j) ├\n",
       "     └──────┬─────────────────┬──────┘\n",
       "q_2: ───────┤ Initialize(0,1) ├───────\n",
       "            └─────────────────┘       </pre>"
      ],
      "text/plain": [
       "      ┌──────────────────────────────┐\n",
       "q_0: ─┤ Initialize(0.70711,-0.70711) ├\n",
       "     ┌┴──────────────────────────────┤\n",
       "q_1: ┤ Initialize(0.70711,-0.70711j) ├\n",
       "     └──────┬─────────────────┬──────┘\n",
       "q_2: ───────┤ Initialize(0,1) ├───────\n",
       "            └─────────────────┘       "
      ]
     },
     "execution_count": 122,
     "metadata": {},
     "output_type": "execute_result"
    }
   ],
   "source": [
    "init = QuantumCircuit(3)\n",
    "\n",
    "init.initialize(np.sqrt(0.5)*np.array([1,-1]),0)\n",
    "init.initialize(np.sqrt(0.5)*np.array([1,-1j]),1)\n",
    "init.initialize([0,1],2)\n",
    "\n",
    "sv = Statevector.from_label('000').evolve(init)\n",
    "print(cull(sv.data))\n",
    "init.draw()"
   ]
  },
  {
   "cell_type": "code",
   "execution_count": 123,
   "id": "aebfc938",
   "metadata": {},
   "outputs": [
    {
     "name": "stdout",
     "output_type": "stream",
     "text": [
      "[ 0.        +0.j          0.        +0.j          0.        +0.j\n",
      "  0.        +0.j          0.35355339+0.35355339j -0.35355339-0.35355339j\n",
      "  0.35355339-0.35355339j -0.35355339+0.35355339j]\n"
     ]
    }
   ],
   "source": [
    "final_sv = sv.evolve(qc)\n",
    "print(cull(final_sv.data))"
   ]
  },
  {
   "cell_type": "code",
   "execution_count": 124,
   "id": "bd79c173",
   "metadata": {},
   "outputs": [
    {
     "name": "stdout",
     "output_type": "stream",
     "text": [
      "exp(-i theta/2)? [ 0. +0.j   0. +0.j   0. +0.j   0. +0.j  -0.5+0.5j  0.5-0.5j  0.5+0.5j\n",
      " -0.5-0.5j]\n",
      "exp(+i theta/2)? [0.+0.j 0.+0.j 0.+0.j 0.+0.j 0.+0.j 0.+0.j 0.+0.j 0.+0.j]\n"
     ]
    }
   ],
   "source": [
    "print('exp(-i theta/2)?', cull(final_sv.data / np.exp(-1j*theta/2) - sv.data ))\n",
    "print('exp(+i theta/2)?', cull(final_sv.data / np.exp(+1j*theta/2) - sv.data ))"
   ]
  },
  {
   "cell_type": "code",
   "execution_count": 158,
   "id": "214ebb9b",
   "metadata": {},
   "outputs": [
    {
     "data": {
      "text/html": [
       "<pre style=\"word-wrap: normal;white-space: pre;background: #fff0;line-height: 1.1;font-family: &quot;Courier New&quot;,Courier,monospace\">     ┌─────────┐                     ┌──────────┐\n",
       "q_0: ┤ Rx(π/2) ├──■───────────────■──┤ Rx(-π/2) ├\n",
       "     └─────────┘  │               │  └──────────┘\n",
       "q_1: ─────────────┼───────────────┼──────────────\n",
       "                ┌─┴─┐┌─────────┐┌─┴─┐            \n",
       "q_2: ───────────┤ X ├┤ Rz(π/4) ├┤ X ├────────────\n",
       "                └───┘└─────────┘└───┘            </pre>"
      ],
      "text/plain": [
       "     ┌─────────┐                     ┌──────────┐\n",
       "q_0: ┤ Rx(π/2) ├──■───────────────■──┤ Rx(-π/2) ├\n",
       "     └─────────┘  │               │  └──────────┘\n",
       "q_1: ─────────────┼───────────────┼──────────────\n",
       "                ┌─┴─┐┌─────────┐┌─┴─┐            \n",
       "q_2: ───────────┤ X ├┤ Rz(π/4) ├┤ X ├────────────\n",
       "                └───┘└─────────┘└───┘            "
      ]
     },
     "execution_count": 158,
     "metadata": {},
     "output_type": "execute_result"
    }
   ],
   "source": [
    "init_states = np.asarray([\n",
    "    [ np.array([1,1])*np.sqrt(0.5), np.array([1,-1])*np.sqrt(0.5) ],\n",
    "    [ np.array([1,1j])*np.sqrt(0.5), np.array([1,-1j])*np.sqrt(0.5) ],\n",
    "    [ [1,0], [0,1] ],\n",
    "])\n",
    "# print(init_states.shape)\n",
    "\n",
    "init_svs  = []\n",
    "final_svs = []\n",
    "\n",
    "theta = np.pi/4\n",
    "\n",
    "qc = QuantumCircuit(3)\n",
    "pauli_exp(qc, [0,1,2], 16*2+4*0+1*3, theta)\n",
    "qc.draw()\n",
    "\n",
    "for i in range(2):\n",
    "    for j in range(2):\n",
    "        for k in range(2):\n",
    "            init = QuantumCircuit(3)\n",
    "            init.initialize(init_states[1][i], 0)\n",
    "            init.initialize(init_states[1][j], 1)\n",
    "            init.initialize(init_states[2][k], 2)\n",
    "            \n",
    "            eigval = np.exp((-1)**(i+k+1) * 1j * theta/2)\n",
    "#             print('{}+{}+{}+1 -->'.format(i,j,k),(i+j+k+1) % 2,'sign:',((-1)**(i+j+k+1)) , 'eigval:', eigval)\n",
    "            \n",
    "            init_sv = Statevector.from_label('000').evolve(init)\n",
    "            init_svs.append(init_sv)\n",
    "            final_sv = init_sv.evolve(qc)\n",
    "            final_svs.append(final_sv.data/eigval)\n",
    "\n",
    "init_svs = np.asarray(init_svs)\n",
    "final_svs = np.asarray(final_svs)\n",
    "\n",
    "qc.draw()"
   ]
  },
  {
   "cell_type": "code",
   "execution_count": 159,
   "id": "a6b54ea4",
   "metadata": {},
   "outputs": [
    {
     "data": {
      "text/plain": [
       "array([[ 0.5+0.j ,  0. +0.5j,  0. +0.5j, -0.5+0.j ,  0. +0.j ,  0. +0.j ,\n",
       "         0. +0.j ,  0. +0.j ],\n",
       "       [ 0. +0.j ,  0. +0.j ,  0. +0.j ,  0. +0.j ,  0.5+0.j ,  0. +0.5j,\n",
       "         0. +0.5j, -0.5+0.j ],\n",
       "       [ 0.5+0.j ,  0. +0.5j,  0. -0.5j,  0.5+0.j ,  0. +0.j ,  0. +0.j ,\n",
       "         0. +0.j ,  0. +0.j ],\n",
       "       [ 0. +0.j ,  0. +0.j ,  0. +0.j ,  0. +0.j ,  0.5+0.j ,  0. +0.5j,\n",
       "         0. -0.5j,  0.5+0.j ],\n",
       "       [ 0.5+0.j ,  0. -0.5j,  0. +0.5j,  0.5+0.j ,  0. +0.j ,  0. +0.j ,\n",
       "         0. +0.j ,  0. +0.j ],\n",
       "       [ 0. +0.j ,  0. +0.j ,  0. +0.j ,  0. +0.j ,  0.5+0.j ,  0. -0.5j,\n",
       "         0. +0.5j,  0.5+0.j ],\n",
       "       [ 0.5+0.j ,  0. -0.5j,  0. -0.5j, -0.5+0.j ,  0. +0.j ,  0. +0.j ,\n",
       "         0. +0.j ,  0. +0.j ],\n",
       "       [ 0. +0.j ,  0. +0.j ,  0. +0.j ,  0. +0.j ,  0.5+0.j ,  0. -0.5j,\n",
       "         0. -0.5j, -0.5+0.j ]])"
      ]
     },
     "execution_count": 159,
     "metadata": {},
     "output_type": "execute_result"
    }
   ],
   "source": [
    "cull(final_svs)"
   ]
  },
  {
   "cell_type": "code",
   "execution_count": 160,
   "id": "7ecaaf13",
   "metadata": {},
   "outputs": [
    {
     "data": {
      "text/plain": [
       "array([[ 0.5+0.j ,  0. +0.5j,  0. +0.5j, -0.5+0.j ,  0. +0.j ,  0. +0.j ,\n",
       "         0. +0.j ,  0. +0.j ],\n",
       "       [ 0. +0.j ,  0. +0.j ,  0. +0.j ,  0. +0.j ,  0.5+0.j ,  0. +0.5j,\n",
       "         0. +0.5j, -0.5+0.j ],\n",
       "       [ 0.5+0.j ,  0. +0.5j,  0. -0.5j,  0.5+0.j ,  0. +0.j ,  0. +0.j ,\n",
       "         0. +0.j ,  0. +0.j ],\n",
       "       [ 0. +0.j ,  0. +0.j ,  0. +0.j ,  0. +0.j ,  0.5+0.j ,  0. +0.5j,\n",
       "         0. -0.5j,  0.5+0.j ],\n",
       "       [ 0.5+0.j ,  0. -0.5j,  0. +0.5j,  0.5+0.j ,  0. +0.j ,  0. +0.j ,\n",
       "         0. +0.j ,  0. +0.j ],\n",
       "       [ 0. +0.j ,  0. +0.j ,  0. +0.j ,  0. +0.j ,  0.5+0.j ,  0. -0.5j,\n",
       "         0. +0.5j,  0.5+0.j ],\n",
       "       [ 0.5+0.j ,  0. -0.5j,  0. -0.5j, -0.5+0.j ,  0. +0.j ,  0. +0.j ,\n",
       "         0. +0.j ,  0. +0.j ],\n",
       "       [ 0. +0.j ,  0. +0.j ,  0. +0.j ,  0. +0.j ,  0.5+0.j ,  0. -0.5j,\n",
       "         0. -0.5j, -0.5+0.j ]])"
      ]
     },
     "execution_count": 160,
     "metadata": {},
     "output_type": "execute_result"
    }
   ],
   "source": [
    "cull(init_svs)"
   ]
  },
  {
   "cell_type": "code",
   "execution_count": 161,
   "id": "8e3bea49",
   "metadata": {},
   "outputs": [
    {
     "data": {
      "text/plain": [
       "array([[0.+0.j, 0.+0.j, 0.+0.j, 0.+0.j, 0.+0.j, 0.+0.j, 0.+0.j, 0.+0.j],\n",
       "       [0.+0.j, 0.+0.j, 0.+0.j, 0.+0.j, 0.+0.j, 0.+0.j, 0.+0.j, 0.+0.j],\n",
       "       [0.+0.j, 0.+0.j, 0.+0.j, 0.+0.j, 0.+0.j, 0.+0.j, 0.+0.j, 0.+0.j],\n",
       "       [0.+0.j, 0.+0.j, 0.+0.j, 0.+0.j, 0.+0.j, 0.+0.j, 0.+0.j, 0.+0.j],\n",
       "       [0.+0.j, 0.+0.j, 0.+0.j, 0.+0.j, 0.+0.j, 0.+0.j, 0.+0.j, 0.+0.j],\n",
       "       [0.+0.j, 0.+0.j, 0.+0.j, 0.+0.j, 0.+0.j, 0.+0.j, 0.+0.j, 0.+0.j],\n",
       "       [0.+0.j, 0.+0.j, 0.+0.j, 0.+0.j, 0.+0.j, 0.+0.j, 0.+0.j, 0.+0.j],\n",
       "       [0.+0.j, 0.+0.j, 0.+0.j, 0.+0.j, 0.+0.j, 0.+0.j, 0.+0.j, 0.+0.j]])"
      ]
     },
     "execution_count": 161,
     "metadata": {},
     "output_type": "execute_result"
    }
   ],
   "source": [
    "cull(final_svs - init_svs)"
   ]
  },
  {
   "cell_type": "code",
   "execution_count": 141,
   "id": "3c56f6af",
   "metadata": {},
   "outputs": [],
   "source": [
    "pi = np.pi\n",
    "Rx = np.array([\n",
    "    [np.cos(-pi/4),     -1j*np.sin(-pi/4)],\n",
    "    [-1j*np.sin(-pi/4), np.cos(-pi/4)]\n",
    "],dtype=complex)\n",
    "Rxdg = Rx.T.conj()\n",
    "\n",
    "S = np.array([\n",
    "    [1, 0],\n",
    "    [0, 1j]\n",
    "], dtype=complex)\n",
    "Sdg = S.T.conj()\n",
    "\n",
    "Rz = np.array([\n",
    "    [np.exp(-1j*theta/2),0],\n",
    "    [0, np.exp(1j*theta/2)]\n",
    "], dtype=complex)"
   ]
  },
  {
   "cell_type": "code",
   "execution_count": 142,
   "id": "b29d4eec",
   "metadata": {},
   "outputs": [
    {
     "data": {
      "text/plain": [
       "array([[ 0.70710678+0.j,  0.70710678+0.j],\n",
       "       [-0.70710678+0.j,  0.70710678+0.j]])"
      ]
     },
     "execution_count": 142,
     "metadata": {},
     "output_type": "execute_result"
    }
   ],
   "source": [
    "Rxdg@Sdg@Rz@S@Rx"
   ]
  },
  {
   "cell_type": "code",
   "execution_count": 143,
   "id": "ae99cca2",
   "metadata": {},
   "outputs": [
    {
     "data": {
      "text/plain": [
       "array([[ 0.70710678+0.j,  0.70710678+0.j],\n",
       "       [-0.70710678+0.j,  0.70710678+0.j]])"
      ]
     },
     "execution_count": 143,
     "metadata": {},
     "output_type": "execute_result"
    }
   ],
   "source": [
    "Rxdg@Rz@Rx"
   ]
  },
  {
   "cell_type": "code",
   "execution_count": 54,
   "id": "05d9dc2a",
   "metadata": {},
   "outputs": [
    {
     "data": {
      "text/html": [
       "<pre style=\"word-wrap: normal;white-space: pre;background: #fff0;line-height: 1.1;font-family: &quot;Courier New&quot;,Courier,monospace\">                       \n",
       "q_0: ──────────────────\n",
       "        ┌───┐    ┌─┐   \n",
       "q_1: ───┤ H ├────┤M├───\n",
       "     ┌──┴───┴───┐└╥┘┌─┐\n",
       "q_2: ┤ Rx(-π/2) ├─╫─┤M├\n",
       "     └───┬─┬────┘ ║ └╥┘\n",
       "q_3: ────┤M├──────╫──╫─\n",
       "         └╥┘      ║  ║ \n",
       "c: 4/═════╩═══════╩══╩═\n",
       "          3       1  2 </pre>"
      ],
      "text/plain": [
       "                       \n",
       "q_0: ──────────────────\n",
       "        ┌───┐    ┌─┐   \n",
       "q_1: ───┤ H ├────┤M├───\n",
       "     ┌──┴───┴───┐└╥┘┌─┐\n",
       "q_2: ┤ Rx(-π/2) ├─╫─┤M├\n",
       "     └───┬─┬────┘ ║ └╥┘\n",
       "q_3: ────┤M├──────╫──╫─\n",
       "         └╥┘      ║  ║ \n",
       "c: 4/═════╩═══════╩══╩═\n",
       "          3       1  2 "
      ]
     },
     "execution_count": 54,
     "metadata": {},
     "output_type": "execute_result"
    }
   ],
   "source": [
    "qc = QuantumCircuit(4,4)\n",
    "qbits = [0,1,2,3]\n",
    "cbits = [0,1,2,3]\n",
    "\n",
    "# just to see which one is qbit 3:\n",
    "# qc.h(1)\n",
    "# qc.rx(np.pi/2,2)\n",
    "# qc.x(3)\n",
    "\n",
    "idx = 1*0 + 4*1 + 16*2 + 64*3 # (Measure I0 X1 Y2 Z3)\n",
    "\n",
    "backend = aer_sim\n",
    "num_shots = 1000\n",
    "\n",
    "def meaure_mult(qc, idx, qbits, cbits, backend, num_shots=1024):\n",
    "    nbits = len(qbits)\n",
    "    ids = int_to_base4(idx, nbits)\n",
    "\n",
    "    measures = []\n",
    "\n",
    "    for i in range(nbits):\n",
    "        if ids[-(i+1)] == 0:\n",
    "            # I only has +1 eigenvalues, so the measurement is +1\n",
    "            continue\n",
    "        elif ids[-(i+1)] == 1:\n",
    "            # Rotate to X-basis\n",
    "            qc.h(qbits[i])\n",
    "        elif ids[-(i+1)] == 2:\n",
    "            # Rotate to Y-basis\n",
    "            qc.rx(-np.pi/2, qbits[i])\n",
    "        elif ids[-(i+1)] == 3:\n",
    "            # Already in Z-basis\n",
    "            None\n",
    "        else:\n",
    "            raise ValueError('Only 0,1,2,3 are valid idx')\n",
    "        measures.append( [qbits[i],cbits[i]] )\n",
    "\n",
    "#     print(measures)\n",
    "    # Add measurements to the circuit\n",
    "    for m in measures:\n",
    "        qc.measure(m[0],m[1])\n",
    "\n",
    "    # Get the measurement statistics\n",
    "    counts = run_circuit(qc, backend, num_shots=num_shots)\n",
    "\n",
    "    expectation = 0\n",
    "    for key in counts.keys():\n",
    "        k = key.replace(' ','')\n",
    "        sign = 1\n",
    "#         print('key: ', k)\n",
    "        for m in measures:\n",
    "            if k[-(m[1] + 1)] == '1':\n",
    "                sign *= -1\n",
    "        expectation += sign*counts[key]\n",
    "\n",
    "    expectation /= num_shots\n",
    "    return expectation\n",
    "\n",
    "exp = meaure_mult(qc, idx, qbits, cbits, backend)\n",
    "qc.draw()"
   ]
  },
  {
   "cell_type": "code",
   "execution_count": 16,
   "id": "bc96fb8a",
   "metadata": {},
   "outputs": [
    {
     "name": "stdout",
     "output_type": "stream",
     "text": [
      "[[1, 1], [2, 2], [3, 3]]\n"
     ]
    },
    {
     "data": {
      "text/html": [
       "<pre style=\"word-wrap: normal;white-space: pre;background: #fff0;line-height: 1.1;font-family: &quot;Courier New&quot;,Courier,monospace\">                  ░                   \n",
       "q_0: ─────────────░───────────────────\n",
       "        ┌───┐     ░ ┌─┐      ┌─┐      \n",
       "q_1: ───┤ H ├─────░─┤M├──────┤M├──────\n",
       "     ┌──┴───┴───┐ ░ └╥┘┌─┐   └╥┘┌─┐   \n",
       "q_2: ┤ Rx(-π/2) ├─░──╫─┤M├────╫─┤M├───\n",
       "     └──────────┘ ░  ║ └╥┘┌─┐ ║ └╥┘┌─┐\n",
       "q_3: ─────────────░──╫──╫─┤M├─╫──╫─┤M├\n",
       "                  ░  ║  ║ └╥┘ ║  ║ └╥┘\n",
       "c: 4/════════════════╩══╩══╩══╩══╩══╩═\n",
       "                     1  2  3  1  2  3 </pre>"
      ],
      "text/plain": [
       "                  ░                   \n",
       "q_0: ─────────────░───────────────────\n",
       "        ┌───┐     ░ ┌─┐      ┌─┐      \n",
       "q_1: ───┤ H ├─────░─┤M├──────┤M├──────\n",
       "     ┌──┴───┴───┐ ░ └╥┘┌─┐   └╥┘┌─┐   \n",
       "q_2: ┤ Rx(-π/2) ├─░──╫─┤M├────╫─┤M├───\n",
       "     └──────────┘ ░  ║ └╥┘┌─┐ ║ └╥┘┌─┐\n",
       "q_3: ─────────────░──╫──╫─┤M├─╫──╫─┤M├\n",
       "                  ░  ║  ║ └╥┘ ║  ║ └╥┘\n",
       "c: 4/════════════════╩══╩══╩══╩══╩══╩═\n",
       "                     1  2  3  1  2  3 "
      ]
     },
     "execution_count": 16,
     "metadata": {},
     "output_type": "execute_result"
    }
   ],
   "source": [
    "nbits = len(qbits)\n",
    "ids = int_to_base4(idx, nbits)\n",
    "\n",
    "measures = []\n",
    "\n",
    "for i in range(nbits):\n",
    "    if ids[-(i+1)] == 0:\n",
    "        # I only has +1 eigenvalues, so the measurement is +1\n",
    "        continue\n",
    "    elif ids[-(i+1)] == 1:\n",
    "        # Rotate to X-basis\n",
    "        qc.h(qbits[i])\n",
    "    elif ids[-(i+1)] == 2:\n",
    "        # Rotate to Y-basis\n",
    "        qc.rx(-np.pi/2, qbits[i])\n",
    "    elif ids[-(i+1)] == 3:\n",
    "        # Already in Z-basis\n",
    "        None\n",
    "    else:\n",
    "        raise ValueError('Only 0,1,2,3 are valid idx')\n",
    "    measures.append( [qbits[i],cbits[i]] )\n",
    "   \n",
    "qc.barrier()\n",
    "\n",
    "print(measures)\n",
    "for m in measures:\n",
    "    qc.measure(m[0],m[1])\n",
    "\n",
    "# Add the measurement to the circuit\n",
    "qc.measure([m[0] for m in measures], [m[1] for m in measures])\n",
    "# # Get the measurement statistics\n",
    "# counts = run_circuit(qc, backend, num_shots=num_shots)\n",
    "\n",
    "# # Find the index of cbit in the circuit's classical bits\n",
    "# index = 0\n",
    "# for bit in qc.clbits:\n",
    "#     if bit == cbit:\n",
    "#         break\n",
    "#     index += 1\n",
    "\n",
    "\n",
    "# expectation = 0\n",
    "\n",
    "# # Loop through the counts\n",
    "# for key in counts.keys():\n",
    "#     k = key.replace(' ', '')\n",
    "#     # Add the +1 eigenvalue measurements\n",
    "#     if k[-(index+1)] == '0':\n",
    "#         expectation += counts[key]\n",
    "#     # Add the -1 eigenvalue measurements\n",
    "#     else:\n",
    "#         expectation -= counts[key]\n",
    "\n",
    "# # Divide by total shots to get the statistical expectation of the measurement\n",
    "# return float(expectation)/num_shots\n",
    "\n",
    "qc.draw()"
   ]
  },
  {
   "cell_type": "code",
   "execution_count": 47,
   "id": "ad355bf9",
   "metadata": {},
   "outputs": [
    {
     "data": {
      "image/png": "[encoded data removed]",
      "text/plain": [
       "<Figure size 504x360 with 1 Axes>"
      ]
     },
     "execution_count": 47,
     "metadata": {},
     "output_type": "execute_result"
    }
   ],
   "source": [
    "from qiskit.visualization import plot_histogram\n",
    "plot_histogram(counts)"
   ]
  },
  {
   "cell_type": "code",
   "execution_count": 48,
   "id": "51f7c5a7",
   "metadata": {},
   "outputs": [
    {
     "name": "stdout",
     "output_type": "stream",
     "text": [
      "key:  1000\n",
      "-1.0\n"
     ]
    }
   ],
   "source": [
    "expectation = 0\n",
    "for key in counts.keys():\n",
    "    k = key.replace(' ','')\n",
    "    sign = 1\n",
    "    print('key: ', k)\n",
    "    for m in measures:\n",
    "        if k[-(m[1] + 1)] == '1':\n",
    "            sign *= -1\n",
    "    expectation += sign*counts[key]\n",
    "\n",
    "expectation /= num_shots\n",
    "print(expectation)"
   ]
  },
  {
   "cell_type": "code",
   "execution_count": null,
   "id": "53bf875b",
   "metadata": {},
   "outputs": [],
   "source": []
  },
  {
   "cell_type": "code",
   "execution_count": null,
   "id": "4b27e981",
   "metadata": {},
   "outputs": [],
   "source": []
  },
  {
   "cell_type": "code",
   "execution_count": null,
   "id": "045deb71",
   "metadata": {},
   "outputs": [],
   "source": []
  },
  {
   "cell_type": "code",
   "execution_count": null,
   "id": "f5583bbb",
   "metadata": {},
   "outputs": [],
   "source": []
  },
  {
   "cell_type": "code",
   "execution_count": 52,
   "id": "1e6be7cc",
   "metadata": {},
   "outputs": [
    {
     "name": "stdout",
     "output_type": "stream",
     "text": [
      "[[ 0.92387953+0.j  0.        +0.j  0.        +0.j -0.38268343+0.j\n",
      "   0.        +0.j  0.        +0.j  0.        +0.j  0.        +0.j]\n",
      " [ 0.        +0.j  0.92387953+0.j -0.38268343+0.j  0.        +0.j\n",
      "   0.        +0.j  0.        +0.j  0.        +0.j  0.        +0.j]\n",
      " [ 0.        +0.j  0.38268343+0.j  0.92387953+0.j  0.        +0.j\n",
      "   0.        +0.j  0.        +0.j  0.        +0.j  0.        +0.j]\n",
      " [ 0.38268343+0.j  0.        +0.j  0.        +0.j  0.92387953+0.j\n",
      "   0.        +0.j  0.        +0.j  0.        +0.j  0.        +0.j]\n",
      " [ 0.        +0.j  0.        +0.j  0.        +0.j  0.        +0.j\n",
      "   0.92387953+0.j  0.        +0.j  0.        +0.j  0.38268343+0.j]\n",
      " [ 0.        +0.j  0.        +0.j  0.        +0.j  0.        +0.j\n",
      "   0.        +0.j  0.92387953+0.j  0.38268343+0.j  0.        +0.j]\n",
      " [ 0.        +0.j  0.        +0.j  0.        +0.j  0.        +0.j\n",
      "   0.        +0.j -0.38268343+0.j  0.92387953+0.j  0.        +0.j]\n",
      " [ 0.        +0.j  0.        +0.j  0.        +0.j  0.        +0.j\n",
      "  -0.38268343+0.j  0.        +0.j  0.        +0.j  0.92387953+0.j]]\n"
     ]
    }
   ],
   "source": [
    "u = get_matrix(qc)\n",
    "print(cull(u))"
   ]
  }
 ],
 "metadata": {
  "kernelspec": {
   "display_name": "Python 3 (ipykernel)",
   "language": "python",
   "name": "python3"
  },
  "language_info": {
   "codemirror_mode": {
    "name": "ipython",
    "version": 3
   },
   "file_extension": ".py",
   "mimetype": "text/x-python",
   "name": "python",
   "nbconvert_exporter": "python",
   "pygments_lexer": "ipython3",
   "version": "3.10.0"
  }
 },
 "nbformat": 4,
 "nbformat_minor": 5
}
