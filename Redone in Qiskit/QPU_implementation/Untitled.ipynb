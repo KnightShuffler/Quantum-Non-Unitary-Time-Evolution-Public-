{
 "cells": [
  {
   "cell_type": "code",
   "execution_count": 1,
   "id": "2ae84838",
   "metadata": {},
   "outputs": [],
   "source": [
    "from qite import *\n",
    "from helper import *\n",
    "%matplotlib inline\n",
    "import matplotlib.pyplot as plt\n",
    "\n",
    "from qiskit.quantum_info import Statevector\n",
    "from qiskit.visualization import plot_state_qsphere\n",
    "\n",
    "unit_sim = Aer.get_backend('unitary_simulator')\n",
    "\n",
    "def get_matrix(qc):\n",
    "    job = execute(qc, unit_sim)\n",
    "    result = job.result()\n",
    "    return np.asarray(result.get_unitary(qc))\n",
    "\n",
    "def cull(a):\n",
    "    b = np.where(np.abs(a) < 1e-5, 0, a)\n",
    "    r = np.where( np.abs(np.real(b)) < 1e-5, 0, np.real(b) )\n",
    "    i = np.where( np.abs(np.imag(b)) < 1e-5, 0, np.imag(b) )\n",
    "    return r + 1j*i"
   ]
  },
  {
   "cell_type": "code",
   "execution_count": 49,
   "id": "94eb00cc",
   "metadata": {},
   "outputs": [
    {
     "name": "stdout",
     "output_type": "stream",
     "text": [
      "[[1, 1], [2, 2], [3, 3]]\n"
     ]
    },
    {
     "data": {
      "text/html": [
       "<pre style=\"word-wrap: normal;white-space: pre;background: #fff0;line-height: 1.1;font-family: &quot;Courier New&quot;,Courier,monospace\">                       \n",
       "q_0: ──────────────────\n",
       "        ┌───┐    ┌─┐   \n",
       "q_1: ───┤ H ├────┤M├───\n",
       "     ┌──┴───┴───┐└╥┘┌─┐\n",
       "q_2: ┤ Rx(-π/2) ├─╫─┤M├\n",
       "     └───┬─┬────┘ ║ └╥┘\n",
       "q_3: ────┤M├──────╫──╫─\n",
       "         └╥┘      ║  ║ \n",
       "c: 4/═════╩═══════╩══╩═\n",
       "          3       1  2 </pre>"
      ],
      "text/plain": [
       "                       \n",
       "q_0: ──────────────────\n",
       "        ┌───┐    ┌─┐   \n",
       "q_1: ───┤ H ├────┤M├───\n",
       "     ┌──┴───┴───┐└╥┘┌─┐\n",
       "q_2: ┤ Rx(-π/2) ├─╫─┤M├\n",
       "     └───┬─┬────┘ ║ └╥┘\n",
       "q_3: ────┤M├──────╫──╫─\n",
       "         └╥┘      ║  ║ \n",
       "c: 4/═════╩═══════╩══╩═\n",
       "          3       1  2 "
      ]
     },
     "execution_count": 49,
     "metadata": {},
     "output_type": "execute_result"
    }
   ],
   "source": [
    "qc = QuantumCircuit(4,4)\n",
    "qbits = [0,1,2,3]\n",
    "cbits = [0,1,2,3]\n",
    "\n",
    "# just to see which one is qbit 3:\n",
    "# qc.h(1)\n",
    "# qc.rx(np.pi/2,2)\n",
    "# qc.x(3)\n",
    "\n",
    "idx = 1*0 + 4*1 + 16*2 + 64*3 # (Measure I0 X1 Y2 Z3)\n",
    "\n",
    "backend = sv_sim\n",
    "num_shots = 1000\n",
    "\n",
    "def meaure_mult(qc, idx, qbits, cbits, backend, num_shots=1024):\n",
    "    nbits = len(qbits)\n",
    "    ids = int_to_base4(idx, nbits)\n",
    "\n",
    "    measures = []\n",
    "\n",
    "    for i in range(nbits):\n",
    "        if ids[-(i+1)] == 0:\n",
    "            # I only has +1 eigenvalues, so the measurement is +1\n",
    "            continue\n",
    "        elif ids[-(i+1)] == 1:\n",
    "            # Rotate to X-basis\n",
    "            qc.h(qbits[i])\n",
    "        elif ids[-(i+1)] == 2:\n",
    "            # Rotate to Y-basis\n",
    "            qc.rx(-np.pi/2, qbits[i])\n",
    "        elif ids[-(i+1)] == 3:\n",
    "            # Already in Z-basis\n",
    "            None\n",
    "        else:\n",
    "            raise ValueError('Only 0,1,2,3 are valid idx')\n",
    "        measures.append( [qbits[i],cbits[i]] )\n",
    "\n",
    "    print(measures)\n",
    "    # Add measurements to the circuit\n",
    "    for m in measures:\n",
    "        qc.measure(m[0],m[1])\n",
    "\n",
    "    # Get the measurement statistics\n",
    "    counts = run_circuit(qc, backend, num_shots=num_shots)\n",
    "\n",
    "    expectation = 0\n",
    "    for key in counts.keys():\n",
    "        k = key.replace(' ','')\n",
    "        sign = 1\n",
    "        print('key: ', k)\n",
    "        for m in measures:\n",
    "            if k[-(m[1] + 1)] == '1':\n",
    "                sign *= -1\n",
    "        expectation += sign*counts[key]\n",
    "\n",
    "    expectation /= num_shots\n",
    "    return expectation\n",
    "\n",
    "qc.draw()"
   ]
  },
  {
   "cell_type": "code",
   "execution_count": 47,
   "id": "3769b564",
   "metadata": {},
   "outputs": [
    {
     "data": {
      "image/png": "[encoded data removed]",
      "text/plain": [
       "<Figure size 504x360 with 1 Axes>"
      ]
     },
     "execution_count": 47,
     "metadata": {},
     "output_type": "execute_result"
    }
   ],
   "source": [
    "from qiskit.visualization import plot_histogram\n",
    "plot_histogram(counts)"
   ]
  },
  {
   "cell_type": "code",
   "execution_count": 48,
   "id": "00841c39",
   "metadata": {},
   "outputs": [
    {
     "name": "stdout",
     "output_type": "stream",
     "text": [
      "key:  1000\n",
      "-1.0\n"
     ]
    }
   ],
   "source": [
    "expectation = 0\n",
    "for key in counts.keys():\n",
    "    k = key.replace(' ','')\n",
    "    sign = 1\n",
    "    print('key: ', k)\n",
    "    for m in measures:\n",
    "        if k[-(m[1] + 1)] == '1':\n",
    "            sign *= -1\n",
    "    expectation += sign*counts[key]\n",
    "\n",
    "expectation /= num_shots\n",
    "print(expectation)"
   ]
  },
  {
   "cell_type": "code",
   "execution_count": null,
   "id": "eab1954d",
   "metadata": {},
   "outputs": [],
   "source": []
  }
 ],
 "metadata": {
  "kernelspec": {
   "display_name": "Python 3 (ipykernel)",
   "language": "python",
   "name": "python3"
  },
  "language_info": {
   "codemirror_mode": {
    "name": "ipython",
    "version": 3
   },
   "file_extension": ".py",
   "mimetype": "text/x-python",
   "name": "python",
   "nbconvert_exporter": "python",
   "pygments_lexer": "ipython3",
   "version": "3.10.0"
  }
 },
 "nbformat": 4,
 "nbformat_minor": 5
}
