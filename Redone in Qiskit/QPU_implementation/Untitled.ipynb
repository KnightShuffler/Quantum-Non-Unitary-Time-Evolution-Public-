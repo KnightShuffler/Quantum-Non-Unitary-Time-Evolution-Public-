{
 "cells": [
  {
   "cell_type": "code",
   "execution_count": 1,
   "id": "2ae84838",
   "metadata": {},
   "outputs": [],
   "source": [
    "from qite import *\n",
    "from helper import *\n",
    "%matplotlib inline\n",
    "import matplotlib.pyplot as plt\n",
    "\n",
    "from qiskit.quantum_info import Statevector"
   ]
  },
  {
   "cell_type": "code",
   "execution_count": 44,
   "id": "f0592339",
   "metadata": {},
   "outputs": [
    {
     "name": "stdout",
     "output_type": "stream",
     "text": [
      "[1, 2, 3]\n",
      "[0, 1, 2]\n"
     ]
    },
    {
     "data": {
      "text/html": [
       "<pre style=\"word-wrap: normal;white-space: pre;background: #fff0;line-height: 1.1;font-family: &quot;Courier New&quot;,Courier,monospace\">        ┌───┐                                        ┌───┐            \n",
       "q_0: ───┤ H ├──────────■─────────────────────────■───┤ H ├────────────\n",
       "     ┌──┴───┴──┐┌───┐┌─┴─┐                     ┌─┴─┐┌┴───┴┐┌─────────┐\n",
       "q_1: ┤ Rx(π/2) ├┤ S ├┤ X ├──■───────────────■──┤ X ├┤ Sdg ├┤ Rx(π/2) ├\n",
       "     └─────────┘└───┘└───┘┌─┴─┐┌─────────┐┌─┴─┐└───┘└─────┘└─────────┘\n",
       "q_2: ─────────────────────┤ X ├┤ Rz(π/2) ├┤ X ├───────────────────────\n",
       "                          └───┘└─────────┘└───┘                       </pre>"
      ],
      "text/plain": [
       "        ┌───┐                                        ┌───┐            \n",
       "q_0: ───┤ H ├──────────■─────────────────────────■───┤ H ├────────────\n",
       "     ┌──┴───┴──┐┌───┐┌─┴─┐                     ┌─┴─┐┌┴───┴┐┌─────────┐\n",
       "q_1: ┤ Rx(π/2) ├┤ S ├┤ X ├──■───────────────■──┤ X ├┤ Sdg ├┤ Rx(π/2) ├\n",
       "     └─────────┘└───┘└───┘┌─┴─┐┌─────────┐┌─┴─┐└───┘└─────┘└─────────┘\n",
       "q_2: ─────────────────────┤ X ├┤ Rz(π/2) ├┤ X ├───────────────────────\n",
       "                          └───┘└─────────┘└───┘                       "
      ]
     },
     "execution_count": 44,
     "metadata": {},
     "output_type": "execute_result"
    }
   ],
   "source": [
    "qc = QuantumCircuit(3)\n",
    "qbits = [0,1,2]\n",
    "p = 16*1 + 4*2 + 1*3\n",
    "\n",
    "# def ib4(x, nbit):\n",
    "#     string = [0] * nbit\n",
    "#     for i in range(nbit):\n",
    "#         print(x,x//4,x%4)\n",
    "#         string[-(i+1)] = x % 4\n",
    "#         x = x//4\n",
    "#     return string\n",
    "\n",
    "# print(ib4(p,3))\n",
    "\n",
    "\n",
    "# initialize state\n",
    "zero    = np.array([1,0],dtype=complex)\n",
    "one     = np.array([0,1],dtype=complex)\n",
    "plus    = np.array([1,1],dtype=complex)   * np.sqrt(0.5)\n",
    "minus   = np.array([1,-1],dtype=complex)  * np.sqrt(0.5)\n",
    "plus_i  = np.array([1,1j],dtype=complex)  * np.sqrt(0.5)\n",
    "minus_i = np.array([1,-1j],dtype=complex) * np.sqrt(0.5)\n",
    "\n",
    "theta = np.pi/2\n",
    "nbit = len(qbits)\n",
    "pstring = int_to_base4(p,nbit)\n",
    "print(pstring)\n",
    "cnots = []\n",
    "\n",
    "for i in range(nbit):\n",
    "    if pstring[i] == 1:\n",
    "        qc.h(qbits[i])\n",
    "#         qc.ry(-np.pi/2,qbits[i])\n",
    "    elif pstring[i] == 2:\n",
    "        qc.rx(np.pi/2, qbits[i])\n",
    "        qc.s(qbits[i])\n",
    "    elif pstring[i] == 3:\n",
    "        None\n",
    "    else: # pstring[i] == 0, don't add this to the list of cnots\n",
    "        continue\n",
    "    cnots.append(qbits[i])\n",
    "\n",
    "print(cnots)\n",
    "\n",
    "for i in range(len(cnots)-1):\n",
    "    qc.cx(cnots[i],cnots[i+1])\n",
    "\n",
    "qc.rz(theta, cnots[-1])\n",
    "\n",
    "for i in range(len(cnots)-2,-1,-1):\n",
    "    qc.cx(cnots[i], cnots[i+1])\n",
    "\n",
    "for i in range(nbit):\n",
    "    if pstring[i] == 1:\n",
    "        qc.h(qbits[i])\n",
    "#         qc.ry(np.pi/2, qbits[i])\n",
    "    elif pstring[i] == 2:\n",
    "        qc.sdg(qbits[i])\n",
    "        qc.rx(np.pi/2, qbits[i])\n",
    "    else:\n",
    "        None\n",
    "    \n",
    "qc.draw()"
   ]
  },
  {
   "cell_type": "code",
   "execution_count": 45,
   "id": "e85430ff",
   "metadata": {},
   "outputs": [
    {
     "name": "stdout",
     "output_type": "stream",
     "text": [
      "[0.5+0.j  0.5+0.j  0. +0.5j 0. +0.5j 0. +0.j  0. +0.j  0. +0.j  0. +0.j ]\n",
      "[(0.3535533905932738-0.3535533905932738j), (0.3535533905932738-0.3535533905932738j), (-0.3535533905932738-0.3535533905932738j), (-0.3535533905932738-0.3535533905932738j), 0, 0, 0, 0]\n"
     ]
    }
   ],
   "source": [
    "init = QuantumCircuit(3)\n",
    "\n",
    "init.initialize(plus, 0)\n",
    "init.initialize(plus_i, 1)\n",
    "init.initialize(zero, 2)\n",
    "\n",
    "new_sv = Statevector.from_label('000')\n",
    "init_sv = new_sv.evolve(init)\n",
    "evolved_sv = init_sv.evolve(qc)\n",
    "print(init_sv.data)\n",
    "final_data = evolved_sv.data #/ np.exp(-1j*theta/2)\n",
    "# print(evolved_sv.data)\n",
    "# print(final_data)\n",
    "fd = [d if np.abs(d) > 1e-5 else 0 for d in final_data]\n",
    "print(fd)"
   ]
  },
  {
   "cell_type": "code",
   "execution_count": 46,
   "id": "85b44785",
   "metadata": {},
   "outputs": [
    {
     "name": "stdout",
     "output_type": "stream",
     "text": [
      "[0.5+0.j  0.5+0.j  0. -0.5j 0. -0.5j 0. +0.j  0. +0.j  0. +0.j  0. +0.j ]\n"
     ]
    }
   ],
   "source": [
    "print(fd / np.exp(-1j*theta/2))"
   ]
  }
 ],
 "metadata": {
  "kernelspec": {
   "display_name": "Python 3 (ipykernel)",
   "language": "python",
   "name": "python3"
  },
  "language_info": {
   "codemirror_mode": {
    "name": "ipython",
    "version": 3
   },
   "file_extension": ".py",
   "mimetype": "text/x-python",
   "name": "python",
   "nbconvert_exporter": "python",
   "pygments_lexer": "ipython3",
   "version": "3.10.0"
  }
 },
 "nbformat": 4,
 "nbformat_minor": 5
}
