{
 "cells": [
  {
   "cell_type": "code",
   "execution_count": 1,
   "id": "2ae84838",
   "metadata": {},
   "outputs": [
    {
     "name": "stdout",
     "output_type": "stream",
     "text": [
      "3.14\n"
     ]
    }
   ],
   "source": [
    "from qite_mult import *\n",
    "\n",
    "%matplotlib inline\n",
    "import matplotlib.pyplot as plt\n",
    "\n",
    "from qiskit.quantum_info import Statevector\n",
    "from qiskit.visualization import plot_state_qsphere\n",
    "\n",
    "def get_matrix(qc):\n",
    "    job = execute(qc, unit_sim)\n",
    "    result = job.result()\n",
    "    return np.asarray(result.get_unitary(qc))\n",
    "\n",
    "def cull(a):\n",
    "    b = np.where(np.abs(a) < 1e-5, 0, a)\n",
    "    r = np.where( np.abs(np.real(b)) < 1e-5, 0, np.real(b) )\n",
    "    i = np.where( np.abs(np.imag(b)) < 1e-5, 0, np.imag(b) )\n",
    "    return r + 1j*i\n",
    "\n",
    "print('{:.2f}'.format(np.pi))"
   ]
  },
  {
   "cell_type": "code",
   "execution_count": 2,
   "id": "151c474b",
   "metadata": {},
   "outputs": [
    {
     "name": "stdout",
     "output_type": "stream",
     "text": [
      "Starting QITE Loop\n",
      "i=1 -- Execution time: 0.43 seconds\n",
      "i=2 -- Execution time: 2.11 seconds\n",
      "i=3 -- Execution time: 3.42 seconds\n",
      "i=4 -- Execution time: 5.24 seconds\n",
      "i=5 -- Execution time: 7.36 seconds\n",
      "i=6 -- Execution time: 9.00 seconds\n",
      "i=7 -- Execution time: 10.29 seconds\n",
      "i=8 -- Execution time: 12.49 seconds\n",
      "i=9 -- Execution time: 14.71 seconds\n",
      "i=10 -- Execution time: 16.26 seconds\n",
      "i=11 -- Execution time: 15.58 seconds\n",
      "i=12 -- Execution time: 19.27 seconds\n",
      "i=13 -- Execution time: 22.00 seconds\n",
      "i=14 -- Execution time: 23.23 seconds\n",
      "i=15 -- Execution time: 24.88 seconds\n",
      "i=16 -- Execution time: 26.43 seconds\n",
      "i=17 -- Execution time: 27.29 seconds\n",
      "i=18 -- Execution time: 28.82 seconds\n",
      "i=19 -- Execution time: 31.62 seconds\n",
      "i=20 -- Execution time: 33.93 seconds\n",
      "i=21 -- Execution time: 36.27 seconds\n",
      "i=22 -- Execution time: 34.98 seconds\n",
      "i=23 -- Execution time: 37.85 seconds\n",
      "i=24 -- Execution time: 38.51 seconds\n",
      "i=25 -- Execution time: 42.22 seconds\n",
      "Total time: {:.2f} seconds 524.2012553215027\n"
     ]
    }
   ],
   "source": [
    "N = 25\n",
    "shots = 1000\n",
    "db = 0.1\n",
    "delta = 0.1\n",
    "\n",
    "nbits = 2\n",
    "\n",
    "hm_list = []\n",
    "hm_list.append([])\n",
    "hm_list[0].append([ [3*1 + 3*4],[1],[0,1] ])\n",
    "# hm_list.append([])\n",
    "# hm_list[1].append([ [1,3],[np.sqrt(0.5)/2,np.sqrt(0.5)/2],[1] ])\n",
    "\n",
    "\n",
    "E,times = qite(db, delta, N, nbits, hm_list, aer_sim, shots=shots, debug=True)\n",
    "print('Total time: {:.2f} seconds'.format(np.sum(times)))"
   ]
  },
  {
   "cell_type": "code",
   "execution_count": 3,
   "id": "e697ca46",
   "metadata": {},
   "outputs": [
    {
     "name": "stderr",
     "output_type": "stream",
     "text": [
      "C:\\Users\\CMP3KUMARS\\Anaconda3\\envs\\qiskit\\lib\\site-packages\\matplotlib\\cbook\\__init__.py:1298: ComplexWarning: Casting complex values to real discards the imaginary part\n",
      "  return np.asarray(x, float)\n"
     ]
    },
    {
     "data": {
      "image/png": "[encoded data removed]",
      "text/plain": [
       "<Figure size 432x288 with 1 Axes>"
      ]
     },
     "metadata": {
      "needs_background": "light"
     },
     "output_type": "display_data"
    }
   ],
   "source": [
    "plt.plot(np.arange(0,N+1)*db,E,'ro',label='QITE')\n",
    "plt.axhline(y=-1, color='k', linestyle='-')\n",
    "\n",
    "plt.xlabel('Imaginary time elapsed')\n",
    "plt.ylabel('Mean energy')\n",
    "\n",
    "plt.grid()\n",
    "plt.show()"
   ]
  },
  {
   "cell_type": "code",
   "execution_count": 4,
   "id": "e260bf39",
   "metadata": {},
   "outputs": [
    {
     "data": {
      "image/png": "[encoded data removed]",
      "text/plain": [
       "<Figure size 432x288 with 1 Axes>"
      ]
     },
     "metadata": {
      "needs_background": "light"
     },
     "output_type": "display_data"
    }
   ],
   "source": [
    "plt.plot(np.arange(0,N+1),times,'bo',label='iteration times')\n",
    "plt.xlabel('iteration number')\n",
    "plt.ylabel('iteration time (seconds)')\n",
    "plt.grid()\n",
    "plt.show()"
   ]
  },
  {
   "cell_type": "code",
   "execution_count": 2,
   "id": "8e1b17f4",
   "metadata": {},
   "outputs": [
    {
     "name": "stdout",
     "output_type": "stream",
     "text": [
      "measures:  [[0, 0], [1, 1]]\n",
      "measures:  [[1, 1]]\n",
      "measures:  [[1, 1]]\n"
     ]
    },
    {
     "ename": "TypeError",
     "evalue": "propogate_mult() missing 1 required positional argument: 'qbits'",
     "output_type": "error",
     "traceback": [
      "\u001b[1;31m---------------------------------------------------------------------------\u001b[0m",
      "\u001b[1;31mTypeError\u001b[0m                                 Traceback (most recent call last)",
      "Input \u001b[1;32mIn [2]\u001b[0m, in \u001b[0;36m<cell line: 20>\u001b[1;34m()\u001b[0m\n\u001b[0;32m     17\u001b[0m alist \u001b[38;5;241m=\u001b[39m []\n\u001b[0;32m     18\u001b[0m E[\u001b[38;5;241m0\u001b[39m] \u001b[38;5;241m=\u001b[39m measure_energy(alist, nbits, hm_list, backend, shots\u001b[38;5;241m=\u001b[39mshots)\n\u001b[1;32m---> 20\u001b[0m alist \u001b[38;5;241m=\u001b[39m \u001b[43mqite_step\u001b[49m\u001b[43m(\u001b[49m\u001b[43malist\u001b[49m\u001b[43m,\u001b[49m\u001b[43m \u001b[49m\u001b[43mdb\u001b[49m\u001b[43m,\u001b[49m\u001b[43m \u001b[49m\u001b[43mdelta\u001b[49m\u001b[43m,\u001b[49m\u001b[43m \u001b[49m\u001b[43mnbits\u001b[49m\u001b[43m,\u001b[49m\u001b[43m \u001b[49m\u001b[43mhm_list\u001b[49m\u001b[43m,\u001b[49m\u001b[43m \u001b[49m\u001b[43mbackend\u001b[49m\u001b[43m,\u001b[49m\u001b[43m \u001b[49m\u001b[43mshots\u001b[49m\u001b[38;5;241;43m=\u001b[39;49m\u001b[43mshots\u001b[49m\u001b[43m)\u001b[49m\n",
      "File \u001b[1;32m~\\Desktop\\motta-annotated\\Redone in Qiskit\\QPU_implementation\\qite_mult.py:43\u001b[0m, in \u001b[0;36mqite_step\u001b[1;34m(alist, db, delta, nbits, hm_list, backend, shots)\u001b[0m\n\u001b[0;32m     41\u001b[0m \u001b[38;5;28;01mdef\u001b[39;00m \u001b[38;5;21mqite_step\u001b[39m(alist, db, delta, nbits, hm_list, backend, shots\u001b[38;5;241m=\u001b[39m\u001b[38;5;241m1024\u001b[39m):\n\u001b[0;32m     42\u001b[0m \t\u001b[38;5;28;01mfor\u001b[39;00m j \u001b[38;5;129;01min\u001b[39;00m \u001b[38;5;28mrange\u001b[39m(\u001b[38;5;28mlen\u001b[39m(hm_list)):\n\u001b[1;32m---> 43\u001b[0m \t\tsigma_expectation \u001b[38;5;241m=\u001b[39m \u001b[43mget_expectation\u001b[49m\u001b[43m(\u001b[49m\u001b[43malist\u001b[49m\u001b[43m,\u001b[49m\u001b[43mhm_list\u001b[49m\u001b[43m[\u001b[49m\u001b[43mj\u001b[49m\u001b[43m]\u001b[49m\u001b[43m[\u001b[49m\u001b[38;5;241;43m0\u001b[39;49m\u001b[43m]\u001b[49m\u001b[43m[\u001b[49m\u001b[38;5;241;43m2\u001b[39;49m\u001b[43m]\u001b[49m\u001b[43m,\u001b[49m\u001b[43m \u001b[49m\u001b[43mnbits\u001b[49m\u001b[43m,\u001b[49m\u001b[43m \u001b[49m\u001b[43mbackend\u001b[49m\u001b[43m,\u001b[49m\u001b[43m \u001b[49m\u001b[43mshots\u001b[49m\u001b[38;5;241;43m=\u001b[39;49m\u001b[43mshots\u001b[49m\u001b[43m)\u001b[49m\n\u001b[0;32m     44\u001b[0m \t\tnorm \u001b[38;5;241m=\u001b[39m update_alist_mult(sigma_expectation, alist, db, delta, hm_list[j])\n\u001b[0;32m     45\u001b[0m \t\u001b[38;5;28;01mreturn\u001b[39;00m alist\n",
      "File \u001b[1;32m~\\Desktop\\motta-annotated\\Redone in Qiskit\\QPU_implementation\\qite_mult.py:36\u001b[0m, in \u001b[0;36mget_expectation\u001b[1;34m(alist, qbits, nbits, backend, shots)\u001b[0m\n\u001b[0;32m     34\u001b[0m \tqc \u001b[38;5;241m=\u001b[39m QuantumCircuit(nbits,nbits)\n\u001b[0;32m     35\u001b[0m \t\u001b[38;5;66;03m# ansatz(qc,qbit)\u001b[39;00m\n\u001b[1;32m---> 36\u001b[0m \t\u001b[43mpropogate_mult\u001b[49m\u001b[43m(\u001b[49m\u001b[43mqc\u001b[49m\u001b[43m,\u001b[49m\u001b[43m \u001b[49m\u001b[43malist\u001b[49m\u001b[43m,\u001b[49m\u001b[43m \u001b[49m\u001b[43mqbits\u001b[49m\u001b[43m)\u001b[49m\n\u001b[0;32m     37\u001b[0m \tsigma_expectation[j] \u001b[38;5;241m=\u001b[39m measure_mult(qc,j,qbits,qbits,backend,num_shots\u001b[38;5;241m=\u001b[39mshots)\n\u001b[0;32m     39\u001b[0m \u001b[38;5;28;01mreturn\u001b[39;00m sigma_expectation\n",
      "\u001b[1;31mTypeError\u001b[0m: propogate_mult() missing 1 required positional argument: 'qbits'"
     ]
    }
   ],
   "source": [
    "N = 25\n",
    "shots = 1000\n",
    "db = 0.1\n",
    "delta = 0.1\n",
    "\n",
    "nbits = 2\n",
    "\n",
    "backend = aer_sim\n",
    "\n",
    "hm_list = []\n",
    "hm_list.append([])\n",
    "hm_list[-1].append([ [1+4*1],[np.sqrt(0.5)],[0,1] ])\n",
    "hm_list.append([])\n",
    "hm_list[-1].append([ [1,3],[0.5,0.5],[1] ])\n",
    "\n",
    "E = np.zeros(N+1,dtype=complex)\n",
    "alist = []\n",
    "E[0] = measure_energy(alist, nbits, hm_list, backend, shots=shots)\n",
    "\n",
    "alist = qite_step(alist, db, delta, nbits, hm_list, backend, shots=shots)\n",
    "\n",
    "# E,times = qite(db, delta, N, nbits, hm_list, aer_sim, shots=shots, debug=True)\n",
    "# print('Total time: {:.2f} seconds'.format(np.sum(times)))"
   ]
  },
  {
   "cell_type": "code",
   "execution_count": 40,
   "id": "7bf73fcd",
   "metadata": {},
   "outputs": [
    {
     "name": "stdout",
     "output_type": "stream",
     "text": [
      "[[0, 1], [1]]\n"
     ]
    }
   ],
   "source": [
    "Nterms = len(hm_list)\n",
    "\n",
    "qbits = [ hm_list[i][0][2] for i in range(Nterms) ]\n",
    "print(qbits)"
   ]
  },
  {
   "cell_type": "code",
   "execution_count": 34,
   "id": "3c731538",
   "metadata": {},
   "outputs": [
    {
     "data": {
      "text/plain": [
       "[[(-7.173326535958773e-15-0j),\n",
       "  (-0.005129849890735244-0j),\n",
       "  (-0.018718187384998787-0j),\n",
       "  (0.004201860241852501+0j),\n",
       "  (-0.02487766823821154-0j),\n",
       "  (-1.1554002558974308e-15-0j),\n",
       "  (-0.064004566560212-0j),\n",
       "  (0.027771302779465646+0j),\n",
       "  (0.0030486911769565927+0j),\n",
       "  (-0.07364315778803636-0j),\n",
       "  (-0.0004746307547786961-0j),\n",
       "  (-0.0032527739560252833-0j),\n",
       "  (-0.0010728917046064395-0j),\n",
       "  (0.005027018209953844+0j),\n",
       "  (0.01639859445647829+0j),\n",
       "  (-0.0002572665563217412-0j)],\n",
       " [(1.2022853333318986e-16+0j),\n",
       "  (0.0038004807912321035+0j),\n",
       "  (-0.10641346215449768-0j),\n",
       "  (-0.003800480791232179-0j)]]"
      ]
     },
     "execution_count": 34,
     "metadata": {},
     "output_type": "execute_result"
    }
   ],
   "source": [
    "alist"
   ]
  },
  {
   "cell_type": "code",
   "execution_count": 41,
   "id": "e7b032bc",
   "metadata": {},
   "outputs": [
    {
     "name": "stdout",
     "output_type": "stream",
     "text": [
      "0\n",
      "0, 1\n",
      "0, 2\n",
      "0, 3\n",
      "0, 4\n",
      "0, 5\n",
      "0, 6\n"
     ]
    },
    {
     "ename": "CircuitError",
     "evalue": "'duplicate qubit arguments'",
     "output_type": "error",
     "traceback": [
      "\u001b[1;31m---------------------------------------------------------------------------\u001b[0m",
      "\u001b[1;31mCircuitError\u001b[0m                              Traceback (most recent call last)",
      "Input \u001b[1;32mIn [41]\u001b[0m, in \u001b[0;36m<cell line: 8>\u001b[1;34m()\u001b[0m\n\u001b[0;32m     18\u001b[0m         angle \u001b[38;5;241m=\u001b[39m np\u001b[38;5;241m.\u001b[39mreal(alist[t][gate])\n\u001b[0;32m     19\u001b[0m         \u001b[38;5;28;01mif\u001b[39;00m np\u001b[38;5;241m.\u001b[39mabs(angle) \u001b[38;5;241m>\u001b[39m \u001b[38;5;241m1e-5\u001b[39m:\n\u001b[1;32m---> 20\u001b[0m             \u001b[43mpauli_exp\u001b[49m\u001b[43m(\u001b[49m\u001b[43mqc\u001b[49m\u001b[43m,\u001b[49m\u001b[43mqbits\u001b[49m\u001b[43m,\u001b[49m\u001b[43mgate\u001b[49m\u001b[43m,\u001b[49m\u001b[43mangle\u001b[49m\u001b[43m)\u001b[49m\n\u001b[0;32m     22\u001b[0m Energy \u001b[38;5;241m+\u001b[39m\u001b[38;5;241m=\u001b[39m hm[\u001b[38;5;241m1\u001b[39m][j] \u001b[38;5;241m*\u001b[39m measure_mult(qc, hm[\u001b[38;5;241m0\u001b[39m][j], qbits, qbits, backend, num_shots\u001b[38;5;241m=\u001b[39mshots)\n\u001b[0;32m     23\u001b[0m \u001b[38;5;28mprint\u001b[39m(Energy)\n",
      "File \u001b[1;32m~\\Desktop\\motta-annotated\\Redone in Qiskit\\QPU_implementation\\helper.py:57\u001b[0m, in \u001b[0;36mpauli_exp\u001b[1;34m(qc, qbits, pauli, theta)\u001b[0m\n\u001b[0;32m     55\u001b[0m \u001b[38;5;66;03m# Apply the cascading CNOTs\u001b[39;00m\n\u001b[0;32m     56\u001b[0m \u001b[38;5;28;01mfor\u001b[39;00m i \u001b[38;5;129;01min\u001b[39;00m \u001b[38;5;28mrange\u001b[39m(\u001b[38;5;28mlen\u001b[39m(cnots)\u001b[38;5;241m-\u001b[39m\u001b[38;5;241m1\u001b[39m):\n\u001b[1;32m---> 57\u001b[0m     \u001b[43mqc\u001b[49m\u001b[38;5;241;43m.\u001b[39;49m\u001b[43mcx\u001b[49m\u001b[43m(\u001b[49m\u001b[43mcnots\u001b[49m\u001b[43m[\u001b[49m\u001b[43mi\u001b[49m\u001b[43m]\u001b[49m\u001b[43m,\u001b[49m\u001b[43m \u001b[49m\u001b[43mcnots\u001b[49m\u001b[43m[\u001b[49m\u001b[43mi\u001b[49m\u001b[38;5;241;43m+\u001b[39;49m\u001b[38;5;241;43m1\u001b[39;49m\u001b[43m]\u001b[49m\u001b[43m)\u001b[49m\n\u001b[0;32m     59\u001b[0m qc\u001b[38;5;241m.\u001b[39mrz(theta,cnots[\u001b[38;5;241m-\u001b[39m\u001b[38;5;241m1\u001b[39m])\n\u001b[0;32m     61\u001b[0m \u001b[38;5;66;03m# Undo the cascading CNOTs\u001b[39;00m\n",
      "File \u001b[1;32m~\\Anaconda3\\envs\\qiskit\\lib\\site-packages\\qiskit\\circuit\\quantumcircuit.py:3737\u001b[0m, in \u001b[0;36mQuantumCircuit.cx\u001b[1;34m(self, control_qubit, target_qubit, label, ctrl_state)\u001b[0m\n\u001b[0;32m   3719\u001b[0m \u001b[38;5;124mr\u001b[39m\u001b[38;5;124;03m\"\"\"Apply :class:`~qiskit.circuit.library.CXGate`.\u001b[39;00m\n\u001b[0;32m   3720\u001b[0m \n\u001b[0;32m   3721\u001b[0m \u001b[38;5;124;03mFor the full matrix form of this gate, see the underlying gate documentation.\u001b[39;00m\n\u001b[1;32m   (...)\u001b[0m\n\u001b[0;32m   3732\u001b[0m \u001b[38;5;124;03m    A handle to the instructions created.\u001b[39;00m\n\u001b[0;32m   3733\u001b[0m \u001b[38;5;124;03m\"\"\"\u001b[39;00m\n\u001b[0;32m   3735\u001b[0m \u001b[38;5;28;01mfrom\u001b[39;00m \u001b[38;5;21;01m.\u001b[39;00m\u001b[38;5;21;01mlibrary\u001b[39;00m\u001b[38;5;21;01m.\u001b[39;00m\u001b[38;5;21;01mstandard_gates\u001b[39;00m\u001b[38;5;21;01m.\u001b[39;00m\u001b[38;5;21;01mx\u001b[39;00m \u001b[38;5;28;01mimport\u001b[39;00m CXGate\n\u001b[1;32m-> 3737\u001b[0m \u001b[38;5;28;01mreturn\u001b[39;00m \u001b[38;5;28;43mself\u001b[39;49m\u001b[38;5;241;43m.\u001b[39;49m\u001b[43mappend\u001b[49m\u001b[43m(\u001b[49m\n\u001b[0;32m   3738\u001b[0m \u001b[43m    \u001b[49m\u001b[43mCXGate\u001b[49m\u001b[43m(\u001b[49m\u001b[43mlabel\u001b[49m\u001b[38;5;241;43m=\u001b[39;49m\u001b[43mlabel\u001b[49m\u001b[43m,\u001b[49m\u001b[43m \u001b[49m\u001b[43mctrl_state\u001b[49m\u001b[38;5;241;43m=\u001b[39;49m\u001b[43mctrl_state\u001b[49m\u001b[43m)\u001b[49m\u001b[43m,\u001b[49m\u001b[43m \u001b[49m\u001b[43m[\u001b[49m\u001b[43mcontrol_qubit\u001b[49m\u001b[43m,\u001b[49m\u001b[43m \u001b[49m\u001b[43mtarget_qubit\u001b[49m\u001b[43m]\u001b[49m\u001b[43m,\u001b[49m\u001b[43m \u001b[49m\u001b[43m[\u001b[49m\u001b[43m]\u001b[49m\n\u001b[0;32m   3739\u001b[0m \u001b[43m\u001b[49m\u001b[43m)\u001b[49m\n",
      "File \u001b[1;32m~\\Anaconda3\\envs\\qiskit\\lib\\site-packages\\qiskit\\circuit\\quantumcircuit.py:1231\u001b[0m, in \u001b[0;36mQuantumCircuit.append\u001b[1;34m(self, instruction, qargs, cargs)\u001b[0m\n\u001b[0;32m   1229\u001b[0m instructions \u001b[38;5;241m=\u001b[39m InstructionSet(resource_requester\u001b[38;5;241m=\u001b[39mrequester)\n\u001b[0;32m   1230\u001b[0m \u001b[38;5;28;01mfor\u001b[39;00m qarg, carg \u001b[38;5;129;01min\u001b[39;00m instruction\u001b[38;5;241m.\u001b[39mbroadcast_arguments(expanded_qargs, expanded_cargs):\n\u001b[1;32m-> 1231\u001b[0m     instructions\u001b[38;5;241m.\u001b[39madd(\u001b[43mappender\u001b[49m\u001b[43m(\u001b[49m\u001b[43minstruction\u001b[49m\u001b[43m,\u001b[49m\u001b[43m \u001b[49m\u001b[43mqarg\u001b[49m\u001b[43m,\u001b[49m\u001b[43m \u001b[49m\u001b[43mcarg\u001b[49m\u001b[43m)\u001b[49m, qarg, carg)\n\u001b[0;32m   1232\u001b[0m \u001b[38;5;28;01mreturn\u001b[39;00m instructions\n",
      "File \u001b[1;32m~\\Anaconda3\\envs\\qiskit\\lib\\site-packages\\qiskit\\circuit\\quantumcircuit.py:1266\u001b[0m, in \u001b[0;36mQuantumCircuit._append\u001b[1;34m(self, instruction, qargs, cargs)\u001b[0m\n\u001b[0;32m   1263\u001b[0m     \u001b[38;5;28;01mraise\u001b[39;00m CircuitError(\u001b[38;5;124m\"\u001b[39m\u001b[38;5;124mobject is not an Instruction.\u001b[39m\u001b[38;5;124m\"\u001b[39m)\n\u001b[0;32m   1265\u001b[0m \u001b[38;5;66;03m# do some compatibility checks\u001b[39;00m\n\u001b[1;32m-> 1266\u001b[0m \u001b[38;5;28;43mself\u001b[39;49m\u001b[38;5;241;43m.\u001b[39;49m\u001b[43m_check_dups\u001b[49m\u001b[43m(\u001b[49m\u001b[43mqargs\u001b[49m\u001b[43m)\u001b[49m\n\u001b[0;32m   1267\u001b[0m \u001b[38;5;28mself\u001b[39m\u001b[38;5;241m.\u001b[39m_check_qargs(qargs)\n\u001b[0;32m   1268\u001b[0m \u001b[38;5;28mself\u001b[39m\u001b[38;5;241m.\u001b[39m_check_cargs(cargs)\n",
      "File \u001b[1;32m~\\Anaconda3\\envs\\qiskit\\lib\\site-packages\\qiskit\\circuit\\quantumcircuit.py:1448\u001b[0m, in \u001b[0;36mQuantumCircuit._check_dups\u001b[1;34m(self, qubits)\u001b[0m\n\u001b[0;32m   1446\u001b[0m squbits \u001b[38;5;241m=\u001b[39m \u001b[38;5;28mset\u001b[39m(qubits)\n\u001b[0;32m   1447\u001b[0m \u001b[38;5;28;01mif\u001b[39;00m \u001b[38;5;28mlen\u001b[39m(squbits) \u001b[38;5;241m!=\u001b[39m \u001b[38;5;28mlen\u001b[39m(qubits):\n\u001b[1;32m-> 1448\u001b[0m     \u001b[38;5;28;01mraise\u001b[39;00m CircuitError(\u001b[38;5;124m\"\u001b[39m\u001b[38;5;124mduplicate qubit arguments\u001b[39m\u001b[38;5;124m\"\u001b[39m)\n",
      "\u001b[1;31mCircuitError\u001b[0m: 'duplicate qubit arguments'"
     ]
    }
   ],
   "source": [
    "from helper import pauli_exp\n",
    "\n",
    "Energy = 0\n",
    "Nterms = len(hm_list)\n",
    "\n",
    "qbits = [ hm_list[i][0][2] for i in range(Nterms) ]\n",
    "\n",
    "for i in range(Nterms):\n",
    "    for hm in hm_list[i]:\n",
    "        print(i)\n",
    "        for j in range(len(hm[0])):\n",
    "            qc = QuantumCircuit(nbits,nbits)\n",
    "            \n",
    "            nb = len(qbits)\n",
    "            for t in range(len(alist)):\n",
    "                for gate in range(1,4** (len(qbits[t%Nterms])) ):\n",
    "                    print('{}, {}'.format(t,gate))\n",
    "                    angle = np.real(alist[t][gate])\n",
    "                    if np.abs(angle) > 1e-5:\n",
    "                        pauli_exp(qc,qbits,gate,angle)\n",
    "            \n",
    "            Energy += hm[1][j] * measure_mult(qc, hm[0][j], qbits, qbits, backend, num_shots=shots)\n",
    "            print(Energy)"
   ]
  },
  {
   "cell_type": "code",
   "execution_count": 25,
   "id": "b0d03438",
   "metadata": {},
   "outputs": [
    {
     "name": "stderr",
     "output_type": "stream",
     "text": [
      "C:\\Users\\CMP3KUMARS\\Anaconda3\\envs\\qiskit\\lib\\site-packages\\matplotlib\\cbook\\__init__.py:1298: ComplexWarning: Casting complex values to real discards the imaginary part\n",
      "  return np.asarray(x, float)\n"
     ]
    },
    {
     "data": {
      "image/png": "[encoded data removed]",
      "text/plain": [
       "<Figure size 432x288 with 1 Axes>"
      ]
     },
     "metadata": {
      "needs_background": "light"
     },
     "output_type": "display_data"
    }
   ],
   "source": [
    "plt.plot(np.arange(0,N+1)*db,E,'ro',label='QITE')\n",
    "plt.axhline(y=-1, color='k', linestyle='-')\n",
    "\n",
    "plt.xlabel('Imaginary time elapsed')\n",
    "plt.ylabel('Mean energy')\n",
    "\n",
    "plt.grid()\n",
    "plt.show()"
   ]
  },
  {
   "cell_type": "code",
   "execution_count": 26,
   "id": "672885ff",
   "metadata": {},
   "outputs": [
    {
     "name": "stdout",
     "output_type": "stream",
     "text": [
      "[[ 0  1  2  3  4  5  6  7  8  9 10 11 12 13 14 15]\n",
      " [ 1  0  3  2  5  4  7  6  9  8 11 10 13 12 15 14]\n",
      " [ 2  3  0  1  6  7  4  5 10 11  8  9 14 15 12 13]\n",
      " [ 3  2  1  0  7  6  5  4 11 10  9  8 15 14 13 12]\n",
      " [ 4  5  6  7  0  1  2  3 12 13 14 15  8  9 10 11]\n",
      " [ 5  4  7  6  1  0  3  2 13 12 15 14  9  8 11 10]\n",
      " [ 6  7  4  5  2  3  0  1 14 15 12 13 10 11  8  9]\n",
      " [ 7  6  5  4  3  2  1  0 15 14 13 12 11 10  9  8]\n",
      " [ 8  9 10 11 12 13 14 15  0  1  2  3  4  5  6  7]\n",
      " [ 9  8 11 10 13 12 15 14  1  0  3  2  5  4  7  6]\n",
      " [10 11  8  9 14 15 12 13  2  3  0  1  6  7  4  5]\n",
      " [11 10  9  8 15 14 13 12  3  2  1  0  7  6  5  4]\n",
      " [12 13 14 15  8  9 10 11  4  5  6  7  0  1  2  3]\n",
      " [13 12 15 14  9  8 11 10  5  4  7  6  1  0  3  2]\n",
      " [14 15 12 13 10 11  8  9  6  7  4  5  2  3  0  1]\n",
      " [15 14 13 12 11 10  9  8  7  6  5  4  3  2  1  0]]\n",
      "[[ 1.+0.j  1.+0.j  1.+0.j  1.+0.j  1.+0.j  1.+0.j  1.+0.j  1.+0.j  1.+0.j\n",
      "   1.+0.j  1.+0.j  1.+0.j  1.+0.j  1.+0.j  1.+0.j  1.+0.j]\n",
      " [ 1.+0.j  1.+0.j  0.+1.j  0.-1.j  1.+0.j  1.+0.j  0.+1.j  0.-1.j  1.+0.j\n",
      "   1.+0.j  0.+1.j  0.-1.j  1.+0.j  1.+0.j  0.+1.j  0.-1.j]\n",
      " [ 1.+0.j  0.-1.j  1.+0.j  0.+1.j  1.+0.j  0.-1.j  1.+0.j  0.+1.j  1.+0.j\n",
      "   0.-1.j  1.+0.j  0.+1.j  1.+0.j  0.-1.j  1.+0.j  0.+1.j]\n",
      " [ 1.+0.j  0.+1.j  0.-1.j  1.+0.j  1.+0.j  0.+1.j  0.-1.j  1.+0.j  1.+0.j\n",
      "   0.+1.j  0.-1.j  1.+0.j  1.+0.j  0.+1.j  0.-1.j  1.+0.j]\n",
      " [ 1.+0.j  1.+0.j  1.+0.j  1.+0.j  1.+0.j  1.+0.j  1.+0.j  1.+0.j  0.+1.j\n",
      "   0.+1.j  0.+1.j  0.+1.j  0.-1.j  0.-1.j  0.-1.j  0.-1.j]\n",
      " [ 1.+0.j  1.+0.j  0.+1.j  0.-1.j  1.+0.j  1.+0.j  0.+1.j  0.-1.j  0.+1.j\n",
      "   0.+1.j -1.+0.j  1.+0.j  0.-1.j  0.-1.j  1.-0.j -1.+0.j]\n",
      " [ 1.+0.j  0.-1.j  1.+0.j  0.+1.j  1.+0.j  0.-1.j  1.+0.j  0.+1.j  0.+1.j\n",
      "   1.+0.j  0.+1.j -1.+0.j  0.-1.j -1.+0.j  0.-1.j  1.-0.j]\n",
      " [ 1.+0.j  0.+1.j  0.-1.j  1.+0.j  1.+0.j  0.+1.j  0.-1.j  1.+0.j  0.+1.j\n",
      "  -1.+0.j  1.+0.j  0.+1.j  0.-1.j  1.-0.j -1.+0.j  0.-1.j]\n",
      " [ 1.+0.j  1.+0.j  1.+0.j  1.+0.j  0.-1.j  0.-1.j  0.-1.j  0.-1.j  1.+0.j\n",
      "   1.+0.j  1.+0.j  1.+0.j  0.+1.j  0.+1.j  0.+1.j  0.+1.j]\n",
      " [ 1.+0.j  1.+0.j  0.+1.j  0.-1.j  0.-1.j  0.-1.j  1.-0.j -1.+0.j  1.+0.j\n",
      "   1.+0.j  0.+1.j  0.-1.j  0.+1.j  0.+1.j -1.+0.j  1.+0.j]\n",
      " [ 1.+0.j  0.-1.j  1.+0.j  0.+1.j  0.-1.j -1.+0.j  0.-1.j  1.-0.j  1.+0.j\n",
      "   0.-1.j  1.+0.j  0.+1.j  0.+1.j  1.+0.j  0.+1.j -1.+0.j]\n",
      " [ 1.+0.j  0.+1.j  0.-1.j  1.+0.j  0.-1.j  1.-0.j -1.+0.j  0.-1.j  1.+0.j\n",
      "   0.+1.j  0.-1.j  1.+0.j  0.+1.j -1.+0.j  1.+0.j  0.+1.j]\n",
      " [ 1.+0.j  1.+0.j  1.+0.j  1.+0.j  0.+1.j  0.+1.j  0.+1.j  0.+1.j  0.-1.j\n",
      "   0.-1.j  0.-1.j  0.-1.j  1.+0.j  1.+0.j  1.+0.j  1.+0.j]\n",
      " [ 1.+0.j  1.+0.j  0.+1.j  0.-1.j  0.+1.j  0.+1.j -1.+0.j  1.+0.j  0.-1.j\n",
      "   0.-1.j  1.-0.j -1.+0.j  1.+0.j  1.+0.j  0.+1.j  0.-1.j]\n",
      " [ 1.+0.j  0.-1.j  1.+0.j  0.+1.j  0.+1.j  1.+0.j  0.+1.j -1.+0.j  0.-1.j\n",
      "  -1.+0.j  0.-1.j  1.-0.j  1.+0.j  0.-1.j  1.+0.j  0.+1.j]\n",
      " [ 1.+0.j  0.+1.j  0.-1.j  1.+0.j  0.+1.j -1.+0.j  1.+0.j  0.+1.j  0.-1.j\n",
      "   1.-0.j -1.+0.j  0.-1.j  1.+0.j  0.+1.j  0.-1.j  1.+0.j]]\n"
     ]
    }
   ],
   "source": [
    "from helper import pauli_prod\n",
    "\n",
    "nbits = 2\n",
    "nops = 4**nbits\n",
    "\n",
    "idx = np.zeros([nops,nops], dtype=int)\n",
    "coeff = np.zeros([nops,nops],dtype=complex)\n",
    "\n",
    "for i in range(nops):\n",
    "    for j in range(nops):\n",
    "        idx[i][j], coeff[i][j] = pauli_prod(i,j,nbits)\n",
    "\n",
    "print(idx)\n",
    "print(coeff)"
   ]
  },
  {
   "cell_type": "code",
   "execution_count": 53,
   "id": "ab471eea",
   "metadata": {},
   "outputs": [
    {
     "name": "stdout",
     "output_type": "stream",
     "text": [
      "   |   II |   IX |   IY |   IZ |   XI |   XX |   XY |   XZ |   YI |   YX |   YY |   YZ |   ZI |   ZX |   ZY |   ZZ | \n",
      "II |  +II |  +IX |  +IY |  +IZ |  +XI |  +XX |  +XY |  +XZ |  +YI |  +YX |  +YY |  +YZ |  +ZI |  +ZX |  +ZY |  +ZZ | \n",
      "IX |  +IX |  +II | +iIZ | -iIY |  +XX |  +XI | +iXZ | -iXY |  +YX |  +YI | +iYZ | -iYY |  +ZX |  +ZI | +iZZ | -iZY | \n",
      "IY |  +IY | -iIZ |  +II | +iIX |  +XY | -iXZ |  +XI | +iXX |  +YY | -iYZ |  +YI | +iYX |  +ZY | -iZZ |  +ZI | +iZX | \n",
      "IZ |  +IZ | +iIY | -iIX |  +II |  +XZ | +iXY | -iXX |  +XI |  +YZ | +iYY | -iYX |  +YI |  +ZZ | +iZY | -iZX |  +ZI | \n",
      "XI |  +XI |  +XX |  +XY |  +XZ |  +II |  +IX |  +IY |  +IZ | +iZI | +iZX | +iZY | +iZZ | -iYI | -iYX | -iYY | -iYZ | \n",
      "XX |  +XX |  +XI | +iXZ | -iXY |  +IX |  +II | +iIZ | -iIY | +iZX | +iZI |  -ZZ |  +ZY | -iYX | -iYI |  +YZ |  -YY | \n",
      "XY |  +XY | -iXZ |  +XI | +iXX |  +IY | -iIZ |  +II | +iIX | +iZY |  +ZZ | +iZI |  -ZX | -iYY |  -YZ | -iYI |  +YX | \n",
      "XZ |  +XZ | +iXY | -iXX |  +XI |  +IZ | +iIY | -iIX |  +II | +iZZ |  -ZY |  +ZX | +iZI | -iYZ |  +YY |  -YX | -iYI | \n",
      "YI |  +YI |  +YX |  +YY |  +YZ | -iZI | -iZX | -iZY | -iZZ |  +II |  +IX |  +IY |  +IZ | +iXI | +iXX | +iXY | +iXZ | \n",
      "YX |  +YX |  +YI | +iYZ | -iYY | -iZX | -iZI |  +ZZ |  -ZY |  +IX |  +II | +iIZ | -iIY | +iXX | +iXI |  -XZ |  +XY | \n",
      "YY |  +YY | -iYZ |  +YI | +iYX | -iZY |  -ZZ | -iZI |  +ZX |  +IY | -iIZ |  +II | +iIX | +iXY |  +XZ | +iXI |  -XX | \n",
      "YZ |  +YZ | +iYY | -iYX |  +YI | -iZZ |  +ZY |  -ZX | -iZI |  +IZ | +iIY | -iIX |  +II | +iXZ |  -XY |  +XX | +iXI | \n",
      "ZI |  +ZI |  +ZX |  +ZY |  +ZZ | +iYI | +iYX | +iYY | +iYZ | -iXI | -iXX | -iXY | -iXZ |  +II |  +IX |  +IY |  +IZ | \n",
      "ZX |  +ZX |  +ZI | +iZZ | -iZY | +iYX | +iYI |  -YZ |  +YY | -iXX | -iXI |  +XZ |  -XY |  +IX |  +II | +iIZ | -iIY | \n",
      "ZY |  +ZY | -iZZ |  +ZI | +iZX | +iYY |  +YZ | +iYI |  -YX | -iXY |  -XZ | -iXI |  +XX |  +IY | -iIZ |  +II | +iIX | \n",
      "ZZ |  +ZZ | +iZY | -iZX |  +ZI | +iYZ |  -YY |  +YX | +iYI | -iXZ |  +XY |  -XX | -iXI |  +IZ | +iIY | -iIX |  +II | \n"
     ]
    }
   ],
   "source": [
    "from helper import int_to_base4\n",
    "def int_to_pauli(x,nbits):\n",
    "    p = int_to_base4(x,nbits)\n",
    "#     print(x)\n",
    "    pauli = [0]*nbits\n",
    "#     print(pauli)\n",
    "    for i in range(nbits):\n",
    "        if p[i] == 0:\n",
    "            pauli[i] = 'I'\n",
    "        elif p[i] == 1:\n",
    "            pauli[i] = 'X'\n",
    "        elif p[i] == 2:\n",
    "            pauli[i] = 'Y'\n",
    "        elif p[i] == 3:\n",
    "            pauli[i] = 'Z'\n",
    "#         print(pauli)\n",
    "    return ''.join(pauli)[::-1]\n",
    "\n",
    "for i in range(-1,nops):\n",
    "    for j in range(-1,nops):\n",
    "        if i==-1:\n",
    "            if j==-1:\n",
    "                print('{:>2}'.format(''),end=' | ',flush=True)\n",
    "            else:\n",
    "                print('{:>4}'.format(int_to_pauli(j,nbits)),end=' | ',flush=True)\n",
    "        else:\n",
    "            if j == -1:\n",
    "                print(int_to_pauli(i,nbits),end=' | ',flush=True)\n",
    "            else:\n",
    "                prod = int_to_pauli(idx[i][j],nbits)\n",
    "                c = ''\n",
    "                if np.real(coeff[i][j]) == 0:\n",
    "                    if np.imag(coeff[i][j]) > 0:\n",
    "                        c = '+i'\n",
    "                    else:\n",
    "                        c = '-i'\n",
    "                else:\n",
    "                    if np.real(coeff[i][j]) > 0:\n",
    "                        c = '+'\n",
    "                    else:\n",
    "                        c = '-'\n",
    "                s = c+prod\n",
    "                print('{:>4}'.format(s),end=' | ',flush=True)\n",
    "        if j == nops-1:\n",
    "            print()"
   ]
  },
  {
   "cell_type": "code",
   "execution_count": 60,
   "id": "5565d1a8",
   "metadata": {},
   "outputs": [],
   "source": [
    "# Function that returns all pauli strings with odd number of Y's\n",
    "def odd_y_pauli(nbits):\n",
    "    nops = 4**nbits\n",
    "    odds = []\n",
    "    for i in range(nops):\n",
    "        p = int_to_base4(i,nbits)\n",
    "        num_y = 0\n",
    "        for x in p:\n",
    "            if x == 2:\n",
    "                num_y += 1\n",
    "        if num_y % 2 == 1:\n",
    "            odds.append(i)\n",
    "    return odds\n",
    "\n",
    "# Function to update alist for the assumption of real Hamiltonian and state vectors:\n",
    "def update_alist_reals(sigma_expectation, alist, db, delta, hm, odds):\n",
    "    # number of qubits the hm term acts on\n",
    "    nbits = len(hm[0][2])\n",
    "    # number of pauli terms in hm\n",
    "    nterms = len(hm[0][0])\n",
    "    # number of pauli strings on that many qubits\n",
    "    nops = 2**(nbits - 1) * (2**nbits - 1)\n",
    "    \n",
    "    # Step 1: Obtain S matrix\n",
    "    S = np.zeros([nops,nops],dtype=complex)\n",
    "    for i in range(nops):\n",
    "        for j in range(nops):\n",
    "            p,c_ = pauli_prod(odds[i],odds[j],nbits)\n",
    "            S[i,j] =  sigma_expectation[p] * c_\n",
    "            \n",
    "    # Step 2: Obtain b vector\n",
    "    b = np.zeros(nops,dtype=complex)\n",
    "    c = 1\n",
    "    \n",
    "    for i in range(nterms):\n",
    "        c -= 2 * db * hm[0][1][i] * sigma_expectation[hm[0][0][i]]\n",
    "    c = np.sqrt(c)\n",
    "    \n",
    "    for i in range(nops):\n",
    "        b[i] += ( sigma_expectation[odds[i]]/c - sigma_expectation[odds[i]] ) / db\n",
    "        for j in range(nterms):\n",
    "            p,c_ = pauli_prod(odds[i],hm[0][0][j],nbits)\n",
    "            b[i] -= hm[0][1][j] * c_ * sigma_expectation[p] / c\n",
    "    b = 1j * (b - np.conj(b))\n",
    "    \n",
    "    # Step 3: Add regularizer\n",
    "    dalpha = np.eye(nops)*delta\n",
    "    \n",
    "    # Step 4: Solve for linear equation, the solutions is multiplies by -2 because of the definition of unitary rotations is exp(-i theta/2)\n",
    "    x = np.linalg.lstsq(S + np.transpose(S) + dalpha, -b, rcond=-1)[0]\n",
    "    alist.append([])\n",
    "    for i in range(len(x)):\n",
    "        alist[-1].append(-x[i]*2*db)\n",
    "        \n",
    "    return c"
   ]
  }
 ],
 "metadata": {
  "kernelspec": {
   "display_name": "Python 3 (ipykernel)",
   "language": "python",
   "name": "python3"
  },
  "language_info": {
   "codemirror_mode": {
    "name": "ipython",
    "version": 3
   },
   "file_extension": ".py",
   "mimetype": "text/x-python",
   "name": "python",
   "nbconvert_exporter": "python",
   "pygments_lexer": "ipython3",
   "version": "3.10.0"
  }
 },
 "nbformat": 4,
 "nbformat_minor": 5
}
