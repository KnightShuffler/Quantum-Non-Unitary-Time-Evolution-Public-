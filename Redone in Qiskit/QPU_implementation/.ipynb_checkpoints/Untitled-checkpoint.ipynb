{
 "cells": [
  {
   "cell_type": "code",
   "execution_count": 1,
   "id": "2ae84838",
   "metadata": {},
   "outputs": [],
   "source": [
    "from qite import *\n",
    "from helper import *\n",
    "%matplotlib inline\n",
    "import matplotlib.pyplot as plt\n",
    "\n",
    "from qiskit.quantum_info import Statevector"
   ]
  },
  {
   "cell_type": "code",
   "execution_count": 6,
   "id": "f0592339",
   "metadata": {},
   "outputs": [
    {
     "name": "stdout",
     "output_type": "stream",
     "text": [
      "[1, 2, 3]\n",
      "[0, 1, 2]\n"
     ]
    },
    {
     "data": {
      "text/html": [
       "<pre style=\"word-wrap: normal;white-space: pre;background: #fff0;line-height: 1.1;font-family: &quot;Courier New&quot;,Courier,monospace\">        ┌───┐                                     ┌───┐   \n",
       "q_0: ───┤ H ├─────■─────────────────────────■─────┤ H ├───\n",
       "     ┌──┴───┴──┐┌─┴─┐                     ┌─┴─┐┌──┴───┴──┐\n",
       "q_1: ┤ Rx(π/2) ├┤ X ├──■───────────────■──┤ X ├┤ Rx(π/2) ├\n",
       "     └─────────┘└───┘┌─┴─┐┌─────────┐┌─┴─┐└───┘└─────────┘\n",
       "q_2: ────────────────┤ X ├┤ Rz(π/4) ├┤ X ├────────────────\n",
       "                     └───┘└─────────┘└───┘                </pre>"
      ],
      "text/plain": [
       "        ┌───┐                                     ┌───┐   \n",
       "q_0: ───┤ H ├─────■─────────────────────────■─────┤ H ├───\n",
       "     ┌──┴───┴──┐┌─┴─┐                     ┌─┴─┐┌──┴───┴──┐\n",
       "q_1: ┤ Rx(π/2) ├┤ X ├──■───────────────■──┤ X ├┤ Rx(π/2) ├\n",
       "     └─────────┘└───┘┌─┴─┐┌─────────┐┌─┴─┐└───┘└─────────┘\n",
       "q_2: ────────────────┤ X ├┤ Rz(π/4) ├┤ X ├────────────────\n",
       "                     └───┘└─────────┘└───┘                "
      ]
     },
     "execution_count": 6,
     "metadata": {},
     "output_type": "execute_result"
    }
   ],
   "source": [
    "qc = QuantumCircuit(3)\n",
    "qbits = [0,1,2]\n",
    "p = 16*1 + 4*2 + 1*3\n",
    "\n",
    "# def ib4(x, nbit):\n",
    "#     string = [0] * nbit\n",
    "#     for i in range(nbit):\n",
    "#         print(x,x//4,x%4)\n",
    "#         string[-(i+1)] = x % 4\n",
    "#         x = x//4\n",
    "#     return string\n",
    "\n",
    "# print(ib4(p,3))\n",
    "\n",
    "\n",
    "# initialize state\n",
    "zero    = np.array([1,0],dtype=complex)\n",
    "one     = np.array([0,1],dtype=complex)\n",
    "plus    = np.array([1,1],dtype=complex)   * np.sqrt(0.5)\n",
    "minus   = np.array([1,-1],dtype=complex)  * np.sqrt(0.5)\n",
    "plus_i  = np.array([1,1j],dtype=complex)  * np.sqrt(0.5)\n",
    "minus_i = np.array([1,-1j],dtype=complex) * np.sqrt(0.5)\n",
    "\n",
    "theta = np.pi/4\n",
    "nbit = len(qbits)\n",
    "pstring = int_to_base4(p,nbit)\n",
    "print(pstring)\n",
    "cnots = []\n",
    "\n",
    "for i in range(nbit):\n",
    "    if pstring[i] == 1:\n",
    "        qc.h(qbits[i])\n",
    "    elif pstring[i] == 2:\n",
    "        qc.rx(np.pi/2, qbits[i])\n",
    "    elif pstring[i] == 3:\n",
    "        None\n",
    "    else: # pstring[i] == 0, don't add this to the list of cnots\n",
    "        continue\n",
    "    cnots.append(qbits[i])\n",
    "\n",
    "print(cnots)\n",
    "\n",
    "for i in range(len(cnots)-1):\n",
    "    qc.cx(cnots[i],cnots[i+1])\n",
    "\n",
    "qc.rz(theta, cnots[-1])\n",
    "\n",
    "for i in range(len(cnots)-2,-1,-1):\n",
    "    qc.cx(cnots[i], cnots[i+1])\n",
    "\n",
    "for i in range(nbit):\n",
    "    if pstring[i] == 1:\n",
    "        qc.h(qbits[i])\n",
    "    elif pstring[i] == 2:\n",
    "        qc.rx(np.pi/2, qbits[i])\n",
    "    else:\n",
    "        None\n",
    "    \n",
    "qc.draw()"
   ]
  },
  {
   "cell_type": "code",
   "execution_count": null,
   "id": "2e5339db",
   "metadata": {},
   "outputs": [],
   "source": []
  }
 ],
 "metadata": {
  "kernelspec": {
   "display_name": "Python 3 (ipykernel)",
   "language": "python",
   "name": "python3"
  },
  "language_info": {
   "codemirror_mode": {
    "name": "ipython",
    "version": 3
   },
   "file_extension": ".py",
   "mimetype": "text/x-python",
   "name": "python",
   "nbconvert_exporter": "python",
   "pygments_lexer": "ipython3",
   "version": "3.10.0"
  }
 },
 "nbformat": 4,
 "nbformat_minor": 5
}
