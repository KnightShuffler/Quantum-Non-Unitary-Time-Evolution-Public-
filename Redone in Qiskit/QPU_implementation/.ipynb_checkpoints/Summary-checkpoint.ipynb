{
 "cells": [
  {
   "cell_type": "markdown",
   "id": "747ccb44",
   "metadata": {},
   "source": [
    "# Rewriting Motta's Code for Qiskit and Mixed Qubit Hamiltonians"
   ]
  },
  {
   "cell_type": "code",
   "execution_count": 2,
   "id": "b52a1b63",
   "metadata": {},
   "outputs": [],
   "source": [
    "import numpy as np\n",
    "from qiskit import execute, Aer\n",
    "from qiskit import QuantumCircuit\n",
    "from qiskit.visualization import plot_histogram, plot_state_qsphere\n",
    "\n",
    "aer_sim = Aer.get_backend('aer_simulator')\n",
    "\n",
    "import matplotlib.pyplot as plt\n",
    "%matplotlib inline\n",
    "\n",
    "import time"
   ]
  },
  {
   "cell_type": "markdown",
   "id": "d873b7f3",
   "metadata": {},
   "source": [
    "# Pauli Poducts"
   ]
  },
  {
   "cell_type": "code",
   "execution_count": 3,
   "id": "8d75a6f5",
   "metadata": {},
   "outputs": [],
   "source": [
    "pauli_prod = [ np.zeros([4,4],dtype=int), np.zeros([4,4],dtype=complex) ]\n",
    "\n",
    "pauli_prod[0][0,:]=[0,1,2,3]\n",
    "pauli_prod[0][1,:]=[1,0,3,2]\n",
    "pauli_prod[0][2,:]=[2,3,0,1]\n",
    "pauli_prod[0][3,:]=[3,2,1,0]\n",
    "\n",
    "pauli_prod[1][0,:]=[1,  1,  1,  1]\n",
    "pauli_prod[1][1,:]=[1,  1, 1j,-1j]\n",
    "pauli_prod[1][2,:]=[1,-1j,  1, 1j]\n",
    "pauli_prod[1][3,:]=[1, 1j,-1j,  1]"
   ]
  },
  {
   "cell_type": "markdown",
   "id": "8831fc9a",
   "metadata": {},
   "source": [
    "## Helper Functions"
   ]
  },
  {
   "cell_type": "code",
   "execution_count": 4,
   "id": "74103048",
   "metadata": {},
   "outputs": [],
   "source": [
    "def int_to_base(x, b, num_digits):\n",
    "    '''\n",
    "    convert a non-negative integer x to base b and return the digits in a list\n",
    "    '''\n",
    "    if x < 0:\n",
    "        raise ValueError('x must be non-negative')\n",
    "    digits = [0] * num_digits\n",
    "    for i in range(num_digits):\n",
    "        digits[i] = x % b\n",
    "        x = x//b\n",
    "    return digits\n",
    "\n",
    "def base_to_int(digits, b):\n",
    "    '''\n",
    "    convert a list of base b digits to an integer\n",
    "    '''\n",
    "    x = 0\n",
    "    for i in range(len(digits)):\n",
    "        x += digits[i] * (b**i)\n",
    "    return x\n",
    "\n",
    "def pauli_string_prod(p1,p2,nbits):\n",
    "    '''\n",
    "    returns the product of two nbit long pauli strings\n",
    "    p1 and p2 are both nbit digit base 4 number representing the pauli string\n",
    "    \n",
    "    an nbit digit base 4 number representing the product, and the coefficient are returned\n",
    "    '''\n",
    "    pstring1 = int_to_base(p1,4,nbits)\n",
    "    pstring2 = int_to_base(p2,4,nbits)\n",
    "    \n",
    "    c = 1+0.j\n",
    "    prod = [0]*nbits\n",
    "    \n",
    "    for i in range(nbits):\n",
    "        prod[i] = pauli_prod[0][pstring1[i], pstring2[i]]\n",
    "        c      *= pauli_prod[1][pstring1[i], pstring2[i]]\n",
    "    \n",
    "    return base_to_int(prod,4), c\n",
    "\n",
    "def odd_y_pauli_strings(nbits):\n",
    "    '''\n",
    "    returns a list of all the nbit long pauli strings with an odd number of Ys\n",
    "    '''\n",
    "    \n",
    "    nops = 4**nbits\n",
    "    odd_y = []\n",
    "    for i in range(nops):\n",
    "        p = int_to_base(i,4,nbits)\n",
    "        num_y = 0\n",
    "        # count the number of Y gates in the string\n",
    "        for x in p:\n",
    "            if x == 2:\n",
    "                num_y += 1\n",
    "        # append if odd number of Ys\n",
    "        if num_y %2 == 1:\n",
    "            odd_y.append(i)\n",
    "    return odd_y"
   ]
  },
  {
   "cell_type": "markdown",
   "id": "a339d6df",
   "metadata": {},
   "source": [
    "## Quantum Circuit Functions"
   ]
  },
  {
   "cell_type": "code",
   "execution_count": 5,
   "id": "e09a9f19",
   "metadata": {},
   "outputs": [],
   "source": [
    "def run_circuit(qc, backend, num_shots=1024):\n",
    "    '''\n",
    "    Run the circuit and return a dictionary of the measured counts\n",
    "\n",
    "    qc:         The circuit you are running\n",
    "    backend:    What backend you're running the circuit on\n",
    "    num_shots:  The number of times you run the circuit for measurement statistics\n",
    "    '''\n",
    "    result = execute(qc, backend, shots=num_shots).result()\n",
    "    return dict(result.get_counts())\n",
    "\n",
    "def measure(qc, p, qbits, backend, num_shots=1024):\n",
    "    '''\n",
    "    Measures in the pauli string P basis and returns the expected value from the statistics\n",
    "    assumes the quantum circuit has the same number of quantum and classial bits\n",
    "    '''\n",
    "    \n",
    "    # <psi|I|psi> = 1 for all states\n",
    "    if p == 0:\n",
    "        return 1\n",
    "    \n",
    "    nbits = len(qbits)\n",
    "    pstring = int_to_base(p, 4, nbits)\n",
    "\n",
    "    # Stores the qubit indices that aren't acted on by I\n",
    "    active = []\n",
    "\n",
    "    for i in range(nbits):\n",
    "        if pstring[i] == 0:\n",
    "            # I only has +1 eigenvalues, so the measurement is +1\n",
    "            continue\n",
    "        elif pstring[i] == 1:\n",
    "            # Apply H to rotate from X to Z basis\n",
    "            qc.h(qbits[i])\n",
    "        elif pstring[i] == 2:\n",
    "            # Apply Rx(-pi/2) to rotate from Y to Z basis\n",
    "            qc.rx(-np.pi/2, qbits[i])\n",
    "        elif pstring[i] == 3:\n",
    "            # Already in Z-basis\n",
    "            None\n",
    "        active.append( qbits[i] )\n",
    "\n",
    "    # Add measurements to the circuit\n",
    "    for bit in active:\n",
    "        qc.measure(bit,bit)\n",
    "\n",
    "    # Get the measurement statistics\n",
    "    counts = run_circuit(qc, backend, num_shots=num_shots)\n",
    "\n",
    "    expectation = 0\n",
    "    for key in counts.keys():\n",
    "        # Remove any spaces in the key\n",
    "        k = key.replace(' ','') \n",
    "        # reverse the key to match ordering of bits\n",
    "        k = k[::-1]\n",
    "        sign = 1\n",
    "        # Every 1 measured is a -1 eigenvalue\n",
    "        for a in active:\n",
    "            if k[ a ] == '1':\n",
    "                sign *= -1\n",
    "        expectation += sign*counts[key]\n",
    "\n",
    "    expectation /= num_shots\n",
    "    return expectation, counts\n",
    "\n",
    "def pauli_string_exp(qc, qbits, p, theta):\n",
    "    '''\n",
    "    add gates to perform exp(-i theta/2 P) where P is the pauli string\n",
    "    '''\n",
    "    \n",
    "    nbits = len(qbits)\n",
    "    \n",
    "    pstring = int_to_base(p,4,nbits)\n",
    "    \n",
    "    # stores the qubit indices that aren't I\n",
    "    active = []\n",
    "    # stores the corresponding gate on the active qubit\n",
    "    gates  = []\n",
    "    for i in range(nbits):\n",
    "        if pstring[i] != 0:\n",
    "            active.append(qbits[i])\n",
    "            gates.append(pstring[i])\n",
    "    \n",
    "    nactive = len(active)\n",
    "    \n",
    "    # If the string is identity, the effect is to multiply by a global phase, so we can ignore it\n",
    "    if nactive == 0:\n",
    "        return\n",
    "    # If there is only one active qubit, we can rotate it directly\n",
    "    elif nactive == 1:\n",
    "        if gates[0] == 1:\n",
    "            qc.rx(theta, active[0])\n",
    "        elif gates[0] == 2:\n",
    "            qc.ry(theta, active[0])\n",
    "        elif gates[0] == 3:\n",
    "            qc.rz(theta, active[0])\n",
    "    # Apply the rotation about the Pauli string for multiple active qubits\n",
    "    else:\n",
    "        # Rotate to Z basis\n",
    "        for i in range(nactive):\n",
    "            # Apply H to go from X to Z basis\n",
    "            if gates[i] == 1:\n",
    "                qc.h(active[i])\n",
    "            # Apply Rx(pi/2) to go from Y to Z basis\n",
    "            elif gates[i] == 2:\n",
    "                qc.rx(np.pi/2, active[i])\n",
    "        \n",
    "        # Cascading CNOTs\n",
    "        for i in range(nactive-1):\n",
    "            qc.cx(active[i],active[i+1])\n",
    "            \n",
    "        # Rotate\n",
    "        qc.rz(theta, active[-1])\n",
    "        \n",
    "        # Undo cascading CNOTs\n",
    "        for i in range(nactive-2,-1,-1):\n",
    "            qc.cx(active[i],active[i+1])\n",
    "            \n",
    "        # Rotate back to original basis\n",
    "        for i in range(nactive):\n",
    "            # Apply H to go from Z to X basis\n",
    "            if gates[i] == 1:\n",
    "                qc.h(active[i])\n",
    "            # Apply Rx(-pi/2) to go from Z to Y basis\n",
    "            elif gates[i] == 2:\n",
    "                qc.rx(-np.pi/2,active[i])"
   ]
  },
  {
   "cell_type": "markdown",
   "id": "c4e4baae",
   "metadata": {},
   "source": [
    "## Verify these work"
   ]
  },
  {
   "cell_type": "code",
   "execution_count": 6,
   "id": "88798fb3",
   "metadata": {},
   "outputs": [
    {
     "data": {
      "text/html": [
       "<pre style=\"word-wrap: normal;white-space: pre;background: #fff0;line-height: 1.1;font-family: &quot;Courier New&quot;,Courier,monospace\">        ┌───┐    ░    ┌───┐                           ┌───┐     ░    ┌───┐    »\n",
       "q_0: ───┤ H ├────░────┤ H ├─────■───────────────■─────┤ H ├─────░────┤ H ├────»\n",
       "     ┌──┴───┴──┐ ░    └───┘     │               │     └───┘     ░ ┌──┴───┴───┐»\n",
       "q_1: ┤ Rx(π/2) ├─░──────────────┼───────────────┼───────────────░─┤ Rx(-π/2) ├»\n",
       "     └─────────┘ ░ ┌─────────┐┌─┴─┐┌─────────┐┌─┴─┐┌──────────┐ ░ └───┬─┬────┘»\n",
       "q_2: ────────────░─┤ Rx(π/2) ├┤ X ├┤ Rz(π/2) ├┤ X ├┤ Rx(-π/2) ├─░─────┤M├─────»\n",
       "                 ░ └─────────┘└───┘└─────────┘└───┘└──────────┘ ░     └╥┘     »\n",
       "c: 3/══════════════════════════════════════════════════════════════════╩══════»\n",
       "                                                                       2      »\n",
       "«     ┌─┐   \n",
       "«q_0: ┤M├───\n",
       "«     └╥┘┌─┐\n",
       "«q_1: ─╫─┤M├\n",
       "«      ║ └╥┘\n",
       "«q_2: ─╫──╫─\n",
       "«      ║  ║ \n",
       "«c: 3/═╩══╩═\n",
       "«      0  1 </pre>"
      ],
      "text/plain": [
       "        ┌───┐    ░    ┌───┐                           ┌───┐     ░    ┌───┐    »\n",
       "q_0: ───┤ H ├────░────┤ H ├─────■───────────────■─────┤ H ├─────░────┤ H ├────»\n",
       "     ┌──┴───┴──┐ ░    └───┘     │               │     └───┘     ░ ┌──┴───┴───┐»\n",
       "q_1: ┤ Rx(π/2) ├─░──────────────┼───────────────┼───────────────░─┤ Rx(-π/2) ├»\n",
       "     └─────────┘ ░ ┌─────────┐┌─┴─┐┌─────────┐┌─┴─┐┌──────────┐ ░ └───┬─┬────┘»\n",
       "q_2: ────────────░─┤ Rx(π/2) ├┤ X ├┤ Rz(π/2) ├┤ X ├┤ Rx(-π/2) ├─░─────┤M├─────»\n",
       "                 ░ └─────────┘└───┘└─────────┘└───┘└──────────┘ ░     └╥┘     »\n",
       "c: 3/══════════════════════════════════════════════════════════════════╩══════»\n",
       "                                                                       2      »\n",
       "«     ┌─┐   \n",
       "«q_0: ┤M├───\n",
       "«     └╥┘┌─┐\n",
       "«q_1: ─╫─┤M├\n",
       "«      ║ └╥┘\n",
       "«q_2: ─╫──╫─\n",
       "«      ║  ║ \n",
       "«c: 3/═╩══╩═\n",
       "«      0  1 "
      ]
     },
     "execution_count": 6,
     "metadata": {},
     "output_type": "execute_result"
    }
   ],
   "source": [
    "qc = QuantumCircuit(3,3)\n",
    "\n",
    "qc.h(0)\n",
    "qc.rx(np.pi/2,1)\n",
    "\n",
    "qc.barrier()\n",
    "\n",
    "p = 1+2*4+3*16\n",
    "\n",
    "pauli_string_exp(qc,[0,2],1+2*4,np.pi/2)\n",
    "qc.barrier()\n",
    "expectation, counts = measure(qc, p, [0,1,2], aer_sim)\n",
    "qc.draw()"
   ]
  },
  {
   "cell_type": "code",
   "execution_count": 7,
   "id": "58688dad",
   "metadata": {},
   "outputs": [
    {
     "name": "stdout",
     "output_type": "stream",
     "text": [
      "0.03125\n"
     ]
    },
    {
     "data": {
      "image/png": "[encoded data removed]",
      "text/plain": [
       "<Figure size 504x360 with 1 Axes>"
      ]
     },
     "execution_count": 7,
     "metadata": {},
     "output_type": "execute_result"
    }
   ],
   "source": [
    "print(expectation)\n",
    "plot_histogram(counts)"
   ]
  },
  {
   "cell_type": "markdown",
   "id": "93d761df",
   "metadata": {},
   "source": [
    "# Data Structure for Hamiltonian H and Unitary Approximations via A:\n",
    "\n",
    "$H$ will be converted into a sum of pauli strings acting on different qubits, $ H = \\sum_m \\alpha_m h_m $.\n",
    "\n",
    "We will store the superposition of these $h_m$ terms in a list. Each term hm is a list of the format:\n",
    "\n",
    "`hm = [ [pauli string indices], [corresponding amplitude of the pauli strings], [qubit indices that the string acts on] ]`\n",
    "So:\n",
    "* `hm_list[i]` gives a term of the form above,\n",
    "* `hm_list[i][0]` is the list of Pauli strings in the term, \n",
    "* `hm_list[i][1]` is the list the Pauli string amplitudes,\n",
    "* `hm_list[i][2]` is the list of qubits that the $h_m$ term acts on.\n",
    "\n",
    "Corresponding to each $h_m$, for each imaginary time step, we need to approximate the imaginary time evolution of $h_m$ via a Hermitian $A_m^{(\\beta)} = \\sum_I a_I \\sigma_I $. The unitary is \n",
    "$$\\exp\\left(-i A_m^{(\\beta)} d\\beta\\right) = \\prod_I \\exp\\left(-i a_I \\sigma_I d\\beta\\right)$$\n",
    "\n",
    "We will store the vectors $[a_I]$ in a list of terms of the form:\n",
    "`alist_term = [ [coefficients a_I], [indices of the qubits] ] ` in the order that they need to be applied. So: \n",
    "* `alist[t]` gives a term of the form above,\n",
    "* `alist[t][0]` gives the list of coefficients, \n",
    "* `alist[t][1]` gives the list of qubits that the term acts on."
   ]
  },
  {
   "cell_type": "code",
   "execution_count": 8,
   "id": "a01baa47",
   "metadata": {},
   "outputs": [],
   "source": [
    "def propogate(qc, alist):\n",
    "    '''\n",
    "    Applies the unitaries described by each time step's A\n",
    "    '''\n",
    "    for t in range(len(alist)):\n",
    "        active = alist[t][1]\n",
    "        nbits = len(active)\n",
    "        for pstring in range(1,4**nbits):\n",
    "            angle = np.real(alist[t][0][pstring])\n",
    "            if np.abs(angle) > 1e-5:\n",
    "                pauli_string_exp(qc, active, pstring, angle)"
   ]
  },
  {
   "cell_type": "markdown",
   "id": "a2de07bd",
   "metadata": {},
   "source": [
    "$\\newcommand{\\ket}[1]{|#1\\rangle}$\n",
    "$\\newcommand{\\bra}[1]{\\langle#1|}$\n",
    "\n",
    "# Calculating the coefficients $a_I$:\n",
    "\n",
    "## Step 1: Calculate S\n",
    "\n",
    "$ S_{I,J} = \\bra{\\psi} \\sigma_I^\\dagger \\sigma_J \\ket{\\psi} = \\bra{\\psi} \\sigma_I \\sigma_J \\ket{\\psi} $. These terms can be found by performing tomography on the state prepared so far. All the expectation values from the measurements are stored in the list `sigma_expectation`.\n",
    "We then extract the real part of this: $S \\mapsto S+S^T = 2\\mathrm{Re}[S]$\n",
    "\n",
    "## Step 2: Calculate b\n",
    "$$\\ket{\\bar\\psi^\\prime} = \\frac{1}{\\sqrt{c}} \\exp\\left( -d\\beta\\ \\hat{h}[l] \\right)\\ket{\\psi} = \\exp\\left(-i\\ d\\beta\\ \\hat{A}[l]\\right)\\ket{\\psi}$$\n",
    "\n",
    "$$ c = \\bra\\psi e^{-2\\ d\\beta\\ \\hat{h}[l]}\\ket\\psi = \\bra\\psi (\\mathbb{1} - 2\\ d\\beta\\ \\hat{h}[l] + O(d\\beta^2) \\ket\\psi $$\n",
    "$$ c \\approx 1 - 2\\ d\\beta\\ \\sum_I \\alpha_I \\sigma_I $$\n",
    "\n",
    "$$\\ket{\\Delta_0} = \\frac{\\ket{\\bar\\psi} - \\ket\\psi}{d\\beta}, \\quad \\ket\\Delta = -i\\hat{A}[l]\\ket\\psi$$\n",
    "\n",
    "$$b_I = -2 \\mathrm{Im}[\\bra\\psi \\sigma_I^\\dagger \\ket{\\Delta_0}] \\approx -2 \\mathrm{Im}\\left[\\frac{1}{d\\beta}\\left(\\frac{1}{\\sqrt{c}} - 1\\right) \\bra\\psi\\sigma_I\\ket\\psi \n",
    "- \\frac{1}{\\sqrt{c}} \\sum_{J \\in h_m} \\alpha_J  \\bra\\psi\\sigma_I^\\dagger\\sigma_J\\ket\\psi\n",
    "\\right]$$"
   ]
  },
  {
   "cell_type": "code",
   "execution_count": 9,
   "id": "e9c0ad18",
   "metadata": {},
   "outputs": [],
   "source": [
    "def update_alist(sigma_expectation, alist, db, delta, hm):\n",
    "    '''\n",
    "    updates the a term for hm given the tomography of the state prepared so far from sigma_expectation,\n",
    "    returns the norm of the imaginary time evolved state\n",
    "    '''\n",
    "    # number of qubits that the term acts on\n",
    "    nbits = len(hm[2])\n",
    "    # number of pauli terms present in hm\n",
    "    nterms = len(hm[0])\n",
    "    \n",
    "    nops = 4**nbits\n",
    "    \n",
    "    # Step 1: Obtain S matrix:\n",
    "    # S[I,J] = <psi| sigma_I sigma_J |psi>\n",
    "    \n",
    "    S = np.zeros([nops,nops],dtype=complex)\n",
    "    for i in range(nops):\n",
    "        for j in range(nops):\n",
    "            p,c_ = pauli_string_prod(i,j,nbits)\n",
    "            S[i,j] = sigma_expectation[p]*c_\n",
    "    \n",
    "    # Step 2: Obtain b vector\n",
    "    b = np.zeros(nops,dtype=complex)\n",
    "    c = 1\n",
    "    \n",
    "    for i in range(nterms):\n",
    "        c -= 2* db* hm[1][i] * sigma_expectation[hm[0][i]]\n",
    "    c = np.sqrt(c)\n",
    "    \n",
    "    for i in range(nops):\n",
    "        b[i] += ( 1/c - 1 ) * sigma_expectation[i] / db\n",
    "        for j in range(nterms):\n",
    "            p,c_ = pauli_string_prod(i,hm[0][j],nbits)\n",
    "            b[i] -= hm[1][j] * c_ * sigma_expectation[p] / c\n",
    "    b = -2*np.imag(b)\n",
    "    \n",
    "    # Step 3: Add regularizer to make sure the system can be solved\n",
    "    dalpha = np.eye(nops)*delta\n",
    "    \n",
    "    # Step 4: Solve the system\n",
    "    x = np.linalg.lstsq(2*np.real(S) + dalpha, -b, rcond=-1)[0]\n",
    "    \n",
    "    # Multiply by -2 db because the rotation gate is of the form exp(-i theta/2 P), but we want exp(i theta P)\n",
    "    a_coefficients = -2*db*x\n",
    "    # Append to the a coefficients\n",
    "    alist.append([a_coefficients, hm[2]])\n",
    "    \n",
    "    return c"
   ]
  },
  {
   "cell_type": "markdown",
   "id": "5a0985c6",
   "metadata": {},
   "source": [
    "# Implementation of the QITE Algorithm\n",
    "\n",
    "1. Loop for `N` imaginary time steps of size `db`:\n",
    "    1. For each term $h_m$ of $H$:\n",
    "        1. `propogate` using the coefficients in `alist` calculated so far\n",
    "        2. Perform tomography on the active qubits in $h_m$ and store the expectations in `sigma_expectations`\n",
    "        3. Add a new `alist` term from these measurement statistics\n",
    "    2. Measure $\\bra\\psi H \\ket\\psi$ and store in `E[i]`"
   ]
  },
  {
   "cell_type": "code",
   "execution_count": 49,
   "id": "377185fb",
   "metadata": {},
   "outputs": [],
   "source": [
    "def measure_energy(alist, nbits, hm_list, backend, shots=1024):\n",
    "    '''\n",
    "    Measure the expected energy of the state evolved by alist, given the hm_list of the Hamiltonian\n",
    "    '''\n",
    "    Energy = 0\n",
    "    \n",
    "    # For each hm term\n",
    "    for hm in hm_list:\n",
    "        # For each pauli term in hm\n",
    "        for j in range(len(hm[0])):\n",
    "            qc = QuantumCircuit(nbits, nbits)\n",
    "            # Get the state evolved from alist\n",
    "            propogate(qc, alist)\n",
    "            \n",
    "            # Measure the expected value of the pauli term in this state\n",
    "            expectation, counts = measure(qc, hm[0][j], hm[2], backend, num_shots=shots)\n",
    "            \n",
    "            # Add this with the relevant weight to the energy total\n",
    "            Energy += hm[1][j] * expectation\n",
    "    return Energy\n",
    "\n",
    "def tomography(alist, qbits, nbits, backend, shots=1024):\n",
    "    '''\n",
    "    Perform tomography on the state evolved by alist\n",
    "    '''\n",
    "    nactive = len(qbits)\n",
    "    nops = 4**nactive\n",
    "    \n",
    "    sigma_expectation = np.zeros(nops,dtype=float)\n",
    "    \n",
    "    # <psi|I|psi> = 1 for all states\n",
    "    sigma_expectation[0] = 1\n",
    "    \n",
    "    for i in range(1,nops):\n",
    "        qc = QuantumCircuit(nbits,nbits)\n",
    "        # Get the state evolved from alist\n",
    "        propogate(qc,alist)\n",
    "        \n",
    "        # measure the expectation of the pauli string indexed by i\n",
    "        sigma_expectation[i],counts = measure(qc, i, qbits, backend, num_shots=shots)\n",
    "    return sigma_expectation\n",
    "\n",
    "def qite_step(alist, db, delta, nbits, hm_list, backend, shots=1024):\n",
    "    '''\n",
    "    performs one imaginary time step of size db in the QITE\n",
    "    '''\n",
    "    for hm in hm_list:\n",
    "        # peform tomography on the active qubits in hm\n",
    "        sigma_expectation = tomography(alist, hm[2], nbits, backend, shots)\n",
    "        # obtain the next alist term corresponding to hm\n",
    "        norm = update_alist(sigma_expectation, alist, db, delta, hm)\n",
    "    return alist\n",
    "\n",
    "import time\n",
    "\n",
    "def qite(db, delta, N, nbits, hm_list, backend, shots=1024, details=False):\n",
    "    '''\n",
    "    Performs the QITE algorithm with: \n",
    "        db: a time step,\n",
    "        delta: a regularization,\n",
    "        N: number of total iterations (time steps)\n",
    "        nbits: number of qubits in the whole system\n",
    "        hm_list: list of local terms in the Hamiltonian\n",
    "        backend: the backend that the quantum circuit will run on\n",
    "        shots: the number of shots for each circuit run\n",
    "        details: flag to show details while the algorithm runs\n",
    "    '''\n",
    "    # stores the mean energy for each time step\n",
    "    E = np.zeros(N+1,dtype=float)\n",
    "    # stores the iteration times\n",
    "    times = np.zeros(N+1,dtype=float)\n",
    "    \n",
    "    alist = []\n",
    "    \n",
    "    E[0] = measure_energy(alist, nbits, hm_list, backend, shots)\n",
    "    \n",
    "    start = 0\n",
    "    end = 0\n",
    "    if details:\n",
    "        print('Starting QITE Loop')\n",
    "    \n",
    "    for i in range(1,N+1):\n",
    "        if details:\n",
    "            print('i={}:'.format(i), end='  ', flush=True)\n",
    "            start = time.time()\n",
    "\n",
    "        # correction_matrix = estimate_assignment_probs()\n",
    "        alist = qite_step(alist, db, delta, nbits, hm_list, backend, shots)\n",
    "        # Record the energy of the system after the QITE step\n",
    "        E[i] = measure_energy(alist, nbits, hm_list, backend, shots)\n",
    "\n",
    "        if details:\n",
    "            end = time.time()\n",
    "            duration = end-start\n",
    "            times[i] = duration\n",
    "            print('Execution time: {:.2f} seconds'.format(duration))\n",
    "\n",
    "    return E,times"
   ]
  },
  {
   "cell_type": "code",
   "execution_count": 57,
   "id": "3845a8ad",
   "metadata": {},
   "outputs": [
    {
     "name": "stdout",
     "output_type": "stream",
     "text": [
      "Starting QITE Loop\n",
      "i=1:  Execution time: 0.19 seconds\n",
      "i=2:  Execution time: 1.19 seconds\n",
      "i=3:  Execution time: 3.16 seconds\n",
      "i=4:  Execution time: 4.48 seconds\n",
      "i=5:  Execution time: 6.11 seconds\n",
      "i=6:  Execution time: 7.78 seconds\n",
      "i=7:  Execution time: 7.98 seconds\n",
      "i=8:  Execution time: 10.05 seconds\n",
      "i=9:  Execution time: 10.72 seconds\n",
      "i=10:  Execution time: 12.86 seconds\n",
      "i=11:  Execution time: 14.05 seconds\n",
      "i=12:  Execution time: 17.03 seconds\n",
      "i=13:  Execution time: 16.31 seconds\n",
      "i=14:  Execution time: 18.49 seconds\n",
      "i=15:  Execution time: 20.25 seconds\n",
      "i=16:  Execution time: 20.91 seconds\n",
      "i=17:  Execution time: 24.26 seconds\n",
      "i=18:  Execution time: 23.60 seconds\n",
      "i=19:  Execution time: 24.80 seconds\n",
      "i=20:  Execution time: 26.68 seconds\n",
      "i=21:  Execution time: 27.33 seconds\n",
      "i=22:  Execution time: 28.36 seconds\n",
      "i=23:  Execution time: 29.74 seconds\n",
      "i=24:  Execution time: 32.65 seconds\n",
      "i=25:  Execution time: 33.88 seconds\n"
     ]
    }
   ],
   "source": [
    "N = 25\n",
    "shots = 1000\n",
    "db = 0.1\n",
    "delta = 0.1\n",
    "\n",
    "nbits = 2\n",
    "\n",
    "hm_list = []\n",
    "hm = [ [3+1*4], [np.sqrt(0.5)], [0,1] ]\n",
    "hm_list.append(hm)\n",
    "hm = [ [1,3], [0.5, 0.5], [1]]\n",
    "hm_list.append(hm)\n",
    "\n",
    "backend = aer_sim\n",
    "\n",
    "E,times = qite(db, delta, N, nbits, hm_list, backend, shots, details=True)"
   ]
  },
  {
   "cell_type": "code",
   "execution_count": 58,
   "id": "d3c70a9a",
   "metadata": {},
   "outputs": [
    {
     "data": {
      "text/plain": [
       "Text(0, 0.5, 'Mean Energy')"
      ]
     },
     "execution_count": 58,
     "metadata": {},
     "output_type": "execute_result"
    },
    {
     "data": {
      "image/png": "[encoded data removed]",
      "text/plain": [
       "<Figure size 432x288 with 1 Axes>"
      ]
     },
     "metadata": {
      "needs_background": "light"
     },
     "output_type": "display_data"
    }
   ],
   "source": [
    "plt.plot(np.arange(0,N+1)*db, E, 'ro')\n",
    "plt.grid()\n",
    "plt.xlabel('Imaginary Time')\n",
    "plt.ylabel('Mean Energy')"
   ]
  },
  {
   "cell_type": "code",
   "execution_count": 59,
   "id": "d4964587",
   "metadata": {},
   "outputs": [
    {
     "name": "stdout",
     "output_type": "stream",
     "text": [
      "total time = 7.05 minutes\n"
     ]
    }
   ],
   "source": [
    "print('total time = {:.2f} minutes'.format(np.sum(times)/60))"
   ]
  },
  {
   "cell_type": "code",
   "execution_count": 47,
   "id": "13e76b42",
   "metadata": {},
   "outputs": [
    {
     "name": "stdout",
     "output_type": "stream",
     "text": [
      "0.7226631303726516\n"
     ]
    }
   ],
   "source": [
    "E = np.zeros(N+1,dtype=float)\n",
    "alist = []\n",
    "E[0] = measure_energy(alist, nbits, hm_list, backend, shots)\n",
    "print(E[0])"
   ]
  },
  {
   "cell_type": "code",
   "execution_count": 48,
   "id": "814e0921",
   "metadata": {},
   "outputs": [
    {
     "name": "stdout",
     "output_type": "stream",
     "text": [
      "[1. 0. 0. 0.]\n"
     ]
    },
    {
     "data": {
      "text/html": [
       "<pre style=\"word-wrap: normal;white-space: pre;background: #fff0;line-height: 1.1;font-family: &quot;Courier New&quot;,Courier,monospace\">     ┌───┐┌─┐\n",
       "  q: ┤ H ├┤M├\n",
       "     └───┘└╥┘\n",
       "c: 1/══════╩═\n",
       "           0 </pre>"
      ],
      "text/plain": [
       "     ┌───┐┌─┐\n",
       "  q: ┤ H ├┤M├\n",
       "     └───┘└╥┘\n",
       "c: 1/══════╩═\n",
       "           0 "
      ]
     },
     "execution_count": 48,
     "metadata": {},
     "output_type": "execute_result"
    }
   ],
   "source": [
    "hm = hm_list[0]\n",
    "#     sigma_expectation = tomography(alist, hm[2], nbits, backend, shots)\n",
    "#     print(sigma_expectation)\n",
    "    # TOMOGRAPHY Test\n",
    "nactive = len(hm[2])\n",
    "nops = 4**nactive\n",
    "sigma_expectation = np.zeros(nops,dtype=float)\n",
    "sigma_expectation[0] = 1\n",
    "print(sigma_expectation)\n",
    "i = 1\n",
    "qc = QuantumCircuit(nbits, nbits)\n",
    "propogate(qc,alist)\n",
    "qc.draw()\n",
    "sigma_expectation[i],counts = measure(qc,i,hm[2],backend,shots)\n",
    "qc.draw()\n",
    "#     sigma_expectation[i] = measure(qc, i, hm[2], backend, shots)\n",
    "#     print(sigma_expectation)"
   ]
  },
  {
   "cell_type": "code",
   "execution_count": null,
   "id": "0ba373e0",
   "metadata": {},
   "outputs": [],
   "source": []
  }
 ],
 "metadata": {
  "kernelspec": {
   "display_name": "Python 3 (ipykernel)",
   "language": "python",
   "name": "python3"
  },
  "language_info": {
   "codemirror_mode": {
    "name": "ipython",
    "version": 3
   },
   "file_extension": ".py",
   "mimetype": "text/x-python",
   "name": "python",
   "nbconvert_exporter": "python",
   "pygments_lexer": "ipython3",
   "version": "3.10.0"
  }
 },
 "nbformat": 4,
 "nbformat_minor": 5
}
