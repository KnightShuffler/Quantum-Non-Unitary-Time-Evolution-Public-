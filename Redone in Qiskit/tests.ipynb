{
 "cells": [
  {
   "cell_type": "code",
   "execution_count": 1,
   "id": "b2c8f6da",
   "metadata": {},
   "outputs": [],
   "source": [
    "from initialize import *\n",
    "from hamiltonians import short_range_heisenberg, long_range_heisenberg, print_hamiltonian"
   ]
  },
  {
   "cell_type": "code",
   "execution_count": 2,
   "id": "29bbaa5a",
   "metadata": {},
   "outputs": [],
   "source": [
    "nbits = 4\n",
    "J = [0.1,0.2,0.3]\n",
    "sr = short_range_heisenberg(nbits, J)\n",
    "lr = long_range_heisenberg(nbits, J)"
   ]
  },
  {
   "cell_type": "code",
   "execution_count": 3,
   "id": "b6e3d3f8",
   "metadata": {},
   "outputs": [
    {
     "name": "stdout",
     "output_type": "stream",
     "text": [
      "Starting Ideal QITE Simulation:\n",
      "Iteration 1:...Done -- Execution Time = 7.37 seconds\n",
      "Iteration 2:...Done -- Execution Time = 11.28 seconds\n",
      "Iteration 3:...Done -- Execution Time = 15.26 seconds\n",
      "Iteration 4:...Done -- Execution Time = 18.99 seconds\n",
      "Iteration 5:...Done -- Execution Time = 22.89 seconds\n",
      "Iteration 6:...Done -- Execution Time = 26.92 seconds\n",
      "Iteration 7:...Done -- Execution Time = 30.72 seconds\n",
      "Iteration 8:...Done -- Execution Time = 34.67 seconds\n",
      "Iteration 9:...Done -- Execution Time = 38.51 seconds\n",
      "Iteration 10:...Done -- Execution Time = 42.54 seconds\n",
      "Iteration 11:...Done -- Execution Time = 46.74 seconds\n",
      "Iteration 12:...Done -- Execution Time = 50.31 seconds\n",
      "Iteration 13:...Done -- Execution Time = 54.27 seconds\n",
      "Iteration 14:...Done -- Execution Time = 58.32 seconds\n",
      "Iteration 15:...Done -- Execution Time = 1.03 minutes\n",
      "Iteration 16:...Done -- Execution Time = 1.10 minutes\n",
      "Iteration 17:...Done -- Execution Time = 1.17 minutes\n",
      "Iteration 18:...Done -- Execution Time = 1.24 minutes\n",
      "Iteration 19:...Done -- Execution Time = 1.33 minutes\n",
      "Iteration 20:...Done -- Execution Time = 1.37 minutes\n",
      "Iteration 21:...Done -- Execution Time = 1.45 minutes\n",
      "Iteration 22:...Done -- Execution Time = 1.56 minutes\n",
      "Iteration 23:...Done -- Execution Time = 1.61 minutes\n",
      "Iteration 24:...Done -- Execution Time = 1.66 minutes\n",
      "Iteration 25:...Done -- Execution Time = 1.69 minutes\n",
      "Iteration 26:...Done -- Execution Time = 1.76 minutes\n",
      "Iteration 27:...Done -- Execution Time = 1.82 minutes\n",
      "Iteration 28:...Done -- Execution Time = 1.90 minutes\n",
      "Iteration 29:...Done -- Execution Time = 1.96 minutes\n",
      "Iteration 30:...Done -- Execution Time = 2.03 minutes\n"
     ]
    }
   ],
   "source": [
    "from ideal_qite import qite\n",
    "from qiskit.quantum_info import Statevector\n",
    "db = 0.1\n",
    "delta = 0.1\n",
    "N = 30\n",
    "nbits = 4\n",
    "D = 2\n",
    "init_sv = Statevector.from_label('01'*(nbits//2))\n",
    "E,times,states = qite(db, delta, N, nbits, D, lr, init_sv, True)"
   ]
  },
  {
   "cell_type": "code",
   "execution_count": 4,
   "id": "827bc212",
   "metadata": {},
   "outputs": [
    {
     "name": "stderr",
     "output_type": "stream",
     "text": [
      "C:\\Users\\swaga\\miniconda3\\envs\\qiskit\\lib\\site-packages\\matplotlib\\cbook\\__init__.py:1298: ComplexWarning: Casting complex values to real discards the imaginary part\n",
      "  return np.asarray(x, float)\n"
     ]
    },
    {
     "data": {
      "image/png": "[encoded data removed]",
      "text/plain": [
       "<Figure size 432x288 with 1 Axes>"
      ]
     },
     "metadata": {
      "needs_background": "light"
     },
     "output_type": "display_data"
    }
   ],
   "source": [
    "import matplotlib.pyplot as plt\n",
    "%matplotlib inline\n",
    "\n",
    "plt.plot(np.arange(0,N+1)*db, E, 'ro-',label='Energy')\n",
    "plt.grid()\n",
    "plt.xlabel('Imaginary Time')\n",
    "plt.ylabel('Energy')\n",
    "plt.legend(loc='best')\n",
    "plt.show()"
   ]
  },
  {
   "cell_type": "code",
   "execution_count": 5,
   "id": "82a185b9",
   "metadata": {},
   "outputs": [],
   "source": [
    "from qite_helpers import qite_params\n",
    "params = qite_params()\n",
    "params.initialize(sr, nbits, D)"
   ]
  },
  {
   "cell_type": "code",
   "execution_count": 6,
   "id": "6d507c98",
   "metadata": {},
   "outputs": [],
   "source": [
    "m = params.measurement_keys[0]"
   ]
  },
  {
   "cell_type": "code",
   "execution_count": 7,
   "id": "93b30216",
   "metadata": {},
   "outputs": [],
   "source": [
    "y = params.odd_y_strings[0]"
   ]
  },
  {
   "cell_type": "code",
   "execution_count": 8,
   "id": "a191646b",
   "metadata": {},
   "outputs": [
    {
     "name": "stdout",
     "output_type": "stream",
     "text": [
      "H is a 2-local Hamiltonian\n",
      "Term 1 acting on qubits [0, 1]:\n",
      "\t(0.10 + 0.00i) X_0 X_1 +\n",
      "\t(0.20 + 0.00i) Y_0 Y_1 +\n",
      "\t(0.30 + 0.00i) Z_0 Z_1 \n",
      "Term 2 acting on qubits [1, 2]:\n",
      "\t(0.10 + 0.00i) X_1 X_2 +\n",
      "\t(0.20 + 0.00i) Y_1 Y_2 +\n",
      "\t(0.30 + 0.00i) Z_1 Z_2 \n",
      "Term 3 acting on qubits [2, 3]:\n",
      "\t(0.10 + 0.00i) X_2 X_3 +\n",
      "\t(0.20 + 0.00i) Y_2 Y_3 +\n",
      "\t(0.30 + 0.00i) Z_2 Z_3 \n"
     ]
    }
   ],
   "source": [
    "print_hamiltonian(sr)"
   ]
  },
  {
   "cell_type": "code",
   "execution_count": 9,
   "id": "e788973b",
   "metadata": {},
   "outputs": [
    {
     "name": "stdout",
     "output_type": "stream",
     "text": [
      "H is a 2-local Hamiltonian\n",
      "Term 1 acting on qubits [0, 1]:\n",
      "\t(0.00 + 0.00i) I_0 I_1 +\n",
      "\t(0.00 + 0.00i) I_0 X_1 +\n",
      "\t(0.00 + 0.00i) Y_0 Y_1 +\n",
      "\t(0.00 + 0.00i) Z_0 Y_1 +\n",
      "\t(0.00 + 0.00i) X_0 Y_1 +\n",
      "\t(0.00 + 0.00i) I_0 Z_1 +\n",
      "\t(0.00 + 0.00i) I_0 X_1 +\n",
      "\t(0.00 + 0.00i) I_0 I_1 +\n",
      "\t(0.00 + 0.00i) Y_0 Z_1 +\n",
      "\t(0.00 + 0.00i) Z_0 Z_1 +\n",
      "\t(0.00 + 0.00i) X_0 Z_1 +\n",
      "\t(0.00 + 0.00i) I_0 Y_1 +\n",
      "\t(0.00 + 0.00i) Y_0 Y_1 +\n",
      "\t(0.00 + 0.00i) Y_0 Z_1 +\n",
      "\t(0.00 + 0.00i) I_0 I_1 +\n",
      "\t(0.00 + 0.00i) X_0 I_1 +\n",
      "\t(0.00 + 0.00i) Z_0 I_1 +\n",
      "\t(0.00 + 0.00i) Y_0 X_1 +\n",
      "\t(0.00 + 0.00i) Z_0 Y_1 +\n",
      "\t(0.00 + 0.00i) Z_0 Z_1 +\n",
      "\t(0.00 + 0.00i) X_0 I_1 +\n",
      "\t(0.00 + 0.00i) I_0 I_1 +\n",
      "\t(0.00 + 0.00i) Y_0 I_1 +\n",
      "\t(0.00 + 0.00i) Z_0 X_1 +\n",
      "\t(0.00 + 0.00i) X_0 Y_1 +\n",
      "\t(0.00 + 0.00i) X_0 Z_1 +\n",
      "\t(0.00 + 0.00i) Z_0 I_1 +\n",
      "\t(0.00 + 0.00i) Y_0 I_1 +\n",
      "\t(0.00 + 0.00i) I_0 I_1 +\n",
      "\t(0.00 + 0.00i) X_0 X_1 +\n",
      "\t(0.00 + 0.00i) I_0 Z_1 +\n",
      "\t(0.00 + 0.00i) I_0 Y_1 +\n",
      "\t(0.00 + 0.00i) Y_0 X_1 +\n",
      "\t(0.00 + 0.00i) Z_0 X_1 +\n",
      "\t(0.00 + 0.00i) X_0 X_1 +\n",
      "\t(0.00 + 0.00i) I_0 I_1 \n"
     ]
    }
   ],
   "source": [
    "print_hamiltonian([ [ m, [0]*len(m), params.domains[0] ] ])"
   ]
  },
  {
   "cell_type": "code",
   "execution_count": 10,
   "id": "29cb16f1",
   "metadata": {},
   "outputs": [
    {
     "name": "stdout",
     "output_type": "stream",
     "text": [
      "H is a 2-local Hamiltonian\n",
      "Term 1 acting on qubits [0, 1]:\n",
      "\t(0.00 + 0.00i) Y_0 I_1 +\n",
      "\t(0.00 + 0.00i) Y_0 X_1 +\n",
      "\t(0.00 + 0.00i) I_0 Y_1 +\n",
      "\t(0.00 + 0.00i) X_0 Y_1 +\n",
      "\t(0.00 + 0.00i) Z_0 Y_1 +\n",
      "\t(0.00 + 0.00i) Y_0 Z_1 \n"
     ]
    }
   ],
   "source": [
    "print_hamiltonian([ [ y, [0]*len(y), params.domains[0] ] ])"
   ]
  },
  {
   "cell_type": "code",
   "execution_count": 11,
   "id": "25fc230e",
   "metadata": {},
   "outputs": [
    {
     "name": "stdout",
     "output_type": "stream",
     "text": [
      "[2, 6, 8, 9, 11, 14]\n",
      "[5, 10, 15]\n",
      "[0, 4, 10, 11, 9, 12, 4, 0, 14, 15, 13, 8, 10, 14, 0, 1, 3, 6, 11, 15, 1, 0, 2, 7, 9, 13, 3, 2, 0, 5, 12, 8, 6, 7, 5, 0]\n"
     ]
    }
   ],
   "source": [
    "print(y)\n",
    "print(sr[0][0])\n",
    "print(m)"
   ]
  },
  {
   "cell_type": "code",
   "execution_count": 12,
   "id": "4c5f7ed1",
   "metadata": {},
   "outputs": [
    {
     "name": "stdout",
     "output_type": "stream",
     "text": [
      "2 . 5 = 7\n",
      "2 . 10 = 8\n",
      "2 . 15 = 13\n",
      "6 . 5 = 3\n",
      "6 . 10 = 12\n",
      "6 . 15 = 9\n",
      "8 . 5 = 13\n",
      "8 . 10 = 2\n",
      "8 . 15 = 7\n",
      "9 . 5 = 12\n",
      "9 . 10 = 3\n",
      "9 . 15 = 6\n",
      "11 . 5 = 14\n",
      "11 . 10 = 1\n",
      "11 . 15 = 4\n",
      "14 . 5 = 11\n",
      "14 . 10 = 4\n",
      "14 . 15 = 1\n"
     ]
    }
   ],
   "source": [
    "for py in y:\n",
    "    for p in sr[0][0]:\n",
    "        p_ = pauli_string_prod(py, p, len(params.domains[0]))[0]\n",
    "        print('{} . {} = {}'.format( py, ext_domain_pauli(p,sr[0][2],params.domains[0]), p_ ) )\n",
    "        if p_ not in m:\n",
    "            print('{} not in m'.format(p_))"
   ]
  },
  {
   "cell_type": "code",
   "execution_count": null,
   "id": "15cacff0",
   "metadata": {},
   "outputs": [],
   "source": []
  }
 ],
 "metadata": {
  "kernelspec": {
   "display_name": "Python 3 (ipykernel)",
   "language": "python",
   "name": "python3"
  },
  "language_info": {
   "codemirror_mode": {
    "name": "ipython",
    "version": 3
   },
   "file_extension": ".py",
   "mimetype": "text/x-python",
   "name": "python",
   "nbconvert_exporter": "python",
   "pygments_lexer": "ipython3",
   "version": "3.10.0"
  }
 },
 "nbformat": 4,
 "nbformat_minor": 5
}
