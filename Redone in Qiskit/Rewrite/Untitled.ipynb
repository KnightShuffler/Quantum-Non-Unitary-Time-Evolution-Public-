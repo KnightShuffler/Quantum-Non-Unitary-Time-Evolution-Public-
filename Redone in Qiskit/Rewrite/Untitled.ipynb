{
 "cells": [
  {
   "cell_type": "code",
   "execution_count": 11,
   "id": "e93eec47",
   "metadata": {},
   "outputs": [],
   "source": [
    "from qite import qite\n",
    "import numpy as np\n",
    "from qiskit import Aer\n",
    "\n",
    "\n",
    "N = 25\n",
    "shots = 1000\n",
    "db = 0.1\n",
    "nbits = 1\n",
    "delta = 0.1\n",
    "backend = Aer.get_backend('aer_simulator')\n",
    "\n",
    "nbits = 2\n",
    "hm_list = []\n",
    "hm_list.append( [[3], [np.sqrt(0.5),np.sqrt(0.5)], [0]] )\n",
    "hm_list.append( [[1], [np.sqrt(0.5)], [0]] )\n",
    "\n",
    "# E,times = qite(db, delta, N, nbits, hm_list, backend, shots=shots, details=True, log=False, log_file=None)"
   ]
  },
  {
   "cell_type": "code",
   "execution_count": 14,
   "id": "42445757",
   "metadata": {},
   "outputs": [
    {
     "name": "stdout",
     "output_type": "stream",
     "text": [
      "[[[3], [0.7071067811865476, 0.7071067811865476], [0]], [[1], [0.7071067811865476], [0]]]\n",
      "[[ 0.70710678+0.j  0.70710678+0.j  0.        +0.j  0.        +0.j]\n",
      " [ 0.70710678+0.j -0.70710678+0.j  0.        +0.j  0.        +0.j]\n",
      " [ 0.        +0.j  0.        +0.j  0.70710678+0.j  0.70710678+0.j]\n",
      " [ 0.        +0.j  0.        +0.j  0.70710678+0.j -0.70710678+0.j]]\n",
      "[[ 0.70710678+0.j  0.70710678+0.j  0.        +0.j  0.        +0.j]\n",
      " [ 0.70710678+0.j -0.70710678+0.j  0.        +0.j  0.        +0.j]\n",
      " [ 0.        +0.j  0.        +0.j  0.70710678+0.j  0.70710678+0.j]\n",
      " [ 0.        +0.j  0.        +0.j  0.70710678+0.j -0.70710678+0.j]]\n"
     ]
    }
   ],
   "source": [
    "from helper import get_h_matrix\n",
    "print(hm_list)\n",
    "print(get_h_matrix(hm_list,nbits))\n",
    "print(get_h_matrix(hm_list,nbits))"
   ]
  },
  {
   "cell_type": "code",
   "execution_count": 10,
   "id": "d0000eee",
   "metadata": {},
   "outputs": [
    {
     "name": "stderr",
     "output_type": "stream",
     "text": [
      "C:\\Users\\CMP3KUMARS\\Anaconda3\\envs\\qiskit\\lib\\site-packages\\matplotlib\\cbook\\__init__.py:1298: ComplexWarning: Casting complex values to real discards the imaginary part\n",
      "  return np.asarray(x, float)\n"
     ]
    },
    {
     "data": {
      "image/png": "[encoded data removed]",
      "text/plain": [
       "<Figure size 432x288 with 1 Axes>"
      ]
     },
     "metadata": {
      "needs_background": "light"
     },
     "output_type": "display_data"
    }
   ],
   "source": [
    "import matplotlib.pyplot as plt\n",
    "from helper import get_spectrum\n",
    "%matplotlib inline\n",
    "\n",
    "p1, = plt.plot(np.arange(0,N+1)*db, E, 'ro-')\n",
    "\n",
    "w,v = get_spectrum(hm_list, nbits)\n",
    "for energy_level in w:\n",
    "    p2 = plt.axhline(y=energy_level, color='k', linestyle='--')\n",
    "\n",
    "plt.legend((p1,p2), ('Mean Energy of State', 'Hamiltonian Energy Levels'), loc='best')\n",
    "\n",
    "plt.xlabel('Imaginary Time')\n",
    "plt.ylabel('Energy')\n",
    "plt.grid()\n",
    "\n",
    "plt.savefig('one-qubit')\n",
    "plt.show()"
   ]
  },
  {
   "cell_type": "code",
   "execution_count": 3,
   "id": "3d21f36f",
   "metadata": {},
   "outputs": [
    {
     "data": {
      "text/plain": [
       "array([[ 0.5+0.j,  0.5+0.j],\n",
       "       [ 0.5+0.j, -0.5+0.j]])"
      ]
     },
     "execution_count": 3,
     "metadata": {},
     "output_type": "execute_result"
    }
   ],
   "source": [
    "from helper import get_h_matrix\n",
    "import numpy as np\n",
    "\n",
    "get_h_matrix(hm_list,nbits)"
   ]
  },
  {
   "cell_type": "code",
   "execution_count": 4,
   "id": "d58fc9dd",
   "metadata": {},
   "outputs": [
    {
     "data": {
      "text/plain": [
       "[[[3], [0.7071067811865476], [0]], [[1], [0.7071067811865476], [0]]]"
      ]
     },
     "execution_count": 4,
     "metadata": {},
     "output_type": "execute_result"
    }
   ],
   "source": [
    "hm_list"
   ]
  },
  {
   "cell_type": "code",
   "execution_count": 13,
   "id": "876db597",
   "metadata": {},
   "outputs": [
    {
     "name": "stdout",
     "output_type": "stream",
     "text": [
      "[[ 0.04419417+0.j  0.        +0.j]\n",
      " [ 0.        +0.j -0.04419417+0.j]]\n",
      "[[0.        +0.j 0.04419417+0.j]\n",
      " [0.04419417+0.j 0.        +0.j]]\n"
     ]
    }
   ],
   "source": [
    "from helper import int_to_base, sigma_matrices\n",
    "num_basis = 2**nbits\n",
    "h_mat = np.zeros([num_basis, num_basis],dtype=complex)\n",
    "\n",
    "for hm in hm_list:\n",
    "    active = hm[2]\n",
    "    nactive = len(active)\n",
    "    nterms = len(hm[0])\n",
    "    \n",
    "    for i in range(nterms):\n",
    "        full_pauli_str = [0] * nbits\n",
    "        partial_pauli_str = int_to_base(hm[0][i],4,nactive)\n",
    "        for j in range(len(active)):\n",
    "            full_pauli_str[active[j]] = partial_pauli_str[j]\n",
    "        full_pauli_str = full_pauli_str[::-1]\n",
    "        \n",
    "        term_matrix = sigma_matrices[full_pauli_str[0]]\n",
    "        for j in range(1,nbits):\n",
    "            term_matrix = np.kron(term_matrix, sigma_matrices[full_pauli_str[j]])\n",
    "        term_matrix *= hm[1][i]\n",
    "        print(term_matrix)"
   ]
  },
  {
   "cell_type": "code",
   "execution_count": 16,
   "id": "f4930636",
   "metadata": {},
   "outputs": [],
   "source": [
    "for j in range(1,1):\n",
    "    print(j)"
   ]
  },
  {
   "cell_type": "code",
   "execution_count": null,
   "id": "b30efbb0",
   "metadata": {},
   "outputs": [],
   "source": []
  }
 ],
 "metadata": {
  "kernelspec": {
   "display_name": "Python 3 (ipykernel)",
   "language": "python",
   "name": "python3"
  },
  "language_info": {
   "codemirror_mode": {
    "name": "ipython",
    "version": 3
   },
   "file_extension": ".py",
   "mimetype": "text/x-python",
   "name": "python",
   "nbconvert_exporter": "python",
   "pygments_lexer": "ipython3",
   "version": "3.10.0"
  }
 },
 "nbformat": 4,
 "nbformat_minor": 5
}
