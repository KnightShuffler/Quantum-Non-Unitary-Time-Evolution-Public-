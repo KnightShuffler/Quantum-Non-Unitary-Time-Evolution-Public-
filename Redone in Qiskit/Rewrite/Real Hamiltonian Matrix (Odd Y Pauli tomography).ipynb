{
 "cells": [
  {
   "cell_type": "code",
   "execution_count": 1,
   "id": "1f58ade7",
   "metadata": {},
   "outputs": [],
   "source": [
    "import numpy as np\n",
    "from qiskit import QuantumCircuit\n",
    "\n",
    "from helper import *\n",
    "from qite import aer_sim as backend\n",
    "from qite import log_qite_run\n",
    "\n",
    "import time"
   ]
  },
  {
   "cell_type": "markdown",
   "id": "252f4fed",
   "metadata": {},
   "source": [
    "# Real Hamiltonian in Z basis\n",
    "For this case, we only need to consider Hamiltonian terms that contain odd number of Ys.\n",
    "\n",
    "This changes the alist data structure so that it only stores the amplitudes for said Odd Y Pauli strings. for `nbits` qubits, a list of the odd Y pauli strings can be found with `helper.odd_y_pauli_strings(nbits)`."
   ]
  },
  {
   "cell_type": "code",
   "execution_count": 6,
   "id": "eb5ceee9",
   "metadata": {},
   "outputs": [],
   "source": [
    "def y_propogate(qc, alist):\n",
    "    for t in range(len(alist)):\n",
    "        active = alist[t][1]\n",
    "        nbits = len(active)\n",
    "        odd_y_paulis = odd_y_pauli_strings(nbits)\n",
    "        for i in range(len(odd_y_paulis)):\n",
    "            angle = np.real(alist[t][0][i])\n",
    "            if np.abs(angle) > 1e-5:\n",
    "                pauli_string_exp(qc, active, odd_y_paulis[i], angle)\n",
    "                qc.barrier()"
   ]
  },
  {
   "cell_type": "code",
   "execution_count": 7,
   "id": "72705acb",
   "metadata": {},
   "outputs": [
    {
     "name": "stdout",
     "output_type": "stream",
     "text": [
      "[2, 6, 8, 9, 11, 14]\n",
      "6\n"
     ]
    }
   ],
   "source": [
    "nbits = 2\n",
    "odd_ys = odd_y_pauli_strings(nbits)\n",
    "print(odd_ys)\n",
    "print(len(odd_ys))"
   ]
  },
  {
   "cell_type": "code",
   "execution_count": 9,
   "id": "0d3d0798",
   "metadata": {},
   "outputs": [
    {
     "data": {
      "text/html": [
       "<pre style=\"word-wrap: normal;white-space: pre;background: #fff0;line-height: 1.1;font-family: &quot;Courier New&quot;,Courier,monospace\">     ┌───────┐ ░ ┌─────────┐                     ┌──────────┐ ░             ░ »\n",
       "q_0: ┤ Ry(π) ├─░─┤ Rx(π/2) ├──■───────────────■──┤ Rx(-π/2) ├─░─────────────░─»\n",
       "     └───────┘ ░ └──┬───┬──┘┌─┴─┐┌─────────┐┌─┴─┐└──┬───┬───┘ ░ ┌─────────┐ ░ »\n",
       "q_1: ──────────░────┤ H ├───┤ X ├┤ Rz(π/2) ├┤ X ├───┤ H ├─────░─┤ Ry(π/4) ├─░─»\n",
       "               ░    └───┘   └───┘└─────────┘└───┘   └───┘     ░ └─────────┘ ░ »\n",
       "c: 2/═════════════════════════════════════════════════════════════════════════»\n",
       "                                                                              »\n",
       "«        ┌───┐                           ┌───┐     ░                 »\n",
       "«q_0: ───┤ H ├─────■───────────────■─────┤ H ├─────░──────────────■──»\n",
       "«     ┌──┴───┴──┐┌─┴─┐┌─────────┐┌─┴─┐┌──┴───┴───┐ ░ ┌─────────┐┌─┴─┐»\n",
       "«q_1: ┤ Rx(π/2) ├┤ X ├┤ Rz(π/8) ├┤ X ├┤ Rx(-π/2) ├─░─┤ Rx(π/2) ├┤ X ├»\n",
       "«     └─────────┘└───┘└─────────┘└───┘└──────────┘ ░ └─────────┘└───┘»\n",
       "«c: 2/═══════════════════════════════════════════════════════════════»\n",
       "«                                                                    »\n",
       "«                                   ░ ┌─────────┐                      »\n",
       "«q_0: ──────────────■───────────────░─┤ Rx(π/2) ├──■────────────────■──»\n",
       "«     ┌──────────┐┌─┴─┐┌──────────┐ ░ └─────────┘┌─┴─┐┌──────────┐┌─┴─┐»\n",
       "«q_1: ┤ Rz(π/16) ├┤ X ├┤ Rx(-π/2) ├─░────────────┤ X ├┤ Rz(π/32) ├┤ X ├»\n",
       "«     └──────────┘└───┘└──────────┘ ░            └───┘└──────────┘└───┘»\n",
       "«c: 2/═════════════════════════════════════════════════════════════════»\n",
       "«                                                                      »\n",
       "«     ┌──────────┐ ░ \n",
       "«q_0: ┤ Rx(-π/2) ├─░─\n",
       "«     └──────────┘ ░ \n",
       "«q_1: ─────────────░─\n",
       "«                  ░ \n",
       "«c: 2/═══════════════\n",
       "«                    </pre>"
      ],
      "text/plain": [
       "     ┌───────┐ ░ ┌─────────┐                     ┌──────────┐ ░             ░ »\n",
       "q_0: ┤ Ry(π) ├─░─┤ Rx(π/2) ├──■───────────────■──┤ Rx(-π/2) ├─░─────────────░─»\n",
       "     └───────┘ ░ └──┬───┬──┘┌─┴─┐┌─────────┐┌─┴─┐└──┬───┬───┘ ░ ┌─────────┐ ░ »\n",
       "q_1: ──────────░────┤ H ├───┤ X ├┤ Rz(π/2) ├┤ X ├───┤ H ├─────░─┤ Ry(π/4) ├─░─»\n",
       "               ░    └───┘   └───┘└─────────┘└───┘   └───┘     ░ └─────────┘ ░ »\n",
       "c: 2/═════════════════════════════════════════════════════════════════════════»\n",
       "                                                                              »\n",
       "«        ┌───┐                           ┌───┐     ░                 »\n",
       "«q_0: ───┤ H ├─────■───────────────■─────┤ H ├─────░──────────────■──»\n",
       "«     ┌──┴───┴──┐┌─┴─┐┌─────────┐┌─┴─┐┌──┴───┴───┐ ░ ┌─────────┐┌─┴─┐»\n",
       "«q_1: ┤ Rx(π/2) ├┤ X ├┤ Rz(π/8) ├┤ X ├┤ Rx(-π/2) ├─░─┤ Rx(π/2) ├┤ X ├»\n",
       "«     └─────────┘└───┘└─────────┘└───┘└──────────┘ ░ └─────────┘└───┘»\n",
       "«c: 2/═══════════════════════════════════════════════════════════════»\n",
       "«                                                                    »\n",
       "«                                   ░ ┌─────────┐                      »\n",
       "«q_0: ──────────────■───────────────░─┤ Rx(π/2) ├──■────────────────■──»\n",
       "«     ┌──────────┐┌─┴─┐┌──────────┐ ░ └─────────┘┌─┴─┐┌──────────┐┌─┴─┐»\n",
       "«q_1: ┤ Rz(π/16) ├┤ X ├┤ Rx(-π/2) ├─░────────────┤ X ├┤ Rz(π/32) ├┤ X ├»\n",
       "«     └──────────┘└───┘└──────────┘ ░            └───┘└──────────┘└───┘»\n",
       "«c: 2/═════════════════════════════════════════════════════════════════»\n",
       "«                                                                      »\n",
       "«     ┌──────────┐ ░ \n",
       "«q_0: ┤ Rx(-π/2) ├─░─\n",
       "«     └──────────┘ ░ \n",
       "«q_1: ─────────────░─\n",
       "«                  ░ \n",
       "«c: 2/═══════════════\n",
       "«                    "
      ]
     },
     "execution_count": 9,
     "metadata": {},
     "output_type": "execute_result"
    }
   ],
   "source": [
    "alist = [ [ [np.pi, np.pi/2, np.pi/4, np.pi/8, np.pi/16, np.pi/32], [0,1] ] ]\n",
    "qc = QuantumCircuit(nbits, nbits)\n",
    "y_propogate(qc, alist)\n",
    "qc.draw()"
   ]
  },
  {
   "cell_type": "code",
   "execution_count": 19,
   "id": "44e1177d",
   "metadata": {},
   "outputs": [
    {
     "data": {
      "text/plain": [
       "[(2, 2),\n",
       " (2, 6),\n",
       " (2, 8),\n",
       " (2, 9),\n",
       " (2, 11),\n",
       " (2, 14),\n",
       " (2, 7),\n",
       " (6, 2),\n",
       " (6, 6),\n",
       " (6, 8),\n",
       " (6, 9),\n",
       " (6, 11),\n",
       " (6, 14),\n",
       " (6, 7),\n",
       " (8, 2),\n",
       " (8, 6),\n",
       " (8, 8),\n",
       " (8, 9),\n",
       " (8, 11),\n",
       " (8, 14),\n",
       " (8, 7),\n",
       " (9, 2),\n",
       " (9, 6),\n",
       " (9, 8),\n",
       " (9, 9),\n",
       " (9, 11),\n",
       " (9, 14),\n",
       " (9, 7),\n",
       " (11, 2),\n",
       " (11, 6),\n",
       " (11, 8),\n",
       " (11, 9),\n",
       " (11, 11),\n",
       " (11, 14),\n",
       " (11, 7),\n",
       " (14, 2),\n",
       " (14, 6),\n",
       " (14, 8),\n",
       " (14, 9),\n",
       " (14, 11),\n",
       " (14, 14),\n",
       " (14, 7)]"
      ]
     },
     "execution_count": 19,
     "metadata": {},
     "output_type": "execute_result"
    }
   ],
   "source": [
    "def y_tomography(hm, alist, qbits, nbits, backend, shots=1024):\n",
    "    nactive = len(qbits)\n",
    "    odd_ys = odd_y_pauli_strings(nactive)\n",
    "    nops = len(odd_ys)\n",
    "    \n",
    "    sigma_expectation = {}\n",
    "    \n",
    "    # figure out which expectations are required\n",
    "    keys = []\n",
    "    for p1 in odd_ys:\n",
    "        for p2 in odd_ys:\n",
    "            keys.append((p1,p2))\n",
    "        for p2 in hm[0]:\n",
    "            if not ((p1,p2) in keys):\n",
    "                keys.append((p1,p2))\n",
    "    \n",
    "\n",
    "y_tomography([[7],[0.5],[0,1]], None, [0,1], 2, None, None)"
   ]
  }
 ],
 "metadata": {
  "kernelspec": {
   "display_name": "Python 3 (ipykernel)",
   "language": "python",
   "name": "python3"
  },
  "language_info": {
   "codemirror_mode": {
    "name": "ipython",
    "version": 3
   },
   "file_extension": ".py",
   "mimetype": "text/x-python",
   "name": "python",
   "nbconvert_exporter": "python",
   "pygments_lexer": "ipython3",
   "version": "3.10.0"
  }
 },
 "nbformat": 4,
 "nbformat_minor": 5
}
