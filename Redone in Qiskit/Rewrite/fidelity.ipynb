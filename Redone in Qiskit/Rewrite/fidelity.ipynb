{
 "cells": [
  {
   "cell_type": "markdown",
   "id": "27b57843",
   "metadata": {},
   "source": [
    "# Comparing the run results with the ideal QITE runs\n",
    "$\\newcommand{\\bra}[1]{\\langle{#1}|}$\n",
    "$\\newcommand{\\ket}[1]{|{#1}\\rangle}$\n",
    "$\\newcommand{\\braket}[2]{\\langle{#1}|{#2}\\rangle}$\n",
    "## Using the log files to determine the state evolution\n",
    "In some runs of the program, I found that after reaching a mean energy close to the first excited state of the Hamiltonian, the energy of time evolved state jumps up and does not converge to ground state energy afterwards. The only difference between runs that properly converge and those that do not are the measurement statistics obtained in the run. This leads me to believe that these runs happen to have measurements that evolve the state into one that has very small component of the ground state in the superposition. Such a state will not converge to the ground state in the short term.\n",
    "\n",
    "I've added logging functionality to the qite program so that at the end of the execution, it stores `[db, delta, N, nbits, hm_list, alist]` in `hm-alist.npy` (or other file name that's passed into `qite()`)\n",
    "\n",
    "From the logged data, I will generate the circuit at each time step and evolve using a state vector simulator and plot the fidelity\n",
    "$$ |\\braket{\\phi_{gs}}{\\psi(\\beta)}|^2 $$\n",
    "for each time step in the run. For runs that did not converge to the gound state, we should expect the fidelity to converge towards zero when the energy reaches the first excited state.\n",
    "\n",
    "If this is indeed the case, we can use this to identify signatures of bad runs and cull or correct them before wasting more computing resources.\n",
    "\n",
    "Next I will calculate the theoretical measurement statistics for each time step and make a circuit based on that, and compare the evolution of the theoretical statistics with that of the simulation."
   ]
  },
  {
   "cell_type": "code",
   "execution_count": 1,
   "id": "d0441115",
   "metadata": {},
   "outputs": [],
   "source": [
    "import numpy as np\n",
    "from helper import *\n",
    "from qite import propogate, update_alist, log_qite_run\n",
    "\n",
    "from qiskit import QuantumCircuit, Aer\n",
    "\n",
    "import time\n",
    "\n",
    "import matplotlib.pyplot as plt\n",
    "%matplotlib inline"
   ]
  },
  {
   "cell_type": "code",
   "execution_count": 2,
   "id": "51ce8dd2",
   "metadata": {},
   "outputs": [],
   "source": [
    "from qiskit.quantum_info import Statevector, state_fidelity\n",
    "sv_sim = Aer.get_backend('statevector_simulator')"
   ]
  },
  {
   "cell_type": "markdown",
   "id": "a041990c",
   "metadata": {},
   "source": [
    "## The ideal QITE run"
   ]
  },
  {
   "cell_type": "code",
   "execution_count": 4,
   "id": "cd393256",
   "metadata": {},
   "outputs": [],
   "source": [
    "x = np.load('./qite_logs/shots=1000/run001.npy',allow_pickle=True)\n",
    "db = x[0]\n",
    "delta = x[1]\n",
    "N = x[2]\n",
    "nbits = x[3]\n",
    "hm_list = x[4]\n",
    "alist = x[5]"
   ]
  },
  {
   "cell_type": "code",
   "execution_count": 5,
   "id": "d34e70ec",
   "metadata": {},
   "outputs": [
    {
     "name": "stdout",
     "output_type": "stream",
     "text": [
      "[[[7], [0.7071067811865476], [0, 1]], [[1, 3], [0.5, 0.5], [1]]]\n"
     ]
    }
   ],
   "source": [
    "print(hm_list)"
   ]
  },
  {
   "cell_type": "code",
   "execution_count": 6,
   "id": "9663c8f4",
   "metadata": {},
   "outputs": [],
   "source": [
    "def pauli_expectation(psi, p, qbits):\n",
    "    '''\n",
    "    returns the theoretical expectation <psi|P|psi> where P is the pauli string acting on qbits, indexed by p\n",
    "    '''\n",
    "    nbits = int(np.log2(len(psi.data)))\n",
    "    pstring = int_to_base(p,4,len(qbits))\n",
    "    qc = QuantumCircuit(nbits)\n",
    "    for i in range(len(qbits)):\n",
    "        if pstring[i] == 1:\n",
    "            qc.x(qbits[i])\n",
    "        elif pstring[i] == 2:\n",
    "            qc.y(qbits[i])\n",
    "        elif pstring[i] == 3:\n",
    "            qc.z(qbits[i])\n",
    "    \n",
    "    phi = psi.evolve(qc)\n",
    "#     print(psi.data)\n",
    "#     print(phi.data)\n",
    "#     print(np.vdot(psi.data, phi.data))\n",
    "    \n",
    "    return np.real(np.vdot(psi.data, phi.data))\n",
    "\n",
    "def ideal_energy(alist, nbits, hm_list):\n",
    "    Energy = 0\n",
    "    qc = QuantumCircuit(nbits)\n",
    "    propogate(qc, alist)\n",
    "    init_sv = [0]*(2**nbits)\n",
    "    init_sv[0] = 1\n",
    "    psi = Statevector(init_sv).evolve(qc)\n",
    "    for hm in hm_list:\n",
    "        for j in range(len(hm[0])):\n",
    "            Energy += hm[1][j] * pauli_expectation(psi, hm[0][j], hm[2])\n",
    "    return Energy"
   ]
  },
  {
   "cell_type": "code",
   "execution_count": 7,
   "id": "1b1d2f52",
   "metadata": {},
   "outputs": [],
   "source": [
    "def ideal_tomography(alist, qbits, nbits):\n",
    "    nactive = len(qbits)\n",
    "    nops=  4**nactive\n",
    "    \n",
    "    sigma_expectation = np.zeros(nops,dtype=float)\n",
    "    sigma_expectation[0] = 1.0\n",
    "    \n",
    "    qc = QuantumCircuit(nbits)\n",
    "    propogate(qc,alist)\n",
    "    init_sv = [0]*(2**nbits)\n",
    "    init_sv[0] = 1\n",
    "    psi = Statevector(init_sv).evolve(qc)\n",
    "    \n",
    "    for i in range(1,nops):\n",
    "        sigma_expectation[i] = pauli_expectation(psi, i, qbits)\n",
    "    return sigma_expectation, psi\n",
    "\n",
    "def ideal_qite_step(alist, db, delta, nbits, hm_list):\n",
    "    for hm in hm_list:\n",
    "        # get the ideal state tomography\n",
    "        sigma_expectation, psi = ideal_tomography(alist, hm[2], nbits)\n",
    "        norm = update_alist(sigma_expectation, alist, db, delta, hm)\n",
    "    return alist, psi\n",
    "\n",
    "def ideal_qite(db,delta,N,nbits,hm_list,details=False,log=False,log_file='ideal-qite'):\n",
    "    E = np.zeros(N+1,dtype=complex)\n",
    "    times = np.zeros(N+1,dtype=float)\n",
    "    \n",
    "    states = []\n",
    "    states.append(Statevector.from_label('0'*nbits))\n",
    "    \n",
    "    alist = []\n",
    "    \n",
    "    E[0] = ideal_energy(alist, nbits, hm_list)\n",
    "    \n",
    "    hmat = get_h_matrix(hm_list,nbits)\n",
    "    \n",
    "    start = 0\n",
    "    end = 0\n",
    "    if details:\n",
    "        print('Starting QITE Loop')\n",
    "    \n",
    "    for i in range(1,N+1):\n",
    "        if details:\n",
    "            print('i={}'.format(i), end=' ', flush=True)\n",
    "            start = time.time()\n",
    "        \n",
    "        alist,psi = ideal_qite_step(alist, db, delta, nbits, hm_list)\n",
    "        E[i] = ideal_energy(alist, nbits, hm_list)\n",
    "        states.append(psi)\n",
    "        \n",
    "        if details:\n",
    "            end = time.time()\n",
    "            duration = end-start\n",
    "            times[i] = duration\n",
    "            print('Execution time: {:.2f} seconds, <psi|H|psi> = {}'.format(duration, np.conj(psi.data) @ hmat @ psi.data.T ))\n",
    "    \n",
    "    if log:\n",
    "        log_qite_run(db,delta,N,nbits,hm_list,alist,log_file)\n",
    "    \n",
    "    return E,times,states"
   ]
  },
  {
   "cell_type": "code",
   "execution_count": 8,
   "id": "e38497b9",
   "metadata": {},
   "outputs": [
    {
     "name": "stdout",
     "output_type": "stream",
     "text": [
      "Starting QITE Loop\n",
      "i=1 Execution time: 0.01 seconds, <psi|H|psi> = (0.4156032373073173+0j)\n",
      "i=2 Execution time: 0.03 seconds, <psi|H|psi> = (0.26406913169507135+0j)\n",
      "i=3 Execution time: 0.03 seconds, <psi|H|psi> = (0.10481370743036916+0j)\n",
      "i=4 Execution time: 0.03 seconds, <psi|H|psi> = (-0.057539675957812064+0j)\n",
      "i=5 Execution time: 0.03 seconds, <psi|H|psi> = (-0.2180019895491664+0j)\n",
      "i=6 Execution time: 0.03 seconds, <psi|H|psi> = (-0.37181823210976206+0j)\n",
      "i=7 Execution time: 0.03 seconds, <psi|H|psi> = (-0.5150084224626889+0j)\n",
      "i=8 Execution time: 0.04 seconds, <psi|H|psi> = (-0.644726070173221+0j)\n",
      "i=9 Execution time: 0.04 seconds, <psi|H|psi> = (-0.7593798849669541+0j)\n",
      "i=10 Execution time: 0.04 seconds, <psi|H|psi> = (-0.8585416583637926+0j)\n",
      "i=11 Execution time: 0.04 seconds, <psi|H|psi> = (-0.9427136424478803+0j)\n",
      "i=12 Execution time: 0.04 seconds, <psi|H|psi> = (-1.0130405129812217+0j)\n",
      "i=13 Execution time: 0.04 seconds, <psi|H|psi> = (-1.0710336768681556+0j)\n",
      "i=14 Execution time: 0.04 seconds, <psi|H|psi> = (-1.1183469546574503+0j)\n",
      "i=15 Execution time: 0.05 seconds, <psi|H|psi> = (-1.156616591863491+0j)\n",
      "i=16 Execution time: 0.05 seconds, <psi|H|psi> = (-1.187361394173509+0j)\n",
      "i=17 Execution time: 0.14 seconds, <psi|H|psi> = (-1.2119306720443523+0j)\n",
      "i=18 Execution time: 0.05 seconds, <psi|H|psi> = (-1.2314859570921306+0j)\n",
      "i=19 Execution time: 0.06 seconds, <psi|H|psi> = (-1.247004144843658+0j)\n",
      "i=20 Execution time: 0.09 seconds, <psi|H|psi> = (-1.259292644687218+0j)\n",
      "i=21 Execution time: 0.08 seconds, <psi|H|psi> = (-1.2690100422863986+0j)\n",
      "i=22 Execution time: 0.07 seconds, <psi|H|psi> = (-1.2766881732692457+0j)\n",
      "i=23 Execution time: 0.08 seconds, <psi|H|psi> = (-1.2827532526272927+0j)\n",
      "i=24 Execution time: 0.09 seconds, <psi|H|psi> = (-1.2875448757842227+0j)\n",
      "i=25 Execution time: 0.11 seconds, <psi|H|psi> = (-1.2913324390911098+0j)\n",
      "i=26 Execution time: 0.15 seconds, <psi|H|psi> = (-1.2943289515125525+0j)\n",
      "i=27 Execution time: 0.10 seconds, <psi|H|psi> = (-1.2967024317733225+0j)\n",
      "i=28 Execution time: 0.12 seconds, <psi|H|psi> = (-1.2985851833040172+0j)\n",
      "i=29 Execution time: 0.10 seconds, <psi|H|psi> = (-1.3000812650828653+0j)\n",
      "i=30 Execution time: 0.12 seconds, <psi|H|psi> = (-1.3012724633421902+0j)\n"
     ]
    }
   ],
   "source": [
    "E,times,states = ideal_qite(db,delta,N,nbits,hm_list,details=True,log=True,log_file='ideal-qite')"
   ]
  },
  {
   "cell_type": "code",
   "execution_count": 9,
   "id": "df107c7f",
   "metadata": {},
   "outputs": [
    {
     "name": "stderr",
     "output_type": "stream",
     "text": [
      "C:\\Users\\CMP3KUMARS\\Anaconda3\\envs\\qiskit\\lib\\site-packages\\matplotlib\\cbook\\__init__.py:1298: ComplexWarning: Casting complex values to real discards the imaginary part\n",
      "  return np.asarray(x, float)\n"
     ]
    },
    {
     "data": {
      "image/png": "[encoded data removed]",
      "text/plain": [
       "<Figure size 432x288 with 1 Axes>"
      ]
     },
     "metadata": {
      "needs_background": "light"
     },
     "output_type": "display_data"
    }
   ],
   "source": [
    "p1, = plt.plot(np.arange(0,N+1)*db, E, 'ro-')\n",
    "w,v = get_spectrum(hm_list,nbits)\n",
    "for energy_level in w:\n",
    "    p2= plt.axhline(y=energy_level, color='k', linestyle='--')\n",
    "    \n",
    "plt.legend((p1,p2), ('Mean Energy of State', 'Hamiltonian Energy Levels'), loc='upper center')\n",
    "\n",
    "plt.xlabel('Imaginary Time')\n",
    "plt.ylabel('Energy')\n",
    "plt.grid()\n",
    "\n",
    "plt.savefig('ideal-qite')\n",
    "\n",
    "plt.show()"
   ]
  },
  {
   "cell_type": "code",
   "execution_count": 10,
   "id": "199f72fd",
   "metadata": {},
   "outputs": [
    {
     "name": "stdout",
     "output_type": "stream",
     "text": [
      "[1.+0.j 0.+0.j 0.+0.j 0.+0.j]\n",
      "[ 0.99940517+0.j  0.        +0.j -0.03448617+0.j  0.        +0.j]\n",
      "[ 0.99552935+0.j  0.        +0.j -0.0944527 +0.j  0.        +0.j]\n",
      "[ 0.9878262 +0.j  0.        +0.j -0.15556158+0.j  0.        +0.j]\n",
      "[ 0.97625054+0.j  0.        +0.j -0.21664462+0.j  0.        +0.j]\n",
      "[ 0.96100919+0.j  0.        +0.j -0.27651644+0.j  0.        +0.j]\n",
      "[ 0.94254361+0.j  0.        +0.j -0.33408313+0.j  0.        +0.j]\n",
      "[ 0.92147636+0.j  0.        +0.j -0.38843445+0.j  0.        +0.j]\n",
      "[ 0.89853481+0.j  0.        +0.j -0.43890225+0.j  0.        +0.j]\n",
      "[ 0.87447039+0.j  0.        +0.j -0.48507891+0.j  0.        +0.j]\n",
      "[ 0.84998913+0.j  0.        +0.j -0.52680022+0.j  0.        +0.j]\n",
      "[ 0.82570337+0.j  0.        +0.j -0.56410455+0.j  0.        +0.j]\n",
      "[ 0.80210637+0.j  0.        +0.j -0.59718119+0.j  0.        +0.j]\n",
      "[ 0.77956679+0.j  0.        +0.j -0.6263191 +0.j  0.        +0.j]\n",
      "[ 0.75833706+0.j  0.        +0.j -0.65186264+0.j  0.        +0.j]\n",
      "[ 0.73856961+0.j  0.        +0.j -0.67417723+0.j  0.        +0.j]\n",
      "[ 0.72033613+0.j  0.        +0.j -0.69362515+0.j  0.        +0.j]\n",
      "[ 0.70364663+0.j  0.        +0.j -0.71055008+0.j  0.        +0.j]\n",
      "[ 0.68846637+0.j  0.        +0.j -0.72526827+0.j  0.        +0.j]\n",
      "[ 0.67473002+0.j  0.        +0.j -0.73806463+0.j  0.        +0.j]\n",
      "[ 0.66235284+0.j  0.        +0.j -0.74919204+0.j  0.        +0.j]\n",
      "[ 0.65123919+0.j  0.        +0.j -0.75887253+0.j  0.        +0.j]\n",
      "[ 0.64128876+0.j  0.        +0.j -0.76729963+0.j  0.        +0.j]\n",
      "[ 0.63240099+0.j  0.        +0.j -0.7746412 +0.j  0.        +0.j]\n",
      "[ 0.62447806+0.j  0.        +0.j -0.78104235+0.j  0.        +0.j]\n",
      "[ 0.61742687+0.j  0.        +0.j -0.78662829+0.j  0.        +0.j]\n",
      "[ 0.61116012+0.j  0.        +0.j -0.79150699+0.j  0.        +0.j]\n",
      "[ 0.60559698+0.j  0.        +0.j -0.79577151+0.j  0.        +0.j]\n",
      "[ 0.60066324+0.j  0.        +0.j -0.79950214+0.j  0.        +0.j]\n",
      "[ 0.59629129+0.j  0.        +0.j -0.80276814+0.j  0.        +0.j]\n",
      "[ 0.59241987+0.j  0.        +0.j -0.80562938+0.j  0.        +0.j]\n",
      "31\n"
     ]
    }
   ],
   "source": [
    "for psi in states:\n",
    "    print(psi.data)\n",
    "print(len(states))"
   ]
  },
  {
   "cell_type": "code",
   "execution_count": 13,
   "id": "bb5a649b",
   "metadata": {},
   "outputs": [],
   "source": [
    "def pauli_int_to_char(pstring):\n",
    "    pstr = ''\n",
    "    for p in pstring:\n",
    "        if p==0:\n",
    "            pstr += 'I'\n",
    "        else:\n",
    "            pstr += chr(ord('X')+p-1)\n",
    "    return pstr\n",
    "\n",
    "def print_hamiltonian(hm_list):\n",
    "    term_num = 1\n",
    "    for hm in hm_list:\n",
    "        for j in range(len(hm[0])):\n",
    "            pstring = pauli_int_to_char(int_to_base(hm[0][j],4,len(hm[2])))\n",
    "            print('Term {}:'.format(term_num))\n",
    "            print('({:.2f}) {} acting on qubits {}'.format(hm[1][j], pstring, hm[2]))"
   ]
  },
  {
   "cell_type": "code",
   "execution_count": 14,
   "id": "6d8750ac",
   "metadata": {},
   "outputs": [
    {
     "name": "stdout",
     "output_type": "stream",
     "text": [
      "Term 1:\n",
      "(0.71) ZX acting on qubits [0, 1]\n",
      "Term 1:\n",
      "(0.50) X acting on qubits [1]\n",
      "Term 1:\n",
      "(0.50) Z acting on qubits [1]\n"
     ]
    }
   ],
   "source": [
    "print_hamiltonian(hm_list)"
   ]
  },
  {
   "cell_type": "markdown",
   "id": "f6d9cb11",
   "metadata": {},
   "source": [
    "## Use alist to restore the state vector at each imaginary time step"
   ]
  },
  {
   "cell_type": "code",
   "execution_count": 93,
   "id": "08ec2a3a",
   "metadata": {},
   "outputs": [],
   "source": [
    "x = np.load('./ideal-qite.npy',allow_pickle=True)\n",
    "db = x[0]\n",
    "delta = x[1]\n",
    "N = x[2]\n",
    "nbits = x[3]\n",
    "hm_list = x[4]\n",
    "alist = x[5]\n",
    "\n",
    "def get_psis(hm_list, alist, nbits):\n",
    "    nterms = len(hm_list)\n",
    "    N = len(alist)//nterms\n",
    "        \n",
    "    states = []\n",
    "    states.append(Statevector.from_label('0'*nbits))\n",
    "    \n",
    "    for i in range(1,N+1):\n",
    "        qc = QuantumCircuit(nbits)\n",
    "        propogate(qc, alist[0:i*nterms])\n",
    "        states.append(states[0].evolve(qc))\n",
    "    return states\n",
    "\n",
    "psis = get_psis(hm_list, alist, nbits)\n",
    "\n",
    "w,v = get_spectrum(hm_list,nbits)\n",
    "\n",
    "energy_state_probs = np.zeros([len(w), N+1], dtype=float)\n",
    "\n",
    "mean_energies = np.zeros(N+1,dtype=float)\n",
    "\n",
    "hmat = get_h_matrix(hm_list, nbits)\n",
    "\n",
    "for i in range(N+1):\n",
    "    for j in range(len(w)):\n",
    "        energy_state_probs[j][i] = np.abs( np.vdot(v[:,j], psis[i].data) )**2\n",
    "    mean_energies[i] = np.real(np.conj(psis[i].data).T @ hmat @ psis[i].data)"
   ]
  },
  {
   "cell_type": "code",
   "execution_count": 100,
   "id": "f7ce9a9f",
   "metadata": {},
   "outputs": [
    {
     "data": {
      "image/png": "[encoded data removed]",
      "text/plain": [
       "<Figure size 864x360 with 2 Axes>"
      ]
     },
     "metadata": {
      "needs_background": "light"
     },
     "output_type": "display_data"
    }
   ],
   "source": [
    "fig, axs = plt.subplots(1,2, figsize = (12,5))\n",
    "\n",
    "w = np.real(w)\n",
    "w_sort_i = sorted(range(len(w)), key=lambda k: w[k])\n",
    "\n",
    "fig.suptitle('Ideal QITE behaviour', fontsize=16)\n",
    "plt.subplots_adjust(top=0.85)\n",
    "\n",
    "p1, = axs[0].plot(np.arange(0,N+1)*db, mean_energies, 'ro-')\n",
    "for ei in w:\n",
    "    p2 = axs[0].axhline(y=ei, color='k', linestyle='--')\n",
    "axs[0].set_title('Mean Energy in QITE')\n",
    "axs[0].set_ylabel('Energy')\n",
    "axs[0].set_xlabel('Imaginary Time')\n",
    "axs[0].grid()\n",
    "axs[0].legend((p1,p2), ('Mean Energy of State', 'Hamiltonian Energy Levels'), loc='best')\n",
    "\n",
    "axs[1].plot(np.arange(0,N+1)*db, energy_state_probs[w_sort_i[0]], 'ro-', label='{:0.3f} energy eigenstate'.format(w[w_sort_i[0]]))\n",
    "axs[1].plot(np.arange(0,N+1)*db, energy_state_probs[w_sort_i[1]], 'g.-', label='{:0.3f} energy eigenstate'.format(w[w_sort_i[1]]))\n",
    "axs[1].plot(np.arange(0,N+1)*db, energy_state_probs[w_sort_i[2]], 'bs-', label='{:0.3f} energy eigenstate'.format(w[w_sort_i[2]]))\n",
    "axs[1].plot(np.arange(0,N+1)*db, energy_state_probs[w_sort_i[3]], 'kP-', label='{:0.3f} energy eigenstate'.format(w[w_sort_i[3]]))\n",
    "\n",
    "axs[1].set_title('Energy Eigenstate Probabilities in QITE')\n",
    "axs[1].set_ylim([0,1])\n",
    "axs[1].set_ylabel('Probability')\n",
    "axs[1].set_xlabel('Imaginary Time')\n",
    "\n",
    "axs[1].grid()\n",
    "axs[1].legend(loc='best')\n",
    "\n",
    "fig.tight_layout()\n",
    "\n",
    "plt.savefig('./figs/probabilities/ideal-qite')\n",
    "\n",
    "plt.show()"
   ]
  },
  {
   "cell_type": "code",
   "execution_count": 5,
   "id": "cb0702ac",
   "metadata": {},
   "outputs": [
    {
     "name": "stdout",
     "output_type": "stream",
     "text": [
      "0.0\n"
     ]
    }
   ],
   "source": [
    "print('{:0.1f}'.format(0.0))"
   ]
  }
 ],
 "metadata": {
  "kernelspec": {
   "display_name": "Python 3 (ipykernel)",
   "language": "python",
   "name": "python3"
  },
  "language_info": {
   "codemirror_mode": {
    "name": "ipython",
    "version": 3
   },
   "file_extension": ".py",
   "mimetype": "text/x-python",
   "name": "python",
   "nbconvert_exporter": "python",
   "pygments_lexer": "ipython3",
   "version": "3.10.0"
  }
 },
 "nbformat": 4,
 "nbformat_minor": 5
}
