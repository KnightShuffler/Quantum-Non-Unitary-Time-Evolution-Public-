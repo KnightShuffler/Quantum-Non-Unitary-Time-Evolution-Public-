{
 "cells": [
  {
   "cell_type": "code",
   "execution_count": 1,
   "id": "8fa2a593",
   "metadata": {},
   "outputs": [],
   "source": [
    "from qiskit import QuantumCircuit, QuantumRegister, ClassicalRegister\n",
    "from qiskit import execute, Aer\n",
    "# from qiskit.providers.aer import QasmSimulator, StatevectorSimulator\n",
    "from qiskit.visualization import plot_histogram\n",
    "%matplotlib inline\n",
    "\n",
    "import numpy as np\n",
    "\n",
    "sv_sim = Aer.get_backend('statevector_simulator')\n",
    "aer_sim = Aer.get_backend('aer_simulator')"
   ]
  },
  {
   "cell_type": "code",
   "execution_count": 2,
   "id": "7430bee3",
   "metadata": {},
   "outputs": [],
   "source": [
    "def run_circuit(qc, backend, num_shots=1024):\n",
    "    result = execute(qc, backend, shots=num_shots).result()\n",
    "    return dict(result.get_counts())"
   ]
  },
  {
   "cell_type": "code",
   "execution_count": 3,
   "id": "f9405204",
   "metadata": {},
   "outputs": [
    {
     "data": {
      "text/html": [
       "<pre style=\"word-wrap: normal;white-space: pre;background: #fff0;line-height: 1.1;font-family: &quot;Courier New&quot;,Courier,monospace\">     ┌───┐     ┌─┐                 \n",
       "q_0: ┤ H ├──■──┤M├─────────────────\n",
       "     └───┘┌─┴─┐└╥┘┌─┐              \n",
       "q_1: ─────┤ X ├─╫─┤M├──────────────\n",
       "          └───┘ ║ └╥┘   ┌───┐   ┌─┐\n",
       "q_2: ───────────╫──╫────┤ X ├───┤M├\n",
       "                ║  ║    └─╥─┘   └╥┘\n",
       "                ║  ║ ┌────╨────┐ ║ \n",
       "c: 3/═══════════╩══╩═╡ c_1=0x0 ╞═╩═\n",
       "                0  1 └─────────┘ 2 </pre>"
      ],
      "text/plain": [
       "     ┌───┐     ┌─┐                 \n",
       "q_0: ┤ H ├──■──┤M├─────────────────\n",
       "     └───┘┌─┴─┐└╥┘┌─┐              \n",
       "q_1: ─────┤ X ├─╫─┤M├──────────────\n",
       "          └───┘ ║ └╥┘   ┌───┐   ┌─┐\n",
       "q_2: ───────────╫──╫────┤ X ├───┤M├\n",
       "                ║  ║    └─╥─┘   └╥┘\n",
       "                ║  ║ ┌────╨────┐ ║ \n",
       "c: 3/═══════════╩══╩═╡ c_1=0x0 ╞═╩═\n",
       "                0  1 └─────────┘ 2 "
      ]
     },
     "execution_count": 3,
     "metadata": {},
     "output_type": "execute_result"
    }
   ],
   "source": [
    "qc = QuantumCircuit(3,3)\n",
    "qc.h(0)\n",
    "qc.cx(0,1)\n",
    "qc.measure([0,1],[0,1])\n",
    "qc.x(2).c_if(1,0)\n",
    "qc.measure(2,2)\n",
    "qc.draw()"
   ]
  },
  {
   "cell_type": "code",
   "execution_count": 4,
   "id": "260b4007",
   "metadata": {},
   "outputs": [
    {
     "data": {
      "image/png": "[encoded data removed]",
      "text/plain": [
       "<Figure size 504x360 with 1 Axes>"
      ]
     },
     "execution_count": 4,
     "metadata": {},
     "output_type": "execute_result"
    }
   ],
   "source": [
    "counts = run_circuit(qc, aer_sim)\n",
    "plot_histogram(counts)\n",
    "\n",
    "# Remember that from left to right order is MSB to LSB in qiskit"
   ]
  },
  {
   "cell_type": "code",
   "execution_count": 47,
   "id": "48d6ee25",
   "metadata": {},
   "outputs": [],
   "source": [
    "def measure(qc, idx, qbit, cbit, backend, num_shots=1024):\n",
    "    if idx == 0:\n",
    "        return 1\n",
    "    elif idx == 1:\n",
    "        qc.h(qbit)\n",
    "    elif idx == 2:\n",
    "        qc.rx(np.pi/2, qbit)\n",
    "    elif idx == 3:\n",
    "        None\n",
    "    else:\n",
    "        raise ValueError('Only 0,1,2,3 are valid idx')\n",
    "    \n",
    "    qc.measure(qbit, cbit)\n",
    "    counts = run_circuit(qc, backend, num_shots=num_shots)\n",
    "    \n",
    "    index = 0\n",
    "    for bit in qc.clbits:\n",
    "        if bit == cbit:\n",
    "            break\n",
    "        index += 1\n",
    "\n",
    "    print(index)\n",
    "\n",
    "    expectation = 0\n",
    "\n",
    "    for key in counts.keys():\n",
    "        k = key.replace(' ', '')\n",
    "        print('k:', k)\n",
    "        if k[-(index+1)] == '0':\n",
    "            expectation += counts[key]\n",
    "        else:\n",
    "            expectation -= counts[key]\n",
    "            \n",
    "    return float(expectation)/num_shots"
   ]
  },
  {
   "cell_type": "code",
   "execution_count": 56,
   "id": "d9074326",
   "metadata": {},
   "outputs": [
    {
     "name": "stdout",
     "output_type": "stream",
     "text": [
      "0\n",
      "k: 1\n",
      "k: 0\n",
      "0.0078125\n"
     ]
    }
   ],
   "source": [
    "q = QuantumRegister(1)\n",
    "c1 = ClassicalRegister(1)\n",
    "qc = QuantumCircuit(q,c1)\n",
    "# qc.x(0)\n",
    "qc.h(q)\n",
    "qbit = q\n",
    "cbit = c1[0]\n",
    "\n",
    "# qc.measure(qbit, cbit)\n",
    "\n",
    "# print(cbit)\n",
    "meas = measure(qc, 3, qbit, cbit, aer_sim)\n",
    "print(meas)\n",
    "# plot_histogram(counts)"
   ]
  },
  {
   "cell_type": "code",
   "execution_count": 7,
   "id": "b4c67ae2",
   "metadata": {},
   "outputs": [
    {
     "data": {
      "text/plain": [
       "[Clbit(ClassicalRegister(2, 'c0'), 0),\n",
       " Clbit(ClassicalRegister(2, 'c0'), 1),\n",
       " Clbit(ClassicalRegister(2, 'c1'), 0),\n",
       " Clbit(ClassicalRegister(2, 'c1'), 1)]"
      ]
     },
     "execution_count": 7,
     "metadata": {},
     "output_type": "execute_result"
    }
   ],
   "source": [
    "qc.clbits"
   ]
  },
  {
   "cell_type": "code",
   "execution_count": 8,
   "id": "6833756b",
   "metadata": {},
   "outputs": [
    {
     "data": {
      "image/png": "[encoded data removed]",
      "text/plain": [
       "<Figure size 504x360 with 1 Axes>"
      ]
     },
     "execution_count": 8,
     "metadata": {},
     "output_type": "execute_result"
    }
   ],
   "source": [
    "counts = run_circuit(qc, aer_sim)\n",
    "plot_histogram(counts)"
   ]
  },
  {
   "cell_type": "code",
   "execution_count": 9,
   "id": "ffd2e2d4",
   "metadata": {},
   "outputs": [
    {
     "name": "stdout",
     "output_type": "stream",
     "text": [
      "2\n",
      "0\n",
      "1\n"
     ]
    }
   ],
   "source": [
    "index = 0\n",
    "for bit in qc.clbits:\n",
    "    if bit == cbit:\n",
    "        break\n",
    "    index += 1\n",
    "\n",
    "print(index)\n",
    "\n",
    "for key in counts.keys():\n",
    "    k = key.replace(' ', '')\n",
    "    print(k[-(index+1)])"
   ]
  },
  {
   "cell_type": "code",
   "execution_count": 36,
   "id": "b2e28ff0",
   "metadata": {},
   "outputs": [
    {
     "data": {
      "image/png": "[encoded data removed]",
      "text/plain": [
       "<Figure size 504x360 with 1 Axes>"
      ]
     },
     "execution_count": 36,
     "metadata": {},
     "output_type": "execute_result"
    }
   ],
   "source": [
    "qc = QuantumCircuit(1,1)\n",
    "qc.h(0)\n",
    "qc.measure(0,0)\n",
    "counts = run_circuit(qc, aer_sim)\n",
    "plot_histogram(counts)"
   ]
  },
  {
   "cell_type": "code",
   "execution_count": 38,
   "id": "ae0fc1ea",
   "metadata": {},
   "outputs": [
    {
     "name": "stdout",
     "output_type": "stream",
     "text": [
      "1\n",
      "0\n"
     ]
    }
   ],
   "source": [
    "for k in counts.keys():\n",
    "    print(k)"
   ]
  },
  {
   "cell_type": "markdown",
   "id": "057a7cc4",
   "metadata": {},
   "source": [
    "## Update alist"
   ]
  },
  {
   "cell_type": "code",
   "execution_count": 29,
   "id": "32143532",
   "metadata": {},
   "outputs": [
    {
     "name": "stdout",
     "output_type": "stream",
     "text": [
      "h\t\t [[[[1], [0.7071067811865475]]], [[[3], [0.7071067811865475]]]]\n",
      "h[0]\t\t [[[1], [0.7071067811865475]]]\n",
      "h[0][0]\t\t [[1], [0.7071067811865475]]\n",
      "h[0][0][1]\t [0.7071067811865475]\n",
      "1\n"
     ]
    }
   ],
   "source": [
    "h = []\n",
    "h.append([])\n",
    "h[0].append([[1],[1/np.sqrt(2)]])\n",
    "h.append([])\n",
    "h[1].append([[3],[1/np.sqrt(2)]])\n",
    "\n",
    "print('h\\t\\t',h)\n",
    "print('h[0]\\t\\t',h[0])\n",
    "print('h[0][0]\\t\\t',h[0][0])\n",
    "print('h[0][0][1]\\t',h[0][0][1])\n",
    "print(len(h[0][0][0]))"
   ]
  },
  {
   "cell_type": "code",
   "execution_count": 31,
   "id": "5d76eb30",
   "metadata": {},
   "outputs": [
    {
     "name": "stdout",
     "output_type": "stream",
     "text": [
      "[[1, 2, 3], [1, 2, 3]]\n"
     ]
    }
   ],
   "source": [
    "a = []\n",
    "\n",
    "def foo(a):\n",
    "    a.append([])\n",
    "    a[-1].append(1)\n",
    "    a[-1].append(2)\n",
    "    a[-1].append(3)\n",
    "\n",
    "foo(a)\n",
    "foo(a)\n",
    "print(a)"
   ]
  },
  {
   "cell_type": "markdown",
   "id": "824d6b0c",
   "metadata": {},
   "source": [
    "# testing qite"
   ]
  },
  {
   "cell_type": "code",
   "execution_count": 32,
   "id": "ac246dd9",
   "metadata": {},
   "outputs": [],
   "source": [
    "N = 25\n",
    "shots = 1000\n",
    "db = 0.1\n",
    "qc = '1q-qvm'\n",
    "qbits = [0]\n",
    "hm_list = []\n",
    "hm_list.append([])\n",
    "hm_list[0].append([[1],[1/np.sqrt(2)]])\n",
    "hm_list.append([])\n",
    "hm_list[1].append([[3],[1/np.sqrt(2)]])\n",
    "delta = 0.1"
   ]
  },
  {
   "cell_type": "code",
   "execution_count": 1,
   "id": "be55096d",
   "metadata": {},
   "outputs": [
    {
     "name": "stdout",
     "output_type": "stream",
     "text": [
      "[1, 2, 0]\n"
     ]
    }
   ],
   "source": [
    "h = [1,2,0]\n",
    "print(str(h))"
   ]
  }
 ],
 "metadata": {
  "kernelspec": {
   "display_name": "Python 3 (ipykernel)",
   "language": "python",
   "name": "python3"
  },
  "language_info": {
   "codemirror_mode": {
    "name": "ipython",
    "version": 3
   },
   "file_extension": ".py",
   "mimetype": "text/x-python",
   "name": "python",
   "nbconvert_exporter": "python",
   "pygments_lexer": "ipython3",
   "version": "3.10.0"
  }
 },
 "nbformat": 4,
 "nbformat_minor": 5
}
