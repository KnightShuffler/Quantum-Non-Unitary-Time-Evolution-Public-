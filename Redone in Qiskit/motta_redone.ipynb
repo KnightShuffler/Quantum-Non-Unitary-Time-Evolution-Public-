{
 "cells": [
  {
   "cell_type": "code",
   "execution_count": 3,
   "id": "07380422",
   "metadata": {},
   "outputs": [],
   "source": [
    "from qite import *"
   ]
  },
  {
   "cell_type": "code",
   "execution_count": 28,
   "id": "3c114c80",
   "metadata": {},
   "outputs": [
    {
     "name": "stdout",
     "output_type": "stream",
     "text": [
      "[[ 0.-0.j -1.-0.j]\n",
      " [-1.-0.j  0.-0.j]\n",
      " [ 0.-0.j -1.-0.j]\n",
      " [-1.-0.j  0.-0.j]] \n",
      "\n",
      "[[ 0.+0.j -1.+0.j  0.+0.j -1.+0.j]\n",
      " [-1.+0.j  0.+0.j -1.+0.j  0.+0.j]] \n",
      "\n",
      "[[1.+0.j 0.+0.j 1.+0.j 0.+0.j]\n",
      " [0.+0.j 1.+0.j 0.+0.j 1.+0.j]\n",
      " [1.+0.j 0.+0.j 1.+0.j 0.+0.j]\n",
      " [0.+0.j 1.+0.j 0.+0.j 1.+0.j]]\n"
     ]
    }
   ],
   "source": [
    "import numpy as np\n",
    "p = np.zeros((4,2),dtype=complex)\n",
    "for i in range(4):\n",
    "    p[i, i&1 ^ 1] = -1**i\n",
    "print(np.conj(p),'\\n')\n",
    "\n",
    "print(p.T,'\\n')\n",
    "print(np.dot( np.conj(p), p.T ))\n",
    "# print(np.dot( p, p ))"
   ]
  },
  {
   "cell_type": "code",
   "execution_count": 31,
   "id": "38f32029",
   "metadata": {},
   "outputs": [
    {
     "data": {
      "text/plain": [
       "array([1.+0.j, 0.+0.j])"
      ]
     },
     "execution_count": 31,
     "metadata": {},
     "output_type": "execute_result"
    }
   ],
   "source": [
    "q = np.array([1+0j,0j])\n",
    "q"
   ]
  },
  {
   "cell_type": "code",
   "execution_count": null,
   "id": "c893761b",
   "metadata": {},
   "outputs": [],
   "source": [
    "np.dot(*))"
   ]
  }
 ],
 "metadata": {
  "kernelspec": {
   "display_name": "Python 3 (ipykernel)",
   "language": "python",
   "name": "python3"
  },
  "language_info": {
   "codemirror_mode": {
    "name": "ipython",
    "version": 3
   },
   "file_extension": ".py",
   "mimetype": "text/x-python",
   "name": "python",
   "nbconvert_exporter": "python",
   "pygments_lexer": "ipython3",
   "version": "3.10.0"
  }
 },
 "nbformat": 4,
 "nbformat_minor": 5
}
