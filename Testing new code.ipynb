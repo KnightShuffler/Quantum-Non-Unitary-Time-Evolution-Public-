{
 "cells": [
  {
   "cell_type": "code",
   "execution_count": 1,
   "id": "19b7b7df",
   "metadata": {},
   "outputs": [],
   "source": [
    "from helpers import *\n",
    "import matplotlib.pyplot as plt\n",
    "plt.style.use('_mpl-gallery')\n",
    "\n",
    "def plot_circle(points, c, r, l):\n",
    "    fig, ax = plt.subplots(figsize=(4,4))\n",
    "\n",
    "    s_x = [s_i[0] for s_i in points]\n",
    "    s_y = [s_i[1] for s_i in points]\n",
    "\n",
    "    pad = 0.3\n",
    "\n",
    "    ax.scatter(s_x, s_y, vmin=0, vmax=100)\n",
    "    ax.set( xlim=(-pad,l-1+pad), xticks=(np.arange(0,l)),\n",
    "            ylim=(-pad,l-1+pad), yticks=(np.arange(0,l)) )\n",
    "\n",
    "    # calculate sphere lines\n",
    "    l_ = (c[0] - r, c[1])\n",
    "\n",
    "    r_ = (c[0] + r, c[1])\n",
    "\n",
    "    u_ = (c[0], c[1] + r)\n",
    "\n",
    "    d_ = (c[0], c[1] - r)\n",
    "\n",
    "    ax.plot(c[0], c[1], 'rs')\n",
    "    ax.plot([l_[0], d_[0]], [l_[1], d_[1]], color='red')\n",
    "    ax.plot([l_[0], u_[0]], [l_[1], u_[1]], color='red')\n",
    "    ax.plot([r_[0], d_[0]], [r_[1], d_[1]], color='red')\n",
    "    ax.plot([r_[0], u_[0]], [r_[1], u_[1]], color='red')\n",
    "\n",
    "    plt.show()"
   ]
  },
  {
   "cell_type": "code",
   "execution_count": 2,
   "id": "636ab9da",
   "metadata": {},
   "outputs": [
    {
     "data": {
      "image/png": "[encoded data removed]",
      "text/plain": [
       "<Figure size 288x288 with 1 Axes>"
      ]
     },
     "metadata": {
      "needs_background": "light"
     },
     "output_type": "display_data"
    }
   ],
   "source": [
    "c=(0.5, 3.5)\n",
    "r=3\n",
    "d=2\n",
    "l=10\n",
    "\n",
    "s = get_m_sphere(c, r, d, l)\n",
    "\n",
    "plot_circle(s, c, r, l)"
   ]
  },
  {
   "cell_type": "code",
   "execution_count": 4,
   "id": "2be6878c",
   "metadata": {},
   "outputs": [
    {
     "data": {
      "image/png": "[encoded data removed]",
      "text/plain": [
       "<Figure size 288x288 with 1 Axes>"
      ]
     },
     "metadata": {
      "needs_background": "light"
     },
     "output_type": "display_data"
    }
   ],
   "source": [
    "ss = get_sphere(c, r, d, l)\n",
    "plot_circle(ss, c, r, l)"
   ]
  },
  {
   "cell_type": "code",
   "execution_count": 42,
   "id": "78770188",
   "metadata": {},
   "outputs": [],
   "source": [
    "def get_min_circle(points):\n",
    "    center = get_center(points)\n",
    "    max_dist = 0\n",
    "    for p in points:\n",
    "        if manhattan_dist(p, center) > max_dist:\n",
    "            max_dist = manhattan_dist(p, center)\n",
    "    return center, max_dist"
   ]
  },
  {
   "cell_type": "code",
   "execution_count": 22,
   "id": "fcd07a25",
   "metadata": {},
   "outputs": [
    {
     "name": "stdout",
     "output_type": "stream",
     "text": [
      "Loading Hamiltonian Parameters... Calculating Unitary Domains... Done\n",
      "Calculating Required Odd-Y Pauli Strings... Done\n",
      "Calculating Required Pauli Measurements... Done\n"
     ]
    }
   ],
   "source": [
    "from hamiltonians import *\n",
    "from qite_params import QITE_params as QP\n",
    "from helpers import *\n",
    "\n",
    "Ham = ShortRangeHeisenberg(4, [1,1,1])\n",
    "Ham.multiply_scalar(1j)\n",
    "params = QP(Ham)\n",
    "\n",
    "params.load_hamiltonian_params(4)"
   ]
  },
  {
   "cell_type": "code",
   "execution_count": 23,
   "id": "d853f749",
   "metadata": {},
   "outputs": [
    {
     "name": "stdout",
     "output_type": "stream",
     "text": [
      "Term 1 acting on the qubit locations [0, 1]:\n",
      "\t(0.00 + 1.00i) X_0 X_1 +\n",
      "\t(0.00 + 1.00i) Y_0 Y_1 +\n",
      "\t(0.00 + 1.00i) Z_0 Z_1 \n",
      "Term 2 acting on the qubit locations [1, 2]:\n",
      "\t(0.00 + 1.00i) X_1 X_2 +\n",
      "\t(0.00 + 1.00i) Y_1 Y_2 +\n",
      "\t(0.00 + 1.00i) Z_1 Z_2 \n",
      "Term 3 acting on the qubit locations [2, 3]:\n",
      "\t(0.00 + 1.00i) X_2 X_3 +\n",
      "\t(0.00 + 1.00i) Y_2 Y_3 +\n",
      "\t(0.00 + 1.00i) Z_2 Z_3 \n"
     ]
    }
   ],
   "source": [
    "Ham.print()"
   ]
  },
  {
   "cell_type": "code",
   "execution_count": 24,
   "id": "17955b2a",
   "metadata": {},
   "outputs": [
    {
     "data": {
      "text/plain": [
       "{0: [{0: 1, 1: 1},\n",
       "  {0: 2, 1: 2},\n",
       "  {0: 3, 1: 3},\n",
       "  {0: 0, 1: 1, 2: 0},\n",
       "  {0: 2, 1: 3, 2: 0},\n",
       "  {0: 3, 1: 2, 2: 0},\n",
       "  {0: 1, 1: 0, 2: 0},\n",
       "  {0: 1, 1: 2, 2: 0},\n",
       "  {0: 1, 1: 3, 2: 0},\n",
       "  {0: 3, 1: 0, 2: 0},\n",
       "  {0: 2, 1: 0, 2: 0},\n",
       "  {0: 0, 1: 3, 2: 0},\n",
       "  {0: 0, 1: 2, 2: 0},\n",
       "  {0: 2, 1: 1, 2: 0},\n",
       "  {0: 3, 1: 1, 2: 0},\n",
       "  {0: 0, 1: 0, 2: 1},\n",
       "  {0: 0, 1: 1, 2: 1},\n",
       "  {0: 2, 1: 2, 2: 1},\n",
       "  {0: 3, 1: 2, 2: 1},\n",
       "  {0: 1, 1: 2, 2: 1},\n",
       "  {0: 0, 1: 3, 2: 1},\n",
       "  {0: 2, 1: 3, 2: 1},\n",
       "  {0: 3, 1: 3, 2: 1},\n",
       "  {0: 1, 1: 3, 2: 1},\n",
       "  {0: 0, 1: 2, 2: 1},\n",
       "  {0: 1, 1: 0, 2: 1},\n",
       "  {0: 3, 1: 0, 2: 1},\n",
       "  {0: 2, 1: 1, 2: 1},\n",
       "  {0: 2, 1: 0, 2: 1},\n",
       "  {0: 3, 1: 1, 2: 1},\n",
       "  {0: 1, 1: 1, 2: 1},\n",
       "  {0: 2, 1: 0, 2: 2},\n",
       "  {0: 2, 1: 1, 2: 2},\n",
       "  {0: 0, 1: 2, 2: 2},\n",
       "  {0: 1, 1: 2, 2: 2},\n",
       "  {0: 3, 1: 2, 2: 2},\n",
       "  {0: 2, 1: 3, 2: 2},\n",
       "  {0: 2, 1: 0, 2: 3},\n",
       "  {0: 2, 1: 1, 2: 3},\n",
       "  {0: 0, 1: 2, 2: 3},\n",
       "  {0: 1, 1: 2, 2: 3},\n",
       "  {0: 3, 1: 2, 2: 3},\n",
       "  {0: 2, 1: 3, 2: 3},\n",
       "  {0: 3, 1: 0, 2: 2},\n",
       "  {0: 3, 1: 1, 2: 2},\n",
       "  {0: 2, 1: 2, 2: 2},\n",
       "  {0: 3, 1: 3, 2: 2},\n",
       "  {0: 3, 1: 0, 2: 3},\n",
       "  {0: 3, 1: 1, 2: 3},\n",
       "  {0: 2, 1: 2, 2: 3},\n",
       "  {0: 3, 1: 3, 2: 3},\n",
       "  {0: 1, 1: 0, 2: 2},\n",
       "  {0: 1, 1: 1, 2: 2},\n",
       "  {0: 1, 1: 3, 2: 2},\n",
       "  {0: 1, 1: 0, 2: 3},\n",
       "  {0: 1, 1: 1, 2: 3},\n",
       "  {0: 1, 1: 3, 2: 3},\n",
       "  {0: 0, 1: 3, 2: 2},\n",
       "  {0: 0, 1: 3, 2: 3},\n",
       "  {0: 0, 1: 1, 2: 2},\n",
       "  {0: 0, 1: 1, 2: 3},\n",
       "  {0: 0, 1: 0, 2: 3},\n",
       "  {0: 0, 1: 0, 2: 2}],\n",
       " 1: [{1: 1, 2: 1},\n",
       "  {1: 2, 2: 2},\n",
       "  {1: 3, 2: 3},\n",
       "  {0: 0, 1: 1, 2: 0, 3: 0},\n",
       "  {0: 2, 1: 2, 2: 0, 3: 0},\n",
       "  {0: 2, 1: 3, 2: 0, 3: 0},\n",
       "  {0: 3, 1: 2, 2: 0, 3: 0},\n",
       "  {0: 3, 1: 3, 2: 0, 3: 0},\n",
       "  {0: 1, 1: 0, 2: 0, 3: 0},\n",
       "  {0: 1, 1: 2, 2: 0, 3: 0},\n",
       "  {0: 1, 1: 3, 2: 0, 3: 0},\n",
       "  {0: 3, 1: 0, 2: 0, 3: 0},\n",
       "  {0: 2, 1: 0, 2: 0, 3: 0},\n",
       "  {0: 0, 1: 3, 2: 0, 3: 0},\n",
       "  {0: 0, 1: 2, 2: 0, 3: 0},\n",
       "  {0: 2, 1: 1, 2: 0, 3: 0},\n",
       "  {0: 3, 1: 1, 2: 0, 3: 0},\n",
       "  {0: 1, 1: 1, 2: 0, 3: 0},\n",
       "  {0: 0, 1: 0, 2: 1, 3: 0},\n",
       "  {0: 2, 1: 2, 2: 1, 3: 0},\n",
       "  {0: 3, 1: 2, 2: 1, 3: 0},\n",
       "  {0: 1, 1: 2, 2: 1, 3: 0},\n",
       "  {0: 0, 1: 3, 2: 1, 3: 0},\n",
       "  {0: 2, 1: 3, 2: 1, 3: 0},\n",
       "  {0: 3, 1: 3, 2: 1, 3: 0},\n",
       "  {0: 1, 1: 3, 2: 1, 3: 0},\n",
       "  {0: 0, 1: 2, 2: 1, 3: 0},\n",
       "  {0: 1, 1: 0, 2: 1, 3: 0},\n",
       "  {0: 3, 1: 0, 2: 1, 3: 0},\n",
       "  {0: 2, 1: 1, 2: 1, 3: 0},\n",
       "  {0: 2, 1: 0, 2: 1, 3: 0},\n",
       "  {0: 3, 1: 1, 2: 1, 3: 0},\n",
       "  {0: 1, 1: 1, 2: 1, 3: 0},\n",
       "  {0: 2, 1: 0, 2: 2, 3: 0},\n",
       "  {0: 2, 1: 1, 2: 2, 3: 0},\n",
       "  {0: 1, 1: 2, 2: 2, 3: 0},\n",
       "  {0: 3, 1: 2, 2: 2, 3: 0},\n",
       "  {0: 2, 1: 3, 2: 2, 3: 0},\n",
       "  {0: 2, 1: 0, 2: 3, 3: 0},\n",
       "  {0: 2, 1: 1, 2: 3, 3: 0},\n",
       "  {0: 0, 1: 2, 2: 3, 3: 0},\n",
       "  {0: 1, 1: 2, 2: 3, 3: 0},\n",
       "  {0: 3, 1: 2, 2: 3, 3: 0},\n",
       "  {0: 2, 1: 3, 2: 3, 3: 0},\n",
       "  {0: 3, 1: 0, 2: 2, 3: 0},\n",
       "  {0: 3, 1: 1, 2: 2, 3: 0},\n",
       "  {0: 2, 1: 2, 2: 2, 3: 0},\n",
       "  {0: 3, 1: 3, 2: 2, 3: 0},\n",
       "  {0: 3, 1: 0, 2: 3, 3: 0},\n",
       "  {0: 3, 1: 1, 2: 3, 3: 0},\n",
       "  {0: 2, 1: 2, 2: 3, 3: 0},\n",
       "  {0: 3, 1: 3, 2: 3, 3: 0},\n",
       "  {0: 1, 1: 0, 2: 2, 3: 0},\n",
       "  {0: 1, 1: 1, 2: 2, 3: 0},\n",
       "  {0: 1, 1: 3, 2: 2, 3: 0},\n",
       "  {0: 1, 1: 0, 2: 3, 3: 0},\n",
       "  {0: 1, 1: 1, 2: 3, 3: 0},\n",
       "  {0: 1, 1: 3, 2: 3, 3: 0},\n",
       "  {0: 0, 1: 3, 2: 2, 3: 0},\n",
       "  {0: 0, 1: 1, 2: 2, 3: 0},\n",
       "  {0: 0, 1: 1, 2: 3, 3: 0},\n",
       "  {0: 0, 1: 0, 2: 3, 3: 0},\n",
       "  {0: 0, 1: 0, 2: 2, 3: 0},\n",
       "  {0: 0, 1: 0, 2: 0, 3: 1},\n",
       "  {0: 0, 1: 1, 2: 0, 3: 1},\n",
       "  {0: 2, 1: 2, 2: 0, 3: 1},\n",
       "  {0: 3, 1: 2, 2: 0, 3: 1},\n",
       "  {0: 1, 1: 2, 2: 0, 3: 1},\n",
       "  {0: 0, 1: 3, 2: 0, 3: 1},\n",
       "  {0: 0, 1: 0, 2: 1, 3: 1},\n",
       "  {0: 0, 1: 1, 2: 1, 3: 1},\n",
       "  {0: 2, 1: 2, 2: 1, 3: 1},\n",
       "  {0: 3, 1: 2, 2: 1, 3: 1},\n",
       "  {0: 1, 1: 2, 2: 1, 3: 1},\n",
       "  {0: 0, 1: 3, 2: 1, 3: 1},\n",
       "  {0: 2, 1: 0, 2: 2, 3: 1},\n",
       "  {0: 3, 1: 0, 2: 2, 3: 1},\n",
       "  {0: 1, 1: 0, 2: 2, 3: 1},\n",
       "  {0: 2, 1: 1, 2: 2, 3: 1},\n",
       "  {0: 3, 1: 1, 2: 2, 3: 1},\n",
       "  {0: 1, 1: 1, 2: 2, 3: 1},\n",
       "  {0: 0, 1: 2, 2: 2, 3: 1},\n",
       "  {0: 2, 1: 3, 2: 2, 3: 1},\n",
       "  {0: 3, 1: 3, 2: 2, 3: 1},\n",
       "  {0: 1, 1: 3, 2: 2, 3: 1},\n",
       "  {0: 0, 1: 0, 2: 3, 3: 1},\n",
       "  {0: 0, 1: 1, 2: 3, 3: 1},\n",
       "  {0: 2, 1: 2, 2: 3, 3: 1},\n",
       "  {0: 3, 1: 2, 2: 3, 3: 1},\n",
       "  {0: 1, 1: 2, 2: 3, 3: 1},\n",
       "  {0: 0, 1: 3, 2: 3, 3: 1},\n",
       "  {0: 2, 1: 3, 2: 0, 3: 1},\n",
       "  {0: 3, 1: 3, 2: 0, 3: 1},\n",
       "  {0: 1, 1: 3, 2: 0, 3: 1},\n",
       "  {0: 0, 1: 2, 2: 0, 3: 1},\n",
       "  {0: 2, 1: 3, 2: 1, 3: 1},\n",
       "  {0: 3, 1: 3, 2: 1, 3: 1},\n",
       "  {0: 1, 1: 3, 2: 1, 3: 1},\n",
       "  {0: 0, 1: 2, 2: 1, 3: 1},\n",
       "  {0: 0, 1: 3, 2: 2, 3: 1},\n",
       "  {0: 2, 1: 2, 2: 2, 3: 1},\n",
       "  {0: 3, 1: 2, 2: 2, 3: 1},\n",
       "  {0: 1, 1: 2, 2: 2, 3: 1},\n",
       "  {0: 2, 1: 3, 2: 3, 3: 1},\n",
       "  {0: 3, 1: 3, 2: 3, 3: 1},\n",
       "  {0: 1, 1: 3, 2: 3, 3: 1},\n",
       "  {0: 0, 1: 2, 2: 3, 3: 1},\n",
       "  {0: 1, 1: 0, 2: 0, 3: 1},\n",
       "  {0: 3, 1: 0, 2: 0, 3: 1},\n",
       "  {0: 2, 1: 1, 2: 0, 3: 1},\n",
       "  {0: 1, 1: 0, 2: 1, 3: 1},\n",
       "  {0: 3, 1: 0, 2: 1, 3: 1},\n",
       "  {0: 2, 1: 1, 2: 1, 3: 1},\n",
       "  {0: 0, 1: 1, 2: 2, 3: 1},\n",
       "  {0: 1, 1: 0, 2: 3, 3: 1},\n",
       "  {0: 3, 1: 0, 2: 3, 3: 1},\n",
       "  {0: 2, 1: 1, 2: 3, 3: 1},\n",
       "  {0: 2, 1: 0, 2: 0, 3: 1},\n",
       "  {0: 3, 1: 1, 2: 0, 3: 1},\n",
       "  {0: 2, 1: 0, 2: 1, 3: 1},\n",
       "  {0: 3, 1: 1, 2: 1, 3: 1},\n",
       "  {0: 2, 1: 0, 2: 3, 3: 1},\n",
       "  {0: 3, 1: 1, 2: 3, 3: 1},\n",
       "  {0: 1, 1: 1, 2: 0, 3: 1},\n",
       "  {0: 1, 1: 1, 2: 1, 3: 1},\n",
       "  {0: 1, 1: 1, 2: 3, 3: 1},\n",
       "  {0: 0, 1: 0, 2: 2, 3: 1},\n",
       "  {0: 2, 1: 0, 2: 0, 3: 2},\n",
       "  {0: 2, 1: 1, 2: 0, 3: 2},\n",
       "  {0: 0, 1: 2, 2: 0, 3: 2},\n",
       "  {0: 1, 1: 2, 2: 0, 3: 2},\n",
       "  {0: 3, 1: 2, 2: 0, 3: 2},\n",
       "  {0: 2, 1: 3, 2: 0, 3: 2},\n",
       "  {0: 2, 1: 0, 2: 1, 3: 2},\n",
       "  {0: 2, 1: 1, 2: 1, 3: 2},\n",
       "  {0: 0, 1: 2, 2: 1, 3: 2},\n",
       "  {0: 1, 1: 2, 2: 1, 3: 2},\n",
       "  {0: 3, 1: 2, 2: 1, 3: 2},\n",
       "  {0: 2, 1: 3, 2: 1, 3: 2},\n",
       "  {0: 0, 1: 0, 2: 2, 3: 2},\n",
       "  {0: 1, 1: 0, 2: 2, 3: 2},\n",
       "  {0: 3, 1: 0, 2: 2, 3: 2},\n",
       "  {0: 0, 1: 1, 2: 2, 3: 2},\n",
       "  {0: 1, 1: 1, 2: 2, 3: 2},\n",
       "  {0: 3, 1: 1, 2: 2, 3: 2},\n",
       "  {0: 2, 1: 2, 2: 2, 3: 2},\n",
       "  {0: 0, 1: 3, 2: 2, 3: 2},\n",
       "  {0: 1, 1: 3, 2: 2, 3: 2},\n",
       "  {0: 3, 1: 3, 2: 2, 3: 2},\n",
       "  {0: 2, 1: 0, 2: 3, 3: 2},\n",
       "  {0: 2, 1: 1, 2: 3, 3: 2},\n",
       "  {0: 0, 1: 2, 2: 3, 3: 2},\n",
       "  {0: 1, 1: 2, 2: 3, 3: 2},\n",
       "  {0: 3, 1: 2, 2: 3, 3: 2},\n",
       "  {0: 2, 1: 3, 2: 3, 3: 2},\n",
       "  {0: 2, 1: 0, 2: 0, 3: 3},\n",
       "  {0: 2, 1: 1, 2: 0, 3: 3},\n",
       "  {0: 0, 1: 2, 2: 0, 3: 3},\n",
       "  {0: 1, 1: 2, 2: 0, 3: 3},\n",
       "  {0: 3, 1: 2, 2: 0, 3: 3},\n",
       "  {0: 2, 1: 3, 2: 0, 3: 3},\n",
       "  {0: 2, 1: 0, 2: 1, 3: 3},\n",
       "  {0: 2, 1: 1, 2: 1, 3: 3},\n",
       "  {0: 0, 1: 2, 2: 1, 3: 3},\n",
       "  {0: 1, 1: 2, 2: 1, 3: 3},\n",
       "  {0: 3, 1: 2, 2: 1, 3: 3},\n",
       "  {0: 2, 1: 3, 2: 1, 3: 3},\n",
       "  {0: 0, 1: 0, 2: 2, 3: 3},\n",
       "  {0: 1, 1: 0, 2: 2, 3: 3},\n",
       "  {0: 3, 1: 0, 2: 2, 3: 3},\n",
       "  {0: 0, 1: 1, 2: 2, 3: 3},\n",
       "  {0: 1, 1: 1, 2: 2, 3: 3},\n",
       "  {0: 3, 1: 1, 2: 2, 3: 3},\n",
       "  {0: 2, 1: 2, 2: 2, 3: 3},\n",
       "  {0: 0, 1: 3, 2: 2, 3: 3},\n",
       "  {0: 1, 1: 3, 2: 2, 3: 3},\n",
       "  {0: 3, 1: 3, 2: 2, 3: 3},\n",
       "  {0: 2, 1: 0, 2: 3, 3: 3},\n",
       "  {0: 2, 1: 1, 2: 3, 3: 3},\n",
       "  {0: 0, 1: 2, 2: 3, 3: 3},\n",
       "  {0: 1, 1: 2, 2: 3, 3: 3},\n",
       "  {0: 3, 1: 2, 2: 3, 3: 3},\n",
       "  {0: 2, 1: 3, 2: 3, 3: 3},\n",
       "  {0: 3, 1: 0, 2: 0, 3: 2},\n",
       "  {0: 3, 1: 1, 2: 0, 3: 2},\n",
       "  {0: 2, 1: 2, 2: 0, 3: 2},\n",
       "  {0: 3, 1: 3, 2: 0, 3: 2},\n",
       "  {0: 3, 1: 0, 2: 1, 3: 2},\n",
       "  {0: 3, 1: 1, 2: 1, 3: 2},\n",
       "  {0: 2, 1: 2, 2: 1, 3: 2},\n",
       "  {0: 3, 1: 3, 2: 1, 3: 2},\n",
       "  {0: 2, 1: 0, 2: 2, 3: 2},\n",
       "  {0: 2, 1: 1, 2: 2, 3: 2},\n",
       "  {0: 3, 1: 2, 2: 2, 3: 2},\n",
       "  {0: 2, 1: 3, 2: 2, 3: 2},\n",
       "  {0: 3, 1: 0, 2: 3, 3: 2},\n",
       "  {0: 3, 1: 1, 2: 3, 3: 2},\n",
       "  {0: 2, 1: 2, 2: 3, 3: 2},\n",
       "  {0: 3, 1: 3, 2: 3, 3: 2},\n",
       "  {0: 3, 1: 0, 2: 0, 3: 3},\n",
       "  {0: 3, 1: 1, 2: 0, 3: 3},\n",
       "  {0: 2, 1: 2, 2: 0, 3: 3},\n",
       "  {0: 3, 1: 3, 2: 0, 3: 3},\n",
       "  {0: 3, 1: 0, 2: 1, 3: 3},\n",
       "  {0: 3, 1: 1, 2: 1, 3: 3},\n",
       "  {0: 2, 1: 2, 2: 1, 3: 3},\n",
       "  {0: 3, 1: 3, 2: 1, 3: 3},\n",
       "  {0: 2, 1: 0, 2: 2, 3: 3},\n",
       "  {0: 2, 1: 1, 2: 2, 3: 3},\n",
       "  {0: 3, 1: 2, 2: 2, 3: 3},\n",
       "  {0: 2, 1: 3, 2: 2, 3: 3},\n",
       "  {0: 3, 1: 0, 2: 3, 3: 3},\n",
       "  {0: 3, 1: 1, 2: 3, 3: 3},\n",
       "  {0: 2, 1: 2, 2: 3, 3: 3},\n",
       "  {0: 3, 1: 3, 2: 3, 3: 3},\n",
       "  {0: 1, 1: 0, 2: 0, 3: 2},\n",
       "  {0: 1, 1: 1, 2: 0, 3: 2},\n",
       "  {0: 1, 1: 3, 2: 0, 3: 2},\n",
       "  {0: 1, 1: 0, 2: 1, 3: 2},\n",
       "  {0: 1, 1: 1, 2: 1, 3: 2},\n",
       "  {0: 1, 1: 3, 2: 1, 3: 2},\n",
       "  {0: 1, 1: 2, 2: 2, 3: 2},\n",
       "  {0: 1, 1: 0, 2: 3, 3: 2},\n",
       "  {0: 1, 1: 1, 2: 3, 3: 2},\n",
       "  {0: 1, 1: 3, 2: 3, 3: 2},\n",
       "  {0: 1, 1: 0, 2: 0, 3: 3},\n",
       "  {0: 1, 1: 1, 2: 0, 3: 3},\n",
       "  {0: 1, 1: 3, 2: 0, 3: 3},\n",
       "  {0: 1, 1: 0, 2: 1, 3: 3},\n",
       "  {0: 1, 1: 1, 2: 1, 3: 3},\n",
       "  {0: 1, 1: 3, 2: 1, 3: 3},\n",
       "  {0: 1, 1: 2, 2: 2, 3: 3},\n",
       "  {0: 1, 1: 0, 2: 3, 3: 3},\n",
       "  {0: 1, 1: 1, 2: 3, 3: 3},\n",
       "  {0: 1, 1: 3, 2: 3, 3: 3},\n",
       "  {0: 0, 1: 3, 2: 0, 3: 2},\n",
       "  {0: 0, 1: 3, 2: 1, 3: 2},\n",
       "  {0: 0, 1: 2, 2: 2, 3: 2},\n",
       "  {0: 0, 1: 3, 2: 3, 3: 2},\n",
       "  {0: 0, 1: 3, 2: 0, 3: 3},\n",
       "  {0: 0, 1: 3, 2: 1, 3: 3},\n",
       "  {0: 0, 1: 2, 2: 2, 3: 3},\n",
       "  {0: 0, 1: 3, 2: 3, 3: 3},\n",
       "  {0: 0, 1: 1, 2: 0, 3: 2},\n",
       "  {0: 0, 1: 1, 2: 1, 3: 2},\n",
       "  {0: 0, 1: 1, 2: 3, 3: 2},\n",
       "  {0: 0, 1: 1, 2: 0, 3: 3},\n",
       "  {0: 0, 1: 1, 2: 1, 3: 3},\n",
       "  {0: 0, 1: 1, 2: 3, 3: 3},\n",
       "  {0: 0, 1: 0, 2: 3, 3: 2},\n",
       "  {0: 0, 1: 0, 2: 3, 3: 3},\n",
       "  {0: 0, 1: 0, 2: 1, 3: 2},\n",
       "  {0: 0, 1: 0, 2: 1, 3: 3},\n",
       "  {0: 0, 1: 0, 2: 0, 3: 3},\n",
       "  {0: 0, 1: 0, 2: 0, 3: 2}],\n",
       " 2: [{2: 1, 3: 1},\n",
       "  {2: 2, 3: 2},\n",
       "  {2: 3, 3: 3},\n",
       "  {1: 0, 2: 1, 3: 0},\n",
       "  {1: 2, 2: 2, 3: 0},\n",
       "  {1: 2, 2: 3, 3: 0},\n",
       "  {1: 3, 2: 2, 3: 0},\n",
       "  {1: 3, 2: 3, 3: 0},\n",
       "  {1: 1, 2: 0, 3: 0},\n",
       "  {1: 1, 2: 2, 3: 0},\n",
       "  {1: 1, 2: 3, 3: 0},\n",
       "  {1: 3, 2: 0, 3: 0},\n",
       "  {1: 2, 2: 0, 3: 0},\n",
       "  {1: 0, 2: 3, 3: 0},\n",
       "  {1: 0, 2: 2, 3: 0},\n",
       "  {1: 2, 2: 1, 3: 0},\n",
       "  {1: 3, 2: 1, 3: 0},\n",
       "  {1: 1, 2: 1, 3: 0},\n",
       "  {1: 0, 2: 0, 3: 1},\n",
       "  {1: 2, 2: 2, 3: 1},\n",
       "  {1: 3, 2: 2, 3: 1},\n",
       "  {1: 1, 2: 2, 3: 1},\n",
       "  {1: 0, 2: 3, 3: 1},\n",
       "  {1: 2, 2: 3, 3: 1},\n",
       "  {1: 3, 2: 3, 3: 1},\n",
       "  {1: 1, 2: 3, 3: 1},\n",
       "  {1: 0, 2: 2, 3: 1},\n",
       "  {1: 1, 2: 0, 3: 1},\n",
       "  {1: 3, 2: 0, 3: 1},\n",
       "  {1: 2, 2: 1, 3: 1},\n",
       "  {1: 2, 2: 0, 3: 1},\n",
       "  {1: 3, 2: 1, 3: 1},\n",
       "  {1: 1, 2: 1, 3: 1},\n",
       "  {1: 2, 2: 0, 3: 2},\n",
       "  {1: 2, 2: 1, 3: 2},\n",
       "  {1: 1, 2: 2, 3: 2},\n",
       "  {1: 3, 2: 2, 3: 2},\n",
       "  {1: 2, 2: 3, 3: 2},\n",
       "  {1: 2, 2: 0, 3: 3},\n",
       "  {1: 2, 2: 1, 3: 3},\n",
       "  {1: 0, 2: 2, 3: 3},\n",
       "  {1: 1, 2: 2, 3: 3},\n",
       "  {1: 3, 2: 2, 3: 3},\n",
       "  {1: 2, 2: 3, 3: 3},\n",
       "  {1: 3, 2: 0, 3: 2},\n",
       "  {1: 3, 2: 1, 3: 2},\n",
       "  {1: 2, 2: 2, 3: 2},\n",
       "  {1: 3, 2: 3, 3: 2},\n",
       "  {1: 3, 2: 0, 3: 3},\n",
       "  {1: 3, 2: 1, 3: 3},\n",
       "  {1: 2, 2: 2, 3: 3},\n",
       "  {1: 3, 2: 3, 3: 3},\n",
       "  {1: 1, 2: 0, 3: 2},\n",
       "  {1: 1, 2: 1, 3: 2},\n",
       "  {1: 1, 2: 3, 3: 2},\n",
       "  {1: 1, 2: 0, 3: 3},\n",
       "  {1: 1, 2: 1, 3: 3},\n",
       "  {1: 1, 2: 3, 3: 3},\n",
       "  {1: 0, 2: 3, 3: 2},\n",
       "  {1: 0, 2: 1, 3: 2},\n",
       "  {1: 0, 2: 1, 3: 3},\n",
       "  {1: 0, 2: 0, 3: 3},\n",
       "  {1: 0, 2: 0, 3: 2}]}"
      ]
     },
     "execution_count": 24,
     "metadata": {},
     "output_type": "execute_result"
    }
   ],
   "source": [
    "params.measurement_keys"
   ]
  },
  {
   "cell_type": "code",
   "execution_count": 27,
   "id": "be57a960",
   "metadata": {},
   "outputs": [
    {
     "data": {
      "text/plain": [
       "63"
      ]
     },
     "execution_count": 27,
     "metadata": {},
     "output_type": "execute_result"
    }
   ],
   "source": [
    "len(params.measurement_keys[2])"
   ]
  },
  {
   "cell_type": "code",
   "execution_count": 14,
   "id": "84550c5c",
   "metadata": {},
   "outputs": [
    {
     "name": "stdout",
     "output_type": "stream",
     "text": [
      "[[15], [1], [0, 1]]\n"
     ]
    }
   ],
   "source": [
    "m = 0\n",
    "hm = Ham.hm_list[m]\n",
    "print(hm)"
   ]
  },
  {
   "cell_type": "code",
   "execution_count": 19,
   "id": "20eece9d",
   "metadata": {},
   "outputs": [
    {
     "name": "stdout",
     "output_type": "stream",
     "text": [
      "0.5 0.5\n",
      "[(0,), (1,)]\n",
      "[(0,), (1,)]\n",
      "[{(0,): 2, (1,): 0}, {(0,): 2, (1,): 1}, {(0,): 0, (1,): 2}, {(0,): 1, (1,): 2}, {(0,): 3, (1,): 2}, {(0,): 2, (1,): 3}]\n",
      "[{0: 3, 1: 3}]\n"
     ]
    }
   ],
   "source": [
    "c, R = min_bounding_sphere(hm[2])\n",
    "h_domain = get_m_sphere(c, R, Ham.d, Ham.l)\n",
    "u_domain = params.u_domains[m]\n",
    "print(c,R)\n",
    "print(h_domain)\n",
    "print(u_domain)\n",
    "\n",
    "domain_ops = params.odd_y_strings[len(u_domain)]\n",
    "\n",
    "# List of pauli dictionaries for the operators of the unitary's domain\n",
    "u_ops = [\n",
    "    pauli_index_to_dict(domain_ops[j], u_domain) for j in range(len(domain_ops))\n",
    "]\n",
    "\n",
    "# List of pauli dictionaries for the operators of the unitary's domain\n",
    "h_ops = [\n",
    "    pauli_index_to_dict(hm[0][j], hm[2]) for j in range(len(hm[0]))\n",
    "]\n",
    "\n",
    "print(u_ops)\n",
    "print(h_ops)"
   ]
  },
  {
   "cell_type": "code",
   "execution_count": null,
   "id": "f8cacf39",
   "metadata": {},
   "outputs": [
    {
     "name": "stdout",
     "output_type": "stream",
     "text": [
      "n=1 -- generated strings: 1\n",
      "n=2 -- generated strings: 16\n",
      "n=3 -- generated strings: 64\n",
      "n=4 -- generated strings: 256\n",
      "n=5 -- generated strings: 1024\n"
     ]
    }
   ],
   "source": [
    "prods = {}\n",
    "for n in range(1,10):\n",
    "    prods[n] = []\n",
    "    oy = odd_y_pauli_strings(n)\n",
    "    for i in oy:\n",
    "        for j in oy:\n",
    "#             if j >= i:\n",
    "#                 break\n",
    "            p_,c_ = pauli_string_prod(i, j, n)\n",
    "            if p_ not in prods[n]:\n",
    "                prods[n].append(p_)\n",
    "\n",
    "    print('n={} -- generated strings: {}'.format(n, len(prods[n])))"
   ]
  },
  {
   "cell_type": "markdown",
   "id": "ee2e817a",
   "metadata": {},
   "source": [
    "#### Checking how many Pauli Strings can be made (up to a phase factor) with only odd-Y Pauli strings"
   ]
  },
  {
   "cell_type": "code",
   "execution_count": 7,
   "id": "8bca3ed3",
   "metadata": {},
   "outputs": [],
   "source": [
    "pprod = {\n",
    "    'I': {i: i for i in 'IXYZ'},\n",
    "    'X': {'I': 'X', 'X':'I', 'Y': 'Z', 'Z': 'Y'},\n",
    "    'Y': {'I': 'Y', 'X':'Z', 'Y': 'I', 'Z': 'X'},\n",
    "    'Z': {'I': 'Z', 'X':'Y', 'Y': 'X', 'Z': 'I'},\n",
    "}\n",
    "def sprod(s1,s2):\n",
    "    prod = ''\n",
    "    for i in range(len(s1)):\n",
    "        prod += pprod[s1[i]][s2[i]]\n",
    "    return prod\n",
    "def y_count(s):\n",
    "    c = 0\n",
    "    for i in s:\n",
    "        if i == 'Y':\n",
    "            c += 1\n",
    "    return c"
   ]
  },
  {
   "cell_type": "code",
   "execution_count": 46,
   "id": "fc22121b",
   "metadata": {},
   "outputs": [
    {
     "name": "stdout",
     "output_type": "stream",
     "text": [
      "28\n"
     ]
    },
    {
     "data": {
      "text/plain": [
       "3.0"
      ]
     },
     "execution_count": 46,
     "metadata": {},
     "output_type": "execute_result"
    }
   ],
   "source": [
    "P_ = 'IXYZ'\n",
    "l = len(P_)\n",
    "d = 3\n",
    "lc = [0] * d\n",
    "\n",
    "odd_ys = []\n",
    "while True:\n",
    "    # loop logic\n",
    "    # Calculate string\n",
    "    s = ''\n",
    "    for j in range(d):\n",
    "        s += P_[lc[j]]\n",
    "        \n",
    "    if y_count(s) % 2 == 1:\n",
    "        odd_ys.append(s)\n",
    "    \n",
    "    # Termination logic\n",
    "    if s == 'Z' * d:\n",
    "        break\n",
    "    # update\n",
    "    j = 0\n",
    "    while True:\n",
    "        lc[j] += 1\n",
    "        if lc[j] == l:\n",
    "            lc[j] = 0\n",
    "            j += 1\n",
    "        else:\n",
    "            break\n",
    "print(len(odd_ys))\n",
    "prods = []\n",
    "for s1 in odd_ys:\n",
    "    for s2 in odd_ys:\n",
    "        prods.append(sprod(s1,s2))\n",
    "import numpy as np\n",
    "\n",
    "np.log(len(set(prods)))/np.log(4)"
   ]
  },
  {
   "cell_type": "code",
   "execution_count": 62,
   "id": "2bb55277",
   "metadata": {},
   "outputs": [
    {
     "name": "stdout",
     "output_type": "stream",
     "text": [
      "[1, 6, 28, 120, 496, 2016, 8128, 32640] [0, 15, 378, 7140, 122760, 2031120, 33028128, 532668480]\n"
     ]
    }
   ],
   "source": [
    "def foo(d):\n",
    "    return 2**(d-1) * (2**d - 1)\n",
    "D = 8\n",
    "oys = [foo(d) for d in range(1,D+1,1)]\n",
    "tri = [ (foo(d)**2 - foo(d))//2 for d in range(1,D+1,1) ]\n",
    "print(oys, tri)\n"
   ]
  },
  {
   "cell_type": "code",
   "execution_count": 63,
   "id": "77ee5b0f",
   "metadata": {},
   "outputs": [
    {
     "data": {
      "image/png": "[encoded data removed]",
      "text/plain": [
       "<Figure size 432x288 with 1 Axes>"
      ]
     },
     "metadata": {
      "needs_background": "light"
     },
     "output_type": "display_data"
    }
   ],
   "source": [
    "import matplotlib.pyplot as plt\n",
    "plt.plot(range(1,D+1,1), oys, 'ro-', label='Odd Y strings')\n",
    "plt.plot(range(1,D+1,1), tri, 'bs-', label='Lower Triangle Entries')\n",
    "plt.yscale('log')\n",
    "plt.grid()\n",
    "plt.legend()\n",
    "plt.show()"
   ]
  },
  {
   "cell_type": "code",
   "execution_count": 1,
   "id": "39f6277a",
   "metadata": {},
   "outputs": [
    {
     "name": "stdout",
     "output_type": "stream",
     "text": [
      "{(0, 0): 0, (0, 1): 1, (1, 0): 2, (1, 1): 3}\n",
      "{(1, 1): 0, (1, 0): 1, (0, 1): 2, (0, 0): 3}\n",
      "{2: 1, 1: 2, 0: 3}\n"
     ]
    },
    {
     "data": {
      "text/html": [
       "<pre style=\"word-wrap: normal;white-space: pre;background: #fff0;line-height: 1.1;font-family: &quot;Courier New&quot;,Courier,monospace\">     ┌───┐\n",
       "q_0: ┤ Z ├\n",
       "     ├───┤\n",
       "q_1: ┤ Y ├\n",
       "     ├───┤\n",
       "q_2: ┤ X ├\n",
       "     └───┘\n",
       "q_3: ─────\n",
       "          \n",
       "c: 4/═════\n",
       "          </pre>"
      ],
      "text/plain": [
       "     ┌───┐\n",
       "q_0: ┤ Z ├\n",
       "     ├───┤\n",
       "q_1: ┤ Y ├\n",
       "     ├───┤\n",
       "q_2: ┤ X ├\n",
       "     └───┘\n",
       "q_3: ─────\n",
       "          \n",
       "c: 4/═════\n",
       "          "
      ]
     },
     "execution_count": 1,
     "metadata": {},
     "output_type": "execute_result"
    }
   ],
   "source": [
    "from helpers import *\n",
    "from qiskit import QuantumCircuit\n",
    "\n",
    "q_map = {(0,0): 0, (0,1): 1, (1,0): 2, (1,1): 3}\n",
    "ps = 0*1 + 1*4 + 2*16 + 3*64\n",
    "pd = pauli_index_to_dict(ps, [ (1,1), (1,0), (0,1), (0,0) ])\n",
    "print(q_map)\n",
    "print(pd)\n",
    "bases = get_qc_bases_from_pauli_dict(pd, q_map)\n",
    "print(bases)\n",
    "\n",
    "qc = QuantumCircuit(4, 4)\n",
    "for qbit in bases.keys():\n",
    "    gate = bases[qbit]\n",
    "    if gate == 1:\n",
    "        qc.x(qbit)\n",
    "    elif gate == 2:\n",
    "        qc.y(qbit)\n",
    "    elif gate == 3:\n",
    "        qc.z(qbit)\n",
    "qc.draw()"
   ]
  },
  {
   "cell_type": "code",
   "execution_count": 2,
   "id": "107da19c",
   "metadata": {},
   "outputs": [
    {
     "data": {
      "text/html": [
       "<pre style=\"word-wrap: normal;white-space: pre;background: #fff0;line-height: 1.1;font-family: &quot;Courier New&quot;,Courier,monospace\">     ┌───┐                ┌───┐┌─────────┐┌───┐                 \n",
       "q_0: ┤ Z ├────────────────┤ X ├┤ Rz(π/4) ├┤ X ├─────────────────\n",
       "     ├───┤┌─────────┐┌───┐└─┬─┘└─────────┘└─┬─┘┌───┐┌──────────┐\n",
       "q_1: ┤ Y ├┤ Rx(π/2) ├┤ X ├──■───────────────■──┤ X ├┤ Rx(-π/2) ├\n",
       "     ├───┤└──┬───┬──┘└─┬─┘                     └─┬─┘└──┬───┬───┘\n",
       "q_2: ┤ X ├───┤ H ├─────■─────────────────────────■─────┤ H ├────\n",
       "     └───┘   └───┘                                     └───┘    \n",
       "q_3: ───────────────────────────────────────────────────────────\n",
       "                                                                \n",
       "c: 4/═══════════════════════════════════════════════════════════\n",
       "                                                                </pre>"
      ],
      "text/plain": [
       "     ┌───┐                ┌───┐┌─────────┐┌───┐                 \n",
       "q_0: ┤ Z ├────────────────┤ X ├┤ Rz(π/4) ├┤ X ├─────────────────\n",
       "     ├───┤┌─────────┐┌───┐└─┬─┘└─────────┘└─┬─┘┌───┐┌──────────┐\n",
       "q_1: ┤ Y ├┤ Rx(π/2) ├┤ X ├──■───────────────■──┤ X ├┤ Rx(-π/2) ├\n",
       "     ├───┤└──┬───┬──┘└─┬─┘                     └─┬─┘└──┬───┬───┘\n",
       "q_2: ┤ X ├───┤ H ├─────■─────────────────────────■─────┤ H ├────\n",
       "     └───┘   └───┘                                     └───┘    \n",
       "q_3: ───────────────────────────────────────────────────────────\n",
       "                                                                \n",
       "c: 4/═══════════════════════════════════════════════════════════\n",
       "                                                                "
      ]
     },
     "execution_count": 2,
     "metadata": {},
     "output_type": "execute_result"
    }
   ],
   "source": [
    "pauli_string_exp(qc, pd, q_map, np.pi/4)\n",
    "qc.draw()"
   ]
  },
  {
   "cell_type": "code",
   "execution_count": 3,
   "id": "757157e0",
   "metadata": {},
   "outputs": [],
   "source": [
    "from qiskit import Aer\n",
    "sv_sim = Aer.get_backend('statevector_simulator')"
   ]
  },
  {
   "cell_type": "code",
   "execution_count": 4,
   "id": "0910dc63",
   "metadata": {},
   "outputs": [],
   "source": [
    "e, c = measure(qc, pd, q_map, sv_sim)"
   ]
  },
  {
   "cell_type": "code",
   "execution_count": 5,
   "id": "5bdc1fa9",
   "metadata": {},
   "outputs": [
    {
     "data": {
      "image/png": "[encoded data removed]",
      "text/plain": [
       "<Figure size 504x360 with 1 Axes>"
      ]
     },
     "execution_count": 5,
     "metadata": {},
     "output_type": "execute_result"
    }
   ],
   "source": [
    "from qiskit.visualization import plot_histogram\n",
    "plot_histogram(c)"
   ]
  },
  {
   "cell_type": "code",
   "execution_count": 6,
   "id": "ecd05295",
   "metadata": {},
   "outputs": [
    {
     "data": {
      "text/plain": [
       "True"
      ]
     },
     "execution_count": 6,
     "metadata": {},
     "output_type": "execute_result"
    }
   ],
   "source": [
    "pd1 = {1:0}\n",
    "same_pauli_dicts(pd1, {})"
   ]
  },
  {
   "cell_type": "code",
   "execution_count": 7,
   "id": "13789478",
   "metadata": {},
   "outputs": [
    {
     "data": {
      "text/plain": [
       "[1]"
      ]
     },
     "execution_count": 7,
     "metadata": {},
     "output_type": "execute_result"
    }
   ],
   "source": [
    "list(pd1.keys())"
   ]
  },
  {
   "cell_type": "code",
   "execution_count": 8,
   "id": "dcacd3e9",
   "metadata": {},
   "outputs": [
    {
     "data": {
      "text/html": [
       "<pre style=\"word-wrap: normal;white-space: pre;background: #fff0;line-height: 1.1;font-family: &quot;Courier New&quot;,Courier,monospace\">     ┌───┐                ┌───┐┌─────────┐┌───┐     ┌─┐            ┌─┐»\n",
       "q_0: ┤ Z ├────────────────┤ X ├┤ Rz(π/4) ├┤ X ├─────┤M├────────────┤M├»\n",
       "     ├───┤┌─────────┐┌───┐└─┬─┘└─────────┘└─┬─┘┌───┐└╥┘┌──────────┐└╥┘»\n",
       "q_1: ┤ Y ├┤ Rx(π/2) ├┤ X ├──■───────────────■──┤ X ├─╫─┤ Rx(-π/2) ├─╫─»\n",
       "     ├───┤└──┬───┬──┘└─┬─┘                     └─┬─┘ ║ └──┬───┬───┘ ║ »\n",
       "q_2: ┤ X ├───┤ H ├─────■─────────────────────────■───╫────┤ H ├─────╫─»\n",
       "     └───┘   └───┘                                   ║    └───┘     ║ »\n",
       "q_3: ────────────────────────────────────────────────╫──────────────╫─»\n",
       "                                                     ║              ║ »\n",
       "c: 4/════════════════════════════════════════════════╩══════════════╩═»\n",
       "                                                     0              0 »\n",
       "«                         \n",
       "«q_0: ────────────────────\n",
       "«     ┌─────────┐   ┌─┐   \n",
       "«q_1: ┤ Rx(π/2) ├───┤M├───\n",
       "«     └──┬───┬──┘┌─┐└╥┘┌─┐\n",
       "«q_2: ───┤ H ├───┤M├─╫─┤M├\n",
       "«        └───┘   └╥┘ ║ └╥┘\n",
       "«q_3: ────────────╫──╫──╫─\n",
       "«                 ║  ║  ║ \n",
       "«c: 4/════════════╩══╩══╩═\n",
       "«                 2  1  2 </pre>"
      ],
      "text/plain": [
       "     ┌───┐                ┌───┐┌─────────┐┌───┐     ┌─┐            ┌─┐»\n",
       "q_0: ┤ Z ├────────────────┤ X ├┤ Rz(π/4) ├┤ X ├─────┤M├────────────┤M├»\n",
       "     ├───┤┌─────────┐┌───┐└─┬─┘└─────────┘└─┬─┘┌───┐└╥┘┌──────────┐└╥┘»\n",
       "q_1: ┤ Y ├┤ Rx(π/2) ├┤ X ├──■───────────────■──┤ X ├─╫─┤ Rx(-π/2) ├─╫─»\n",
       "     ├───┤└──┬───┬──┘└─┬─┘                     └─┬─┘ ║ └──┬───┬───┘ ║ »\n",
       "q_2: ┤ X ├───┤ H ├─────■─────────────────────────■───╫────┤ H ├─────╫─»\n",
       "     └───┘   └───┘                                   ║    └───┘     ║ »\n",
       "q_3: ────────────────────────────────────────────────╫──────────────╫─»\n",
       "                                                     ║              ║ »\n",
       "c: 4/════════════════════════════════════════════════╩══════════════╩═»\n",
       "                                                     0              0 »\n",
       "«                         \n",
       "«q_0: ────────────────────\n",
       "«     ┌─────────┐   ┌─┐   \n",
       "«q_1: ┤ Rx(π/2) ├───┤M├───\n",
       "«     └──┬───┬──┘┌─┐└╥┘┌─┐\n",
       "«q_2: ───┤ H ├───┤M├─╫─┤M├\n",
       "«        └───┘   └╥┘ ║ └╥┘\n",
       "«q_3: ────────────╫──╫──╫─\n",
       "«                 ║  ║  ║ \n",
       "«c: 4/════════════╩══╩══╩═\n",
       "«                 2  1  2 "
      ]
     },
     "execution_count": 8,
     "metadata": {},
     "output_type": "execute_result"
    }
   ],
   "source": [
    "a = [0,2]\n",
    "qc.measure(a,a)\n",
    "qc.draw()"
   ]
  },
  {
   "cell_type": "code",
   "execution_count": 1,
   "id": "c06bdd7a",
   "metadata": {},
   "outputs": [
    {
     "name": "stdout",
     "output_type": "stream",
     "text": [
      "Loading Hamiltonian Parameters... Calculating Unitary Domains... Done\n",
      "Calculating Required Odd-Y Pauli Strings... Done\n",
      "Calculating Required Pauli Measurements... Done\n",
      "cupy failed to import\n"
     ]
    }
   ],
   "source": [
    "from hamiltonians import *\n",
    "\n",
    "hm_list = [\n",
    "    [ [3], [1.0], [(1,1)] ]\n",
    "]\n",
    "d=2\n",
    "l=2\n",
    "q_map = {(0,0): 0, (0,1): 1, (1,0): 2, (1,1): 3}\n",
    "H = Hamiltonian(hm_list, d, l, q_map)\n",
    "\n",
    "from qite_params import *\n",
    "\n",
    "params = QITE_params(H)\n",
    "params.load_hamiltonian_params(0)\n",
    "\n",
    "from ideal_qite import *"
   ]
  },
  {
   "cell_type": "code",
   "execution_count": 4,
   "id": "fa9acb13",
   "metadata": {},
   "outputs": [
    {
     "data": {
      "text/plain": [
       "1.0"
      ]
     },
     "execution_count": 4,
     "metadata": {},
     "output_type": "execute_result"
    }
   ],
   "source": [
    "import numpy as np\n",
    "sv = np.kron( np.kron( [1,0], [1,0] ), np.kron([1,0], [0,1]) )# * np.sqrt(0.5)\n",
    "from qiskit import Aer\n",
    "sv_sim = Aer.get_backend('statevector_simulator')\n",
    "params.backend = sv_sim\n",
    "measure_energy(params, sv)"
   ]
  },
  {
   "cell_type": "code",
   "execution_count": 4,
   "id": "f1a424b3",
   "metadata": {},
   "outputs": [],
   "source": [
    "def full_pauli_index(p, d1, d2):\n",
    "        index = 0\n",
    "        for i in range(len(d1)):\n",
    "            gate = p % 4\n",
    "            \n",
    "            qbit = d1[i]\n",
    "            # find the index of qbit in d2\n",
    "            j=0\n",
    "            while d2[j] != qbit:\n",
    "                j += 1\n",
    "                if j == len(d2):\n",
    "                    raise ValueError('Element {} not found in domain {}'.format(d1[i],d2) )\n",
    "\n",
    "            index += gate * 4**j\n",
    "            p = p//4\n",
    "        return index"
   ]
  },
  {
   "cell_type": "code",
   "execution_count": 8,
   "id": "a3c3f95c",
   "metadata": {},
   "outputs": [
    {
     "data": {
      "text/plain": [
       "[3, 0, 0, 1, 0, 2]"
      ]
     },
     "execution_count": 8,
     "metadata": {},
     "output_type": "execute_result"
    }
   ],
   "source": [
    "d1 = [3,0,5]\n",
    "d2 = [0,1,2,3,4,5]\n",
    "p = 1*1 + 3*4 + 2*16\n",
    "from helpers import *\n",
    "pp = full_pauli_index(p,d1,d2)\n",
    "int_to_base(pp, 4, len(d2))"
   ]
  },
  {
   "cell_type": "code",
   "execution_count": 14,
   "id": "da714a73",
   "metadata": {},
   "outputs": [
    {
     "name": "stdout",
     "output_type": "stream",
     "text": [
      "(3-4j)\n",
      "(3+4j)\n"
     ]
    }
   ],
   "source": [
    "import numpy as np\n",
    "\n",
    "z = 3+4j\n",
    "print(z.conjugate())\n",
    "print(z)"
   ]
  },
  {
   "cell_type": "code",
   "execution_count": 55,
   "id": "2937910e",
   "metadata": {},
   "outputs": [],
   "source": [
    "from ideal_qite import *\n",
    "from hamiltonians import *\n",
    "from qiskit import Aer\n",
    "\n",
    "hm_list = [\n",
    "    [[1], [1], [0]],\n",
    "#    [[1,3], [1,1], [(1,1)]],\n",
    "#    [[1,3], [1,1], [(0,0),(1,0)]],\n",
    "]\n",
    "d=1\n",
    "l=1\n",
    "qmap = {(0,0): 0, (0,1):1, (1,0): 2,  (1,1):3}\n",
    "H = Hamiltonian(hm_list, d, l)#, qmap)\n",
    "H.multiply_scalar(-1j)\n",
    "D = 0\n",
    "\n",
    "db = 0.1\n",
    "delta = 0.1\n",
    "N = 5\n",
    "num_shots=0\n",
    "backend = Aer.get_backend('statevector_simulator')\n"
   ]
  },
  {
   "cell_type": "code",
   "execution_count": 56,
   "id": "4ef4751a",
   "metadata": {},
   "outputs": [
    {
     "data": {
      "text/plain": [
       "(array([0.00000000e+00+1.j, 2.77555756e-17-1.j]),\n",
       " array([[ 0.70710678+0.0000000e+00j,  0.70710678+0.0000000e+00j],\n",
       "        [-0.70710678+0.0000000e+00j,  0.70710678+2.0742748e-16j]]))"
      ]
     },
     "execution_count": 56,
     "metadata": {},
     "output_type": "execute_result"
    }
   ],
   "source": [
    "H.get_spectrum()"
   ]
  },
  {
   "cell_type": "code",
   "execution_count": 57,
   "id": "67ffa540",
   "metadata": {},
   "outputs": [
    {
     "data": {
      "text/plain": [
       "array([[0.+0.j, 0.-1.j],\n",
       "       [0.-1.j, 0.+0.j]])"
      ]
     },
     "execution_count": 57,
     "metadata": {},
     "output_type": "execute_result"
    }
   ],
   "source": [
    "H.get_matrix()"
   ]
  },
  {
   "cell_type": "code",
   "execution_count": 58,
   "id": "0c9c2813",
   "metadata": {},
   "outputs": [
    {
     "name": "stdout",
     "output_type": "stream",
     "text": [
      "Performing Hamiltonian precalculations...\n",
      "\tCalculating Unitary Domains... Done\n",
      "\tCalculating Required Pauli Measurements... Done\n"
     ]
    }
   ],
   "source": [
    "from qite_params import QITE_params\n",
    "\n",
    "params = QITE_params(H)\n",
    "params.load_hamiltonian_params(D, False)\n",
    "params.set_run_params(db, delta, N, num_shots, backend)"
   ]
  },
  {
   "cell_type": "code",
   "execution_count": 59,
   "id": "a0caaeeb",
   "metadata": {},
   "outputs": [
    {
     "data": {
      "text/plain": [
       "(0.9999999999999997j, array([ 0.70710678+0.j, -0.70710678+0.j]))"
      ]
     },
     "execution_count": 59,
     "metadata": {},
     "output_type": "execute_result"
    }
   ],
   "source": [
    "H.get_gs()"
   ]
  },
  {
   "cell_type": "code",
   "execution_count": 60,
   "id": "ec995994",
   "metadata": {},
   "outputs": [
    {
     "data": {
      "text/plain": [
       "array([[0.+0.j, 0.-1.j],\n",
       "       [0.-1.j, 0.+0.j]])"
      ]
     },
     "execution_count": 60,
     "metadata": {},
     "output_type": "execute_result"
    }
   ],
   "source": [
    "H.get_matrix()"
   ]
  },
  {
   "cell_type": "code",
   "execution_count": 61,
   "id": "a2d48173",
   "metadata": {},
   "outputs": [
    {
     "name": "stdout",
     "output_type": "stream",
     "text": [
      "Starting Ideal QITE Simulation:\n",
      "Iteration 1... Done -- Iteration time = 0.08 seconds\n",
      "Iteration 2... Done -- Iteration time = 0.07 seconds\n",
      "Iteration 3... "
     ]
    },
    {
     "name": "stderr",
     "output_type": "stream",
     "text": [
      "C:\\Users\\CMP3KUMARS\\Desktop\\QITE\\ideal_qite.py:243: ComplexWarning: Casting complex values to real discards the imaginary part\n",
      "  E[0] = measure_energy(params, params.init_sv)\n",
      "C:\\Users\\CMP3KUMARS\\Desktop\\QITE\\ideal_qite.py:256: ComplexWarning: Casting complex values to real discards the imaginary part\n",
      "  E[i] = measure_energy(params, psi)\n"
     ]
    },
    {
     "name": "stdout",
     "output_type": "stream",
     "text": [
      "Done -- Iteration time = 0.08 seconds\n",
      "Iteration 4... Done -- Iteration time = 0.07 seconds\n",
      "Iteration 5... Done -- Iteration time = 0.06 seconds\n"
     ]
    }
   ],
   "source": [
    "E,times, svs, alist = qite(params)"
   ]
  },
  {
   "cell_type": "code",
   "execution_count": 62,
   "id": "cd6920de",
   "metadata": {},
   "outputs": [
    {
     "data": {
      "text/plain": [
       "array([[1.        +0.j        , 0.        +0.j        ],\n",
       "       [0.98351656+0.j        , 0.        -0.18081808j],\n",
       "       [0.93460964+0.j        , 0.        -0.35567516j],\n",
       "       [0.85489156+0.j        , 0.        -0.51880673j],\n",
       "       [0.74699036+0.j        , 0.        -0.66483486j],\n",
       "       [0.61446323+0.j        , 0.        -0.78894546j]])"
      ]
     },
     "execution_count": 62,
     "metadata": {},
     "output_type": "execute_result"
    }
   ],
   "source": [
    "svs"
   ]
  },
  {
   "cell_type": "code",
   "execution_count": 63,
   "id": "91ec2ed3",
   "metadata": {},
   "outputs": [
    {
     "data": {
      "text/plain": [
       "[[array([0.        , 0.36363636, 0.        , 0.        ]), [0], False],\n",
       " [array([0.00000000e+00, 3.63636364e-01, 4.78219535e-17, 2.11193837e-18]),\n",
       "  [0],\n",
       "  False],\n",
       " [array([ 0.00000000e+00,  3.63636364e-01,  3.81531537e-18, -1.65407455e-18]),\n",
       "  [0],\n",
       "  False],\n",
       " [array([ 0.00000000e+00,  3.63636364e-01, -4.10829945e-17, -4.22208580e-17]),\n",
       "  [0],\n",
       "  False],\n",
       " [array([0.00000000e+00, 3.63636364e-01, 3.81918250e-18, 5.88300573e-17]),\n",
       "  [0],\n",
       "  False]]"
      ]
     },
     "execution_count": 63,
     "metadata": {},
     "output_type": "execute_result"
    }
   ],
   "source": [
    "alist"
   ]
  },
  {
   "cell_type": "code",
   "execution_count": 64,
   "id": "40a5cf33",
   "metadata": {},
   "outputs": [
    {
     "data": {
      "text/plain": [
       "array([0., 0., 0., 0., 0., 0.])"
      ]
     },
     "execution_count": 64,
     "metadata": {},
     "output_type": "execute_result"
    }
   ],
   "source": [
    "E"
   ]
  },
  {
   "cell_type": "code",
   "execution_count": 65,
   "id": "3c7af35b",
   "metadata": {},
   "outputs": [
    {
     "name": "stderr",
     "output_type": "stream",
     "text": [
      "C:\\Users\\CMP3KUMARS\\Anaconda3\\envs\\qiskit\\lib\\site-packages\\matplotlib\\cbook\\__init__.py:1298: ComplexWarning: Casting complex values to real discards the imaginary part\n",
      "  return np.asarray(x, float)\n"
     ]
    },
    {
     "data": {
      "image/png": "[encoded data removed]",
      "text/plain": [
       "<Figure size 432x288 with 1 Axes>"
      ]
     },
     "metadata": {
      "needs_background": "light"
     },
     "output_type": "display_data"
    }
   ],
   "source": [
    "import matplotlib.pyplot as plt\n",
    "\n",
    "plt.plot(np.arange(0,N+1,1)*db, E, 'ro-')\n",
    "plt.axhline(y=H.get_spectrum()[0][0])\n",
    "plt.grid()\n",
    "plt.show()"
   ]
  },
  {
   "cell_type": "code",
   "execution_count": 7,
   "id": "e42adbbc",
   "metadata": {},
   "outputs": [
    {
     "data": {
      "text/plain": [
       "[False]"
      ]
     },
     "execution_count": 7,
     "metadata": {},
     "output_type": "execute_result"
    }
   ],
   "source": [
    "E = np.zeros(N + 1)\n",
    "times = np.zeros(N+1)\n",
    "svs = np.zeros((N+1, 2**params.nbits), dtype=complex)\n",
    "alist = []\n",
    "\n",
    "E[0] = measure_energy(params, params.init_sv)\n",
    "svs[0] = params.init_sv.data\n",
    "\n",
    "se = tomography(params, params.init_sv, alist, 0)\n",
    "\n",
    "def full_pauli_index(p, d1, d2):\n",
    "        index = 0\n",
    "        for i in range(len(d1)):\n",
    "            gate = p % 4\n",
    "            \n",
    "            qbit = d1[i]\n",
    "            # find the index of qbit in d2\n",
    "            j=0\n",
    "            while d2[j] != qbit:\n",
    "                j += 1\n",
    "                if j == len(d2):\n",
    "                    raise ValueError('Element {} not found in domain {}'.format(d1[i],d2) )\n",
    "\n",
    "            index += gate * 4**j\n",
    "            p = p//4\n",
    "        return index\n",
    "    \n",
    "params.small_u_domain_flags"
   ]
  }
 ],
 "metadata": {
  "kernelspec": {
   "display_name": "Python 3 (ipykernel)",
   "language": "python",
   "name": "python3"
  },
  "language_info": {
   "codemirror_mode": {
    "name": "ipython",
    "version": 3
   },
   "file_extension": ".py",
   "mimetype": "text/x-python",
   "name": "python",
   "nbconvert_exporter": "python",
   "pygments_lexer": "ipython3",
   "version": "3.10.0"
  }
 },
 "nbformat": 4,
 "nbformat_minor": 5
}
