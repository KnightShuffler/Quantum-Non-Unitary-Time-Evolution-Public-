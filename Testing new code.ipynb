{
 "cells": [
  {
   "cell_type": "code",
   "execution_count": 1,
   "id": "19b7b7df",
   "metadata": {},
   "outputs": [],
   "source": [
    "from helpers import *\n",
    "import matplotlib.pyplot as plt\n",
    "plt.style.use('_mpl-gallery')\n",
    "\n",
    "def plot_circle(points, c, r, l):\n",
    "    fig, ax = plt.subplots(figsize=(4,4))\n",
    "\n",
    "    s_x = [s_i[0] for s_i in points]\n",
    "    s_y = [s_i[1] for s_i in points]\n",
    "\n",
    "    pad = 0.3\n",
    "\n",
    "    ax.scatter(s_x, s_y, vmin=0, vmax=100)\n",
    "    ax.set( xlim=(-pad,l-1+pad), xticks=(np.arange(0,l)),\n",
    "            ylim=(-pad,l-1+pad), yticks=(np.arange(0,l)) )\n",
    "\n",
    "    # calculate sphere lines\n",
    "    l_ = (c[0] - r, c[1])\n",
    "\n",
    "    r_ = (c[0] + r, c[1])\n",
    "\n",
    "    u_ = (c[0], c[1] + r)\n",
    "\n",
    "    d_ = (c[0], c[1] - r)\n",
    "\n",
    "    ax.plot(c[0], c[1], 'rs')\n",
    "    ax.plot([l_[0], d_[0]], [l_[1], d_[1]], color='red')\n",
    "    ax.plot([l_[0], u_[0]], [l_[1], u_[1]], color='red')\n",
    "    ax.plot([r_[0], d_[0]], [r_[1], d_[1]], color='red')\n",
    "    ax.plot([r_[0], u_[0]], [r_[1], u_[1]], color='red')\n",
    "\n",
    "    plt.show()"
   ]
  },
  {
   "cell_type": "code",
   "execution_count": 2,
   "id": "636ab9da",
   "metadata": {},
   "outputs": [
    {
     "data": {
      "image/png": "[encoded data removed]",
      "text/plain": [
       "<Figure size 288x288 with 1 Axes>"
      ]
     },
     "metadata": {
      "needs_background": "light"
     },
     "output_type": "display_data"
    }
   ],
   "source": [
    "c=(0.5, 3.5)\n",
    "r=3\n",
    "d=2\n",
    "l=10\n",
    "\n",
    "s = get_m_sphere(c, r, d, l)\n",
    "\n",
    "plot_circle(s, c, r, l)"
   ]
  },
  {
   "cell_type": "code",
   "execution_count": 4,
   "id": "2be6878c",
   "metadata": {},
   "outputs": [
    {
     "data": {
      "image/png": "[encoded data removed]",
      "text/plain": [
       "<Figure size 288x288 with 1 Axes>"
      ]
     },
     "metadata": {
      "needs_background": "light"
     },
     "output_type": "display_data"
    }
   ],
   "source": [
    "ss = get_sphere(c, r, d, l)\n",
    "plot_circle(ss, c, r, l)"
   ]
  },
  {
   "cell_type": "code",
   "execution_count": 42,
   "id": "78770188",
   "metadata": {},
   "outputs": [],
   "source": [
    "def get_min_circle(points):\n",
    "    center = get_center(points)\n",
    "    max_dist = 0\n",
    "    for p in points:\n",
    "        if manhattan_dist(p, center) > max_dist:\n",
    "            max_dist = manhattan_dist(p, center)\n",
    "    return center, max_dist"
   ]
  },
  {
   "cell_type": "code",
   "execution_count": 22,
   "id": "fcd07a25",
   "metadata": {},
   "outputs": [
    {
     "name": "stdout",
     "output_type": "stream",
     "text": [
      "Loading Hamiltonian Parameters... Calculating Unitary Domains... Done\n",
      "Calculating Required Odd-Y Pauli Strings... Done\n",
      "Calculating Required Pauli Measurements... Done\n"
     ]
    }
   ],
   "source": [
    "from hamiltonians import *\n",
    "from qite_params import QITE_params as QP\n",
    "from helpers import *\n",
    "\n",
    "Ham = ShortRangeHeisenberg(4, [1,1,1])\n",
    "Ham.multiply_scalar(1j)\n",
    "params = QP(Ham)\n",
    "\n",
    "params.load_hamiltonian_params(4)"
   ]
  },
  {
   "cell_type": "code",
   "execution_count": 23,
   "id": "d853f749",
   "metadata": {},
   "outputs": [
    {
     "name": "stdout",
     "output_type": "stream",
     "text": [
      "Term 1 acting on the qubit locations [0, 1]:\n",
      "\t(0.00 + 1.00i) X_0 X_1 +\n",
      "\t(0.00 + 1.00i) Y_0 Y_1 +\n",
      "\t(0.00 + 1.00i) Z_0 Z_1 \n",
      "Term 2 acting on the qubit locations [1, 2]:\n",
      "\t(0.00 + 1.00i) X_1 X_2 +\n",
      "\t(0.00 + 1.00i) Y_1 Y_2 +\n",
      "\t(0.00 + 1.00i) Z_1 Z_2 \n",
      "Term 3 acting on the qubit locations [2, 3]:\n",
      "\t(0.00 + 1.00i) X_2 X_3 +\n",
      "\t(0.00 + 1.00i) Y_2 Y_3 +\n",
      "\t(0.00 + 1.00i) Z_2 Z_3 \n"
     ]
    }
   ],
   "source": [
    "Ham.print()"
   ]
  },
  {
   "cell_type": "code",
   "execution_count": 24,
   "id": "17955b2a",
   "metadata": {},
   "outputs": [
    {
     "data": {
      "text/plain": [
       "{0: [{0: 1, 1: 1},\n",
       "  {0: 2, 1: 2},\n",
       "  {0: 3, 1: 3},\n",
       "  {0: 0, 1: 1, 2: 0},\n",
       "  {0: 2, 1: 3, 2: 0},\n",
       "  {0: 3, 1: 2, 2: 0},\n",
       "  {0: 1, 1: 0, 2: 0},\n",
       "  {0: 1, 1: 2, 2: 0},\n",
       "  {0: 1, 1: 3, 2: 0},\n",
       "  {0: 3, 1: 0, 2: 0},\n",
       "  {0: 2, 1: 0, 2: 0},\n",
       "  {0: 0, 1: 3, 2: 0},\n",
       "  {0: 0, 1: 2, 2: 0},\n",
       "  {0: 2, 1: 1, 2: 0},\n",
       "  {0: 3, 1: 1, 2: 0},\n",
       "  {0: 0, 1: 0, 2: 1},\n",
       "  {0: 0, 1: 1, 2: 1},\n",
       "  {0: 2, 1: 2, 2: 1},\n",
       "  {0: 3, 1: 2, 2: 1},\n",
       "  {0: 1, 1: 2, 2: 1},\n",
       "  {0: 0, 1: 3, 2: 1},\n",
       "  {0: 2, 1: 3, 2: 1},\n",
       "  {0: 3, 1: 3, 2: 1},\n",
       "  {0: 1, 1: 3, 2: 1},\n",
       "  {0: 0, 1: 2, 2: 1},\n",
       "  {0: 1, 1: 0, 2: 1},\n",
       "  {0: 3, 1: 0, 2: 1},\n",
       "  {0: 2, 1: 1, 2: 1},\n",
       "  {0: 2, 1: 0, 2: 1},\n",
       "  {0: 3, 1: 1, 2: 1},\n",
       "  {0: 1, 1: 1, 2: 1},\n",
       "  {0: 2, 1: 0, 2: 2},\n",
       "  {0: 2, 1: 1, 2: 2},\n",
       "  {0: 0, 1: 2, 2: 2},\n",
       "  {0: 1, 1: 2, 2: 2},\n",
       "  {0: 3, 1: 2, 2: 2},\n",
       "  {0: 2, 1: 3, 2: 2},\n",
       "  {0: 2, 1: 0, 2: 3},\n",
       "  {0: 2, 1: 1, 2: 3},\n",
       "  {0: 0, 1: 2, 2: 3},\n",
       "  {0: 1, 1: 2, 2: 3},\n",
       "  {0: 3, 1: 2, 2: 3},\n",
       "  {0: 2, 1: 3, 2: 3},\n",
       "  {0: 3, 1: 0, 2: 2},\n",
       "  {0: 3, 1: 1, 2: 2},\n",
       "  {0: 2, 1: 2, 2: 2},\n",
       "  {0: 3, 1: 3, 2: 2},\n",
       "  {0: 3, 1: 0, 2: 3},\n",
       "  {0: 3, 1: 1, 2: 3},\n",
       "  {0: 2, 1: 2, 2: 3},\n",
       "  {0: 3, 1: 3, 2: 3},\n",
       "  {0: 1, 1: 0, 2: 2},\n",
       "  {0: 1, 1: 1, 2: 2},\n",
       "  {0: 1, 1: 3, 2: 2},\n",
       "  {0: 1, 1: 0, 2: 3},\n",
       "  {0: 1, 1: 1, 2: 3},\n",
       "  {0: 1, 1: 3, 2: 3},\n",
       "  {0: 0, 1: 3, 2: 2},\n",
       "  {0: 0, 1: 3, 2: 3},\n",
       "  {0: 0, 1: 1, 2: 2},\n",
       "  {0: 0, 1: 1, 2: 3},\n",
       "  {0: 0, 1: 0, 2: 3},\n",
       "  {0: 0, 1: 0, 2: 2}],\n",
       " 1: [{1: 1, 2: 1},\n",
       "  {1: 2, 2: 2},\n",
       "  {1: 3, 2: 3},\n",
       "  {0: 0, 1: 1, 2: 0, 3: 0},\n",
       "  {0: 2, 1: 2, 2: 0, 3: 0},\n",
       "  {0: 2, 1: 3, 2: 0, 3: 0},\n",
       "  {0: 3, 1: 2, 2: 0, 3: 0},\n",
       "  {0: 3, 1: 3, 2: 0, 3: 0},\n",
       "  {0: 1, 1: 0, 2: 0, 3: 0},\n",
       "  {0: 1, 1: 2, 2: 0, 3: 0},\n",
       "  {0: 1, 1: 3, 2: 0, 3: 0},\n",
       "  {0: 3, 1: 0, 2: 0, 3: 0},\n",
       "  {0: 2, 1: 0, 2: 0, 3: 0},\n",
       "  {0: 0, 1: 3, 2: 0, 3: 0},\n",
       "  {0: 0, 1: 2, 2: 0, 3: 0},\n",
       "  {0: 2, 1: 1, 2: 0, 3: 0},\n",
       "  {0: 3, 1: 1, 2: 0, 3: 0},\n",
       "  {0: 1, 1: 1, 2: 0, 3: 0},\n",
       "  {0: 0, 1: 0, 2: 1, 3: 0},\n",
       "  {0: 2, 1: 2, 2: 1, 3: 0},\n",
       "  {0: 3, 1: 2, 2: 1, 3: 0},\n",
       "  {0: 1, 1: 2, 2: 1, 3: 0},\n",
       "  {0: 0, 1: 3, 2: 1, 3: 0},\n",
       "  {0: 2, 1: 3, 2: 1, 3: 0},\n",
       "  {0: 3, 1: 3, 2: 1, 3: 0},\n",
       "  {0: 1, 1: 3, 2: 1, 3: 0},\n",
       "  {0: 0, 1: 2, 2: 1, 3: 0},\n",
       "  {0: 1, 1: 0, 2: 1, 3: 0},\n",
       "  {0: 3, 1: 0, 2: 1, 3: 0},\n",
       "  {0: 2, 1: 1, 2: 1, 3: 0},\n",
       "  {0: 2, 1: 0, 2: 1, 3: 0},\n",
       "  {0: 3, 1: 1, 2: 1, 3: 0},\n",
       "  {0: 1, 1: 1, 2: 1, 3: 0},\n",
       "  {0: 2, 1: 0, 2: 2, 3: 0},\n",
       "  {0: 2, 1: 1, 2: 2, 3: 0},\n",
       "  {0: 1, 1: 2, 2: 2, 3: 0},\n",
       "  {0: 3, 1: 2, 2: 2, 3: 0},\n",
       "  {0: 2, 1: 3, 2: 2, 3: 0},\n",
       "  {0: 2, 1: 0, 2: 3, 3: 0},\n",
       "  {0: 2, 1: 1, 2: 3, 3: 0},\n",
       "  {0: 0, 1: 2, 2: 3, 3: 0},\n",
       "  {0: 1, 1: 2, 2: 3, 3: 0},\n",
       "  {0: 3, 1: 2, 2: 3, 3: 0},\n",
       "  {0: 2, 1: 3, 2: 3, 3: 0},\n",
       "  {0: 3, 1: 0, 2: 2, 3: 0},\n",
       "  {0: 3, 1: 1, 2: 2, 3: 0},\n",
       "  {0: 2, 1: 2, 2: 2, 3: 0},\n",
       "  {0: 3, 1: 3, 2: 2, 3: 0},\n",
       "  {0: 3, 1: 0, 2: 3, 3: 0},\n",
       "  {0: 3, 1: 1, 2: 3, 3: 0},\n",
       "  {0: 2, 1: 2, 2: 3, 3: 0},\n",
       "  {0: 3, 1: 3, 2: 3, 3: 0},\n",
       "  {0: 1, 1: 0, 2: 2, 3: 0},\n",
       "  {0: 1, 1: 1, 2: 2, 3: 0},\n",
       "  {0: 1, 1: 3, 2: 2, 3: 0},\n",
       "  {0: 1, 1: 0, 2: 3, 3: 0},\n",
       "  {0: 1, 1: 1, 2: 3, 3: 0},\n",
       "  {0: 1, 1: 3, 2: 3, 3: 0},\n",
       "  {0: 0, 1: 3, 2: 2, 3: 0},\n",
       "  {0: 0, 1: 1, 2: 2, 3: 0},\n",
       "  {0: 0, 1: 1, 2: 3, 3: 0},\n",
       "  {0: 0, 1: 0, 2: 3, 3: 0},\n",
       "  {0: 0, 1: 0, 2: 2, 3: 0},\n",
       "  {0: 0, 1: 0, 2: 0, 3: 1},\n",
       "  {0: 0, 1: 1, 2: 0, 3: 1},\n",
       "  {0: 2, 1: 2, 2: 0, 3: 1},\n",
       "  {0: 3, 1: 2, 2: 0, 3: 1},\n",
       "  {0: 1, 1: 2, 2: 0, 3: 1},\n",
       "  {0: 0, 1: 3, 2: 0, 3: 1},\n",
       "  {0: 0, 1: 0, 2: 1, 3: 1},\n",
       "  {0: 0, 1: 1, 2: 1, 3: 1},\n",
       "  {0: 2, 1: 2, 2: 1, 3: 1},\n",
       "  {0: 3, 1: 2, 2: 1, 3: 1},\n",
       "  {0: 1, 1: 2, 2: 1, 3: 1},\n",
       "  {0: 0, 1: 3, 2: 1, 3: 1},\n",
       "  {0: 2, 1: 0, 2: 2, 3: 1},\n",
       "  {0: 3, 1: 0, 2: 2, 3: 1},\n",
       "  {0: 1, 1: 0, 2: 2, 3: 1},\n",
       "  {0: 2, 1: 1, 2: 2, 3: 1},\n",
       "  {0: 3, 1: 1, 2: 2, 3: 1},\n",
       "  {0: 1, 1: 1, 2: 2, 3: 1},\n",
       "  {0: 0, 1: 2, 2: 2, 3: 1},\n",
       "  {0: 2, 1: 3, 2: 2, 3: 1},\n",
       "  {0: 3, 1: 3, 2: 2, 3: 1},\n",
       "  {0: 1, 1: 3, 2: 2, 3: 1},\n",
       "  {0: 0, 1: 0, 2: 3, 3: 1},\n",
       "  {0: 0, 1: 1, 2: 3, 3: 1},\n",
       "  {0: 2, 1: 2, 2: 3, 3: 1},\n",
       "  {0: 3, 1: 2, 2: 3, 3: 1},\n",
       "  {0: 1, 1: 2, 2: 3, 3: 1},\n",
       "  {0: 0, 1: 3, 2: 3, 3: 1},\n",
       "  {0: 2, 1: 3, 2: 0, 3: 1},\n",
       "  {0: 3, 1: 3, 2: 0, 3: 1},\n",
       "  {0: 1, 1: 3, 2: 0, 3: 1},\n",
       "  {0: 0, 1: 2, 2: 0, 3: 1},\n",
       "  {0: 2, 1: 3, 2: 1, 3: 1},\n",
       "  {0: 3, 1: 3, 2: 1, 3: 1},\n",
       "  {0: 1, 1: 3, 2: 1, 3: 1},\n",
       "  {0: 0, 1: 2, 2: 1, 3: 1},\n",
       "  {0: 0, 1: 3, 2: 2, 3: 1},\n",
       "  {0: 2, 1: 2, 2: 2, 3: 1},\n",
       "  {0: 3, 1: 2, 2: 2, 3: 1},\n",
       "  {0: 1, 1: 2, 2: 2, 3: 1},\n",
       "  {0: 2, 1: 3, 2: 3, 3: 1},\n",
       "  {0: 3, 1: 3, 2: 3, 3: 1},\n",
       "  {0: 1, 1: 3, 2: 3, 3: 1},\n",
       "  {0: 0, 1: 2, 2: 3, 3: 1},\n",
       "  {0: 1, 1: 0, 2: 0, 3: 1},\n",
       "  {0: 3, 1: 0, 2: 0, 3: 1},\n",
       "  {0: 2, 1: 1, 2: 0, 3: 1},\n",
       "  {0: 1, 1: 0, 2: 1, 3: 1},\n",
       "  {0: 3, 1: 0, 2: 1, 3: 1},\n",
       "  {0: 2, 1: 1, 2: 1, 3: 1},\n",
       "  {0: 0, 1: 1, 2: 2, 3: 1},\n",
       "  {0: 1, 1: 0, 2: 3, 3: 1},\n",
       "  {0: 3, 1: 0, 2: 3, 3: 1},\n",
       "  {0: 2, 1: 1, 2: 3, 3: 1},\n",
       "  {0: 2, 1: 0, 2: 0, 3: 1},\n",
       "  {0: 3, 1: 1, 2: 0, 3: 1},\n",
       "  {0: 2, 1: 0, 2: 1, 3: 1},\n",
       "  {0: 3, 1: 1, 2: 1, 3: 1},\n",
       "  {0: 2, 1: 0, 2: 3, 3: 1},\n",
       "  {0: 3, 1: 1, 2: 3, 3: 1},\n",
       "  {0: 1, 1: 1, 2: 0, 3: 1},\n",
       "  {0: 1, 1: 1, 2: 1, 3: 1},\n",
       "  {0: 1, 1: 1, 2: 3, 3: 1},\n",
       "  {0: 0, 1: 0, 2: 2, 3: 1},\n",
       "  {0: 2, 1: 0, 2: 0, 3: 2},\n",
       "  {0: 2, 1: 1, 2: 0, 3: 2},\n",
       "  {0: 0, 1: 2, 2: 0, 3: 2},\n",
       "  {0: 1, 1: 2, 2: 0, 3: 2},\n",
       "  {0: 3, 1: 2, 2: 0, 3: 2},\n",
       "  {0: 2, 1: 3, 2: 0, 3: 2},\n",
       "  {0: 2, 1: 0, 2: 1, 3: 2},\n",
       "  {0: 2, 1: 1, 2: 1, 3: 2},\n",
       "  {0: 0, 1: 2, 2: 1, 3: 2},\n",
       "  {0: 1, 1: 2, 2: 1, 3: 2},\n",
       "  {0: 3, 1: 2, 2: 1, 3: 2},\n",
       "  {0: 2, 1: 3, 2: 1, 3: 2},\n",
       "  {0: 0, 1: 0, 2: 2, 3: 2},\n",
       "  {0: 1, 1: 0, 2: 2, 3: 2},\n",
       "  {0: 3, 1: 0, 2: 2, 3: 2},\n",
       "  {0: 0, 1: 1, 2: 2, 3: 2},\n",
       "  {0: 1, 1: 1, 2: 2, 3: 2},\n",
       "  {0: 3, 1: 1, 2: 2, 3: 2},\n",
       "  {0: 2, 1: 2, 2: 2, 3: 2},\n",
       "  {0: 0, 1: 3, 2: 2, 3: 2},\n",
       "  {0: 1, 1: 3, 2: 2, 3: 2},\n",
       "  {0: 3, 1: 3, 2: 2, 3: 2},\n",
       "  {0: 2, 1: 0, 2: 3, 3: 2},\n",
       "  {0: 2, 1: 1, 2: 3, 3: 2},\n",
       "  {0: 0, 1: 2, 2: 3, 3: 2},\n",
       "  {0: 1, 1: 2, 2: 3, 3: 2},\n",
       "  {0: 3, 1: 2, 2: 3, 3: 2},\n",
       "  {0: 2, 1: 3, 2: 3, 3: 2},\n",
       "  {0: 2, 1: 0, 2: 0, 3: 3},\n",
       "  {0: 2, 1: 1, 2: 0, 3: 3},\n",
       "  {0: 0, 1: 2, 2: 0, 3: 3},\n",
       "  {0: 1, 1: 2, 2: 0, 3: 3},\n",
       "  {0: 3, 1: 2, 2: 0, 3: 3},\n",
       "  {0: 2, 1: 3, 2: 0, 3: 3},\n",
       "  {0: 2, 1: 0, 2: 1, 3: 3},\n",
       "  {0: 2, 1: 1, 2: 1, 3: 3},\n",
       "  {0: 0, 1: 2, 2: 1, 3: 3},\n",
       "  {0: 1, 1: 2, 2: 1, 3: 3},\n",
       "  {0: 3, 1: 2, 2: 1, 3: 3},\n",
       "  {0: 2, 1: 3, 2: 1, 3: 3},\n",
       "  {0: 0, 1: 0, 2: 2, 3: 3},\n",
       "  {0: 1, 1: 0, 2: 2, 3: 3},\n",
       "  {0: 3, 1: 0, 2: 2, 3: 3},\n",
       "  {0: 0, 1: 1, 2: 2, 3: 3},\n",
       "  {0: 1, 1: 1, 2: 2, 3: 3},\n",
       "  {0: 3, 1: 1, 2: 2, 3: 3},\n",
       "  {0: 2, 1: 2, 2: 2, 3: 3},\n",
       "  {0: 0, 1: 3, 2: 2, 3: 3},\n",
       "  {0: 1, 1: 3, 2: 2, 3: 3},\n",
       "  {0: 3, 1: 3, 2: 2, 3: 3},\n",
       "  {0: 2, 1: 0, 2: 3, 3: 3},\n",
       "  {0: 2, 1: 1, 2: 3, 3: 3},\n",
       "  {0: 0, 1: 2, 2: 3, 3: 3},\n",
       "  {0: 1, 1: 2, 2: 3, 3: 3},\n",
       "  {0: 3, 1: 2, 2: 3, 3: 3},\n",
       "  {0: 2, 1: 3, 2: 3, 3: 3},\n",
       "  {0: 3, 1: 0, 2: 0, 3: 2},\n",
       "  {0: 3, 1: 1, 2: 0, 3: 2},\n",
       "  {0: 2, 1: 2, 2: 0, 3: 2},\n",
       "  {0: 3, 1: 3, 2: 0, 3: 2},\n",
       "  {0: 3, 1: 0, 2: 1, 3: 2},\n",
       "  {0: 3, 1: 1, 2: 1, 3: 2},\n",
       "  {0: 2, 1: 2, 2: 1, 3: 2},\n",
       "  {0: 3, 1: 3, 2: 1, 3: 2},\n",
       "  {0: 2, 1: 0, 2: 2, 3: 2},\n",
       "  {0: 2, 1: 1, 2: 2, 3: 2},\n",
       "  {0: 3, 1: 2, 2: 2, 3: 2},\n",
       "  {0: 2, 1: 3, 2: 2, 3: 2},\n",
       "  {0: 3, 1: 0, 2: 3, 3: 2},\n",
       "  {0: 3, 1: 1, 2: 3, 3: 2},\n",
       "  {0: 2, 1: 2, 2: 3, 3: 2},\n",
       "  {0: 3, 1: 3, 2: 3, 3: 2},\n",
       "  {0: 3, 1: 0, 2: 0, 3: 3},\n",
       "  {0: 3, 1: 1, 2: 0, 3: 3},\n",
       "  {0: 2, 1: 2, 2: 0, 3: 3},\n",
       "  {0: 3, 1: 3, 2: 0, 3: 3},\n",
       "  {0: 3, 1: 0, 2: 1, 3: 3},\n",
       "  {0: 3, 1: 1, 2: 1, 3: 3},\n",
       "  {0: 2, 1: 2, 2: 1, 3: 3},\n",
       "  {0: 3, 1: 3, 2: 1, 3: 3},\n",
       "  {0: 2, 1: 0, 2: 2, 3: 3},\n",
       "  {0: 2, 1: 1, 2: 2, 3: 3},\n",
       "  {0: 3, 1: 2, 2: 2, 3: 3},\n",
       "  {0: 2, 1: 3, 2: 2, 3: 3},\n",
       "  {0: 3, 1: 0, 2: 3, 3: 3},\n",
       "  {0: 3, 1: 1, 2: 3, 3: 3},\n",
       "  {0: 2, 1: 2, 2: 3, 3: 3},\n",
       "  {0: 3, 1: 3, 2: 3, 3: 3},\n",
       "  {0: 1, 1: 0, 2: 0, 3: 2},\n",
       "  {0: 1, 1: 1, 2: 0, 3: 2},\n",
       "  {0: 1, 1: 3, 2: 0, 3: 2},\n",
       "  {0: 1, 1: 0, 2: 1, 3: 2},\n",
       "  {0: 1, 1: 1, 2: 1, 3: 2},\n",
       "  {0: 1, 1: 3, 2: 1, 3: 2},\n",
       "  {0: 1, 1: 2, 2: 2, 3: 2},\n",
       "  {0: 1, 1: 0, 2: 3, 3: 2},\n",
       "  {0: 1, 1: 1, 2: 3, 3: 2},\n",
       "  {0: 1, 1: 3, 2: 3, 3: 2},\n",
       "  {0: 1, 1: 0, 2: 0, 3: 3},\n",
       "  {0: 1, 1: 1, 2: 0, 3: 3},\n",
       "  {0: 1, 1: 3, 2: 0, 3: 3},\n",
       "  {0: 1, 1: 0, 2: 1, 3: 3},\n",
       "  {0: 1, 1: 1, 2: 1, 3: 3},\n",
       "  {0: 1, 1: 3, 2: 1, 3: 3},\n",
       "  {0: 1, 1: 2, 2: 2, 3: 3},\n",
       "  {0: 1, 1: 0, 2: 3, 3: 3},\n",
       "  {0: 1, 1: 1, 2: 3, 3: 3},\n",
       "  {0: 1, 1: 3, 2: 3, 3: 3},\n",
       "  {0: 0, 1: 3, 2: 0, 3: 2},\n",
       "  {0: 0, 1: 3, 2: 1, 3: 2},\n",
       "  {0: 0, 1: 2, 2: 2, 3: 2},\n",
       "  {0: 0, 1: 3, 2: 3, 3: 2},\n",
       "  {0: 0, 1: 3, 2: 0, 3: 3},\n",
       "  {0: 0, 1: 3, 2: 1, 3: 3},\n",
       "  {0: 0, 1: 2, 2: 2, 3: 3},\n",
       "  {0: 0, 1: 3, 2: 3, 3: 3},\n",
       "  {0: 0, 1: 1, 2: 0, 3: 2},\n",
       "  {0: 0, 1: 1, 2: 1, 3: 2},\n",
       "  {0: 0, 1: 1, 2: 3, 3: 2},\n",
       "  {0: 0, 1: 1, 2: 0, 3: 3},\n",
       "  {0: 0, 1: 1, 2: 1, 3: 3},\n",
       "  {0: 0, 1: 1, 2: 3, 3: 3},\n",
       "  {0: 0, 1: 0, 2: 3, 3: 2},\n",
       "  {0: 0, 1: 0, 2: 3, 3: 3},\n",
       "  {0: 0, 1: 0, 2: 1, 3: 2},\n",
       "  {0: 0, 1: 0, 2: 1, 3: 3},\n",
       "  {0: 0, 1: 0, 2: 0, 3: 3},\n",
       "  {0: 0, 1: 0, 2: 0, 3: 2}],\n",
       " 2: [{2: 1, 3: 1},\n",
       "  {2: 2, 3: 2},\n",
       "  {2: 3, 3: 3},\n",
       "  {1: 0, 2: 1, 3: 0},\n",
       "  {1: 2, 2: 2, 3: 0},\n",
       "  {1: 2, 2: 3, 3: 0},\n",
       "  {1: 3, 2: 2, 3: 0},\n",
       "  {1: 3, 2: 3, 3: 0},\n",
       "  {1: 1, 2: 0, 3: 0},\n",
       "  {1: 1, 2: 2, 3: 0},\n",
       "  {1: 1, 2: 3, 3: 0},\n",
       "  {1: 3, 2: 0, 3: 0},\n",
       "  {1: 2, 2: 0, 3: 0},\n",
       "  {1: 0, 2: 3, 3: 0},\n",
       "  {1: 0, 2: 2, 3: 0},\n",
       "  {1: 2, 2: 1, 3: 0},\n",
       "  {1: 3, 2: 1, 3: 0},\n",
       "  {1: 1, 2: 1, 3: 0},\n",
       "  {1: 0, 2: 0, 3: 1},\n",
       "  {1: 2, 2: 2, 3: 1},\n",
       "  {1: 3, 2: 2, 3: 1},\n",
       "  {1: 1, 2: 2, 3: 1},\n",
       "  {1: 0, 2: 3, 3: 1},\n",
       "  {1: 2, 2: 3, 3: 1},\n",
       "  {1: 3, 2: 3, 3: 1},\n",
       "  {1: 1, 2: 3, 3: 1},\n",
       "  {1: 0, 2: 2, 3: 1},\n",
       "  {1: 1, 2: 0, 3: 1},\n",
       "  {1: 3, 2: 0, 3: 1},\n",
       "  {1: 2, 2: 1, 3: 1},\n",
       "  {1: 2, 2: 0, 3: 1},\n",
       "  {1: 3, 2: 1, 3: 1},\n",
       "  {1: 1, 2: 1, 3: 1},\n",
       "  {1: 2, 2: 0, 3: 2},\n",
       "  {1: 2, 2: 1, 3: 2},\n",
       "  {1: 1, 2: 2, 3: 2},\n",
       "  {1: 3, 2: 2, 3: 2},\n",
       "  {1: 2, 2: 3, 3: 2},\n",
       "  {1: 2, 2: 0, 3: 3},\n",
       "  {1: 2, 2: 1, 3: 3},\n",
       "  {1: 0, 2: 2, 3: 3},\n",
       "  {1: 1, 2: 2, 3: 3},\n",
       "  {1: 3, 2: 2, 3: 3},\n",
       "  {1: 2, 2: 3, 3: 3},\n",
       "  {1: 3, 2: 0, 3: 2},\n",
       "  {1: 3, 2: 1, 3: 2},\n",
       "  {1: 2, 2: 2, 3: 2},\n",
       "  {1: 3, 2: 3, 3: 2},\n",
       "  {1: 3, 2: 0, 3: 3},\n",
       "  {1: 3, 2: 1, 3: 3},\n",
       "  {1: 2, 2: 2, 3: 3},\n",
       "  {1: 3, 2: 3, 3: 3},\n",
       "  {1: 1, 2: 0, 3: 2},\n",
       "  {1: 1, 2: 1, 3: 2},\n",
       "  {1: 1, 2: 3, 3: 2},\n",
       "  {1: 1, 2: 0, 3: 3},\n",
       "  {1: 1, 2: 1, 3: 3},\n",
       "  {1: 1, 2: 3, 3: 3},\n",
       "  {1: 0, 2: 3, 3: 2},\n",
       "  {1: 0, 2: 1, 3: 2},\n",
       "  {1: 0, 2: 1, 3: 3},\n",
       "  {1: 0, 2: 0, 3: 3},\n",
       "  {1: 0, 2: 0, 3: 2}]}"
      ]
     },
     "execution_count": 24,
     "metadata": {},
     "output_type": "execute_result"
    }
   ],
   "source": [
    "params.measurement_keys"
   ]
  },
  {
   "cell_type": "code",
   "execution_count": 27,
   "id": "be57a960",
   "metadata": {},
   "outputs": [
    {
     "data": {
      "text/plain": [
       "63"
      ]
     },
     "execution_count": 27,
     "metadata": {},
     "output_type": "execute_result"
    }
   ],
   "source": [
    "len(params.measurement_keys[2])"
   ]
  },
  {
   "cell_type": "code",
   "execution_count": 14,
   "id": "84550c5c",
   "metadata": {},
   "outputs": [
    {
     "name": "stdout",
     "output_type": "stream",
     "text": [
      "[[15], [1], [0, 1]]\n"
     ]
    }
   ],
   "source": [
    "m = 0\n",
    "hm = Ham.hm_list[m]\n",
    "print(hm)"
   ]
  },
  {
   "cell_type": "code",
   "execution_count": 19,
   "id": "20eece9d",
   "metadata": {},
   "outputs": [
    {
     "name": "stdout",
     "output_type": "stream",
     "text": [
      "0.5 0.5\n",
      "[(0,), (1,)]\n",
      "[(0,), (1,)]\n",
      "[{(0,): 2, (1,): 0}, {(0,): 2, (1,): 1}, {(0,): 0, (1,): 2}, {(0,): 1, (1,): 2}, {(0,): 3, (1,): 2}, {(0,): 2, (1,): 3}]\n",
      "[{0: 3, 1: 3}]\n"
     ]
    }
   ],
   "source": [
    "c, R = min_bounding_sphere(hm[2])\n",
    "h_domain = get_m_sphere(c, R, Ham.d, Ham.l)\n",
    "u_domain = params.u_domains[m]\n",
    "print(c,R)\n",
    "print(h_domain)\n",
    "print(u_domain)\n",
    "\n",
    "domain_ops = params.odd_y_strings[len(u_domain)]\n",
    "\n",
    "# List of pauli dictionaries for the operators of the unitary's domain\n",
    "u_ops = [\n",
    "    pauli_index_to_dict(domain_ops[j], u_domain) for j in range(len(domain_ops))\n",
    "]\n",
    "\n",
    "# List of pauli dictionaries for the operators of the unitary's domain\n",
    "h_ops = [\n",
    "    pauli_index_to_dict(hm[0][j], hm[2]) for j in range(len(hm[0]))\n",
    "]\n",
    "\n",
    "print(u_ops)\n",
    "print(h_ops)"
   ]
  },
  {
   "cell_type": "code",
   "execution_count": null,
   "id": "f8cacf39",
   "metadata": {},
   "outputs": [
    {
     "name": "stdout",
     "output_type": "stream",
     "text": [
      "n=1 -- generated strings: 1\n",
      "n=2 -- generated strings: 16\n",
      "n=3 -- generated strings: 64\n",
      "n=4 -- generated strings: 256\n",
      "n=5 -- generated strings: 1024\n"
     ]
    }
   ],
   "source": [
    "prods = {}\n",
    "for n in range(1,10):\n",
    "    prods[n] = []\n",
    "    oy = odd_y_pauli_strings(n)\n",
    "    for i in oy:\n",
    "        for j in oy:\n",
    "#             if j >= i:\n",
    "#                 break\n",
    "            p_,c_ = pauli_string_prod(i, j, n)\n",
    "            if p_ not in prods[n]:\n",
    "                prods[n].append(p_)\n",
    "\n",
    "    print('n={} -- generated strings: {}'.format(n, len(prods[n])))"
   ]
  },
  {
   "cell_type": "markdown",
   "id": "ee2e817a",
   "metadata": {},
   "source": [
    "#### Checking how many Pauli Strings can be made (up to a phase factor) with only odd-Y Pauli strings"
   ]
  },
  {
   "cell_type": "code",
   "execution_count": 7,
   "id": "8bca3ed3",
   "metadata": {},
   "outputs": [],
   "source": [
    "pprod = {\n",
    "    'I': {i: i for i in 'IXYZ'},\n",
    "    'X': {'I': 'X', 'X':'I', 'Y': 'Z', 'Z': 'Y'},\n",
    "    'Y': {'I': 'Y', 'X':'Z', 'Y': 'I', 'Z': 'X'},\n",
    "    'Z': {'I': 'Z', 'X':'Y', 'Y': 'X', 'Z': 'I'},\n",
    "}\n",
    "def sprod(s1,s2):\n",
    "    prod = ''\n",
    "    for i in range(len(s1)):\n",
    "        prod += pprod[s1[i]][s2[i]]\n",
    "    return prod\n",
    "def y_count(s):\n",
    "    c = 0\n",
    "    for i in s:\n",
    "        if i == 'Y':\n",
    "            c += 1\n",
    "    return c"
   ]
  },
  {
   "cell_type": "code",
   "execution_count": 46,
   "id": "fc22121b",
   "metadata": {},
   "outputs": [
    {
     "name": "stdout",
     "output_type": "stream",
     "text": [
      "28\n"
     ]
    },
    {
     "data": {
      "text/plain": [
       "3.0"
      ]
     },
     "execution_count": 46,
     "metadata": {},
     "output_type": "execute_result"
    }
   ],
   "source": [
    "P_ = 'IXYZ'\n",
    "l = len(P_)\n",
    "d = 3\n",
    "lc = [0] * d\n",
    "\n",
    "odd_ys = []\n",
    "while True:\n",
    "    # loop logic\n",
    "    # Calculate string\n",
    "    s = ''\n",
    "    for j in range(d):\n",
    "        s += P_[lc[j]]\n",
    "        \n",
    "    if y_count(s) % 2 == 1:\n",
    "        odd_ys.append(s)\n",
    "    \n",
    "    # Termination logic\n",
    "    if s == 'Z' * d:\n",
    "        break\n",
    "    # update\n",
    "    j = 0\n",
    "    while True:\n",
    "        lc[j] += 1\n",
    "        if lc[j] == l:\n",
    "            lc[j] = 0\n",
    "            j += 1\n",
    "        else:\n",
    "            break\n",
    "print(len(odd_ys))\n",
    "prods = []\n",
    "for s1 in odd_ys:\n",
    "    for s2 in odd_ys:\n",
    "        prods.append(sprod(s1,s2))\n",
    "import numpy as np\n",
    "\n",
    "np.log(len(set(prods)))/np.log(4)"
   ]
  },
  {
   "cell_type": "code",
   "execution_count": 62,
   "id": "2bb55277",
   "metadata": {},
   "outputs": [
    {
     "name": "stdout",
     "output_type": "stream",
     "text": [
      "[1, 6, 28, 120, 496, 2016, 8128, 32640] [0, 15, 378, 7140, 122760, 2031120, 33028128, 532668480]\n"
     ]
    }
   ],
   "source": [
    "def foo(d):\n",
    "    return 2**(d-1) * (2**d - 1)\n",
    "D = 8\n",
    "oys = [foo(d) for d in range(1,D+1,1)]\n",
    "tri = [ (foo(d)**2 - foo(d))//2 for d in range(1,D+1,1) ]\n",
    "print(oys, tri)\n"
   ]
  },
  {
   "cell_type": "code",
   "execution_count": 63,
   "id": "77ee5b0f",
   "metadata": {},
   "outputs": [
    {
     "data": {
      "image/png": "[encoded data removed]",
      "text/plain": [
       "<Figure size 432x288 with 1 Axes>"
      ]
     },
     "metadata": {
      "needs_background": "light"
     },
     "output_type": "display_data"
    }
   ],
   "source": [
    "import matplotlib.pyplot as plt\n",
    "plt.plot(range(1,D+1,1), oys, 'ro-', label='Odd Y strings')\n",
    "plt.plot(range(1,D+1,1), tri, 'bs-', label='Lower Triangle Entries')\n",
    "plt.yscale('log')\n",
    "plt.grid()\n",
    "plt.legend()\n",
    "plt.show()"
   ]
  },
  {
   "cell_type": "code",
   "execution_count": 1,
   "id": "39f6277a",
   "metadata": {},
   "outputs": [
    {
     "name": "stdout",
     "output_type": "stream",
     "text": [
      "{(0, 0): 0, (0, 1): 1, (1, 0): 2, (1, 1): 3}\n",
      "{(1, 1): 0, (1, 0): 1, (0, 1): 2, (0, 0): 3}\n",
      "{2: 1, 1: 2, 0: 3}\n"
     ]
    },
    {
     "data": {
      "text/html": [
       "<pre style=\"word-wrap: normal;white-space: pre;background: #fff0;line-height: 1.1;font-family: &quot;Courier New&quot;,Courier,monospace\">     ┌───┐\n",
       "q_0: ┤ Z ├\n",
       "     ├───┤\n",
       "q_1: ┤ Y ├\n",
       "     ├───┤\n",
       "q_2: ┤ X ├\n",
       "     └───┘\n",
       "q_3: ─────\n",
       "          \n",
       "c: 4/═════\n",
       "          </pre>"
      ],
      "text/plain": [
       "     ┌───┐\n",
       "q_0: ┤ Z ├\n",
       "     ├───┤\n",
       "q_1: ┤ Y ├\n",
       "     ├───┤\n",
       "q_2: ┤ X ├\n",
       "     └───┘\n",
       "q_3: ─────\n",
       "          \n",
       "c: 4/═════\n",
       "          "
      ]
     },
     "execution_count": 1,
     "metadata": {},
     "output_type": "execute_result"
    }
   ],
   "source": [
    "from helpers import *\n",
    "from qiskit import QuantumCircuit\n",
    "\n",
    "q_map = {(0,0): 0, (0,1): 1, (1,0): 2, (1,1): 3}\n",
    "ps = 0*1 + 1*4 + 2*16 + 3*64\n",
    "pd = pauli_index_to_dict(ps, [ (1,1), (1,0), (0,1), (0,0) ])\n",
    "print(q_map)\n",
    "print(pd)\n",
    "bases = get_qc_bases_from_pauli_dict(pd, q_map)\n",
    "print(bases)\n",
    "\n",
    "qc = QuantumCircuit(4, 4)\n",
    "for qbit in bases.keys():\n",
    "    gate = bases[qbit]\n",
    "    if gate == 1:\n",
    "        qc.x(qbit)\n",
    "    elif gate == 2:\n",
    "        qc.y(qbit)\n",
    "    elif gate == 3:\n",
    "        qc.z(qbit)\n",
    "qc.draw()"
   ]
  },
  {
   "cell_type": "code",
   "execution_count": 2,
   "id": "107da19c",
   "metadata": {},
   "outputs": [
    {
     "data": {
      "text/html": [
       "<pre style=\"word-wrap: normal;white-space: pre;background: #fff0;line-height: 1.1;font-family: &quot;Courier New&quot;,Courier,monospace\">     ┌───┐                ┌───┐┌─────────┐┌───┐                 \n",
       "q_0: ┤ Z ├────────────────┤ X ├┤ Rz(π/4) ├┤ X ├─────────────────\n",
       "     ├───┤┌─────────┐┌───┐└─┬─┘└─────────┘└─┬─┘┌───┐┌──────────┐\n",
       "q_1: ┤ Y ├┤ Rx(π/2) ├┤ X ├──■───────────────■──┤ X ├┤ Rx(-π/2) ├\n",
       "     ├───┤└──┬───┬──┘└─┬─┘                     └─┬─┘└──┬───┬───┘\n",
       "q_2: ┤ X ├───┤ H ├─────■─────────────────────────■─────┤ H ├────\n",
       "     └───┘   └───┘                                     └───┘    \n",
       "q_3: ───────────────────────────────────────────────────────────\n",
       "                                                                \n",
       "c: 4/═══════════════════════════════════════════════════════════\n",
       "                                                                </pre>"
      ],
      "text/plain": [
       "     ┌───┐                ┌───┐┌─────────┐┌───┐                 \n",
       "q_0: ┤ Z ├────────────────┤ X ├┤ Rz(π/4) ├┤ X ├─────────────────\n",
       "     ├───┤┌─────────┐┌───┐└─┬─┘└─────────┘└─┬─┘┌───┐┌──────────┐\n",
       "q_1: ┤ Y ├┤ Rx(π/2) ├┤ X ├──■───────────────■──┤ X ├┤ Rx(-π/2) ├\n",
       "     ├───┤└──┬───┬──┘└─┬─┘                     └─┬─┘└──┬───┬───┘\n",
       "q_2: ┤ X ├───┤ H ├─────■─────────────────────────■─────┤ H ├────\n",
       "     └───┘   └───┘                                     └───┘    \n",
       "q_3: ───────────────────────────────────────────────────────────\n",
       "                                                                \n",
       "c: 4/═══════════════════════════════════════════════════════════\n",
       "                                                                "
      ]
     },
     "execution_count": 2,
     "metadata": {},
     "output_type": "execute_result"
    }
   ],
   "source": [
    "pauli_string_exp(qc, pd, q_map, np.pi/4)\n",
    "qc.draw()"
   ]
  },
  {
   "cell_type": "code",
   "execution_count": 3,
   "id": "757157e0",
   "metadata": {},
   "outputs": [],
   "source": [
    "from qiskit import Aer\n",
    "sv_sim = Aer.get_backend('statevector_simulator')"
   ]
  },
  {
   "cell_type": "code",
   "execution_count": 4,
   "id": "0910dc63",
   "metadata": {},
   "outputs": [],
   "source": [
    "e, c = measure(qc, pd, q_map, sv_sim)"
   ]
  },
  {
   "cell_type": "code",
   "execution_count": 5,
   "id": "5bdc1fa9",
   "metadata": {},
   "outputs": [
    {
     "data": {
      "image/png": "[encoded data removed]",
      "text/plain": [
       "<Figure size 504x360 with 1 Axes>"
      ]
     },
     "execution_count": 5,
     "metadata": {},
     "output_type": "execute_result"
    }
   ],
   "source": [
    "from qiskit.visualization import plot_histogram\n",
    "plot_histogram(c)"
   ]
  },
  {
   "cell_type": "code",
   "execution_count": 3,
   "id": "ecd05295",
   "metadata": {},
   "outputs": [
    {
     "data": {
      "text/plain": [
       "True"
      ]
     },
     "execution_count": 3,
     "metadata": {},
     "output_type": "execute_result"
    }
   ],
   "source": [
    "pd1 = {1:0}\n",
    "same_pauli_dicts(pd1, {})"
   ]
  },
  {
   "cell_type": "code",
   "execution_count": 6,
   "id": "13789478",
   "metadata": {},
   "outputs": [
    {
     "data": {
      "text/plain": [
       "[1]"
      ]
     },
     "execution_count": 6,
     "metadata": {},
     "output_type": "execute_result"
    }
   ],
   "source": [
    "list(pd1.keys())"
   ]
  },
  {
   "cell_type": "code",
   "execution_count": 9,
   "id": "dcacd3e9",
   "metadata": {},
   "outputs": [
    {
     "data": {
      "text/html": [
       "<pre style=\"word-wrap: normal;white-space: pre;background: #fff0;line-height: 1.1;font-family: &quot;Courier New&quot;,Courier,monospace\">     ┌───┐                ┌───┐┌─────────┐┌───┐     ┌─┐               \n",
       "q_0: ┤ Z ├────────────────┤ X ├┤ Rz(π/4) ├┤ X ├─────┤M├───────────────\n",
       "     ├───┤┌─────────┐┌───┐└─┬─┘└─────────┘└─┬─┘┌───┐└╥┘┌──────────┐   \n",
       "q_1: ┤ Y ├┤ Rx(π/2) ├┤ X ├──■───────────────■──┤ X ├─╫─┤ Rx(-π/2) ├───\n",
       "     ├───┤└──┬───┬──┘└─┬─┘                     └─┬─┘ ║ └──┬───┬───┘┌─┐\n",
       "q_2: ┤ X ├───┤ H ├─────■─────────────────────────■───╫────┤ H ├────┤M├\n",
       "     └───┘   └───┘                                   ║    └───┘    └╥┘\n",
       "q_3: ────────────────────────────────────────────────╫──────────────╫─\n",
       "                                                     ║              ║ \n",
       "c: 4/════════════════════════════════════════════════╩══════════════╩═\n",
       "                                                     0              2 </pre>"
      ],
      "text/plain": [
       "     ┌───┐                ┌───┐┌─────────┐┌───┐     ┌─┐               \n",
       "q_0: ┤ Z ├────────────────┤ X ├┤ Rz(π/4) ├┤ X ├─────┤M├───────────────\n",
       "     ├───┤┌─────────┐┌───┐└─┬─┘└─────────┘└─┬─┘┌───┐└╥┘┌──────────┐   \n",
       "q_1: ┤ Y ├┤ Rx(π/2) ├┤ X ├──■───────────────■──┤ X ├─╫─┤ Rx(-π/2) ├───\n",
       "     ├───┤└──┬───┬──┘└─┬─┘                     └─┬─┘ ║ └──┬───┬───┘┌─┐\n",
       "q_2: ┤ X ├───┤ H ├─────■─────────────────────────■───╫────┤ H ├────┤M├\n",
       "     └───┘   └───┘                                   ║    └───┘    └╥┘\n",
       "q_3: ────────────────────────────────────────────────╫──────────────╫─\n",
       "                                                     ║              ║ \n",
       "c: 4/════════════════════════════════════════════════╩══════════════╩═\n",
       "                                                     0              2 "
      ]
     },
     "execution_count": 9,
     "metadata": {},
     "output_type": "execute_result"
    }
   ],
   "source": [
    "a = [0,2]\n",
    "qc.measure(a,a)\n",
    "qc.draw()"
   ]
  },
  {
   "cell_type": "code",
   "execution_count": 6,
   "id": "c06bdd7a",
   "metadata": {},
   "outputs": [],
   "source": [
    "from hamiltonians import *"
   ]
  },
  {
   "cell_type": "code",
   "execution_count": 7,
   "id": "8431f948",
   "metadata": {},
   "outputs": [],
   "source": [
    "hm_list = [\n",
    "    [ [3], [1.0], [(1,1)] ]\n",
    "]\n",
    "d=2\n",
    "l=2\n",
    "q_map = {(0,0): 0, (0,1): 1, (1,0): 2, (1,1): 3}\n",
    "H = Hamiltonian(hm_list, d, l, q_map)"
   ]
  },
  {
   "cell_type": "code",
   "execution_count": 14,
   "id": "4e839860",
   "metadata": {},
   "outputs": [
    {
     "data": {
      "text/plain": [
       "(array([ 1.+0.j,  1.+0.j,  1.+0.j,  1.+0.j,  1.+0.j,  1.+0.j,  1.+0.j,\n",
       "         1.+0.j, -1.+0.j, -1.+0.j, -1.+0.j, -1.+0.j, -1.+0.j, -1.+0.j,\n",
       "        -1.+0.j, -1.+0.j]),\n",
       " array([[1.+0.j, 0.+0.j, 0.+0.j, 0.+0.j, 0.+0.j, 0.+0.j, 0.+0.j, 0.+0.j,\n",
       "         0.+0.j, 0.+0.j, 0.+0.j, 0.+0.j, 0.+0.j, 0.+0.j, 0.+0.j, 0.+0.j],\n",
       "        [0.+0.j, 1.+0.j, 0.+0.j, 0.+0.j, 0.+0.j, 0.+0.j, 0.+0.j, 0.+0.j,\n",
       "         0.+0.j, 0.+0.j, 0.+0.j, 0.+0.j, 0.+0.j, 0.+0.j, 0.+0.j, 0.+0.j],\n",
       "        [0.+0.j, 0.+0.j, 1.+0.j, 0.+0.j, 0.+0.j, 0.+0.j, 0.+0.j, 0.+0.j,\n",
       "         0.+0.j, 0.+0.j, 0.+0.j, 0.+0.j, 0.+0.j, 0.+0.j, 0.+0.j, 0.+0.j],\n",
       "        [0.+0.j, 0.+0.j, 0.+0.j, 1.+0.j, 0.+0.j, 0.+0.j, 0.+0.j, 0.+0.j,\n",
       "         0.+0.j, 0.+0.j, 0.+0.j, 0.+0.j, 0.+0.j, 0.+0.j, 0.+0.j, 0.+0.j],\n",
       "        [0.+0.j, 0.+0.j, 0.+0.j, 0.+0.j, 1.+0.j, 0.+0.j, 0.+0.j, 0.+0.j,\n",
       "         0.+0.j, 0.+0.j, 0.+0.j, 0.+0.j, 0.+0.j, 0.+0.j, 0.+0.j, 0.+0.j],\n",
       "        [0.+0.j, 0.+0.j, 0.+0.j, 0.+0.j, 0.+0.j, 1.+0.j, 0.+0.j, 0.+0.j,\n",
       "         0.+0.j, 0.+0.j, 0.+0.j, 0.+0.j, 0.+0.j, 0.+0.j, 0.+0.j, 0.+0.j],\n",
       "        [0.+0.j, 0.+0.j, 0.+0.j, 0.+0.j, 0.+0.j, 0.+0.j, 1.+0.j, 0.+0.j,\n",
       "         0.+0.j, 0.+0.j, 0.+0.j, 0.+0.j, 0.+0.j, 0.+0.j, 0.+0.j, 0.+0.j],\n",
       "        [0.+0.j, 0.+0.j, 0.+0.j, 0.+0.j, 0.+0.j, 0.+0.j, 0.+0.j, 1.+0.j,\n",
       "         0.+0.j, 0.+0.j, 0.+0.j, 0.+0.j, 0.+0.j, 0.+0.j, 0.+0.j, 0.+0.j],\n",
       "        [0.+0.j, 0.+0.j, 0.+0.j, 0.+0.j, 0.+0.j, 0.+0.j, 0.+0.j, 0.+0.j,\n",
       "         1.+0.j, 0.+0.j, 0.+0.j, 0.+0.j, 0.+0.j, 0.+0.j, 0.+0.j, 0.+0.j],\n",
       "        [0.+0.j, 0.+0.j, 0.+0.j, 0.+0.j, 0.+0.j, 0.+0.j, 0.+0.j, 0.+0.j,\n",
       "         0.+0.j, 1.+0.j, 0.+0.j, 0.+0.j, 0.+0.j, 0.+0.j, 0.+0.j, 0.+0.j],\n",
       "        [0.+0.j, 0.+0.j, 0.+0.j, 0.+0.j, 0.+0.j, 0.+0.j, 0.+0.j, 0.+0.j,\n",
       "         0.+0.j, 0.+0.j, 1.+0.j, 0.+0.j, 0.+0.j, 0.+0.j, 0.+0.j, 0.+0.j],\n",
       "        [0.+0.j, 0.+0.j, 0.+0.j, 0.+0.j, 0.+0.j, 0.+0.j, 0.+0.j, 0.+0.j,\n",
       "         0.+0.j, 0.+0.j, 0.+0.j, 1.+0.j, 0.+0.j, 0.+0.j, 0.+0.j, 0.+0.j],\n",
       "        [0.+0.j, 0.+0.j, 0.+0.j, 0.+0.j, 0.+0.j, 0.+0.j, 0.+0.j, 0.+0.j,\n",
       "         0.+0.j, 0.+0.j, 0.+0.j, 0.+0.j, 1.+0.j, 0.+0.j, 0.+0.j, 0.+0.j],\n",
       "        [0.+0.j, 0.+0.j, 0.+0.j, 0.+0.j, 0.+0.j, 0.+0.j, 0.+0.j, 0.+0.j,\n",
       "         0.+0.j, 0.+0.j, 0.+0.j, 0.+0.j, 0.+0.j, 1.+0.j, 0.+0.j, 0.+0.j],\n",
       "        [0.+0.j, 0.+0.j, 0.+0.j, 0.+0.j, 0.+0.j, 0.+0.j, 0.+0.j, 0.+0.j,\n",
       "         0.+0.j, 0.+0.j, 0.+0.j, 0.+0.j, 0.+0.j, 0.+0.j, 1.+0.j, 0.+0.j],\n",
       "        [0.+0.j, 0.+0.j, 0.+0.j, 0.+0.j, 0.+0.j, 0.+0.j, 0.+0.j, 0.+0.j,\n",
       "         0.+0.j, 0.+0.j, 0.+0.j, 0.+0.j, 0.+0.j, 0.+0.j, 0.+0.j, 1.+0.j]]))"
      ]
     },
     "execution_count": 14,
     "metadata": {},
     "output_type": "execute_result"
    }
   ],
   "source": [
    "H.get_spectrum()"
   ]
  },
  {
   "cell_type": "code",
   "execution_count": 22,
   "id": "0900ef5b",
   "metadata": {},
   "outputs": [
    {
     "name": "stdout",
     "output_type": "stream",
     "text": [
      "Loading Hamiltonian Parameters... Calculating Unitary Domains... Done\n",
      "Calculating Required Odd-Y Pauli Strings... Done\n",
      "Calculating Required Pauli Measurements... Done\n"
     ]
    }
   ],
   "source": [
    "from qite_params import *\n",
    "\n",
    "params = QITE_params(H)\n",
    "params.load_hamiltonian_params(0)"
   ]
  },
  {
   "cell_type": "code",
   "execution_count": 24,
   "id": "1344194e",
   "metadata": {},
   "outputs": [
    {
     "name": "stdout",
     "output_type": "stream",
     "text": [
      "cupy failed to import\n"
     ]
    }
   ],
   "source": [
    "from ideal_qite import *"
   ]
  },
  {
   "cell_type": "code",
   "execution_count": 40,
   "id": "fa9acb13",
   "metadata": {},
   "outputs": [],
   "source": [
    "import numpy as np\n",
    "sv = np.kron( np.kron( [1,1], [1,0] ), np.kron([1,0], [0,1]) ) * np.sqrt(0.5)"
   ]
  },
  {
   "cell_type": "code",
   "execution_count": 41,
   "id": "69028a2b",
   "metadata": {},
   "outputs": [
    {
     "data": {
      "text/plain": [
       "4.266421588589642e-17"
      ]
     },
     "execution_count": 41,
     "metadata": {},
     "output_type": "execute_result"
    }
   ],
   "source": [
    "params.backend = sv_sim\n",
    "measure_energy(params, sv)"
   ]
  }
 ],
 "metadata": {
  "kernelspec": {
   "display_name": "Python 3 (ipykernel)",
   "language": "python",
   "name": "python3"
  },
  "language_info": {
   "codemirror_mode": {
    "name": "ipython",
    "version": 3
   },
   "file_extension": ".py",
   "mimetype": "text/x-python",
   "name": "python",
   "nbconvert_exporter": "python",
   "pygments_lexer": "ipython3",
   "version": "3.10.0"
  }
 },
 "nbformat": 4,
 "nbformat_minor": 5
}
