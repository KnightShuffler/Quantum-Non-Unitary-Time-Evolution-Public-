{
 "cells": [
  {
   "cell_type": "code",
   "execution_count": 1,
   "id": "9a66af68",
   "metadata": {},
   "outputs": [],
   "source": [
    "from hamiltonians import *"
   ]
  },
  {
   "cell_type": "code",
   "execution_count": 2,
   "id": "cc4df963",
   "metadata": {},
   "outputs": [],
   "source": [
    "sr = ShortRangeHeisenberg(4, [1,1,1])"
   ]
  },
  {
   "cell_type": "code",
   "execution_count": 3,
   "id": "ae76ef74",
   "metadata": {},
   "outputs": [
    {
     "name": "stdout",
     "output_type": "stream",
     "text": [
      "Term 1 acting on the qubit locations [0, 1]:\n",
      "\t(1.00 + 0.00i) X_0 X_1 +\n",
      "\t(1.00 + 0.00i) Y_0 Y_1 +\n",
      "\t(1.00 + 0.00i) Z_0 Z_1 \n",
      "Term 2 acting on the qubit locations [1, 2]:\n",
      "\t(1.00 + 0.00i) X_1 X_2 +\n",
      "\t(1.00 + 0.00i) Y_1 Y_2 +\n",
      "\t(1.00 + 0.00i) Z_1 Z_2 \n",
      "Term 3 acting on the qubit locations [2, 3]:\n",
      "\t(1.00 + 0.00i) X_2 X_3 +\n",
      "\t(1.00 + 0.00i) Y_2 Y_3 +\n",
      "\t(1.00 + 0.00i) Z_2 Z_3 \n"
     ]
    }
   ],
   "source": [
    "sr.print()"
   ]
  },
  {
   "cell_type": "code",
   "execution_count": 4,
   "id": "5aaf024b",
   "metadata": {},
   "outputs": [
    {
     "name": "stdout",
     "output_type": "stream",
     "text": [
      "Term 1 acting on the qubit locations [0, 1]:\n",
      "\t(0.00 + 1.00i) X_0 X_1 +\n",
      "\t(0.00 + 1.00i) Y_0 Y_1 +\n",
      "\t(0.00 + 1.00i) Z_0 Z_1 \n",
      "Term 2 acting on the qubit locations [1, 2]:\n",
      "\t(0.00 + 1.00i) X_1 X_2 +\n",
      "\t(0.00 + 1.00i) Y_1 Y_2 +\n",
      "\t(0.00 + 1.00i) Z_1 Z_2 \n",
      "Term 3 acting on the qubit locations [2, 3]:\n",
      "\t(0.00 + 1.00i) X_2 X_3 +\n",
      "\t(0.00 + 1.00i) Y_2 Y_3 +\n",
      "\t(0.00 + 1.00i) Z_2 Z_3 \n"
     ]
    }
   ],
   "source": [
    "sr.multiply_scalar(1j)\n",
    "sr.print()"
   ]
  },
  {
   "cell_type": "code",
   "execution_count": 10,
   "id": "7b51beeb",
   "metadata": {},
   "outputs": [
    {
     "data": {
      "text/plain": [
       "dtype('complex128')"
      ]
     },
     "execution_count": 10,
     "metadata": {},
     "output_type": "execute_result"
    }
   ],
   "source": [
    "h = sr.get_matrix()\n",
    "h.dtypepe"
   ]
  },
  {
   "cell_type": "code",
   "execution_count": 12,
   "id": "ac31a9ff",
   "metadata": {},
   "outputs": [
    {
     "name": "stdout",
     "output_type": "stream",
     "text": [
      "(array([-3.82842712+0.j, -1.        +0.j,  3.        +0.j,  1.82842712+0.j,\n",
      "       -3.82842712+0.j, -1.        +0.j,  3.        +0.j,  1.82842712+0.j,\n",
      "       -6.46410162+0.j, -3.82842712+0.j, -1.        +0.j,  0.46410162+0.j,\n",
      "        1.82842712+0.j,  3.        +0.j,  3.        +0.j,  3.        +0.j]), array([[ 0.00000000e+00+0.j, -0.00000000e+00+0.j,  0.00000000e+00+0.j,\n",
      "        -0.00000000e+00+0.j,  0.00000000e+00+0.j,  0.00000000e+00+0.j,\n",
      "        -0.00000000e+00+0.j,  0.00000000e+00+0.j,  0.00000000e+00+0.j,\n",
      "         0.00000000e+00+0.j,  0.00000000e+00+0.j,  0.00000000e+00+0.j,\n",
      "        -0.00000000e+00+0.j,  0.00000000e+00+0.j,  1.00000000e+00+0.j,\n",
      "         0.00000000e+00+0.j],\n",
      "       [ 0.00000000e+00+0.j, -0.00000000e+00+0.j,  0.00000000e+00+0.j,\n",
      "        -0.00000000e+00+0.j, -2.70598050e-01+0.j, -5.00000000e-01+0.j,\n",
      "         5.00000000e-01+0.j, -6.53281482e-01+0.j,  4.57830047e-17+0.j,\n",
      "         2.36876701e-02+0.j,  4.07636676e-02+0.j,  1.45368940e-16+0.j,\n",
      "        -4.45239273e-02+0.j, -2.74156877e-02+0.j,  0.00000000e+00+0.j,\n",
      "         0.00000000e+00+0.j],\n",
      "       [ 0.00000000e+00+0.j, -0.00000000e+00+0.j,  0.00000000e+00+0.j,\n",
      "        -0.00000000e+00+0.j,  6.53281482e-01+0.j,  5.00000000e-01+0.j,\n",
      "         5.00000000e-01-0.j, -2.70598050e-01+0.j, -1.36381435e-16+0.j,\n",
      "        -5.71870944e-02+0.j, -4.07636676e-02+0.j, -1.33639197e-17+0.j,\n",
      "        -1.84424146e-02+0.j, -2.74156877e-02+0.j,  0.00000000e+00+0.j,\n",
      "         0.00000000e+00+0.j],\n",
      "       [ 0.00000000e+00+0.j, -0.00000000e+00+0.j,  0.00000000e+00+0.j,\n",
      "        -0.00000000e+00+0.j, -2.49115879e-18+0.j, -1.11127729e-17+0.j,\n",
      "        -1.11127729e-17+0.j,  3.50532643e-17+0.j, -1.49429245e-01+0.j,\n",
      "         2.69559268e-01+0.j,  1.94235227e-16+0.j,  5.57677536e-01+0.j,\n",
      "         6.51762468e-01+0.j,  4.07634133e-01+0.j,  0.00000000e+00+0.j,\n",
      "         0.00000000e+00+0.j],\n",
      "       [ 0.00000000e+00+0.j, -0.00000000e+00+0.j,  0.00000000e+00+0.j,\n",
      "        -0.00000000e+00+0.j, -6.53281482e-01+0.j,  5.00000000e-01+0.j,\n",
      "         5.00000000e-01-0.j,  2.70598050e-01+0.j,  7.86370998e-17+0.j,\n",
      "         5.71870944e-02+0.j, -4.07636676e-02+0.j, -9.17801549e-17+0.j,\n",
      "         1.84424146e-02-0.j, -2.74156877e-02+0.j,  0.00000000e+00+0.j,\n",
      "         0.00000000e+00+0.j],\n",
      "       [ 0.00000000e+00+0.j, -0.00000000e+00+0.j,  0.00000000e+00+0.j,\n",
      "        -0.00000000e+00+0.j, -1.22564696e-17+0.j, -5.46747013e-17+0.j,\n",
      "        -5.46747013e-17+0.j,  1.72461615e-16+0.j,  5.57677536e-01+0.j,\n",
      "        -6.50773641e-01+0.j, -2.07412633e-16+0.j, -1.49429245e-01+0.j,\n",
      "         2.69968854e-01-0.j,  4.07634133e-01+0.j,  0.00000000e+00+0.j,\n",
      "         0.00000000e+00+0.j],\n",
      "       [ 0.00000000e+00+0.j, -0.00000000e+00+0.j,  0.00000000e+00+0.j,\n",
      "        -0.00000000e+00+0.j, -1.41757220e-18+0.j, -6.32362655e-18+0.j,\n",
      "        -6.32362655e-18+0.j,  1.99467545e-17+0.j, -4.08248290e-01+0.j,\n",
      "        -6.14694785e-16+0.j, -7.04752898e-01+0.j, -4.08248290e-01+0.j,\n",
      "        -2.69655773e-16+0.j,  4.07634133e-01+0.j,  0.00000000e+00+0.j,\n",
      "         0.00000000e+00+0.j],\n",
      "       [-2.70598050e-01+0.j,  5.00000000e-01+0.j,  5.00000000e-01+0.j,\n",
      "         6.53281482e-01+0.j,  0.00000000e+00+0.j,  0.00000000e+00+0.j,\n",
      "        -0.00000000e+00+0.j,  0.00000000e+00+0.j,  0.00000000e+00+0.j,\n",
      "         0.00000000e+00+0.j,  0.00000000e+00+0.j,  0.00000000e+00+0.j,\n",
      "        -0.00000000e+00+0.j,  0.00000000e+00+0.j,  0.00000000e+00+0.j,\n",
      "         0.00000000e+00+0.j],\n",
      "       [ 0.00000000e+00+0.j, -0.00000000e+00+0.j,  0.00000000e+00+0.j,\n",
      "        -0.00000000e+00+0.j,  2.70598050e-01+0.j, -5.00000000e-01+0.j,\n",
      "         5.00000000e-01-0.j,  6.53281482e-01+0.j, -5.59393725e-17+0.j,\n",
      "        -2.36876701e-02+0.j,  4.07636676e-02+0.j, -4.88992384e-17+0.j,\n",
      "         4.45239273e-02-0.j, -2.74156877e-02+0.j,  0.00000000e+00+0.j,\n",
      "         0.00000000e+00+0.j],\n",
      "       [ 0.00000000e+00+0.j, -0.00000000e+00+0.j,  0.00000000e+00+0.j,\n",
      "        -0.00000000e+00+0.j, -6.80597239e-18+0.j, -3.03606601e-17+0.j,\n",
      "        -3.03606601e-17+0.j,  9.57672991e-17+0.j, -4.08248290e-01+0.j,\n",
      "        -2.78978648e-16+0.j,  7.04752898e-01+0.j, -4.08248290e-01+0.j,\n",
      "        -7.95583625e-16+0.j,  4.07634133e-01+0.j,  0.00000000e+00+0.j,\n",
      "         0.00000000e+00+0.j],\n",
      "       [ 0.00000000e+00+0.j, -0.00000000e+00+0.j,  0.00000000e+00+0.j,\n",
      "        -0.00000000e+00+0.j,  9.29713119e-18+0.j,  4.14734330e-17+0.j,\n",
      "         4.14734330e-17-0.j, -1.30820563e-16+0.j,  5.57677536e-01+0.j,\n",
      "         6.50773641e-01+0.j, -5.05391845e-17+0.j, -1.49429245e-01+0.j,\n",
      "        -2.69968854e-01+0.j,  4.07634133e-01+0.j,  0.00000000e+00+0.j,\n",
      "         0.00000000e+00+0.j],\n",
      "       [ 6.53281482e-01+0.j, -5.00000000e-01+0.j,  5.00000000e-01+0.j,\n",
      "         2.70598050e-01-0.j,  0.00000000e+00+0.j,  0.00000000e+00+0.j,\n",
      "        -0.00000000e+00+0.j,  0.00000000e+00+0.j,  0.00000000e+00+0.j,\n",
      "         0.00000000e+00+0.j,  0.00000000e+00+0.j,  0.00000000e+00+0.j,\n",
      "        -0.00000000e+00+0.j,  0.00000000e+00+0.j,  0.00000000e+00+0.j,\n",
      "         0.00000000e+00+0.j],\n",
      "       [ 0.00000000e+00+0.j, -0.00000000e+00+0.j,  0.00000000e+00+0.j,\n",
      "        -0.00000000e+00+0.j, -2.49115879e-18+0.j, -1.11127729e-17+0.j,\n",
      "        -1.11127729e-17+0.j,  3.50532643e-17+0.j, -1.49429245e-01+0.j,\n",
      "        -2.69559268e-01+0.j,  2.77832524e-16+0.j,  5.57677536e-01+0.j,\n",
      "        -6.51762468e-01+0.j,  4.07634133e-01+0.j,  0.00000000e+00+0.j,\n",
      "         0.00000000e+00+0.j],\n",
      "       [-6.53281482e-01+0.j, -5.00000000e-01+0.j,  5.00000000e-01+0.j,\n",
      "        -2.70598050e-01+0.j,  0.00000000e+00+0.j,  0.00000000e+00+0.j,\n",
      "        -0.00000000e+00+0.j,  0.00000000e+00+0.j,  0.00000000e+00+0.j,\n",
      "         0.00000000e+00+0.j,  0.00000000e+00+0.j,  0.00000000e+00+0.j,\n",
      "        -0.00000000e+00+0.j,  0.00000000e+00+0.j,  0.00000000e+00+0.j,\n",
      "         0.00000000e+00+0.j],\n",
      "       [ 2.70598050e-01+0.j,  5.00000000e-01-0.j,  5.00000000e-01+0.j,\n",
      "        -6.53281482e-01+0.j,  0.00000000e+00+0.j,  0.00000000e+00+0.j,\n",
      "        -0.00000000e+00+0.j,  0.00000000e+00+0.j,  0.00000000e+00+0.j,\n",
      "         0.00000000e+00+0.j,  0.00000000e+00+0.j,  0.00000000e+00+0.j,\n",
      "        -0.00000000e+00+0.j,  0.00000000e+00+0.j,  0.00000000e+00+0.j,\n",
      "         0.00000000e+00+0.j],\n",
      "       [ 0.00000000e+00+0.j, -0.00000000e+00+0.j,  0.00000000e+00+0.j,\n",
      "        -0.00000000e+00+0.j,  0.00000000e+00+0.j,  0.00000000e+00+0.j,\n",
      "        -0.00000000e+00+0.j,  0.00000000e+00+0.j,  0.00000000e+00+0.j,\n",
      "         0.00000000e+00+0.j,  0.00000000e+00+0.j,  0.00000000e+00+0.j,\n",
      "        -0.00000000e+00+0.j,  0.00000000e+00+0.j,  0.00000000e+00+0.j,\n",
      "         1.00000000e+00+0.j]]))\n"
     ]
    }
   ],
   "source": [
    "print(sr.get_spectrum())"
   ]
  },
  {
   "cell_type": "code",
   "execution_count": 13,
   "id": "61ba7429",
   "metadata": {},
   "outputs": [
    {
     "name": "stdout",
     "output_type": "stream",
     "text": [
      "((-6.464101615137754+0j), array([ 0.00000000e+00+0.j,  4.57830047e-17+0.j, -1.36381435e-16+0.j,\n",
      "       -1.49429245e-01+0.j,  7.86370998e-17+0.j,  5.57677536e-01+0.j,\n",
      "       -4.08248290e-01+0.j,  0.00000000e+00+0.j, -5.59393725e-17+0.j,\n",
      "       -4.08248290e-01+0.j,  5.57677536e-01+0.j,  0.00000000e+00+0.j,\n",
      "       -1.49429245e-01+0.j,  0.00000000e+00+0.j,  0.00000000e+00+0.j,\n",
      "        0.00000000e+00+0.j]))\n"
     ]
    }
   ],
   "source": [
    "print(sr.get_gs())"
   ]
  },
  {
   "cell_type": "code",
   "execution_count": 14,
   "id": "924c85b9",
   "metadata": {},
   "outputs": [
    {
     "data": {
      "text/plain": [
       "[True, True, True]"
      ]
     },
     "execution_count": 14,
     "metadata": {},
     "output_type": "execute_result"
    }
   ],
   "source": [
    "sr.is_real_hamiltonian()"
   ]
  },
  {
   "cell_type": "code",
   "execution_count": 12,
   "id": "19b7b7df",
   "metadata": {},
   "outputs": [],
   "source": [
    "from helpers import *\n",
    "import matplotlib.pyplot as plt\n",
    "plt.style.use('_mpl-gallery')\n",
    "\n",
    "def plot_circle(points, c, r, l):\n",
    "    fig, ax = plt.subplots(figsize=(4,4))\n",
    "\n",
    "    s_x = [s_i[0] for s_i in points]\n",
    "    s_y = [s_i[1] for s_i in points]\n",
    "\n",
    "    pad = 0.3\n",
    "\n",
    "    ax.scatter(s_x, s_y, vmin=0, vmax=100)\n",
    "    ax.set( xlim=(-pad,l-1+pad), xticks=(np.arange(0,l)),\n",
    "            ylim=(-pad,l-1+pad), yticks=(np.arange(0,l)) )\n",
    "\n",
    "    # calculate sphere lines\n",
    "    l_ = (c[0] - r, c[1])\n",
    "\n",
    "    r_ = (c[0] + r, c[1])\n",
    "\n",
    "    u_ = (c[0], c[1] + r)\n",
    "\n",
    "    d_ = (c[0], c[1] - r)\n",
    "\n",
    "    ax.plot(c[0], c[1], 'rs')\n",
    "    ax.plot([l_[0], d_[0]], [l_[1], d_[1]], color='red')\n",
    "    ax.plot([l_[0], u_[0]], [l_[1], u_[1]], color='red')\n",
    "    ax.plot([r_[0], d_[0]], [r_[1], d_[1]], color='red')\n",
    "    ax.plot([r_[0], u_[0]], [r_[1], u_[1]], color='red')\n",
    "\n",
    "    plt.show()"
   ]
  },
  {
   "cell_type": "code",
   "execution_count": 13,
   "id": "636ab9da",
   "metadata": {},
   "outputs": [
    {
     "data": {
      "image/png": "[encoded data removed]",
      "text/plain": [
       "<Figure size 288x288 with 1 Axes>"
      ]
     },
     "metadata": {
      "needs_background": "light"
     },
     "output_type": "display_data"
    }
   ],
   "source": [
    "c=(0.5, 3.5)\n",
    "r=3\n",
    "d=2\n",
    "l=10\n",
    "\n",
    "s = get_m_sphere(c, r, d, l)\n",
    "\n",
    "plot_circle(s, c, r, l)"
   ]
  },
  {
   "cell_type": "code",
   "execution_count": 42,
   "id": "78770188",
   "metadata": {},
   "outputs": [],
   "source": [
    "def get_min_circle(points):\n",
    "    center = get_center(points)\n",
    "    max_dist = 0\n",
    "    for p in points:\n",
    "        if manhattan_dist(p, center) > max_dist:\n",
    "            max_dist = manhattan_dist(p, center)\n",
    "    return center, max_dist"
   ]
  },
  {
   "cell_type": "code",
   "execution_count": 164,
   "id": "42882d42",
   "metadata": {},
   "outputs": [
    {
     "data": {
      "image/png": "[encoded data removed]",
      "text/plain": [
       "<Figure size 288x288 with 1 Axes>"
      ]
     },
     "metadata": {
      "needs_background": "light"
     },
     "output_type": "display_data"
    },
    {
     "name": "stdout",
     "output_type": "stream",
     "text": [
      "center at [5.  5.3]\n",
      "radius: 2.3\n"
     ]
    }
   ],
   "source": [
    "l = 10\n",
    "points = np.random.randint(low=4,high=7, size=(10,2))\n",
    "c, r = get_min_circle(points)\n",
    "plot_circle(points, c, r, l)\n",
    "print('center at', c)\n",
    "print('radius:', r)"
   ]
  },
  {
   "cell_type": "code",
   "execution_count": 81,
   "id": "ec16d730",
   "metadata": {},
   "outputs": [
    {
     "data": {
      "text/plain": [
       "array([[1, 0],\n",
       "       [1, 1],\n",
       "       [1, 1],\n",
       "       [1, 0],\n",
       "       [0, 1],\n",
       "       [1, 1],\n",
       "       [1, 1],\n",
       "       [1, 1],\n",
       "       [1, 1],\n",
       "       [1, 0]])"
      ]
     },
     "execution_count": 81,
     "metadata": {},
     "output_type": "execute_result"
    }
   ],
   "source": [
    "points"
   ]
  },
  {
   "cell_type": "code",
   "execution_count": 65,
   "id": "be61cfa4",
   "metadata": {},
   "outputs": [
    {
     "name": "stdout",
     "output_type": "stream",
     "text": [
      "[[1 0]\n",
      " [1 1]\n",
      " [0 0]\n",
      " [3 0]\n",
      " [2 0]\n",
      " [2 1]\n",
      " [0 0]]\n"
     ]
    }
   ],
   "source": [
    "p2 = np.delete(points, [1,3,5], axis=0)\n",
    "print(p2)"
   ]
  },
  {
   "cell_type": "code",
   "execution_count": 66,
   "id": "b40c8195",
   "metadata": {},
   "outputs": [
    {
     "data": {
      "image/png": "[encoded data removed]",
      "text/plain": [
       "<Figure size 288x288 with 1 Axes>"
      ]
     },
     "metadata": {
      "needs_background": "light"
     },
     "output_type": "display_data"
    },
    {
     "name": "stdout",
     "output_type": "stream",
     "text": [
      "center at [1.28571429 0.28571429]\n",
      "radius: 2.0\n"
     ]
    }
   ],
   "source": [
    "# p2 = np.delete(points, [1,3,5])\n",
    "\n",
    "c, r  = get_min_circle(p2)\n",
    "plot_circle(p2, c, r, l)\n",
    "print('center at', c)\n",
    "print('radius:', r)"
   ]
  },
  {
   "cell_type": "code",
   "execution_count": 195,
   "id": "d6dbda6d",
   "metadata": {},
   "outputs": [],
   "source": [
    "def get_sphere(c, R, d, l):\n",
    "    sphere = []\n",
    "    if type(c) is not tuple:\n",
    "        c = (c,)\n",
    "    lb = max(int(np.ceil(c[0] - R)), 0)\n",
    "    ub = min(int(np.ceil(c[0] + R)), l-1)\n",
    "    for i in np.arange(lb, ub+1, 1):\n",
    "        if d > 1:\n",
    "            # calculate new radius\n",
    "            if i <= c[0]:\n",
    "                r = i - (c[0] - R)\n",
    "            else:\n",
    "                r = R - (i - c[0])\n",
    "\n",
    "            sub_sphere = get_sphere(c[1:], r, d-1, l)\n",
    "            for point in sub_sphere:\n",
    "                sphere.append( (i,) + point )\n",
    "        else:\n",
    "            sphere.append( (i,) )\n",
    "    return sphere"
   ]
  },
  {
   "cell_type": "code",
   "execution_count": 190,
   "id": "de676449",
   "metadata": {},
   "outputs": [
    {
     "data": {
      "text/plain": [
       "True"
      ]
     },
     "execution_count": 190,
     "metadata": {},
     "output_type": "execute_result"
    }
   ],
   "source": [
    "type(3) is not tuple"
   ]
  },
  {
   "cell_type": "code",
   "execution_count": 196,
   "id": "34ff19ea",
   "metadata": {},
   "outputs": [
    {
     "data": {
      "text/plain": [
       "[(1,), (2,), (3,), (4,), (5,)]"
      ]
     },
     "execution_count": 196,
     "metadata": {},
     "output_type": "execute_result"
    }
   ],
   "source": [
    "get_sphere(3, 2, 1, 10)"
   ]
  },
  {
   "cell_type": "code",
   "execution_count": 197,
   "id": "4097168d",
   "metadata": {},
   "outputs": [
    {
     "data": {
      "image/png": "[encoded data removed]",
      "text/plain": [
       "<Figure size 288x288 with 1 Axes>"
      ]
     },
     "metadata": {
      "needs_background": "light"
     },
     "output_type": "display_data"
    }
   ],
   "source": [
    "c = (1, 1)\n",
    "R = 2\n",
    "d = 2\n",
    "l = 3\n",
    "points = get_sphere(c, R, 2, l)\n",
    "plot_circle(points, c, R, l)"
   ]
  },
  {
   "cell_type": "code",
   "execution_count": 182,
   "id": "92985de9",
   "metadata": {},
   "outputs": [
    {
     "data": {
      "text/plain": [
       "[(0, 0), (0, 1), (0, 2), (1, 0), (1, 1), (1, 2), (2, 0), (2, 1), (2, 2)]"
      ]
     },
     "execution_count": 182,
     "metadata": {},
     "output_type": "execute_result"
    }
   ],
   "source": [
    "points"
   ]
  },
  {
   "cell_type": "code",
   "execution_count": 198,
   "id": "b6e29317",
   "metadata": {},
   "outputs": [
    {
     "data": {
      "text/plain": [
       "[(1, 0, 1), (1, 1, 1), (2, 0, 1), (2, 1, 1)]"
      ]
     },
     "execution_count": 198,
     "metadata": {},
     "output_type": "execute_result"
    }
   ],
   "source": [
    "get_sphere((1.5, 0.5, 1), 1, 3, 3)"
   ]
  },
  {
   "cell_type": "code",
   "execution_count": 178,
   "id": "d2f8f337",
   "metadata": {},
   "outputs": [
    {
     "data": {
      "text/plain": [
       "[(1, 0), (1, 1), (2, 0), (2, 1)]"
      ]
     },
     "execution_count": 178,
     "metadata": {},
     "output_type": "execute_result"
    }
   ],
   "source": [
    "points = get_sphere(c, R, 2, l)\n",
    "points"
   ]
  },
  {
   "cell_type": "code",
   "execution_count": 165,
   "id": "ae843cb2",
   "metadata": {},
   "outputs": [
    {
     "data": {
      "text/plain": [
       "(2, 3, 4)"
      ]
     },
     "execution_count": 165,
     "metadata": {},
     "output_type": "execute_result"
    }
   ],
   "source": [
    "a = (1,2,3,4)\n",
    "a[1:]"
   ]
  },
  {
   "cell_type": "code",
   "execution_count": 166,
   "id": "8cac5f72",
   "metadata": {},
   "outputs": [
    {
     "data": {
      "text/plain": [
       "(2,)"
      ]
     },
     "execution_count": 166,
     "metadata": {},
     "output_type": "execute_result"
    }
   ],
   "source": [
    "b = (1,2)\n",
    "b[1:]"
   ]
  },
  {
   "cell_type": "code",
   "execution_count": 168,
   "id": "b257ae6d",
   "metadata": {},
   "outputs": [
    {
     "data": {
      "text/plain": [
       "(1, 2, 3, 4, 1, 2, 4, 5)"
      ]
     },
     "execution_count": 168,
     "metadata": {},
     "output_type": "execute_result"
    }
   ],
   "source": [
    "a+b+(4,5)"
   ]
  }
 ],
 "metadata": {
  "kernelspec": {
   "display_name": "Python 3 (ipykernel)",
   "language": "python",
   "name": "python3"
  },
  "language_info": {
   "codemirror_mode": {
    "name": "ipython",
    "version": 3
   },
   "file_extension": ".py",
   "mimetype": "text/x-python",
   "name": "python",
   "nbconvert_exporter": "python",
   "pygments_lexer": "ipython3",
   "version": "3.10.0"
  }
 },
 "nbformat": 4,
 "nbformat_minor": 5
}
