{
 "cells": [
  {
   "cell_type": "code",
   "execution_count": 102,
   "id": "7485385c",
   "metadata": {},
   "outputs": [],
   "source": [
    "import numpy as np\n",
    "def foo(M, t):\n",
    "    w,V = np.linalg.eig(M)\n",
    "    e = V @ np.diag(np.exp(w*t)) @ np.linalg.inv(V)\n",
    "    phi = e[:,0]\n",
    "    return phi/np.linalg.norm(phi)"
   ]
  },
  {
   "cell_type": "code",
   "execution_count": 96,
   "id": "2937910e",
   "metadata": {},
   "outputs": [
    {
     "name": "stdout",
     "output_type": "stream",
     "text": [
      "Performing Hamiltonian precalculations...\n",
      "\tCalculating Unitary Domains... Done\n",
      "\tCalculating Required Pauli Measurements... Done\n"
     ]
    },
    {
     "data": {
      "text/plain": [
       "array([-1.22124549+1.02299032e-17j,  0.94600312+7.88528830e-17j])"
      ]
     },
     "execution_count": 96,
     "metadata": {},
     "output_type": "execute_result"
    }
   ],
   "source": [
    "from ideal_qite import *\n",
    "from hamiltonians import *\n",
    "from qiskit import Aer\n",
    "\n",
    "f_ = 2\n",
    "\n",
    "hm_list = [\n",
    "    [[2], [1], [0]],\n",
    "#    [[1,3], [1,1], [(1,1)]],\n",
    "#    [[1,3], [1,1], [(0,0),(1,0)]],\n",
    "]\n",
    "d=1\n",
    "l=1\n",
    "qmap = {(0,0): 0, (0,1):1, (1,0): 2,  (1,1):3}\n",
    "H = Hamiltonian(hm_list, d, l)#, qmap)\n",
    "# H.multiply_scalar(1j)\n",
    "D = 0\n",
    "\n",
    "db = 0.1\n",
    "delta = 0.0\n",
    "N = 50\n",
    "num_shots=0\n",
    "backend = Aer.get_backend('statevector_simulator')\n",
    "\n",
    "\n",
    "from qite_params import QITE_params\n",
    "\n",
    "params = QITE_params(H)\n",
    "params.load_hamiltonian_params(D, False)\n",
    "params.set_run_params(db, delta, N, num_shots, backend)#, init_sv=[np.sqrt(0.5)]*2)\n",
    "\n",
    "def foo(M, t):\n",
    "    w,V = np.linalg.eig(M)\n",
    "    e = V @ np.diag(np.exp(w*t)) @ np.linalg.inv(V)\n",
    "    return e[:,0]\n",
    "\n",
    "foo(m, 1)"
   ]
  },
  {
   "cell_type": "code",
   "execution_count": 97,
   "id": "a2d48173",
   "metadata": {},
   "outputs": [
    {
     "name": "stdout",
     "output_type": "stream",
     "text": [
      "Starting Ideal QITE Simulation:\n",
      "Iteration 1... Done -- Iteration time = 0.06 seconds\n",
      "Iteration 2... Done -- Iteration time = 0.05 seconds\n",
      "Iteration 3... Done -- Iteration time = 0.07 seconds\n",
      "Iteration 4... Done -- Iteration time = 0.05 seconds\n",
      "Iteration 5... Done -- Iteration time = 0.05 seconds\n",
      "Iteration 6... Done -- Iteration time = 0.05 seconds\n",
      "Iteration 7... Done -- Iteration time = 0.05 seconds\n",
      "Iteration 8... Done -- Iteration time = 0.05 seconds\n",
      "Iteration 9... Done -- Iteration time = 0.05 seconds\n",
      "Iteration 10... Done -- Iteration time = 0.04 seconds\n",
      "Iteration 11... Done -- Iteration time = 0.05 seconds\n",
      "Iteration 12... Done -- Iteration time = 0.04 seconds\n",
      "Iteration 13... Done -- Iteration time = 0.05 seconds\n",
      "Iteration 14... Done -- Iteration time = 0.05 seconds\n",
      "Iteration 15... Done -- Iteration time = 0.05 seconds\n",
      "Iteration 16... Done -- Iteration time = 0.04 seconds\n",
      "Iteration 17... Done -- Iteration time = 0.04 seconds\n",
      "Iteration 18... Done -- Iteration time = 0.05 seconds\n",
      "Iteration 19... Done -- Iteration time = 0.05 seconds\n",
      "Iteration 20... Done -- Iteration time = 0.05 seconds\n",
      "Iteration 21... Done -- Iteration time = 0.04 seconds\n",
      "Iteration 22... Done -- Iteration time = 0.05 seconds\n",
      "Iteration 23... Done -- Iteration time = 0.04 seconds\n",
      "Iteration 24... Done -- Iteration time = 0.05 seconds\n",
      "Iteration 25... Done -- Iteration time = 0.05 seconds\n",
      "Iteration 26... Done -- Iteration time = 0.05 seconds\n",
      "Iteration 27... Done -- Iteration time = 0.04 seconds\n",
      "Iteration 28... Done -- Iteration time = 0.04 seconds\n",
      "Iteration 29... Done -- Iteration time = 0.05 seconds\n",
      "Iteration 30... Done -- Iteration time = 0.05 seconds\n",
      "Iteration 31... Done -- Iteration time = 0.05 seconds\n",
      "Iteration 32... Done -- Iteration time = 0.05 seconds\n",
      "Iteration 33... Done -- Iteration time = 0.06 seconds\n",
      "Iteration 34... Done -- Iteration time = 0.05 seconds\n",
      "Iteration 35... Done -- Iteration time = 0.06 seconds\n",
      "Iteration 36... Done -- Iteration time = 0.06 seconds\n",
      "Iteration 37... Done -- Iteration time = 0.05 seconds\n",
      "Iteration 38... Done -- Iteration time = 0.07 seconds\n",
      "Iteration 39... Done -- Iteration time = 0.05 seconds\n",
      "Iteration 40... Done -- Iteration time = 0.05 seconds\n",
      "Iteration 41... Done -- Iteration time = 0.05 seconds\n",
      "Iteration 42... Done -- Iteration time = 0.05 seconds\n",
      "Iteration 43... Done -- Iteration time = 0.05 seconds\n",
      "Iteration 44... Done -- Iteration time = 0.05 seconds\n",
      "Iteration 45... Done -- Iteration time = 0.04 seconds\n",
      "Iteration 46... Done -- Iteration time = 0.05 seconds\n",
      "Iteration 47... Done -- Iteration time = 0.05 seconds\n",
      "Iteration 48... Done -- Iteration time = 0.05 seconds\n",
      "Iteration 49... Done -- Iteration time = 0.05 seconds\n",
      "Iteration 50... Done -- Iteration time = 0.05 seconds\n"
     ]
    }
   ],
   "source": [
    "E,times, svs, alist = qite(params)"
   ]
  },
  {
   "cell_type": "code",
   "execution_count": 105,
   "id": "cb1e9f17",
   "metadata": {},
   "outputs": [
    {
     "data": {
      "image/png": "[encoded data removed]",
      "text/plain": [
       "<Figure size 720x288 with 2 Axes>"
      ]
     },
     "metadata": {
      "needs_background": "light"
     },
     "output_type": "display_data"
    }
   ],
   "source": [
    "import matplotlib.pyplot as plt\n",
    "f = plt.figure(figsize=(10,4))\n",
    "axs = [f.add_subplot(121), f.add_subplot(122)]\n",
    "t = np.arange(0,N+1,1)*db\n",
    "re = np.real(svs)\n",
    "im = np.imag(svs)\n",
    "\n",
    "theory = np.zeros( (N+1,2), dtype=complex )\n",
    "for i in range(N+1):\n",
    "    theory[i,:] = foo(H.get_matrix(), i*db)\n",
    "\n",
    "axs[0].plot(t,re[:,0],'ro-', label='|0>')\n",
    "axs[0].plot(t,re[:,1],'bo-', label='|1>')\n",
    "\n",
    "axs[0].plot(t, np.real(theory[:,0]), 'r--', label='theory |0>' )\n",
    "axs[0].plot(t, np.real(theory[:,1]), 'b--', label='theory |0>' )\n",
    "\n",
    "# axs[0].plot(t, csh, 'r--', label='theory')\n",
    "\n",
    "# axs[0].axhline(y=np.sqrt(0.5))\n",
    "# axs[0].axhline(y=-np.sqrt(0.5))\n",
    "\n",
    "# axs[0].plot(t,np.cos(f_*t)*np.sqrt(0.5), 'r--', label='cos(ft)')\n",
    "# axs[0].plot(t,-np.sin(2*f_*t), 'b--', label='-sin(2ft)')\n",
    "# axs[0].plot(t,np.cos(2*f_*t), 'g--', label='cos(2ft)')\n",
    "axs[1].plot(t,im[:,0],'ro-', label='|0>')\n",
    "axs[1].plot(t,im[:,1],'bo-', label='|1>')\n",
    "\n",
    "axs[1].plot(t, np.imag(theory[:,0]), 'r--', label='theory |0>' )\n",
    "axs[1].plot(t, np.imag(theory[:,1]), 'b--', label='theory |0>' )\n",
    "\n",
    "# axs[1].plot(t, snh, 'b--', label='theory')\n",
    "\n",
    "# axs[1].plot(t,np.sin(f_*t), 'b--', label='sin(ft)')\n",
    "# axs[1].plot(t,np.sin(2*f_*t), 'g--', label='sin(2ft)')\n",
    "\n",
    "axs[0].set_ylim(-1.5,1.5)\n",
    "axs[1].set_ylim(-1.5,1.5)\n",
    "\n",
    "axs[0].title.set_text('Real Part')\n",
    "axs[1].title.set_text('Imaginary Part')\n",
    "\n",
    "\n",
    "# axs[0].legend(loc='best')\n",
    "# axs[1].legend(loc='best')\n",
    "\n",
    "axs[0].grid()\n",
    "axs[1].grid()\n",
    "\n",
    "f.suptitle('Amplitudes during evolution', fontsize=16)\n",
    "f.tight_layout()\n",
    "plt.show()"
   ]
  },
  {
   "cell_type": "code",
   "execution_count": 103,
   "id": "da426512",
   "metadata": {},
   "outputs": [
    {
     "data": {
      "text/plain": [
       "array([[0.+0.j, 0.-1.j],\n",
       "       [0.+1.j, 0.+0.j]])"
      ]
     },
     "execution_count": 103,
     "metadata": {},
     "output_type": "execute_result"
    }
   ],
   "source": [
    "H.get_matrix()"
   ]
  },
  {
   "cell_type": "code",
   "execution_count": 104,
   "id": "a21ece33",
   "metadata": {},
   "outputs": [
    {
     "data": {
      "text/plain": [
       "array([0.79555082+0.j        , 0.        +0.60588686j])"
      ]
     },
     "execution_count": 104,
     "metadata": {},
     "output_type": "execute_result"
    }
   ],
   "source": [
    "foo(H.get_matrix(), 1)"
   ]
  },
  {
   "cell_type": "code",
   "execution_count": null,
   "id": "0693ab34",
   "metadata": {},
   "outputs": [],
   "source": []
  }
 ],
 "metadata": {
  "kernelspec": {
   "display_name": "Python 3 (ipykernel)",
   "language": "python",
   "name": "python3"
  },
  "language_info": {
   "codemirror_mode": {
    "name": "ipython",
    "version": 3
   },
   "file_extension": ".py",
   "mimetype": "text/x-python",
   "name": "python",
   "nbconvert_exporter": "python",
   "pygments_lexer": "ipython3",
   "version": "3.10.0"
  }
 },
 "nbformat": 4,
 "nbformat_minor": 5
}
