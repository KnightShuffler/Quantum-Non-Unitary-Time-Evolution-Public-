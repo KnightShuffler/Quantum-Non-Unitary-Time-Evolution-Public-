{
 "cells": [
  {
   "cell_type": "code",
   "execution_count": 1,
   "id": "9b7e6f85",
   "metadata": {},
   "outputs": [],
   "source": [
    "from taylor_qnute import qnute\n",
    "from hamiltonians import Hamiltonian\n",
    "from qnute_params import QNUTE_params\n",
    "import numpy as np"
   ]
  },
  {
   "cell_type": "code",
   "execution_count": 2,
   "id": "c5f8a4b4",
   "metadata": {},
   "outputs": [
    {
     "name": "stdout",
     "output_type": "stream",
     "text": [
      "Performing Hamiltonian precalculations...\n",
      "\tCalculating Unitary Domains... Done\n",
      "Done\n"
     ]
    }
   ],
   "source": [
    "d=2\n",
    "l=2\n",
    "amps = np.random.uniform(-1,1,4) + 1j* np.random.uniform(-1,1,4)\n",
    "hm_list = [\n",
    "    [ [0,1,2,3], amps, [(0,1)] ]\n",
    "]\n",
    "qbit_map = { (0,0):0, (0,1):1, (1,0):2, (1,1):3 }\n",
    "H = Hamiltonian(hm_list, d, l, qbit_map)\n",
    "\n",
    "params = QNUTE_params(H)\n",
    "\n",
    "db = 0.1\n",
    "delta = 0.1\n",
    "N = 2\n",
    "num_shots = 0\n",
    "backend = None\n",
    "psi0 = np.zeros( 2**4 , dtype=complex )\n",
    "psi0[0] = 1\n",
    "\n",
    "D = 0\n",
    "\n",
    "params.set_run_params(db, delta, N, num_shots, backend, init_sv=psi0)\n",
    "params.load_hamiltonian_params(D, reduce_dim=False, load_measurements=False)"
   ]
  },
  {
   "cell_type": "code",
   "execution_count": 3,
   "id": "cf629dc8",
   "metadata": {},
   "outputs": [
    {
     "name": "stdout",
     "output_type": "stream",
     "text": [
      "Iteration 1... Done -- Iteration time = 0.00 seconds\n",
      "Iteration 2... Done -- Iteration time = 0.01 seconds\n"
     ]
    },
    {
     "data": {
      "text/plain": [
       "(array([0.        , 0.00398827, 0.00501752]),\n",
       " array([[1.        +0.j        , 0.        +0.j        ,\n",
       "         0.        +0.j        , 0.        +0.j        ,\n",
       "         0.        +0.j        , 0.        +0.j        ,\n",
       "         0.        +0.j        , 0.        +0.j        ,\n",
       "         0.        +0.j        , 0.        +0.j        ,\n",
       "         0.        +0.j        , 0.        +0.j        ,\n",
       "         0.        +0.j        , 0.        +0.j        ,\n",
       "         0.        +0.j        , 0.        +0.j        ],\n",
       "        [0.98097589-0.08432278j, 0.        +0.j        ,\n",
       "         0.08667141+0.15186918j, 0.        +0.j        ,\n",
       "         0.        +0.j        , 0.        +0.j        ,\n",
       "         0.        +0.j        , 0.        +0.j        ,\n",
       "         0.        +0.j        , 0.        +0.j        ,\n",
       "         0.        +0.j        , 0.        +0.j        ,\n",
       "         0.        +0.j        , 0.        +0.j        ,\n",
       "         0.        +0.j        , 0.        +0.j        ],\n",
       "        [0.92443762-0.13521873j, 0.        +0.j        ,\n",
       "         0.19512447+0.2984256j , 0.        +0.j        ,\n",
       "         0.        +0.j        , 0.        +0.j        ,\n",
       "         0.        +0.j        , 0.        +0.j        ,\n",
       "         0.        +0.j        , 0.        +0.j        ,\n",
       "         0.        +0.j        , 0.        +0.j        ,\n",
       "         0.        +0.j        , 0.        +0.j        ,\n",
       "         0.        +0.j        , 0.        +0.j        ]]),\n",
       " [array([ 0.42651234+0.j, -1.56277686+0.j,  0.8055594 +0.j,  0.42651234+0.j]),\n",
       "  array([ 0.29599872+0.j, -1.64704555+0.j,  0.93530544+0.j,  0.25726411+0.j])],\n",
       " [array([[1.+0.j, 0.-0.j, 0.-0.j, 1.-0.j],\n",
       "         [0.+0.j, 1.+0.j, 0.+1.j, 0.-0.j],\n",
       "         [0.+0.j, 0.-1.j, 1.+0.j, 0.-0.j],\n",
       "         [1.+0.j, 0.+0.j, 0.+0.j, 1.+0.j]]),\n",
       "  array([[1.        +0.j        , 0.14443306-0.j        ,\n",
       "          0.31257677-0.j        , 0.93884785-0.j        ],\n",
       "         [0.14443306+0.j        , 1.        +0.j        ,\n",
       "          0.        +0.93884785j, 0.        -0.31257677j],\n",
       "         [0.31257677+0.j        , 0.        -0.93884785j,\n",
       "          1.        +0.j        , 0.        +0.14443306j],\n",
       "         [0.93884785+0.j        , 0.        +0.31257677j,\n",
       "          0.        -0.14443306j, 1.        +0.j        ]])],\n",
       " [array([-1.70604936+0.j,  3.12555372+0.j, -1.61111879+0.j, -1.70604936+0.j]),\n",
       "  array([-1.18399501+0.j,  3.20858709+0.j, -2.05565553+0.j, -1.07032375+0.j])])"
      ]
     },
     "execution_count": 3,
     "metadata": {},
     "output_type": "execute_result"
    }
   ],
   "source": [
    "qnute(params, logging=True)"
   ]
  },
  {
   "cell_type": "code",
   "execution_count": 7,
   "id": "fb8b9231",
   "metadata": {},
   "outputs": [
    {
     "name": "stdout",
     "output_type": "stream",
     "text": [
      "[0]\n"
     ]
    }
   ],
   "source": [
    "hm = hm_list[0]\n",
    "nactive = len(hm[2])\n",
    "active = []\n",
    "for t in range(nactive):\n",
    "    active.append( H.map[hm[2][t]] )\n",
    "print(active)"
   ]
  }
 ],
 "metadata": {
  "kernelspec": {
   "display_name": "Python 3 (ipykernel)",
   "language": "python",
   "name": "python3"
  },
  "language_info": {
   "codemirror_mode": {
    "name": "ipython",
    "version": 3
   },
   "file_extension": ".py",
   "mimetype": "text/x-python",
   "name": "python",
   "nbconvert_exporter": "python",
   "pygments_lexer": "ipython3",
   "version": "3.10.0"
  }
 },
 "nbformat": 4,
 "nbformat_minor": 5
}
