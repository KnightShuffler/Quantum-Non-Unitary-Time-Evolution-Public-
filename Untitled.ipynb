{
 "cells": [
  {
   "cell_type": "code",
   "execution_count": 1,
   "id": "ccc5e601",
   "metadata": {},
   "outputs": [],
   "source": [
    "import hamiltonians"
   ]
  },
  {
   "cell_type": "code",
   "execution_count": 2,
   "id": "24fe5197",
   "metadata": {},
   "outputs": [],
   "source": [
    "hm_list = hamiltonians.short_range_heisenberg(6,[1,1,1],0)"
   ]
  },
  {
   "cell_type": "code",
   "execution_count": 4,
   "id": "e92cfaf8",
   "metadata": {},
   "outputs": [],
   "source": [
    "rt_flags = hamiltonians.is_real_hamiltonian(hm_list)"
   ]
  },
  {
   "cell_type": "code",
   "execution_count": 6,
   "id": "7a65ef70",
   "metadata": {},
   "outputs": [],
   "source": [
    "nterms = len(hm_list)"
   ]
  },
  {
   "cell_type": "code",
   "execution_count": 8,
   "id": "0bdd257b",
   "metadata": {},
   "outputs": [
    {
     "data": {
      "text/plain": [
       "True"
      ]
     },
     "execution_count": 8,
     "metadata": {},
     "output_type": "execute_result"
    }
   ],
   "source": [
    "len(rt_flags)== nterms"
   ]
  },
  {
   "cell_type": "code",
   "execution_count": 12,
   "id": "8f799118",
   "metadata": {},
   "outputs": [],
   "source": [
    "odd_y_strings = {}\n",
    "D = 2\n",
    "nbits = 6\n",
    "domains = []\n",
    "\n",
    "def domain_size(qbits):\n",
    "        return max(qbits) - min(qbits) + 1\n",
    "\n",
    "def get_extended_domain(active, D, nbits):\n",
    "        '''\n",
    "        Returns a list of the extended domain of a k-local Hamiltonian term hm\n",
    "        with a domain size D, and nbits qubits in a linear topology\n",
    "        \n",
    "        Note: D must be greater than the range of the hamiltonian term\n",
    "        '''\n",
    "        if domain_size(active) % 2 != D % 2:\n",
    "            D -= 1\n",
    "        radius = D//2\n",
    "        center = (min(active) + max(active)) // 2\n",
    "        _max = min(center + radius + 1, nbits)\n",
    "        _min = max(center + radius - D + 1, 0)\n",
    "        return list(range(_min,_max))\n",
    "\n",
    "if D != nbits:\n",
    "    for hm in hm_list:\n",
    "        domains.append(get_extended_domain(hm[2], D, nbits))\n",
    "else:\n",
    "    domains = [list(range(0,nbits))] * self.nterms\n",
    "    \n",
    "for m in range(nterms):\n",
    "    if rt_flags[m]:\n",
    "        odd_y_strings[len(domains[m])] = None\n",
    "\n",
    "from helpers import *\n",
    "for y_len in odd_y_strings.keys():\n",
    "    odd_y_strings[y_len] = odd_y_pauli_strings(y_len)"
   ]
  },
  {
   "cell_type": "code",
   "execution_count": 13,
   "id": "26063cee",
   "metadata": {},
   "outputs": [
    {
     "data": {
      "text/plain": [
       "dict_keys([2])"
      ]
     },
     "execution_count": 13,
     "metadata": {},
     "output_type": "execute_result"
    }
   ],
   "source": [
    "odd_y_strings.keys()"
   ]
  },
  {
   "cell_type": "code",
   "execution_count": 14,
   "id": "e6a578eb",
   "metadata": {},
   "outputs": [
    {
     "data": {
      "text/plain": [
       "[2, 6, 8, 9, 11, 14]"
      ]
     },
     "execution_count": 14,
     "metadata": {},
     "output_type": "execute_result"
    }
   ],
   "source": [
    "odd_y_strings[2]"
   ]
  },
  {
   "cell_type": "code",
   "execution_count": 15,
   "id": "d7a78b05",
   "metadata": {},
   "outputs": [
    {
     "name": "stdout",
     "output_type": "stream",
     "text": [
      "[2, 6, 8, 9, 11, 14]\n",
      "[2, 6, 8, 9, 11, 14]\n",
      "[2, 6, 8, 9, 11, 14]\n",
      "[2, 6, 8, 9, 11, 14]\n",
      "[2, 6, 8, 9, 11, 14]\n"
     ]
    }
   ],
   "source": [
    "for m in range(nterms):\n",
    "    ndomain = len(domains[m])\n",
    "    domain_ops = odd_y_strings[ndomain] if rt_flags[m] else list(range(4**ndomain))\n",
    "    print(domain_ops)"
   ]
  },
  {
   "cell_type": "code",
   "execution_count": 16,
   "id": "bda21336",
   "metadata": {},
   "outputs": [
    {
     "name": "stdout",
     "output_type": "stream",
     "text": [
      "No module named 'cupy'\n",
      "cupy could not be imported\n"
     ]
    }
   ],
   "source": [
    "try:\n",
    "    import cupy\n",
    "except ImportError as e:\n",
    "    print(e)\n",
    "    print('cupy could not be imported')"
   ]
  },
  {
   "cell_type": "code",
   "execution_count": null,
   "id": "9b7e6f85",
   "metadata": {},
   "outputs": [],
   "source": []
  }
 ],
 "metadata": {
  "kernelspec": {
   "display_name": "Python 3 (ipykernel)",
   "language": "python",
   "name": "python3"
  },
  "language_info": {
   "codemirror_mode": {
    "name": "ipython",
    "version": 3
   },
   "file_extension": ".py",
   "mimetype": "text/x-python",
   "name": "python",
   "nbconvert_exporter": "python",
   "pygments_lexer": "ipython3",
   "version": "3.10.0"
  }
 },
 "nbformat": 4,
 "nbformat_minor": 5
}
