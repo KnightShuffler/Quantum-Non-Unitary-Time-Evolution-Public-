{
 "cells": [
  {
   "cell_type": "code",
   "execution_count": 209,
   "id": "d186df88",
   "metadata": {},
   "outputs": [],
   "source": [
    "import numpy as np\n",
    "from hamiltonians import *\n",
    "from helpers import *\n",
    "from qite_params import QITE_params"
   ]
  },
  {
   "cell_type": "code",
   "execution_count": 228,
   "id": "e4f57d1f",
   "metadata": {},
   "outputs": [],
   "source": [
    "import time\n",
    "\n",
    "def get_term_matrix(H, term):\n",
    "    return Hamiltonian([H.hm_list[term]], H.d, H.l).get_matrix()\n",
    "\n",
    "TOLERANCE = 1e-8\n",
    "\n",
    "def exp_mat_psi(mat, psi):\n",
    "    chi = psi.copy()\n",
    "    phi = psi.copy()\n",
    "    i = 1\n",
    "    while np.linalg.norm(chi) > TOLERANCE:\n",
    "        chi = db/i * (mat @ chi)\n",
    "        phi += chi\n",
    "        i += 1\n",
    "    return phi\n",
    "\n",
    "def get_delta0(term, psi):\n",
    "    delta0 = exp_mat_psi( get_term_matrix(H, term), psi )\n",
    "    c = np.linalg.norm(delta0)\n",
    "    delta0 /= c\n",
    "    \n",
    "    delta0 -= psi\n",
    "    delta0 /= db\n",
    "    \n",
    "    return delta0, c\n",
    "\n",
    "def update_alist(params, psi, alist, term):\n",
    "    nactive = len(hm_list[term][2])\n",
    "    nops = 4**nactive\n",
    "    S = np.zeros((nops, nops), dtype=complex)\n",
    "    b = np.zeros(nops, dtype=float)\n",
    "    norm = 1\n",
    "    \n",
    "    for i in range(nops):\n",
    "        # Calculate S[i,:] terms\n",
    "        for j in range(0,i,1):\n",
    "            p_, c_ = pauli_string_prod(i, j, nactive)\n",
    "            pstring = int_to_base(p_, 4, nactive)\n",
    "            P = sigma_matrices[pstring[0]]\n",
    "            for k in range(1,nactive):\n",
    "                P = np.kron(pstring[k], P) # Rightmost term is index 0\n",
    "            \n",
    "            S[i,j] = np.vdot(psi, P @ psi) * c_\n",
    "            S[j,i] = S[i,j].conjugate()\n",
    "        S[i,i] = 1.0\n",
    "        \n",
    "        # Calculate b[i]\n",
    "        istring = int_to_base(i, 4, nactive)\n",
    "        I = sigma_matrices[istring[0]]\n",
    "        for k in range(1,nactive):\n",
    "            I = np.kron(sigma_matrices[istring[k]], I)\n",
    "        \n",
    "        delta0, c = get_delta0(term, psi)\n",
    "        b[i] = 2*np.real(np.vdot(delta0, I @ psi))\n",
    "        norm *= c\n",
    "    \n",
    "    a = np.linalg.lstsq(np.real(S).astype(float), b, rcond=-1)[0]\n",
    "    alist.append(a)\n",
    "    \n",
    "    return S, b, norm\n",
    "\n",
    "def qite_step(params, psi0):\n",
    "    psi = psi0.copy()\n",
    "    alist = []\n",
    "    S_list = []\n",
    "    b_list = []\n",
    "    norm = 1\n",
    "    for i in range(H.num_terms):\n",
    "        S, b, c = update_alist(params, psi, alist, i)\n",
    "        S_list.append(S)\n",
    "        b_list.append(b)\n",
    "        norm *= c\n",
    "        a = alist[i]\n",
    "        nactive = len(H.hm_list[i][2])\n",
    "        nops = len(a)\n",
    "        A = np.zeros((2**nactive, 2**nactive), dtype=complex)\n",
    "        for i in range(nops):\n",
    "            istring = int_to_base(i, 4, nactive)\n",
    "            I = sigma_matrices[istring[0]]\n",
    "            for k in range(1,nactive):\n",
    "                I = np.kron(sigma_matrices[istring[k]], I)\n",
    "            A += a[i] * I\n",
    "        \n",
    "        psi = exp_mat_psi( -1j*A*db , psi )\n",
    "    \n",
    "    return psi, alist, S_list, b_list, norm"
   ]
  },
  {
   "cell_type": "code",
   "execution_count": 230,
   "id": "5c44d570",
   "metadata": {},
   "outputs": [
    {
     "data": {
      "text/plain": [
       "array([ 2.22044605e-16, -2.22044605e-16,  0.00000000e+00,  2.22044605e-16])"
      ]
     },
     "execution_count": 230,
     "metadata": {},
     "output_type": "execute_result"
    }
   ],
   "source": [
    "psi, al, sl, bl, c = qite_step(params, psi0)\n",
    "\n",
    "np.real(sl[0])@al[0] - bl[0]"
   ]
  },
  {
   "cell_type": "code",
   "execution_count": 231,
   "id": "3fc42a5b",
   "metadata": {},
   "outputs": [
    {
     "name": "stdout",
     "output_type": "stream",
     "text": [
      "[[0.+0.j 1.+0.j]\n",
      " [1.+0.j 0.+0.j]]\n",
      "Performing Hamiltonian precalculations...\n",
      "\tCalculating Unitary Domains... Done\n",
      "\tCalculating Required Pauli Measurements... Done\n",
      "Iteration 1... Done -- Iteration time = 0.00 seconds\n",
      "Iteration 2... Done -- Iteration time = 0.00 seconds\n",
      "Iteration 3... Done -- Iteration time = 0.00 seconds\n",
      "Iteration 4... Done -- Iteration time = 0.00 seconds\n",
      "Iteration 5... Done -- Iteration time = 0.00 seconds\n",
      "Iteration 6... Done -- Iteration time = 0.00 seconds\n",
      "Iteration 7... Done -- Iteration time = 0.00 seconds\n",
      "Iteration 8... Done -- Iteration time = 0.00 seconds\n",
      "Iteration 9... Done -- Iteration time = 0.00 seconds\n",
      "Iteration 10... Done -- Iteration time = 0.00 seconds\n",
      "Iteration 11... Done -- Iteration time = 0.00 seconds\n",
      "Iteration 12... Done -- Iteration time = 0.00 seconds\n",
      "Iteration 13... Done -- Iteration time = 0.00 seconds\n",
      "Iteration 14... Done -- Iteration time = 0.00 seconds\n",
      "Iteration 15... Done -- Iteration time = 0.00 seconds\n",
      "Iteration 16... Done -- Iteration time = 0.00 seconds\n",
      "Iteration 17... Done -- Iteration time = 0.00 seconds\n",
      "Iteration 18... Done -- Iteration time = 0.00 seconds\n",
      "Iteration 19... Done -- Iteration time = 0.00 seconds\n",
      "Iteration 20... Done -- Iteration time = 0.00 seconds\n"
     ]
    }
   ],
   "source": [
    "hm_list = [\n",
    "    [ [1], [1.0], [0] ]\n",
    "]\n",
    "d = 1\n",
    "l = 1\n",
    "H = Hamiltonian(hm_list, d, l)\n",
    "H_mat = H.get_matrix()\n",
    "print(H_mat)\n",
    "\n",
    "db = 0.1\n",
    "delta = 0.0\n",
    "N = 20\n",
    "D = 0\n",
    "nbits = H.nbits\n",
    "\n",
    "psi0 = np.array([1,0], dtype=complex)\n",
    "\n",
    "params = QITE_params(H)\n",
    "params.load_hamiltonian_params(D, False)\n",
    "params.set_run_params(db, delta, N, None, None, init_sv = psi0)\n",
    "\n",
    "svs = np.zeros((N+1, 2**nbits), dtype=complex)\n",
    "alist = []\n",
    "S_list = []\n",
    "b_list = []\n",
    "c_list = []\n",
    "svs[0] = psi0\n",
    "\n",
    "for i in range(1, N+1):\n",
    "    print('Iteration {}...'.format(i),end=' ', flush=True)\n",
    "    t0 = time.time()\n",
    "    \n",
    "    psi, n_a, n_S, n_b, c = qite_step(params, svs[i-1])\n",
    "    svs[i] = psi\n",
    "    alist += n_a\n",
    "    S_list += n_S\n",
    "    b_list += n_b\n",
    "    c_list.append(c)\n",
    "    \n",
    "    t1 = time.time()\n",
    "    duration = t1 - t0\n",
    "    print('Done -- Iteration time = {:0.2f} {}'.format(duration if duration < 60 else duration/60, 'seconds' if duration < 60 else 'minutes'))"
   ]
  },
  {
   "cell_type": "code",
   "execution_count": 232,
   "id": "122ecc58",
   "metadata": {},
   "outputs": [
    {
     "data": {
      "image/png": "[encoded data removed]",
      "text/plain": [
       "<Figure size 720x288 with 2 Axes>"
      ]
     },
     "metadata": {
      "needs_background": "light"
     },
     "output_type": "display_data"
    }
   ],
   "source": [
    "def foo(M, t):\n",
    "    w,V = np.linalg.eig(M)\n",
    "    e = V @ np.diag(np.exp(w*t)) @ np.linalg.inv(V)\n",
    "    phi = e[:,0]\n",
    "    return phi/np.linalg.norm(phi)\n",
    "\n",
    "import matplotlib.pyplot as plt\n",
    "f = plt.figure(figsize=(10,4))\n",
    "axs = [f.add_subplot(121), f.add_subplot(122)]\n",
    "t = np.arange(0,N+1,1)*db\n",
    "re = np.real(svs)\n",
    "im = np.imag(svs)\n",
    "\n",
    "theory = np.zeros( (N+1,2), dtype=complex )\n",
    "for i in range(N+1):\n",
    "    theory[i,:] = foo(H.get_matrix(), i*db)\n",
    "\n",
    "axs[0].plot(t,re[:,0],'ro-', label='|0>')\n",
    "axs[0].plot(t,re[:,1],'bo-', label='|1>')\n",
    "\n",
    "axs[0].plot(t, np.real(theory[:,0]), 'r--', label='theory |0>' )\n",
    "axs[0].plot(t, np.real(theory[:,1]), 'b--', label='theory |0>' )\n",
    "\n",
    "# axs[0].plot(t, csh, 'r--', label='theory')\n",
    "\n",
    "# axs[0].axhline(y=np.sqrt(0.5))\n",
    "# axs[0].axhline(y=-np.sqrt(0.5))\n",
    "\n",
    "# axs[0].plot(t,np.cos(f_*t)*np.sqrt(0.5), 'r--', label='cos(ft)')\n",
    "# axs[0].plot(t,-np.sin(2*f_*t), 'b--', label='-sin(2ft)')\n",
    "# axs[0].plot(t,np.cos(2*f_*t), 'g--', label='cos(2ft)')\n",
    "axs[1].plot(t,im[:,0],'ro-', label='|0>')\n",
    "axs[1].plot(t,im[:,1],'bo-', label='|1>')\n",
    "\n",
    "axs[1].plot(t, np.imag(theory[:,0]), 'r--', label='theory |0>' )\n",
    "axs[1].plot(t, np.imag(theory[:,1]), 'b--', label='theory |0>' )\n",
    "\n",
    "# axs[1].plot(t, snh, 'b--', label='theory')\n",
    "\n",
    "# axs[1].plot(t,np.sin(f_*t), 'b--', label='sin(ft)')\n",
    "# axs[1].plot(t,np.sin(2*f_*t), 'g--', label='sin(2ft)')\n",
    "\n",
    "axs[0].set_ylim(-1.5,1.5)\n",
    "axs[1].set_ylim(-1.5,1.5)\n",
    "\n",
    "axs[0].title.set_text('Real Part')\n",
    "axs[1].title.set_text('Imaginary Part')\n",
    "\n",
    "\n",
    "axs[0].legend(loc='best')\n",
    "# axs[1].legend(loc='best')\n",
    "\n",
    "axs[0].grid()\n",
    "axs[1].grid()\n",
    "\n",
    "f.suptitle('Amplitudes during evolution', fontsize=16)\n",
    "f.tight_layout()\n",
    "plt.show()"
   ]
  },
  {
   "cell_type": "code",
   "execution_count": 225,
   "id": "a8bbea84",
   "metadata": {},
   "outputs": [
    {
     "data": {
      "text/plain": [
       "array([[1.        +0.j        , 0.        +0.j        ],\n",
       "       [0.99999988+0.00049302j, 0.        +0.j        ],\n",
       "       [0.99999966+0.00082578j, 0.        +0.j        ],\n",
       "       [0.99999917+0.00128761j, 0.        +0.j        ],\n",
       "       [0.9999984 +0.00179015j, 0.        +0.j        ],\n",
       "       [0.99999747+0.00225147j, 0.        +0.j        ],\n",
       "       [0.99999626+0.00273661j, 0.        +0.j        ],\n",
       "       [0.9999947 +0.00325532j, 0.        +0.j        ],\n",
       "       [0.99999292+0.00376302j, 0.        +0.j        ],\n",
       "       [0.99999094+0.0042559j , 0.        +0.j        ],\n",
       "       [0.99998879+0.00473515j, 0.        +0.j        ],\n",
       "       [0.99998633+0.00522907j, 0.        +0.j        ],\n",
       "       [0.99998371+0.00570864j, 0.        +0.j        ],\n",
       "       [0.99998078+0.00620063j, 0.        +0.j        ],\n",
       "       [0.99997751+0.00670658j, 0.        +0.j        ],\n",
       "       [0.99997406+0.00720262j, 0.        +0.j        ],\n",
       "       [0.99997045+0.0076882j , 0.        +0.j        ],\n",
       "       [0.9999665 +0.00818469j, 0.        +0.j        ],\n",
       "       [0.99996239+0.0086734j , 0.        +0.j        ],\n",
       "       [0.99995794+0.00917168j, 0.        +0.j        ],\n",
       "       [0.99995331+0.00966314j, 0.        +0.j        ]])"
      ]
     },
     "execution_count": 225,
     "metadata": {},
     "output_type": "execute_result"
    }
   ],
   "source": [
    "svs"
   ]
  },
  {
   "cell_type": "code",
   "execution_count": 217,
   "id": "33db60ec",
   "metadata": {},
   "outputs": [
    {
     "data": {
      "text/plain": [
       "[array([[1.+0.j, 0.-0.j, 0.-0.j, 1.-0.j],\n",
       "        [0.+0.j, 1.+0.j, 0.+1.j, 0.-0.j],\n",
       "        [0.+0.j, 0.-1.j, 1.+0.j, 0.-0.j],\n",
       "        [1.+0.j, 0.+0.j, 0.+0.j, 1.+0.j]]),\n",
       " array([[1.+0.j, 0.-0.j, 0.-0.j, 1.-0.j],\n",
       "        [0.+0.j, 1.+0.j, 0.+1.j, 0.-0.j],\n",
       "        [0.+0.j, 0.-1.j, 1.+0.j, 0.-0.j],\n",
       "        [1.+0.j, 0.+0.j, 0.+0.j, 1.+0.j]]),\n",
       " array([[1.+0.j, 0.-0.j, 0.-0.j, 1.-0.j],\n",
       "        [0.+0.j, 1.+0.j, 0.+1.j, 0.-0.j],\n",
       "        [0.+0.j, 0.-1.j, 1.+0.j, 0.-0.j],\n",
       "        [1.+0.j, 0.+0.j, 0.+0.j, 1.+0.j]]),\n",
       " array([[1.+0.j, 0.-0.j, 0.-0.j, 1.-0.j],\n",
       "        [0.+0.j, 1.+0.j, 0.+1.j, 0.-0.j],\n",
       "        [0.+0.j, 0.-1.j, 1.+0.j, 0.-0.j],\n",
       "        [1.+0.j, 0.+0.j, 0.+0.j, 1.+0.j]]),\n",
       " array([[1.+0.j, 0.-0.j, 0.-0.j, 1.-0.j],\n",
       "        [0.+0.j, 1.+0.j, 0.+1.j, 0.-0.j],\n",
       "        [0.+0.j, 0.-1.j, 1.+0.j, 0.-0.j],\n",
       "        [1.+0.j, 0.+0.j, 0.+0.j, 1.+0.j]]),\n",
       " array([[1.+0.j, 0.-0.j, 0.-0.j, 1.-0.j],\n",
       "        [0.+0.j, 1.+0.j, 0.+1.j, 0.-0.j],\n",
       "        [0.+0.j, 0.-1.j, 1.+0.j, 0.-0.j],\n",
       "        [1.+0.j, 0.+0.j, 0.+0.j, 1.+0.j]]),\n",
       " array([[1.+0.j, 0.-0.j, 0.-0.j, 1.-0.j],\n",
       "        [0.+0.j, 1.+0.j, 0.+1.j, 0.-0.j],\n",
       "        [0.+0.j, 0.-1.j, 1.+0.j, 0.-0.j],\n",
       "        [1.+0.j, 0.+0.j, 0.+0.j, 1.+0.j]]),\n",
       " array([[1.+0.j, 0.-0.j, 0.-0.j, 1.-0.j],\n",
       "        [0.+0.j, 1.+0.j, 0.+1.j, 0.-0.j],\n",
       "        [0.+0.j, 0.-1.j, 1.+0.j, 0.-0.j],\n",
       "        [1.+0.j, 0.+0.j, 0.+0.j, 1.+0.j]]),\n",
       " array([[1.+0.j, 0.-0.j, 0.-0.j, 1.-0.j],\n",
       "        [0.+0.j, 1.+0.j, 0.+1.j, 0.-0.j],\n",
       "        [0.+0.j, 0.-1.j, 1.+0.j, 0.-0.j],\n",
       "        [1.+0.j, 0.+0.j, 0.+0.j, 1.+0.j]]),\n",
       " array([[1.+0.j, 0.-0.j, 0.-0.j, 1.-0.j],\n",
       "        [0.+0.j, 1.+0.j, 0.+1.j, 0.-0.j],\n",
       "        [0.+0.j, 0.-1.j, 1.+0.j, 0.-0.j],\n",
       "        [1.+0.j, 0.+0.j, 0.+0.j, 1.+0.j]]),\n",
       " array([[1.+0.j, 0.-0.j, 0.-0.j, 1.-0.j],\n",
       "        [0.+0.j, 1.+0.j, 0.+1.j, 0.-0.j],\n",
       "        [0.+0.j, 0.-1.j, 1.+0.j, 0.-0.j],\n",
       "        [1.+0.j, 0.+0.j, 0.+0.j, 1.+0.j]]),\n",
       " array([[1.+0.j, 0.-0.j, 0.-0.j, 1.-0.j],\n",
       "        [0.+0.j, 1.+0.j, 0.+1.j, 0.-0.j],\n",
       "        [0.+0.j, 0.-1.j, 1.+0.j, 0.-0.j],\n",
       "        [1.+0.j, 0.+0.j, 0.+0.j, 1.+0.j]]),\n",
       " array([[1.+0.j, 0.-0.j, 0.-0.j, 1.-0.j],\n",
       "        [0.+0.j, 1.+0.j, 0.+1.j, 0.-0.j],\n",
       "        [0.+0.j, 0.-1.j, 1.+0.j, 0.-0.j],\n",
       "        [1.+0.j, 0.+0.j, 0.+0.j, 1.+0.j]]),\n",
       " array([[1.+0.j, 0.-0.j, 0.-0.j, 1.-0.j],\n",
       "        [0.+0.j, 1.+0.j, 0.+1.j, 0.-0.j],\n",
       "        [0.+0.j, 0.-1.j, 1.+0.j, 0.-0.j],\n",
       "        [1.+0.j, 0.+0.j, 0.+0.j, 1.+0.j]]),\n",
       " array([[1.+0.j, 0.-0.j, 0.-0.j, 1.-0.j],\n",
       "        [0.+0.j, 1.+0.j, 0.+1.j, 0.-0.j],\n",
       "        [0.+0.j, 0.-1.j, 1.+0.j, 0.-0.j],\n",
       "        [1.+0.j, 0.+0.j, 0.+0.j, 1.+0.j]]),\n",
       " array([[1.+0.j, 0.-0.j, 0.-0.j, 1.-0.j],\n",
       "        [0.+0.j, 1.+0.j, 0.+1.j, 0.-0.j],\n",
       "        [0.+0.j, 0.-1.j, 1.+0.j, 0.-0.j],\n",
       "        [1.+0.j, 0.+0.j, 0.+0.j, 1.+0.j]]),\n",
       " array([[1.+0.j, 0.-0.j, 0.-0.j, 1.-0.j],\n",
       "        [0.+0.j, 1.+0.j, 0.+1.j, 0.-0.j],\n",
       "        [0.+0.j, 0.-1.j, 1.+0.j, 0.-0.j],\n",
       "        [1.+0.j, 0.+0.j, 0.+0.j, 1.+0.j]]),\n",
       " array([[1.+0.j, 0.-0.j, 0.-0.j, 1.-0.j],\n",
       "        [0.+0.j, 1.+0.j, 0.+1.j, 0.-0.j],\n",
       "        [0.+0.j, 0.-1.j, 1.+0.j, 0.-0.j],\n",
       "        [1.+0.j, 0.+0.j, 0.+0.j, 1.+0.j]]),\n",
       " array([[1.+0.j, 0.-0.j, 0.-0.j, 1.-0.j],\n",
       "        [0.+0.j, 1.+0.j, 0.+1.j, 0.-0.j],\n",
       "        [0.+0.j, 0.-1.j, 1.+0.j, 0.-0.j],\n",
       "        [1.+0.j, 0.+0.j, 0.+0.j, 1.+0.j]]),\n",
       " array([[1.+0.j, 0.-0.j, 0.-0.j, 1.-0.j],\n",
       "        [0.+0.j, 1.+0.j, 0.+1.j, 0.-0.j],\n",
       "        [0.+0.j, 0.-1.j, 1.+0.j, 0.-0.j],\n",
       "        [1.+0.j, 0.+0.j, 0.+0.j, 1.+0.j]])]"
      ]
     },
     "execution_count": 217,
     "metadata": {},
     "output_type": "execute_result"
    }
   ],
   "source": [
    "S_list"
   ]
  },
  {
   "cell_type": "code",
   "execution_count": 218,
   "id": "734d48f7",
   "metadata": {},
   "outputs": [
    {
     "data": {
      "text/plain": [
       "[array([-0.09860291, -0.09860291, -0.09860291, -0.09860291]),\n",
       " array([-0.09860291, -0.09860291, -0.09860291, -0.09860291]),\n",
       " array([-0.09860291, -0.09860291, -0.09860291, -0.09860291]),\n",
       " array([-0.09860291, -0.09860291, -0.09860291, -0.09860291]),\n",
       " array([-0.09860291, -0.09860291, -0.09860291, -0.09860291]),\n",
       " array([-0.09860291, -0.09860291, -0.09860291, -0.09860291]),\n",
       " array([-0.09860291, -0.09860291, -0.09860291, -0.09860291]),\n",
       " array([-0.09860291, -0.09860291, -0.09860291, -0.09860291]),\n",
       " array([-0.09860291, -0.09860291, -0.09860291, -0.09860291]),\n",
       " array([-0.09860291, -0.09860291, -0.09860291, -0.09860291]),\n",
       " array([-0.09860291, -0.09860291, -0.09860291, -0.09860291]),\n",
       " array([-0.09860291, -0.09860291, -0.09860291, -0.09860291]),\n",
       " array([-0.09860291, -0.09860291, -0.09860291, -0.09860291]),\n",
       " array([-0.09860291, -0.09860291, -0.09860291, -0.09860291]),\n",
       " array([-0.09860291, -0.09860291, -0.09860291, -0.09860291]),\n",
       " array([-0.09860291, -0.09860291, -0.09860291, -0.09860291]),\n",
       " array([-0.09860291, -0.09860291, -0.09860291, -0.09860291]),\n",
       " array([-0.09860291, -0.09860291, -0.09860291, -0.09860291]),\n",
       " array([-0.09860291, -0.09860291, -0.09860291, -0.09860291]),\n",
       " array([-0.09860291, -0.09860291, -0.09860291, -0.09860291])]"
      ]
     },
     "execution_count": 218,
     "metadata": {},
     "output_type": "execute_result"
    }
   ],
   "source": [
    "b_list"
   ]
  },
  {
   "cell_type": "code",
   "execution_count": 219,
   "id": "1e11e774",
   "metadata": {},
   "outputs": [
    {
     "data": {
      "text/plain": [
       "[array([-0.04930146, -0.09860291, -0.09860291, -0.04930146]),\n",
       " array([-0.04943657, -0.09860291, -0.09860291, -0.04916635]),\n",
       " array([-0.04916639, -0.09860291, -0.09860291, -0.04943653]),\n",
       " array([-0.04948833, -0.09860291, -0.09860291, -0.04911459]),\n",
       " array([-0.04908697, -0.09860291, -0.09860291, -0.04951594]),\n",
       " array([-0.04936576, -0.09860291, -0.09860291, -0.04923715]),\n",
       " array([-0.04922877, -0.09860291, -0.09860291, -0.04937414]),\n",
       " array([-0.04931305, -0.09860291, -0.09860291, -0.04928987]),\n",
       " array([-0.04921682, -0.09860291, -0.09860291, -0.0493861 ]),\n",
       " array([-0.04934825, -0.09860291, -0.09860291, -0.04925467]),\n",
       " array([-0.04925882, -0.09860291, -0.09860291, -0.0493441 ]),\n",
       " array([-0.04929389, -0.09860291, -0.09860291, -0.04930903]),\n",
       " array([-0.04931584, -0.09860291, -0.09860291, -0.04928707]),\n",
       " array([-0.04927652, -0.09860291, -0.09860291, -0.0493264 ]),\n",
       " array([-0.04924899, -0.09860291, -0.09860291, -0.04935392]),\n",
       " array([-0.04933152, -0.09860291, -0.09860291, -0.04927139]),\n",
       " array([-0.04926576, -0.09860291, -0.09860291, -0.04933715]),\n",
       " array([-0.04930341, -0.09860291, -0.09860291, -0.0492995 ]),\n",
       " array([-0.0493384 , -0.09860291, -0.09860291, -0.04926451]),\n",
       " array([-0.04925549, -0.09860291, -0.09860291, -0.04934742])]"
      ]
     },
     "execution_count": 219,
     "metadata": {},
     "output_type": "execute_result"
    }
   ],
   "source": [
    "alist"
   ]
  },
  {
   "cell_type": "code",
   "execution_count": 202,
   "id": "3c813672",
   "metadata": {},
   "outputs": [
    {
     "name": "stdout",
     "output_type": "stream",
     "text": [
      "[-0.09860308 -0.09860308 -0.09860308 -0.09860308]\n",
      "[-0.09860308 -0.09860308 -0.09860308 -0.09860308]\n",
      "[0. 0. 0. 0.]\n"
     ]
    }
   ],
   "source": [
    "S = S_list[0]\n",
    "b = b_list[0]\n",
    "a = alist[0]\n",
    "\n",
    "print(np.real(S)@a)\n",
    "print(b)\n",
    "print(np.real(S)@a - b)"
   ]
  },
  {
   "cell_type": "code",
   "execution_count": 203,
   "id": "e8b53c07",
   "metadata": {},
   "outputs": [
    {
     "data": {
      "text/plain": [
       "array([1.+0.j, 0.+0.j])"
      ]
     },
     "execution_count": 203,
     "metadata": {},
     "output_type": "execute_result"
    }
   ],
   "source": [
    "psi0"
   ]
  },
  {
   "cell_type": "code",
   "execution_count": 204,
   "id": "e3b9aa19",
   "metadata": {},
   "outputs": [
    {
     "name": "stdout",
     "output_type": "stream",
     "text": [
      "[1.00500417 0.10016675]\n"
     ]
    }
   ],
   "source": [
    "v = np.array([np.cosh(0.1), np.sinh(0.1)])\n",
    "print(v)"
   ]
  },
  {
   "cell_type": "code",
   "execution_count": 205,
   "id": "96e337b5",
   "metadata": {},
   "outputs": [
    {
     "name": "stdout",
     "output_type": "stream",
     "text": [
      "[0.99506985 0.09917662]\n"
     ]
    }
   ],
   "source": [
    "w = v/np.linalg.norm(v)\n",
    "print(w)"
   ]
  },
  {
   "cell_type": "code",
   "execution_count": 206,
   "id": "d3d926c6",
   "metadata": {},
   "outputs": [
    {
     "data": {
      "text/plain": [
       "array([-0.04930154,  0.99176616])"
      ]
     },
     "execution_count": 206,
     "metadata": {},
     "output_type": "execute_result"
    }
   ],
   "source": [
    "(w-np.array([1,0]))/0.1"
   ]
  },
  {
   "cell_type": "code",
   "execution_count": 207,
   "id": "e9daaf40",
   "metadata": {},
   "outputs": [
    {
     "data": {
      "text/plain": [
       "(array([-0.04930154+0.j,  0.99176616+0.j]), 1.0099835422493781)"
      ]
     },
     "execution_count": 207,
     "metadata": {},
     "output_type": "execute_result"
    }
   ],
   "source": [
    "get_delta0(0,psi0)"
   ]
  },
  {
   "cell_type": "code",
   "execution_count": null,
   "id": "dd77ef43",
   "metadata": {},
   "outputs": [],
   "source": []
  }
 ],
 "metadata": {
  "kernelspec": {
   "display_name": "Python 3 (ipykernel)",
   "language": "python",
   "name": "python3"
  },
  "language_info": {
   "codemirror_mode": {
    "name": "ipython",
    "version": 3
   },
   "file_extension": ".py",
   "mimetype": "text/x-python",
   "name": "python",
   "nbconvert_exporter": "python",
   "pygments_lexer": "ipython3",
   "version": "3.10.0"
  }
 },
 "nbformat": 4,
 "nbformat_minor": 5
}
